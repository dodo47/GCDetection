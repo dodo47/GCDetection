{
 "cells": [
  {
   "cell_type": "code",
   "execution_count": 1,
   "id": "1de9de30",
   "metadata": {},
   "outputs": [],
   "source": [
    "import numpy as np\n",
    "import matplotlib.pyplot as plt\n",
    "import pandas\n",
    "import torch\n",
    "import torchvision.transforms as transforms\n",
    "from globsML.utils.eval import get_test_metrics\n",
    "from globsML.utils.draw import plot_source\n",
    "from globsML.utils.imageloader import load_data, CustomGCDataset\n",
    "from globsML.utils.training import train_CNN as train\n",
    "from globsML.utils.training import test_CNN as test\n",
    "from globsML.models.CNN import CNN\n",
    "from sklearn.ensemble import RandomForestClassifier\n",
    "from sklearn.neighbors import KNeighborsClassifier\n",
    "from sklearn.model_selection import train_test_split\n",
    "from tqdm.notebook import tqdm, trange\n",
    "\n",
    "# list of thresholds used to calculate AUC ROC\n",
    "thresh = np.arange(0,1.02,0.01)"
   ]
  },
  {
   "cell_type": "markdown",
   "id": "9cd9f099",
   "metadata": {},
   "source": [
    "### Load data"
   ]
  },
  {
   "cell_type": "code",
   "execution_count": 2,
   "id": "e250313e",
   "metadata": {},
   "outputs": [],
   "source": [
    "data_path = '../data/ACS_sources_original.csv'\n",
    "data = pandas.read_csv(data_path)\n",
    "galaxies_to_test = set(data[data['cluster'] == 'Virgo'].galaxy.unique())\n",
    "galaxies_to_test = galaxies_to_test.difference(set(['VCC538']))\n",
    "    \n",
    "available_galaxies = set(data['galaxy'].unique())\n",
    "available_galaxies = available_galaxies.difference(galaxies_to_test)"
   ]
  },
  {
   "cell_type": "code",
   "execution_count": 3,
   "id": "cbf12415",
   "metadata": {},
   "outputs": [],
   "source": [
    "images, labels, probabilities, galaxies, IDs = load_data(data, available_galaxies)\n",
    "test_images, test_labels, test_probabilities, test_galaxies, test_IDs = load_data(data, galaxies_to_test)"
   ]
  },
  {
   "cell_type": "markdown",
   "id": "d186bf62",
   "metadata": {},
   "source": [
    "### First: train a few other models to get an idea of achievable performance levels"
   ]
  },
  {
   "cell_type": "code",
   "execution_count": 4,
   "id": "eb586638",
   "metadata": {},
   "outputs": [
    {
     "name": "stderr",
     "output_type": "stream",
     "text": [
      "/home/dodo/anaconda3/lib/python3.8/site-packages/numpy/core/fromnumeric.py:3440: RuntimeWarning: Mean of empty slice.\n",
      "  return _methods._mean(a, axis=axis, dtype=dtype,\n",
      "/home/dodo/anaconda3/lib/python3.8/site-packages/numpy/core/_methods.py:189: RuntimeWarning: invalid value encountered in double_scalars\n",
      "  ret = ret.dtype.type(ret / rcount)\n"
     ]
    }
   ],
   "source": [
    "knn = KNeighborsClassifier(1)\n",
    "knn.fit(np.reshape(images, (len(images), 2*20*20)), labels)\n",
    "pred = knn.predict(np.reshape(test_images, (len(test_images), 2*20*20)))\n",
    "probs = knn.predict_proba(np.reshape(test_images, (len(test_images), 2*20*20)))[:,1]\n",
    "stats_gal, stats_all, _, _, _, _, _ = get_test_metrics(list(galaxies_to_test), test_galaxies, test_IDs, test_labels, pred, probs=probs, thresh=thresh)"
   ]
  },
  {
   "cell_type": "code",
   "execution_count": 5,
   "id": "71c74063",
   "metadata": {},
   "outputs": [
    {
     "name": "stderr",
     "output_type": "stream",
     "text": [
      "/tmp/ipykernel_342/1394020141.py:1: FutureWarning: Dropping of nuisance columns in DataFrame reductions (with 'numeric_only=None') is deprecated; in a future version this will raise TypeError.  Select only valid columns before calling the reduction.\n",
      "  stats_gal.mean()\n"
     ]
    },
    {
     "data": {
      "text/plain": [
       "TPR               0.808511\n",
       "FDR               0.313662\n",
       "FPR               0.043779\n",
       "AUC(FDR,TPR)      0.728583\n",
       "AUC(FPR,TPR)      0.882366\n",
       "# found GCs     109.412371\n",
       "# total GCs     127.680412\n",
       "# fake GCs       19.855670\n",
       "# sources       645.164948\n",
       "dtype: float64"
      ]
     },
     "execution_count": 5,
     "metadata": {},
     "output_type": "execute_result"
    }
   ],
   "source": [
    "stats_gal.mean()"
   ]
  },
  {
   "cell_type": "code",
   "execution_count": 6,
   "id": "7a060f04",
   "metadata": {},
   "outputs": [
    {
     "data": {
      "text/html": [
       "<div>\n",
       "<style scoped>\n",
       "    .dataframe tbody tr th:only-of-type {\n",
       "        vertical-align: middle;\n",
       "    }\n",
       "\n",
       "    .dataframe tbody tr th {\n",
       "        vertical-align: top;\n",
       "    }\n",
       "\n",
       "    .dataframe thead th {\n",
       "        text-align: right;\n",
       "    }\n",
       "</style>\n",
       "<table border=\"1\" class=\"dataframe\">\n",
       "  <thead>\n",
       "    <tr style=\"text-align: right;\">\n",
       "      <th></th>\n",
       "      <th>Galaxy</th>\n",
       "      <th>TPR</th>\n",
       "      <th>FDR</th>\n",
       "      <th>FPR</th>\n",
       "      <th>AUC(FDR,TPR)</th>\n",
       "      <th>AUC(FPR,TPR)</th>\n",
       "      <th># found GCs</th>\n",
       "      <th># total GCs</th>\n",
       "      <th># fake GCs</th>\n",
       "      <th># sources</th>\n",
       "    </tr>\n",
       "  </thead>\n",
       "  <tbody>\n",
       "    <tr>\n",
       "      <th>0</th>\n",
       "      <td>ALL</td>\n",
       "      <td>0.856924</td>\n",
       "      <td>0.153601</td>\n",
       "      <td>0.03837</td>\n",
       "      <td>0.832712</td>\n",
       "      <td>0.909277</td>\n",
       "      <td>10613</td>\n",
       "      <td>12385</td>\n",
       "      <td>1926</td>\n",
       "      <td>62581</td>\n",
       "    </tr>\n",
       "  </tbody>\n",
       "</table>\n",
       "</div>"
      ],
      "text/plain": [
       "  Galaxy       TPR       FDR      FPR  AUC(FDR,TPR)  AUC(FPR,TPR)  \\\n",
       "0    ALL  0.856924  0.153601  0.03837      0.832712      0.909277   \n",
       "\n",
       "   # found GCs  # total GCs  # fake GCs  # sources  \n",
       "0        10613        12385        1926      62581  "
      ]
     },
     "execution_count": 6,
     "metadata": {},
     "output_type": "execute_result"
    }
   ],
   "source": [
    "stats_all"
   ]
  },
  {
   "cell_type": "code",
   "execution_count": 7,
   "id": "42b76568",
   "metadata": {},
   "outputs": [
    {
     "name": "stderr",
     "output_type": "stream",
     "text": [
      "/home/dodo/anaconda3/lib/python3.8/site-packages/numpy/core/fromnumeric.py:3440: RuntimeWarning: Mean of empty slice.\n",
      "  return _methods._mean(a, axis=axis, dtype=dtype,\n",
      "/home/dodo/anaconda3/lib/python3.8/site-packages/numpy/core/_methods.py:189: RuntimeWarning: invalid value encountered in double_scalars\n",
      "  ret = ret.dtype.type(ret / rcount)\n"
     ]
    }
   ],
   "source": [
    "knn = KNeighborsClassifier(12)\n",
    "knn.fit(np.reshape(images, (len(images), 2*20*20)), labels)\n",
    "pred = knn.predict(np.reshape(test_images, (len(test_images), 2*20*20)))\n",
    "probs = knn.predict_proba(np.reshape(test_images, (len(test_images), 2*20*20)))[:,1]\n",
    "stats_gal, stats_all, _, _, _, _, _ = get_test_metrics(list(galaxies_to_test), test_galaxies, test_IDs, test_labels, pred, probs=probs, thresh=thresh)"
   ]
  },
  {
   "cell_type": "code",
   "execution_count": 8,
   "id": "a4a692e2",
   "metadata": {},
   "outputs": [
    {
     "name": "stderr",
     "output_type": "stream",
     "text": [
      "/tmp/ipykernel_342/1394020141.py:1: FutureWarning: Dropping of nuisance columns in DataFrame reductions (with 'numeric_only=None') is deprecated; in a future version this will raise TypeError.  Select only valid columns before calling the reduction.\n",
      "  stats_gal.mean()\n"
     ]
    },
    {
     "data": {
      "text/plain": [
       "TPR               0.794381\n",
       "FDR               0.314178\n",
       "FPR               0.042621\n",
       "AUC(FDR,TPR)      0.798326\n",
       "AUC(FPR,TPR)      0.956618\n",
       "# found GCs     110.061856\n",
       "# total GCs     127.680412\n",
       "# fake GCs       18.711340\n",
       "# sources       645.164948\n",
       "dtype: float64"
      ]
     },
     "execution_count": 8,
     "metadata": {},
     "output_type": "execute_result"
    }
   ],
   "source": [
    "stats_gal.mean()"
   ]
  },
  {
   "cell_type": "code",
   "execution_count": 9,
   "id": "ad355d81",
   "metadata": {},
   "outputs": [
    {
     "data": {
      "text/html": [
       "<div>\n",
       "<style scoped>\n",
       "    .dataframe tbody tr th:only-of-type {\n",
       "        vertical-align: middle;\n",
       "    }\n",
       "\n",
       "    .dataframe tbody tr th {\n",
       "        vertical-align: top;\n",
       "    }\n",
       "\n",
       "    .dataframe thead th {\n",
       "        text-align: right;\n",
       "    }\n",
       "</style>\n",
       "<table border=\"1\" class=\"dataframe\">\n",
       "  <thead>\n",
       "    <tr style=\"text-align: right;\">\n",
       "      <th></th>\n",
       "      <th>Galaxy</th>\n",
       "      <th>TPR</th>\n",
       "      <th>FDR</th>\n",
       "      <th>FPR</th>\n",
       "      <th>AUC(FDR,TPR)</th>\n",
       "      <th>AUC(FPR,TPR)</th>\n",
       "      <th># found GCs</th>\n",
       "      <th># total GCs</th>\n",
       "      <th># fake GCs</th>\n",
       "      <th># sources</th>\n",
       "    </tr>\n",
       "  </thead>\n",
       "  <tbody>\n",
       "    <tr>\n",
       "      <th>0</th>\n",
       "      <td>ALL</td>\n",
       "      <td>0.86201</td>\n",
       "      <td>0.145305</td>\n",
       "      <td>0.036158</td>\n",
       "      <td>0.914738</td>\n",
       "      <td>0.972723</td>\n",
       "      <td>10676</td>\n",
       "      <td>12385</td>\n",
       "      <td>1815</td>\n",
       "      <td>62581</td>\n",
       "    </tr>\n",
       "  </tbody>\n",
       "</table>\n",
       "</div>"
      ],
      "text/plain": [
       "  Galaxy      TPR       FDR       FPR  AUC(FDR,TPR)  AUC(FPR,TPR)  \\\n",
       "0    ALL  0.86201  0.145305  0.036158      0.914738      0.972723   \n",
       "\n",
       "   # found GCs  # total GCs  # fake GCs  # sources  \n",
       "0        10676        12385        1815      62581  "
      ]
     },
     "execution_count": 9,
     "metadata": {},
     "output_type": "execute_result"
    }
   ],
   "source": [
    "stats_all"
   ]
  },
  {
   "cell_type": "code",
   "execution_count": 10,
   "id": "ae92b132",
   "metadata": {},
   "outputs": [
    {
     "name": "stderr",
     "output_type": "stream",
     "text": [
      "/home/dodo/anaconda3/lib/python3.8/site-packages/numpy/core/fromnumeric.py:3440: RuntimeWarning: Mean of empty slice.\n",
      "  return _methods._mean(a, axis=axis, dtype=dtype,\n",
      "/home/dodo/anaconda3/lib/python3.8/site-packages/numpy/core/_methods.py:189: RuntimeWarning: invalid value encountered in double_scalars\n",
      "  ret = ret.dtype.type(ret / rcount)\n",
      "/home/dodo/git/globsML/globsML/utils/eval.py:143: RuntimeWarning: divide by zero encountered in double_scalars\n",
      "  return auc(x,y)/(2*auc([0,x[-1]], [0,y[-1]])), x, y\n"
     ]
    }
   ],
   "source": [
    "rforest = RandomForestClassifier(n_estimators = 200, random_state = 42424)\n",
    "rforest.fit(np.reshape(images, (len(images), 2*20*20)), labels)\n",
    "pred = rforest.predict(np.reshape(test_images, (len(test_images), 2*20*20)))\n",
    "probs = rforest.predict_proba(np.reshape(test_images, (len(test_images), 2*20*20)))[:,1]\n",
    "stats_gal, stats_all, _, _, _, _, _ = get_test_metrics(list(galaxies_to_test), test_galaxies, test_IDs, test_labels, pred, probs=probs, thresh=thresh)"
   ]
  },
  {
   "cell_type": "code",
   "execution_count": 11,
   "id": "2724cb55",
   "metadata": {},
   "outputs": [
    {
     "name": "stderr",
     "output_type": "stream",
     "text": [
      "/tmp/ipykernel_342/1394020141.py:1: FutureWarning: Dropping of nuisance columns in DataFrame reductions (with 'numeric_only=None') is deprecated; in a future version this will raise TypeError.  Select only valid columns before calling the reduction.\n",
      "  stats_gal.mean()\n"
     ]
    },
    {
     "data": {
      "text/plain": [
       "TPR               0.766743\n",
       "FDR               0.315628\n",
       "FPR               0.043218\n",
       "AUC(FDR,TPR)           inf\n",
       "AUC(FPR,TPR)      0.954452\n",
       "# found GCs     107.917526\n",
       "# total GCs     127.680412\n",
       "# fake GCs       18.793814\n",
       "# sources       645.164948\n",
       "dtype: float64"
      ]
     },
     "execution_count": 11,
     "metadata": {},
     "output_type": "execute_result"
    }
   ],
   "source": [
    "stats_gal.mean()"
   ]
  },
  {
   "cell_type": "code",
   "execution_count": 12,
   "id": "dad2fddb",
   "metadata": {},
   "outputs": [
    {
     "data": {
      "text/html": [
       "<div>\n",
       "<style scoped>\n",
       "    .dataframe tbody tr th:only-of-type {\n",
       "        vertical-align: middle;\n",
       "    }\n",
       "\n",
       "    .dataframe tbody tr th {\n",
       "        vertical-align: top;\n",
       "    }\n",
       "\n",
       "    .dataframe thead th {\n",
       "        text-align: right;\n",
       "    }\n",
       "</style>\n",
       "<table border=\"1\" class=\"dataframe\">\n",
       "  <thead>\n",
       "    <tr style=\"text-align: right;\">\n",
       "      <th></th>\n",
       "      <th>Galaxy</th>\n",
       "      <th>TPR</th>\n",
       "      <th>FDR</th>\n",
       "      <th>FPR</th>\n",
       "      <th>AUC(FDR,TPR)</th>\n",
       "      <th>AUC(FPR,TPR)</th>\n",
       "      <th># found GCs</th>\n",
       "      <th># total GCs</th>\n",
       "      <th># fake GCs</th>\n",
       "      <th># sources</th>\n",
       "    </tr>\n",
       "  </thead>\n",
       "  <tbody>\n",
       "    <tr>\n",
       "      <th>0</th>\n",
       "      <td>ALL</td>\n",
       "      <td>0.845216</td>\n",
       "      <td>0.14832</td>\n",
       "      <td>0.036318</td>\n",
       "      <td>0.895569</td>\n",
       "      <td>0.972636</td>\n",
       "      <td>10468</td>\n",
       "      <td>12385</td>\n",
       "      <td>1823</td>\n",
       "      <td>62581</td>\n",
       "    </tr>\n",
       "  </tbody>\n",
       "</table>\n",
       "</div>"
      ],
      "text/plain": [
       "  Galaxy       TPR      FDR       FPR  AUC(FDR,TPR)  AUC(FPR,TPR)  \\\n",
       "0    ALL  0.845216  0.14832  0.036318      0.895569      0.972636   \n",
       "\n",
       "   # found GCs  # total GCs  # fake GCs  # sources  \n",
       "0        10468        12385        1823      62581  "
      ]
     },
     "execution_count": 12,
     "metadata": {},
     "output_type": "execute_result"
    }
   ],
   "source": [
    "stats_all"
   ]
  },
  {
   "cell_type": "markdown",
   "id": "8aa39295",
   "metadata": {},
   "source": [
    "### Create data loaders for use in pytorch"
   ]
  },
  {
   "cell_type": "code",
   "execution_count": 5,
   "id": "6b99d994",
   "metadata": {},
   "outputs": [],
   "source": [
    "BATCHSIZE = 500\n",
    "SEED = 1231423\n",
    "EVAL_SIZE = 0.05\n",
    "np.random.seed(SEED)\n",
    "torch.manual_seed(SEED)\n",
    "\n",
    "train_images, eval_images, train_labels, eval_labels = train_test_split(images, probabilities, test_size=EVAL_SIZE, random_state=SEED)\n",
    "train_labels[train_labels<=0.2] = 0.\n",
    "train_labels[train_labels>=0.8] = 1.\n",
    "trainData = CustomGCDataset(train_images, train_labels, \n",
    "                        transforms.Compose([transforms.RandomHorizontalFlip(),\n",
    "                        transforms.RandomVerticalFlip()]))             \n",
    "train_loader = torch.utils.data.DataLoader(trainData, batch_size=BATCHSIZE, shuffle=True)\n",
    "\n",
    "eval_labels = np.array(eval_labels>=0.5, dtype=int)\n",
    "evalData = CustomGCDataset(eval_images, eval_labels)\n",
    "eval_loader = torch.utils.data.DataLoader(evalData, batch_size=BATCHSIZE, shuffle=False)\n",
    "\n",
    "testData = CustomGCDataset(test_images, test_labels)\n",
    "test_loader = torch.utils.data.DataLoader(testData, batch_size=BATCHSIZE, shuffle=False)"
   ]
  },
  {
   "cell_type": "markdown",
   "id": "a9d2bef4",
   "metadata": {},
   "source": [
    "### Create CNN model and optimizer"
   ]
  },
  {
   "cell_type": "code",
   "execution_count": 7,
   "id": "50793497",
   "metadata": {},
   "outputs": [],
   "source": [
    "# create CNN\n",
    "net = CNN()\n",
    "net.cuda()\n",
    "\n",
    "# set up optimiser\n",
    "LR = 1e-3\n",
    "REG = 1e-5\n",
    "optimizer = torch.optim.Adam(net.parameters(), lr=LR, weight_decay=REG)"
   ]
  },
  {
   "cell_type": "markdown",
   "id": "e49f7254",
   "metadata": {},
   "source": [
    "### Train the CNN\n",
    "\n",
    "Model parameters from the epoch with the best performance on validation data (highest TPR-FPR value) is used for testing later"
   ]
  },
  {
   "cell_type": "code",
   "execution_count": 8,
   "id": "ee6bc5e8",
   "metadata": {},
   "outputs": [
    {
     "data": {
      "application/vnd.jupyter.widget-view+json": {
       "model_id": "43c8cec6666d423d88b5171838976e27",
       "version_major": 2,
       "version_minor": 0
      },
      "text/plain": [
       "  0%|          | 0/100 [00:00<?, ?it/s]"
      ]
     },
     "metadata": {},
     "output_type": "display_data"
    },
    {
     "data": {
      "application/vnd.jupyter.widget-view+json": {
       "model_id": "",
       "version_major": 2,
       "version_minor": 0
      },
      "text/plain": [
       "  0%|          | 0/43 [00:00<?, ?it/s]"
      ]
     },
     "metadata": {},
     "output_type": "display_data"
    },
    {
     "name": "stderr",
     "output_type": "stream",
     "text": [
      "/home/dodo/anaconda3/lib/python3.8/site-packages/torch/nn/functional.py:1806: UserWarning: nn.functional.sigmoid is deprecated. Use torch.sigmoid instead.\n",
      "  warnings.warn(\"nn.functional.sigmoid is deprecated. Use torch.sigmoid instead.\")\n"
     ]
    },
    {
     "name": "stdout",
     "output_type": "stream",
     "text": [
      "Epoch 0 ---- TPR: 0.0 -- FDR: nan\n"
     ]
    },
    {
     "name": "stderr",
     "output_type": "stream",
     "text": [
      "/home/dodo/anaconda3/lib/python3.8/site-packages/numpy/core/fromnumeric.py:3440: RuntimeWarning: Mean of empty slice.\n",
      "  return _methods._mean(a, axis=axis, dtype=dtype,\n",
      "/home/dodo/anaconda3/lib/python3.8/site-packages/numpy/core/_methods.py:189: RuntimeWarning: invalid value encountered in double_scalars\n",
      "  ret = ret.dtype.type(ret / rcount)\n"
     ]
    },
    {
     "data": {
      "application/vnd.jupyter.widget-view+json": {
       "model_id": "",
       "version_major": 2,
       "version_minor": 0
      },
      "text/plain": [
       "  0%|          | 0/43 [00:00<?, ?it/s]"
      ]
     },
     "metadata": {},
     "output_type": "display_data"
    },
    {
     "name": "stdout",
     "output_type": "stream",
     "text": [
      "Epoch 1 ---- TPR: 0.6915584415584416 -- FDR: 0.19318181818181818\n",
      "NEW BEST\n"
     ]
    },
    {
     "data": {
      "application/vnd.jupyter.widget-view+json": {
       "model_id": "",
       "version_major": 2,
       "version_minor": 0
      },
      "text/plain": [
       "  0%|          | 0/43 [00:00<?, ?it/s]"
      ]
     },
     "metadata": {},
     "output_type": "display_data"
    },
    {
     "name": "stdout",
     "output_type": "stream",
     "text": [
      "Epoch 2 ---- TPR: 0.7824675324675324 -- FDR: 0.1423487544483986\n",
      "NEW BEST\n"
     ]
    },
    {
     "data": {
      "application/vnd.jupyter.widget-view+json": {
       "model_id": "",
       "version_major": 2,
       "version_minor": 0
      },
      "text/plain": [
       "  0%|          | 0/43 [00:00<?, ?it/s]"
      ]
     },
     "metadata": {},
     "output_type": "display_data"
    },
    {
     "name": "stdout",
     "output_type": "stream",
     "text": [
      "Epoch 3 ---- TPR: 0.801948051948052 -- FDR: 0.10830324909747292\n",
      "NEW BEST\n"
     ]
    },
    {
     "data": {
      "application/vnd.jupyter.widget-view+json": {
       "model_id": "",
       "version_major": 2,
       "version_minor": 0
      },
      "text/plain": [
       "  0%|          | 0/43 [00:00<?, ?it/s]"
      ]
     },
     "metadata": {},
     "output_type": "display_data"
    },
    {
     "name": "stdout",
     "output_type": "stream",
     "text": [
      "Epoch 4 ---- TPR: 0.7727272727272727 -- FDR: 0.1018867924528302\n"
     ]
    },
    {
     "data": {
      "application/vnd.jupyter.widget-view+json": {
       "model_id": "",
       "version_major": 2,
       "version_minor": 0
      },
      "text/plain": [
       "  0%|          | 0/43 [00:00<?, ?it/s]"
      ]
     },
     "metadata": {},
     "output_type": "display_data"
    },
    {
     "name": "stdout",
     "output_type": "stream",
     "text": [
      "Epoch 5 ---- TPR: 0.8246753246753247 -- FDR: 0.10247349823321555\n",
      "NEW BEST\n"
     ]
    },
    {
     "data": {
      "application/vnd.jupyter.widget-view+json": {
       "model_id": "",
       "version_major": 2,
       "version_minor": 0
      },
      "text/plain": [
       "  0%|          | 0/43 [00:00<?, ?it/s]"
      ]
     },
     "metadata": {},
     "output_type": "display_data"
    },
    {
     "name": "stdout",
     "output_type": "stream",
     "text": [
      "Epoch 6 ---- TPR: 0.8668831168831169 -- FDR: 0.11589403973509933\n",
      "NEW BEST\n"
     ]
    },
    {
     "data": {
      "application/vnd.jupyter.widget-view+json": {
       "model_id": "",
       "version_major": 2,
       "version_minor": 0
      },
      "text/plain": [
       "  0%|          | 0/43 [00:00<?, ?it/s]"
      ]
     },
     "metadata": {},
     "output_type": "display_data"
    },
    {
     "name": "stdout",
     "output_type": "stream",
     "text": [
      "Epoch 7 ---- TPR: 0.8831168831168831 -- FDR: 0.12258064516129032\n",
      "NEW BEST\n"
     ]
    },
    {
     "data": {
      "application/vnd.jupyter.widget-view+json": {
       "model_id": "",
       "version_major": 2,
       "version_minor": 0
      },
      "text/plain": [
       "  0%|          | 0/43 [00:00<?, ?it/s]"
      ]
     },
     "metadata": {},
     "output_type": "display_data"
    },
    {
     "name": "stdout",
     "output_type": "stream",
     "text": [
      "Epoch 8 ---- TPR: 0.8896103896103896 -- FDR: 0.14106583072100312\n"
     ]
    },
    {
     "data": {
      "application/vnd.jupyter.widget-view+json": {
       "model_id": "",
       "version_major": 2,
       "version_minor": 0
      },
      "text/plain": [
       "  0%|          | 0/43 [00:00<?, ?it/s]"
      ]
     },
     "metadata": {},
     "output_type": "display_data"
    },
    {
     "name": "stdout",
     "output_type": "stream",
     "text": [
      "Epoch 9 ---- TPR: 0.8214285714285714 -- FDR: 0.07664233576642336\n"
     ]
    },
    {
     "data": {
      "application/vnd.jupyter.widget-view+json": {
       "model_id": "",
       "version_major": 2,
       "version_minor": 0
      },
      "text/plain": [
       "  0%|          | 0/43 [00:00<?, ?it/s]"
      ]
     },
     "metadata": {},
     "output_type": "display_data"
    },
    {
     "name": "stdout",
     "output_type": "stream",
     "text": [
      "Epoch 10 ---- TPR: 0.8603896103896104 -- FDR: 0.08934707903780069\n",
      "NEW BEST\n"
     ]
    },
    {
     "data": {
      "application/vnd.jupyter.widget-view+json": {
       "model_id": "",
       "version_major": 2,
       "version_minor": 0
      },
      "text/plain": [
       "  0%|          | 0/43 [00:00<?, ?it/s]"
      ]
     },
     "metadata": {},
     "output_type": "display_data"
    },
    {
     "name": "stdout",
     "output_type": "stream",
     "text": [
      "Epoch 11 ---- TPR: 0.8831168831168831 -- FDR: 0.11688311688311688\n"
     ]
    },
    {
     "data": {
      "application/vnd.jupyter.widget-view+json": {
       "model_id": "",
       "version_major": 2,
       "version_minor": 0
      },
      "text/plain": [
       "  0%|          | 0/43 [00:00<?, ?it/s]"
      ]
     },
     "metadata": {},
     "output_type": "display_data"
    },
    {
     "name": "stdout",
     "output_type": "stream",
     "text": [
      "Epoch 12 ---- TPR: 0.8798701298701299 -- FDR: 0.09364548494983277\n",
      "NEW BEST\n"
     ]
    },
    {
     "data": {
      "application/vnd.jupyter.widget-view+json": {
       "model_id": "",
       "version_major": 2,
       "version_minor": 0
      },
      "text/plain": [
       "  0%|          | 0/43 [00:00<?, ?it/s]"
      ]
     },
     "metadata": {},
     "output_type": "display_data"
    },
    {
     "name": "stdout",
     "output_type": "stream",
     "text": [
      "Epoch 13 ---- TPR: 0.8246753246753247 -- FDR: 0.0695970695970696\n"
     ]
    },
    {
     "data": {
      "application/vnd.jupyter.widget-view+json": {
       "model_id": "",
       "version_major": 2,
       "version_minor": 0
      },
      "text/plain": [
       "  0%|          | 0/43 [00:00<?, ?it/s]"
      ]
     },
     "metadata": {},
     "output_type": "display_data"
    },
    {
     "name": "stdout",
     "output_type": "stream",
     "text": [
      "Epoch 14 ---- TPR: 0.8636363636363636 -- FDR: 0.08275862068965517\n"
     ]
    },
    {
     "data": {
      "application/vnd.jupyter.widget-view+json": {
       "model_id": "",
       "version_major": 2,
       "version_minor": 0
      },
      "text/plain": [
       "  0%|          | 0/43 [00:00<?, ?it/s]"
      ]
     },
     "metadata": {},
     "output_type": "display_data"
    },
    {
     "name": "stdout",
     "output_type": "stream",
     "text": [
      "Epoch 15 ---- TPR: 0.8993506493506493 -- FDR: 0.09771986970684039\n",
      "NEW BEST\n"
     ]
    },
    {
     "data": {
      "application/vnd.jupyter.widget-view+json": {
       "model_id": "",
       "version_major": 2,
       "version_minor": 0
      },
      "text/plain": [
       "  0%|          | 0/43 [00:00<?, ?it/s]"
      ]
     },
     "metadata": {},
     "output_type": "display_data"
    },
    {
     "name": "stdout",
     "output_type": "stream",
     "text": [
      "Epoch 16 ---- TPR: 0.8961038961038961 -- FDR: 0.09508196721311475\n"
     ]
    },
    {
     "data": {
      "application/vnd.jupyter.widget-view+json": {
       "model_id": "",
       "version_major": 2,
       "version_minor": 0
      },
      "text/plain": [
       "  0%|          | 0/43 [00:00<?, ?it/s]"
      ]
     },
     "metadata": {},
     "output_type": "display_data"
    },
    {
     "name": "stdout",
     "output_type": "stream",
     "text": [
      "Epoch 17 ---- TPR: 0.8831168831168831 -- FDR: 0.0903010033444816\n"
     ]
    },
    {
     "data": {
      "application/vnd.jupyter.widget-view+json": {
       "model_id": "",
       "version_major": 2,
       "version_minor": 0
      },
      "text/plain": [
       "  0%|          | 0/43 [00:00<?, ?it/s]"
      ]
     },
     "metadata": {},
     "output_type": "display_data"
    },
    {
     "name": "stdout",
     "output_type": "stream",
     "text": [
      "Epoch 18 ---- TPR: 0.8863636363636364 -- FDR: 0.09900990099009901\n"
     ]
    },
    {
     "data": {
      "application/vnd.jupyter.widget-view+json": {
       "model_id": "",
       "version_major": 2,
       "version_minor": 0
      },
      "text/plain": [
       "  0%|          | 0/43 [00:00<?, ?it/s]"
      ]
     },
     "metadata": {},
     "output_type": "display_data"
    },
    {
     "name": "stdout",
     "output_type": "stream",
     "text": [
      "Epoch 19 ---- TPR: 0.8961038961038961 -- FDR: 0.09210526315789473\n",
      "NEW BEST\n"
     ]
    },
    {
     "data": {
      "application/vnd.jupyter.widget-view+json": {
       "model_id": "",
       "version_major": 2,
       "version_minor": 0
      },
      "text/plain": [
       "  0%|          | 0/43 [00:00<?, ?it/s]"
      ]
     },
     "metadata": {},
     "output_type": "display_data"
    },
    {
     "name": "stdout",
     "output_type": "stream",
     "text": [
      "Epoch 20 ---- TPR: 0.8409090909090909 -- FDR: 0.07829181494661921\n"
     ]
    },
    {
     "data": {
      "application/vnd.jupyter.widget-view+json": {
       "model_id": "",
       "version_major": 2,
       "version_minor": 0
      },
      "text/plain": [
       "  0%|          | 0/43 [00:00<?, ?it/s]"
      ]
     },
     "metadata": {},
     "output_type": "display_data"
    },
    {
     "name": "stdout",
     "output_type": "stream",
     "text": [
      "Epoch 21 ---- TPR: 0.8668831168831169 -- FDR: 0.08247422680412371\n"
     ]
    },
    {
     "data": {
      "application/vnd.jupyter.widget-view+json": {
       "model_id": "",
       "version_major": 2,
       "version_minor": 0
      },
      "text/plain": [
       "  0%|          | 0/43 [00:00<?, ?it/s]"
      ]
     },
     "metadata": {},
     "output_type": "display_data"
    },
    {
     "name": "stdout",
     "output_type": "stream",
     "text": [
      "Epoch 22 ---- TPR: 0.827922077922078 -- FDR: 0.05555555555555555\n"
     ]
    },
    {
     "data": {
      "application/vnd.jupyter.widget-view+json": {
       "model_id": "",
       "version_major": 2,
       "version_minor": 0
      },
      "text/plain": [
       "  0%|          | 0/43 [00:00<?, ?it/s]"
      ]
     },
     "metadata": {},
     "output_type": "display_data"
    },
    {
     "name": "stdout",
     "output_type": "stream",
     "text": [
      "Epoch 23 ---- TPR: 0.8896103896103896 -- FDR: 0.09271523178807947\n"
     ]
    },
    {
     "data": {
      "application/vnd.jupyter.widget-view+json": {
       "model_id": "",
       "version_major": 2,
       "version_minor": 0
      },
      "text/plain": [
       "  0%|          | 0/43 [00:00<?, ?it/s]"
      ]
     },
     "metadata": {},
     "output_type": "display_data"
    },
    {
     "name": "stdout",
     "output_type": "stream",
     "text": [
      "Epoch 24 ---- TPR: 0.8409090909090909 -- FDR: 0.0683453237410072\n"
     ]
    },
    {
     "data": {
      "application/vnd.jupyter.widget-view+json": {
       "model_id": "",
       "version_major": 2,
       "version_minor": 0
      },
      "text/plain": [
       "  0%|          | 0/43 [00:00<?, ?it/s]"
      ]
     },
     "metadata": {},
     "output_type": "display_data"
    },
    {
     "name": "stdout",
     "output_type": "stream",
     "text": [
      "Epoch 25 ---- TPR: 0.8409090909090909 -- FDR: 0.0683453237410072\n"
     ]
    },
    {
     "data": {
      "application/vnd.jupyter.widget-view+json": {
       "model_id": "",
       "version_major": 2,
       "version_minor": 0
      },
      "text/plain": [
       "  0%|          | 0/43 [00:00<?, ?it/s]"
      ]
     },
     "metadata": {},
     "output_type": "display_data"
    },
    {
     "name": "stdout",
     "output_type": "stream",
     "text": [
      "Epoch 26 ---- TPR: 0.8896103896103896 -- FDR: 0.10749185667752444\n"
     ]
    },
    {
     "data": {
      "application/vnd.jupyter.widget-view+json": {
       "model_id": "",
       "version_major": 2,
       "version_minor": 0
      },
      "text/plain": [
       "  0%|          | 0/43 [00:00<?, ?it/s]"
      ]
     },
     "metadata": {},
     "output_type": "display_data"
    },
    {
     "name": "stdout",
     "output_type": "stream",
     "text": [
      "Epoch 27 ---- TPR: 0.8896103896103896 -- FDR: 0.08666666666666667\n"
     ]
    },
    {
     "data": {
      "application/vnd.jupyter.widget-view+json": {
       "model_id": "",
       "version_major": 2,
       "version_minor": 0
      },
      "text/plain": [
       "  0%|          | 0/43 [00:00<?, ?it/s]"
      ]
     },
     "metadata": {},
     "output_type": "display_data"
    },
    {
     "name": "stdout",
     "output_type": "stream",
     "text": [
      "Epoch 28 ---- TPR: 0.8896103896103896 -- FDR: 0.09271523178807947\n"
     ]
    },
    {
     "data": {
      "application/vnd.jupyter.widget-view+json": {
       "model_id": "",
       "version_major": 2,
       "version_minor": 0
      },
      "text/plain": [
       "  0%|          | 0/43 [00:00<?, ?it/s]"
      ]
     },
     "metadata": {},
     "output_type": "display_data"
    },
    {
     "name": "stdout",
     "output_type": "stream",
     "text": [
      "Epoch 29 ---- TPR: 0.8961038961038961 -- FDR: 0.10679611650485436\n"
     ]
    },
    {
     "data": {
      "application/vnd.jupyter.widget-view+json": {
       "model_id": "",
       "version_major": 2,
       "version_minor": 0
      },
      "text/plain": [
       "  0%|          | 0/43 [00:00<?, ?it/s]"
      ]
     },
     "metadata": {},
     "output_type": "display_data"
    },
    {
     "name": "stdout",
     "output_type": "stream",
     "text": [
      "Epoch 30 ---- TPR: 0.8636363636363636 -- FDR: 0.08275862068965517\n"
     ]
    },
    {
     "data": {
      "application/vnd.jupyter.widget-view+json": {
       "model_id": "",
       "version_major": 2,
       "version_minor": 0
      },
      "text/plain": [
       "  0%|          | 0/43 [00:00<?, ?it/s]"
      ]
     },
     "metadata": {},
     "output_type": "display_data"
    },
    {
     "name": "stdout",
     "output_type": "stream",
     "text": [
      "Epoch 31 ---- TPR: 0.814935064935065 -- FDR: 0.0599250936329588\n"
     ]
    },
    {
     "data": {
      "application/vnd.jupyter.widget-view+json": {
       "model_id": "",
       "version_major": 2,
       "version_minor": 0
      },
      "text/plain": [
       "  0%|          | 0/43 [00:00<?, ?it/s]"
      ]
     },
     "metadata": {},
     "output_type": "display_data"
    },
    {
     "name": "stdout",
     "output_type": "stream",
     "text": [
      "Epoch 32 ---- TPR: 0.8538961038961039 -- FDR: 0.0673758865248227\n"
     ]
    },
    {
     "data": {
      "application/vnd.jupyter.widget-view+json": {
       "model_id": "",
       "version_major": 2,
       "version_minor": 0
      },
      "text/plain": [
       "  0%|          | 0/43 [00:00<?, ?it/s]"
      ]
     },
     "metadata": {},
     "output_type": "display_data"
    },
    {
     "name": "stdout",
     "output_type": "stream",
     "text": [
      "Epoch 33 ---- TPR: 0.9025974025974026 -- FDR: 0.09740259740259741\n",
      "NEW BEST\n"
     ]
    },
    {
     "data": {
      "application/vnd.jupyter.widget-view+json": {
       "model_id": "",
       "version_major": 2,
       "version_minor": 0
      },
      "text/plain": [
       "  0%|          | 0/43 [00:00<?, ?it/s]"
      ]
     },
     "metadata": {},
     "output_type": "display_data"
    },
    {
     "name": "stdout",
     "output_type": "stream",
     "text": [
      "Epoch 34 ---- TPR: 0.8896103896103896 -- FDR: 0.08361204013377926\n",
      "NEW BEST\n"
     ]
    },
    {
     "data": {
      "application/vnd.jupyter.widget-view+json": {
       "model_id": "",
       "version_major": 2,
       "version_minor": 0
      },
      "text/plain": [
       "  0%|          | 0/43 [00:00<?, ?it/s]"
      ]
     },
     "metadata": {},
     "output_type": "display_data"
    },
    {
     "name": "stdout",
     "output_type": "stream",
     "text": [
      "Epoch 35 ---- TPR: 0.8863636363636364 -- FDR: 0.07142857142857142\n",
      "NEW BEST\n"
     ]
    },
    {
     "data": {
      "application/vnd.jupyter.widget-view+json": {
       "model_id": "",
       "version_major": 2,
       "version_minor": 0
      },
      "text/plain": [
       "  0%|          | 0/43 [00:00<?, ?it/s]"
      ]
     },
     "metadata": {},
     "output_type": "display_data"
    },
    {
     "name": "stdout",
     "output_type": "stream",
     "text": [
      "Epoch 36 ---- TPR: 0.8961038961038961 -- FDR: 0.0891089108910891\n"
     ]
    },
    {
     "data": {
      "application/vnd.jupyter.widget-view+json": {
       "model_id": "",
       "version_major": 2,
       "version_minor": 0
      },
      "text/plain": [
       "  0%|          | 0/43 [00:00<?, ?it/s]"
      ]
     },
     "metadata": {},
     "output_type": "display_data"
    },
    {
     "name": "stdout",
     "output_type": "stream",
     "text": [
      "Epoch 37 ---- TPR: 0.8766233766233766 -- FDR: 0.09395973154362416\n"
     ]
    },
    {
     "data": {
      "application/vnd.jupyter.widget-view+json": {
       "model_id": "",
       "version_major": 2,
       "version_minor": 0
      },
      "text/plain": [
       "  0%|          | 0/43 [00:00<?, ?it/s]"
      ]
     },
     "metadata": {},
     "output_type": "display_data"
    },
    {
     "name": "stdout",
     "output_type": "stream",
     "text": [
      "Epoch 38 ---- TPR: 0.9155844155844156 -- FDR: 0.09615384615384616\n",
      "NEW BEST\n"
     ]
    },
    {
     "data": {
      "application/vnd.jupyter.widget-view+json": {
       "model_id": "",
       "version_major": 2,
       "version_minor": 0
      },
      "text/plain": [
       "  0%|          | 0/43 [00:00<?, ?it/s]"
      ]
     },
     "metadata": {},
     "output_type": "display_data"
    },
    {
     "name": "stdout",
     "output_type": "stream",
     "text": [
      "Epoch 39 ---- TPR: 0.8896103896103896 -- FDR: 0.08361204013377926\n"
     ]
    },
    {
     "data": {
      "application/vnd.jupyter.widget-view+json": {
       "model_id": "",
       "version_major": 2,
       "version_minor": 0
      },
      "text/plain": [
       "  0%|          | 0/43 [00:00<?, ?it/s]"
      ]
     },
     "metadata": {},
     "output_type": "display_data"
    },
    {
     "name": "stdout",
     "output_type": "stream",
     "text": [
      "Epoch 40 ---- TPR: 0.8636363636363636 -- FDR: 0.06993006993006994\n"
     ]
    },
    {
     "data": {
      "application/vnd.jupyter.widget-view+json": {
       "model_id": "",
       "version_major": 2,
       "version_minor": 0
      },
      "text/plain": [
       "  0%|          | 0/43 [00:00<?, ?it/s]"
      ]
     },
     "metadata": {},
     "output_type": "display_data"
    },
    {
     "name": "stdout",
     "output_type": "stream",
     "text": [
      "Epoch 41 ---- TPR: 0.9058441558441559 -- FDR: 0.0970873786407767\n"
     ]
    },
    {
     "data": {
      "application/vnd.jupyter.widget-view+json": {
       "model_id": "",
       "version_major": 2,
       "version_minor": 0
      },
      "text/plain": [
       "  0%|          | 0/43 [00:00<?, ?it/s]"
      ]
     },
     "metadata": {},
     "output_type": "display_data"
    },
    {
     "name": "stdout",
     "output_type": "stream",
     "text": [
      "Epoch 42 ---- TPR: 0.8701298701298701 -- FDR: 0.0726643598615917\n"
     ]
    },
    {
     "data": {
      "application/vnd.jupyter.widget-view+json": {
       "model_id": "",
       "version_major": 2,
       "version_minor": 0
      },
      "text/plain": [
       "  0%|          | 0/43 [00:00<?, ?it/s]"
      ]
     },
     "metadata": {},
     "output_type": "display_data"
    },
    {
     "name": "stdout",
     "output_type": "stream",
     "text": [
      "Epoch 43 ---- TPR: 0.9025974025974026 -- FDR: 0.0915032679738562\n"
     ]
    },
    {
     "data": {
      "application/vnd.jupyter.widget-view+json": {
       "model_id": "",
       "version_major": 2,
       "version_minor": 0
      },
      "text/plain": [
       "  0%|          | 0/43 [00:00<?, ?it/s]"
      ]
     },
     "metadata": {},
     "output_type": "display_data"
    },
    {
     "name": "stdout",
     "output_type": "stream",
     "text": [
      "Epoch 44 ---- TPR: 0.8701298701298701 -- FDR: 0.07903780068728522\n"
     ]
    },
    {
     "data": {
      "application/vnd.jupyter.widget-view+json": {
       "model_id": "",
       "version_major": 2,
       "version_minor": 0
      },
      "text/plain": [
       "  0%|          | 0/43 [00:00<?, ?it/s]"
      ]
     },
     "metadata": {},
     "output_type": "display_data"
    },
    {
     "name": "stdout",
     "output_type": "stream",
     "text": [
      "Epoch 45 ---- TPR: 0.8928571428571429 -- FDR: 0.08940397350993377\n"
     ]
    },
    {
     "data": {
      "application/vnd.jupyter.widget-view+json": {
       "model_id": "",
       "version_major": 2,
       "version_minor": 0
      },
      "text/plain": [
       "  0%|          | 0/43 [00:00<?, ?it/s]"
      ]
     },
     "metadata": {},
     "output_type": "display_data"
    },
    {
     "name": "stdout",
     "output_type": "stream",
     "text": [
      "Epoch 46 ---- TPR: 0.8636363636363636 -- FDR: 0.07317073170731707\n"
     ]
    },
    {
     "data": {
      "application/vnd.jupyter.widget-view+json": {
       "model_id": "",
       "version_major": 2,
       "version_minor": 0
      },
      "text/plain": [
       "  0%|          | 0/43 [00:00<?, ?it/s]"
      ]
     },
     "metadata": {},
     "output_type": "display_data"
    },
    {
     "name": "stdout",
     "output_type": "stream",
     "text": [
      "Epoch 47 ---- TPR: 0.8603896103896104 -- FDR: 0.07017543859649122\n"
     ]
    },
    {
     "data": {
      "application/vnd.jupyter.widget-view+json": {
       "model_id": "",
       "version_major": 2,
       "version_minor": 0
      },
      "text/plain": [
       "  0%|          | 0/43 [00:00<?, ?it/s]"
      ]
     },
     "metadata": {},
     "output_type": "display_data"
    },
    {
     "name": "stdout",
     "output_type": "stream",
     "text": [
      "Epoch 48 ---- TPR: 0.9188311688311688 -- FDR: 0.10443037974683544\n"
     ]
    },
    {
     "data": {
      "application/vnd.jupyter.widget-view+json": {
       "model_id": "",
       "version_major": 2,
       "version_minor": 0
      },
      "text/plain": [
       "  0%|          | 0/43 [00:00<?, ?it/s]"
      ]
     },
     "metadata": {},
     "output_type": "display_data"
    },
    {
     "name": "stdout",
     "output_type": "stream",
     "text": [
      "Epoch 49 ---- TPR: 0.8961038961038961 -- FDR: 0.08\n"
     ]
    },
    {
     "data": {
      "application/vnd.jupyter.widget-view+json": {
       "model_id": "",
       "version_major": 2,
       "version_minor": 0
      },
      "text/plain": [
       "  0%|          | 0/43 [00:00<?, ?it/s]"
      ]
     },
     "metadata": {},
     "output_type": "display_data"
    },
    {
     "name": "stdout",
     "output_type": "stream",
     "text": [
      "Epoch 50 ---- TPR: 0.9025974025974026 -- FDR: 0.09740259740259741\n"
     ]
    },
    {
     "data": {
      "application/vnd.jupyter.widget-view+json": {
       "model_id": "",
       "version_major": 2,
       "version_minor": 0
      },
      "text/plain": [
       "  0%|          | 0/43 [00:00<?, ?it/s]"
      ]
     },
     "metadata": {},
     "output_type": "display_data"
    },
    {
     "name": "stdout",
     "output_type": "stream",
     "text": [
      "Epoch 51 ---- TPR: 0.8701298701298701 -- FDR: 0.0726643598615917\n"
     ]
    },
    {
     "data": {
      "application/vnd.jupyter.widget-view+json": {
       "model_id": "",
       "version_major": 2,
       "version_minor": 0
      },
      "text/plain": [
       "  0%|          | 0/43 [00:00<?, ?it/s]"
      ]
     },
     "metadata": {},
     "output_type": "display_data"
    },
    {
     "name": "stdout",
     "output_type": "stream",
     "text": [
      "Epoch 52 ---- TPR: 0.8766233766233766 -- FDR: 0.08163265306122448\n"
     ]
    },
    {
     "data": {
      "application/vnd.jupyter.widget-view+json": {
       "model_id": "",
       "version_major": 2,
       "version_minor": 0
      },
      "text/plain": [
       "  0%|          | 0/43 [00:00<?, ?it/s]"
      ]
     },
     "metadata": {},
     "output_type": "display_data"
    },
    {
     "name": "stdout",
     "output_type": "stream",
     "text": [
      "Epoch 53 ---- TPR: 0.8896103896103896 -- FDR: 0.0711864406779661\n"
     ]
    },
    {
     "data": {
      "application/vnd.jupyter.widget-view+json": {
       "model_id": "",
       "version_major": 2,
       "version_minor": 0
      },
      "text/plain": [
       "  0%|          | 0/43 [00:00<?, ?it/s]"
      ]
     },
     "metadata": {},
     "output_type": "display_data"
    },
    {
     "name": "stdout",
     "output_type": "stream",
     "text": [
      "Epoch 54 ---- TPR: 0.8733766233766234 -- FDR: 0.07560137457044673\n"
     ]
    },
    {
     "data": {
      "application/vnd.jupyter.widget-view+json": {
       "model_id": "",
       "version_major": 2,
       "version_minor": 0
      },
      "text/plain": [
       "  0%|          | 0/43 [00:00<?, ?it/s]"
      ]
     },
     "metadata": {},
     "output_type": "display_data"
    },
    {
     "name": "stdout",
     "output_type": "stream",
     "text": [
      "Epoch 55 ---- TPR: 0.8571428571428571 -- FDR: 0.06713780918727916\n"
     ]
    },
    {
     "data": {
      "application/vnd.jupyter.widget-view+json": {
       "model_id": "",
       "version_major": 2,
       "version_minor": 0
      },
      "text/plain": [
       "  0%|          | 0/43 [00:00<?, ?it/s]"
      ]
     },
     "metadata": {},
     "output_type": "display_data"
    },
    {
     "name": "stdout",
     "output_type": "stream",
     "text": [
      "Epoch 56 ---- TPR: 0.8798701298701299 -- FDR: 0.07508532423208192\n"
     ]
    },
    {
     "data": {
      "application/vnd.jupyter.widget-view+json": {
       "model_id": "",
       "version_major": 2,
       "version_minor": 0
      },
      "text/plain": [
       "  0%|          | 0/43 [00:00<?, ?it/s]"
      ]
     },
     "metadata": {},
     "output_type": "display_data"
    },
    {
     "name": "stdout",
     "output_type": "stream",
     "text": [
      "Epoch 57 ---- TPR: 0.9155844155844156 -- FDR: 0.09904153354632587\n"
     ]
    },
    {
     "data": {
      "application/vnd.jupyter.widget-view+json": {
       "model_id": "",
       "version_major": 2,
       "version_minor": 0
      },
      "text/plain": [
       "  0%|          | 0/43 [00:00<?, ?it/s]"
      ]
     },
     "metadata": {},
     "output_type": "display_data"
    },
    {
     "name": "stdout",
     "output_type": "stream",
     "text": [
      "Epoch 58 ---- TPR: 0.8409090909090909 -- FDR: 0.06159420289855073\n"
     ]
    },
    {
     "data": {
      "application/vnd.jupyter.widget-view+json": {
       "model_id": "",
       "version_major": 2,
       "version_minor": 0
      },
      "text/plain": [
       "  0%|          | 0/43 [00:00<?, ?it/s]"
      ]
     },
     "metadata": {},
     "output_type": "display_data"
    },
    {
     "name": "stdout",
     "output_type": "stream",
     "text": [
      "Epoch 59 ---- TPR: 0.9025974025974026 -- FDR: 0.07947019867549669\n",
      "NEW BEST\n"
     ]
    },
    {
     "data": {
      "application/vnd.jupyter.widget-view+json": {
       "model_id": "",
       "version_major": 2,
       "version_minor": 0
      },
      "text/plain": [
       "  0%|          | 0/43 [00:00<?, ?it/s]"
      ]
     },
     "metadata": {},
     "output_type": "display_data"
    },
    {
     "name": "stdout",
     "output_type": "stream",
     "text": [
      "Epoch 60 ---- TPR: 0.8701298701298701 -- FDR: 0.06944444444444445\n"
     ]
    },
    {
     "data": {
      "application/vnd.jupyter.widget-view+json": {
       "model_id": "",
       "version_major": 2,
       "version_minor": 0
      },
      "text/plain": [
       "  0%|          | 0/43 [00:00<?, ?it/s]"
      ]
     },
     "metadata": {},
     "output_type": "display_data"
    },
    {
     "name": "stdout",
     "output_type": "stream",
     "text": [
      "Epoch 61 ---- TPR: 0.8831168831168831 -- FDR: 0.07482993197278912\n"
     ]
    },
    {
     "data": {
      "application/vnd.jupyter.widget-view+json": {
       "model_id": "",
       "version_major": 2,
       "version_minor": 0
      },
      "text/plain": [
       "  0%|          | 0/43 [00:00<?, ?it/s]"
      ]
     },
     "metadata": {},
     "output_type": "display_data"
    },
    {
     "name": "stdout",
     "output_type": "stream",
     "text": [
      "Epoch 62 ---- TPR: 0.8928571428571429 -- FDR: 0.10714285714285714\n"
     ]
    },
    {
     "data": {
      "application/vnd.jupyter.widget-view+json": {
       "model_id": "",
       "version_major": 2,
       "version_minor": 0
      },
      "text/plain": [
       "  0%|          | 0/43 [00:00<?, ?it/s]"
      ]
     },
     "metadata": {},
     "output_type": "display_data"
    },
    {
     "name": "stdout",
     "output_type": "stream",
     "text": [
      "Epoch 63 ---- TPR: 0.8538961038961039 -- FDR: 0.06405693950177936\n"
     ]
    },
    {
     "data": {
      "application/vnd.jupyter.widget-view+json": {
       "model_id": "",
       "version_major": 2,
       "version_minor": 0
      },
      "text/plain": [
       "  0%|          | 0/43 [00:00<?, ?it/s]"
      ]
     },
     "metadata": {},
     "output_type": "display_data"
    },
    {
     "name": "stdout",
     "output_type": "stream",
     "text": [
      "Epoch 64 ---- TPR: 0.8993506493506493 -- FDR: 0.07357859531772576\n",
      "NEW BEST\n"
     ]
    },
    {
     "data": {
      "application/vnd.jupyter.widget-view+json": {
       "model_id": "",
       "version_major": 2,
       "version_minor": 0
      },
      "text/plain": [
       "  0%|          | 0/43 [00:00<?, ?it/s]"
      ]
     },
     "metadata": {},
     "output_type": "display_data"
    },
    {
     "name": "stdout",
     "output_type": "stream",
     "text": [
      "Epoch 65 ---- TPR: 0.8993506493506493 -- FDR: 0.07666666666666666\n"
     ]
    },
    {
     "data": {
      "application/vnd.jupyter.widget-view+json": {
       "model_id": "",
       "version_major": 2,
       "version_minor": 0
      },
      "text/plain": [
       "  0%|          | 0/43 [00:00<?, ?it/s]"
      ]
     },
     "metadata": {},
     "output_type": "display_data"
    },
    {
     "name": "stdout",
     "output_type": "stream",
     "text": [
      "Epoch 66 ---- TPR: 0.8831168831168831 -- FDR: 0.08417508417508418\n"
     ]
    },
    {
     "data": {
      "application/vnd.jupyter.widget-view+json": {
       "model_id": "",
       "version_major": 2,
       "version_minor": 0
      },
      "text/plain": [
       "  0%|          | 0/43 [00:00<?, ?it/s]"
      ]
     },
     "metadata": {},
     "output_type": "display_data"
    },
    {
     "name": "stdout",
     "output_type": "stream",
     "text": [
      "Epoch 67 ---- TPR: 0.8733766233766234 -- FDR: 0.08813559322033898\n"
     ]
    },
    {
     "data": {
      "application/vnd.jupyter.widget-view+json": {
       "model_id": "",
       "version_major": 2,
       "version_minor": 0
      },
      "text/plain": [
       "  0%|          | 0/43 [00:00<?, ?it/s]"
      ]
     },
     "metadata": {},
     "output_type": "display_data"
    },
    {
     "name": "stdout",
     "output_type": "stream",
     "text": [
      "Epoch 68 ---- TPR: 0.8603896103896104 -- FDR: 0.06690140845070422\n"
     ]
    },
    {
     "data": {
      "application/vnd.jupyter.widget-view+json": {
       "model_id": "",
       "version_major": 2,
       "version_minor": 0
      },
      "text/plain": [
       "  0%|          | 0/43 [00:00<?, ?it/s]"
      ]
     },
     "metadata": {},
     "output_type": "display_data"
    },
    {
     "name": "stdout",
     "output_type": "stream",
     "text": [
      "Epoch 69 ---- TPR: 0.8376623376623377 -- FDR: 0.06859205776173286\n"
     ]
    },
    {
     "data": {
      "application/vnd.jupyter.widget-view+json": {
       "model_id": "",
       "version_major": 2,
       "version_minor": 0
      },
      "text/plain": [
       "  0%|          | 0/43 [00:00<?, ?it/s]"
      ]
     },
     "metadata": {},
     "output_type": "display_data"
    },
    {
     "name": "stdout",
     "output_type": "stream",
     "text": [
      "Epoch 70 ---- TPR: 0.8896103896103896 -- FDR: 0.08970099667774087\n"
     ]
    },
    {
     "data": {
      "application/vnd.jupyter.widget-view+json": {
       "model_id": "",
       "version_major": 2,
       "version_minor": 0
      },
      "text/plain": [
       "  0%|          | 0/43 [00:00<?, ?it/s]"
      ]
     },
     "metadata": {},
     "output_type": "display_data"
    },
    {
     "name": "stdout",
     "output_type": "stream",
     "text": [
      "Epoch 71 ---- TPR: 0.8538961038961039 -- FDR: 0.0673758865248227\n"
     ]
    },
    {
     "data": {
      "application/vnd.jupyter.widget-view+json": {
       "model_id": "",
       "version_major": 2,
       "version_minor": 0
      },
      "text/plain": [
       "  0%|          | 0/43 [00:00<?, ?it/s]"
      ]
     },
     "metadata": {},
     "output_type": "display_data"
    },
    {
     "name": "stdout",
     "output_type": "stream",
     "text": [
      "Epoch 72 ---- TPR: 0.8701298701298701 -- FDR: 0.07586206896551724\n"
     ]
    },
    {
     "data": {
      "application/vnd.jupyter.widget-view+json": {
       "model_id": "",
       "version_major": 2,
       "version_minor": 0
      },
      "text/plain": [
       "  0%|          | 0/43 [00:00<?, ?it/s]"
      ]
     },
     "metadata": {},
     "output_type": "display_data"
    },
    {
     "name": "stdout",
     "output_type": "stream",
     "text": [
      "Epoch 73 ---- TPR: 0.8798701298701299 -- FDR: 0.07191780821917808\n"
     ]
    },
    {
     "data": {
      "application/vnd.jupyter.widget-view+json": {
       "model_id": "",
       "version_major": 2,
       "version_minor": 0
      },
      "text/plain": [
       "  0%|          | 0/43 [00:00<?, ?it/s]"
      ]
     },
     "metadata": {},
     "output_type": "display_data"
    },
    {
     "name": "stdout",
     "output_type": "stream",
     "text": [
      "Epoch 74 ---- TPR: 0.8766233766233766 -- FDR: 0.06896551724137931\n"
     ]
    },
    {
     "data": {
      "application/vnd.jupyter.widget-view+json": {
       "model_id": "",
       "version_major": 2,
       "version_minor": 0
      },
      "text/plain": [
       "  0%|          | 0/43 [00:00<?, ?it/s]"
      ]
     },
     "metadata": {},
     "output_type": "display_data"
    },
    {
     "name": "stdout",
     "output_type": "stream",
     "text": [
      "Epoch 75 ---- TPR: 0.8798701298701299 -- FDR: 0.07508532423208192\n"
     ]
    },
    {
     "data": {
      "application/vnd.jupyter.widget-view+json": {
       "model_id": "",
       "version_major": 2,
       "version_minor": 0
      },
      "text/plain": [
       "  0%|          | 0/43 [00:00<?, ?it/s]"
      ]
     },
     "metadata": {},
     "output_type": "display_data"
    },
    {
     "name": "stdout",
     "output_type": "stream",
     "text": [
      "Epoch 76 ---- TPR: 0.8961038961038961 -- FDR: 0.08305647840531562\n"
     ]
    },
    {
     "data": {
      "application/vnd.jupyter.widget-view+json": {
       "model_id": "",
       "version_major": 2,
       "version_minor": 0
      },
      "text/plain": [
       "  0%|          | 0/43 [00:00<?, ?it/s]"
      ]
     },
     "metadata": {},
     "output_type": "display_data"
    },
    {
     "name": "stdout",
     "output_type": "stream",
     "text": [
      "Epoch 77 ---- TPR: 0.8733766233766234 -- FDR: 0.07241379310344828\n"
     ]
    },
    {
     "data": {
      "application/vnd.jupyter.widget-view+json": {
       "model_id": "",
       "version_major": 2,
       "version_minor": 0
      },
      "text/plain": [
       "  0%|          | 0/43 [00:00<?, ?it/s]"
      ]
     },
     "metadata": {},
     "output_type": "display_data"
    },
    {
     "name": "stdout",
     "output_type": "stream",
     "text": [
      "Epoch 78 ---- TPR: 0.9155844155844156 -- FDR: 0.09904153354632587\n"
     ]
    },
    {
     "data": {
      "application/vnd.jupyter.widget-view+json": {
       "model_id": "",
       "version_major": 2,
       "version_minor": 0
      },
      "text/plain": [
       "  0%|          | 0/43 [00:00<?, ?it/s]"
      ]
     },
     "metadata": {},
     "output_type": "display_data"
    },
    {
     "name": "stdout",
     "output_type": "stream",
     "text": [
      "Epoch 79 ---- TPR: 0.8766233766233766 -- FDR: 0.0847457627118644\n"
     ]
    },
    {
     "data": {
      "application/vnd.jupyter.widget-view+json": {
       "model_id": "",
       "version_major": 2,
       "version_minor": 0
      },
      "text/plain": [
       "  0%|          | 0/43 [00:00<?, ?it/s]"
      ]
     },
     "metadata": {},
     "output_type": "display_data"
    },
    {
     "name": "stdout",
     "output_type": "stream",
     "text": [
      "Epoch 80 ---- TPR: 0.9285714285714286 -- FDR: 0.12\n"
     ]
    },
    {
     "data": {
      "application/vnd.jupyter.widget-view+json": {
       "model_id": "",
       "version_major": 2,
       "version_minor": 0
      },
      "text/plain": [
       "  0%|          | 0/43 [00:00<?, ?it/s]"
      ]
     },
     "metadata": {},
     "output_type": "display_data"
    },
    {
     "name": "stdout",
     "output_type": "stream",
     "text": [
      "Epoch 81 ---- TPR: 0.9058441558441559 -- FDR: 0.08823529411764706\n"
     ]
    },
    {
     "data": {
      "application/vnd.jupyter.widget-view+json": {
       "model_id": "",
       "version_major": 2,
       "version_minor": 0
      },
      "text/plain": [
       "  0%|          | 0/43 [00:00<?, ?it/s]"
      ]
     },
     "metadata": {},
     "output_type": "display_data"
    },
    {
     "name": "stdout",
     "output_type": "stream",
     "text": [
      "Epoch 82 ---- TPR: 0.8896103896103896 -- FDR: 0.07744107744107744\n"
     ]
    },
    {
     "data": {
      "application/vnd.jupyter.widget-view+json": {
       "model_id": "",
       "version_major": 2,
       "version_minor": 0
      },
      "text/plain": [
       "  0%|          | 0/43 [00:00<?, ?it/s]"
      ]
     },
     "metadata": {},
     "output_type": "display_data"
    },
    {
     "name": "stdout",
     "output_type": "stream",
     "text": [
      "Epoch 83 ---- TPR: 0.8766233766233766 -- FDR: 0.07849829351535836\n"
     ]
    },
    {
     "data": {
      "application/vnd.jupyter.widget-view+json": {
       "model_id": "",
       "version_major": 2,
       "version_minor": 0
      },
      "text/plain": [
       "  0%|          | 0/43 [00:00<?, ?it/s]"
      ]
     },
     "metadata": {},
     "output_type": "display_data"
    },
    {
     "name": "stdout",
     "output_type": "stream",
     "text": [
      "Epoch 84 ---- TPR: 0.8603896103896104 -- FDR: 0.05693950177935943\n"
     ]
    },
    {
     "data": {
      "application/vnd.jupyter.widget-view+json": {
       "model_id": "",
       "version_major": 2,
       "version_minor": 0
      },
      "text/plain": [
       "  0%|          | 0/43 [00:00<?, ?it/s]"
      ]
     },
     "metadata": {},
     "output_type": "display_data"
    },
    {
     "name": "stdout",
     "output_type": "stream",
     "text": [
      "Epoch 85 ---- TPR: 0.9025974025974026 -- FDR: 0.10897435897435898\n"
     ]
    },
    {
     "data": {
      "application/vnd.jupyter.widget-view+json": {
       "model_id": "",
       "version_major": 2,
       "version_minor": 0
      },
      "text/plain": [
       "  0%|          | 0/43 [00:00<?, ?it/s]"
      ]
     },
     "metadata": {},
     "output_type": "display_data"
    },
    {
     "name": "stdout",
     "output_type": "stream",
     "text": [
      "Epoch 86 ---- TPR: 0.8863636363636364 -- FDR: 0.09302325581395349\n"
     ]
    },
    {
     "data": {
      "application/vnd.jupyter.widget-view+json": {
       "model_id": "",
       "version_major": 2,
       "version_minor": 0
      },
      "text/plain": [
       "  0%|          | 0/43 [00:00<?, ?it/s]"
      ]
     },
     "metadata": {},
     "output_type": "display_data"
    },
    {
     "name": "stdout",
     "output_type": "stream",
     "text": [
      "Epoch 87 ---- TPR: 0.8474025974025974 -- FDR: 0.05776173285198556\n"
     ]
    },
    {
     "data": {
      "application/vnd.jupyter.widget-view+json": {
       "model_id": "",
       "version_major": 2,
       "version_minor": 0
      },
      "text/plain": [
       "  0%|          | 0/43 [00:00<?, ?it/s]"
      ]
     },
     "metadata": {},
     "output_type": "display_data"
    },
    {
     "name": "stdout",
     "output_type": "stream",
     "text": [
      "Epoch 88 ---- TPR: 0.8701298701298701 -- FDR: 0.07586206896551724\n"
     ]
    },
    {
     "data": {
      "application/vnd.jupyter.widget-view+json": {
       "model_id": "",
       "version_major": 2,
       "version_minor": 0
      },
      "text/plain": [
       "  0%|          | 0/43 [00:00<?, ?it/s]"
      ]
     },
     "metadata": {},
     "output_type": "display_data"
    },
    {
     "name": "stdout",
     "output_type": "stream",
     "text": [
      "Epoch 89 ---- TPR: 0.9058441558441559 -- FDR: 0.09120521172638436\n"
     ]
    },
    {
     "data": {
      "application/vnd.jupyter.widget-view+json": {
       "model_id": "",
       "version_major": 2,
       "version_minor": 0
      },
      "text/plain": [
       "  0%|          | 0/43 [00:00<?, ?it/s]"
      ]
     },
     "metadata": {},
     "output_type": "display_data"
    },
    {
     "name": "stdout",
     "output_type": "stream",
     "text": [
      "Epoch 90 ---- TPR: 0.8961038961038961 -- FDR: 0.0738255033557047\n"
     ]
    },
    {
     "data": {
      "application/vnd.jupyter.widget-view+json": {
       "model_id": "",
       "version_major": 2,
       "version_minor": 0
      },
      "text/plain": [
       "  0%|          | 0/43 [00:00<?, ?it/s]"
      ]
     },
     "metadata": {},
     "output_type": "display_data"
    },
    {
     "name": "stdout",
     "output_type": "stream",
     "text": [
      "Epoch 91 ---- TPR: 0.935064935064935 -- FDR: 0.09433962264150944\n",
      "NEW BEST\n"
     ]
    },
    {
     "data": {
      "application/vnd.jupyter.widget-view+json": {
       "model_id": "",
       "version_major": 2,
       "version_minor": 0
      },
      "text/plain": [
       "  0%|          | 0/43 [00:00<?, ?it/s]"
      ]
     },
     "metadata": {},
     "output_type": "display_data"
    },
    {
     "name": "stdout",
     "output_type": "stream",
     "text": [
      "Epoch 92 ---- TPR: 0.948051948051948 -- FDR: 0.10975609756097561\n"
     ]
    },
    {
     "data": {
      "application/vnd.jupyter.widget-view+json": {
       "model_id": "",
       "version_major": 2,
       "version_minor": 0
      },
      "text/plain": [
       "  0%|          | 0/43 [00:00<?, ?it/s]"
      ]
     },
     "metadata": {},
     "output_type": "display_data"
    },
    {
     "name": "stdout",
     "output_type": "stream",
     "text": [
      "Epoch 93 ---- TPR: 0.9123376623376623 -- FDR: 0.10793650793650794\n"
     ]
    },
    {
     "data": {
      "application/vnd.jupyter.widget-view+json": {
       "model_id": "",
       "version_major": 2,
       "version_minor": 0
      },
      "text/plain": [
       "  0%|          | 0/43 [00:00<?, ?it/s]"
      ]
     },
     "metadata": {},
     "output_type": "display_data"
    },
    {
     "name": "stdout",
     "output_type": "stream",
     "text": [
      "Epoch 94 ---- TPR: 0.8766233766233766 -- FDR: 0.07216494845360824\n"
     ]
    },
    {
     "data": {
      "application/vnd.jupyter.widget-view+json": {
       "model_id": "",
       "version_major": 2,
       "version_minor": 0
      },
      "text/plain": [
       "  0%|          | 0/43 [00:00<?, ?it/s]"
      ]
     },
     "metadata": {},
     "output_type": "display_data"
    },
    {
     "name": "stdout",
     "output_type": "stream",
     "text": [
      "Epoch 95 ---- TPR: 0.8733766233766234 -- FDR: 0.0627177700348432\n"
     ]
    },
    {
     "data": {
      "application/vnd.jupyter.widget-view+json": {
       "model_id": "",
       "version_major": 2,
       "version_minor": 0
      },
      "text/plain": [
       "  0%|          | 0/43 [00:00<?, ?it/s]"
      ]
     },
     "metadata": {},
     "output_type": "display_data"
    },
    {
     "name": "stdout",
     "output_type": "stream",
     "text": [
      "Epoch 96 ---- TPR: 0.9058441558441559 -- FDR: 0.076158940397351\n"
     ]
    },
    {
     "data": {
      "application/vnd.jupyter.widget-view+json": {
       "model_id": "",
       "version_major": 2,
       "version_minor": 0
      },
      "text/plain": [
       "  0%|          | 0/43 [00:00<?, ?it/s]"
      ]
     },
     "metadata": {},
     "output_type": "display_data"
    },
    {
     "name": "stdout",
     "output_type": "stream",
     "text": [
      "Epoch 97 ---- TPR: 0.8928571428571429 -- FDR: 0.06143344709897611\n"
     ]
    },
    {
     "data": {
      "application/vnd.jupyter.widget-view+json": {
       "model_id": "",
       "version_major": 2,
       "version_minor": 0
      },
      "text/plain": [
       "  0%|          | 0/43 [00:00<?, ?it/s]"
      ]
     },
     "metadata": {},
     "output_type": "display_data"
    },
    {
     "name": "stdout",
     "output_type": "stream",
     "text": [
      "Epoch 98 ---- TPR: 0.8928571428571429 -- FDR: 0.06779661016949153\n"
     ]
    },
    {
     "data": {
      "application/vnd.jupyter.widget-view+json": {
       "model_id": "",
       "version_major": 2,
       "version_minor": 0
      },
      "text/plain": [
       "  0%|          | 0/43 [00:00<?, ?it/s]"
      ]
     },
     "metadata": {},
     "output_type": "display_data"
    },
    {
     "name": "stdout",
     "output_type": "stream",
     "text": [
      "Epoch 99 ---- TPR: 0.8993506493506493 -- FDR: 0.11501597444089456\n"
     ]
    }
   ],
   "source": [
    "training_losses = []\n",
    "val_tpr = []\n",
    "val_fdr = []\n",
    "EPOCHS = 100\n",
    "\n",
    "best_metric = 0\n",
    "# training loop\n",
    "for epoch in trange(EPOCHS):\n",
    "    training_loss, mean_loss = train(net, 'cuda', train_loader, optimizer)\n",
    "    tpr, fdr = test(net, 'cuda', eval_loader, eval_labels, epoch)\n",
    "    training_losses += training_loss\n",
    "    val_tpr.append(tpr)\n",
    "    val_fdr.append(fdr)\n",
    "    print('Epoch {} ---- TPR: {} -- FDR: {}'.format(epoch, tpr, fdr))\n",
    "    if tpr-fdr > best_metric:\n",
    "        torch.save({\n",
    "            'epoch': epoch,\n",
    "            'model_state_dict': net.state_dict(),\n",
    "            'optimizer_state_dict': optimizer.state_dict(),\n",
    "            'tpr': tpr,\n",
    "            'fdr': fdr,\n",
    "            }, 'Fornax2Virgo--CNN--best')\n",
    "        best_metric = tpr-fdr\n",
    "        print('NEW BEST')"
   ]
  },
  {
   "cell_type": "markdown",
   "id": "7907ebd4",
   "metadata": {},
   "source": [
    "### Load the model that performed best on validation data"
   ]
  },
  {
   "cell_type": "code",
   "execution_count": 7,
   "id": "36fbad59",
   "metadata": {},
   "outputs": [
    {
     "data": {
      "text/plain": [
       "<All keys matched successfully>"
      ]
     },
     "execution_count": 7,
     "metadata": {},
     "output_type": "execute_result"
    }
   ],
   "source": [
    "loaded_net = CNN()\n",
    "checkpoint = torch.load('Fornax2Virgo--CNN')\n",
    "loaded_net.load_state_dict(checkpoint['model_state_dict'])\n",
    "loaded_net.cuda()"
   ]
  },
  {
   "cell_type": "markdown",
   "id": "d55afed0",
   "metadata": {},
   "source": [
    "### Evaluate the model on the test data"
   ]
  },
  {
   "cell_type": "code",
   "execution_count": 9,
   "id": "1118b140",
   "metadata": {},
   "outputs": [
    {
     "name": "stderr",
     "output_type": "stream",
     "text": [
      "/home/dodo/anaconda3/lib/python3.8/site-packages/torch/nn/functional.py:1806: UserWarning: nn.functional.sigmoid is deprecated. Use torch.sigmoid instead.\n",
      "  warnings.warn(\"nn.functional.sigmoid is deprecated. Use torch.sigmoid instead.\")\n"
     ]
    }
   ],
   "source": [
    "loaded_net.train()\n",
    "res = []\n",
    "\n",
    "for i in range(200):\n",
    "    pred = []\n",
    "    for x,y in test_loader:\n",
    "        xout, _ = loaded_net(x.cuda())\n",
    "        xout = xout.flatten().cpu().detach().numpy()\n",
    "        pred += list(xout)\n",
    "    pred = np.array(pred)\n",
    "    res.append(pred)"
   ]
  },
  {
   "cell_type": "code",
   "execution_count": 10,
   "id": "8a0c45d5",
   "metadata": {},
   "outputs": [],
   "source": [
    "nn = np.mean(res, axis=0)\n",
    "nstd = np.max(res, axis=0)-np.min(res, axis=0)"
   ]
  },
  {
   "cell_type": "code",
   "execution_count": 11,
   "id": "60e43a71",
   "metadata": {},
   "outputs": [
    {
     "name": "stderr",
     "output_type": "stream",
     "text": [
      "/home/dodo/anaconda3/lib/python3.8/site-packages/numpy/core/fromnumeric.py:3440: RuntimeWarning: Mean of empty slice.\n",
      "  return _methods._mean(a, axis=axis, dtype=dtype,\n",
      "/home/dodo/anaconda3/lib/python3.8/site-packages/numpy/core/_methods.py:189: RuntimeWarning: invalid value encountered in double_scalars\n",
      "  ret = ret.dtype.type(ret / rcount)\n",
      "/home/dodo/git/globsML/globsML/utils/eval.py:146: RuntimeWarning: divide by zero encountered in double_scalars\n",
      "  return auc(x,y)/(2*auc([0,x[-1]], [0,y[-1]])), x, y\n"
     ]
    }
   ],
   "source": [
    "stats_gal, stats_all, _, _, _, _, _ = get_test_metrics(list(galaxies_to_test), test_galaxies, test_IDs, test_labels, 1.*(nn>0.5), probs=nn, thresh=thresh)"
   ]
  },
  {
   "cell_type": "code",
   "execution_count": 12,
   "id": "6967d9b8",
   "metadata": {},
   "outputs": [
    {
     "name": "stderr",
     "output_type": "stream",
     "text": [
      "/tmp/ipykernel_458/1394020141.py:1: FutureWarning: Dropping of nuisance columns in DataFrame reductions (with 'numeric_only=None') is deprecated; in a future version this will raise TypeError.  Select only valid columns before calling the reduction.\n",
      "  stats_gal.mean()\n"
     ]
    },
    {
     "data": {
      "text/plain": [
       "TPR               0.897816\n",
       "FDR               0.203866\n",
       "FPR               0.027591\n",
       "AUC(FDR,TPR)           inf\n",
       "AUC(FPR,TPR)      0.988862\n",
       "# found GCs     119.237113\n",
       "# total GCs     127.680412\n",
       "# fake GCs       12.340206\n",
       "# sources       645.164948\n",
       "dtype: float64"
      ]
     },
     "execution_count": 12,
     "metadata": {},
     "output_type": "execute_result"
    }
   ],
   "source": [
    "stats_gal.mean()"
   ]
  },
  {
   "cell_type": "code",
   "execution_count": 13,
   "id": "9b838579",
   "metadata": {},
   "outputs": [
    {
     "data": {
      "text/html": [
       "<div>\n",
       "<style scoped>\n",
       "    .dataframe tbody tr th:only-of-type {\n",
       "        vertical-align: middle;\n",
       "    }\n",
       "\n",
       "    .dataframe tbody tr th {\n",
       "        vertical-align: top;\n",
       "    }\n",
       "\n",
       "    .dataframe thead th {\n",
       "        text-align: right;\n",
       "    }\n",
       "</style>\n",
       "<table border=\"1\" class=\"dataframe\">\n",
       "  <thead>\n",
       "    <tr style=\"text-align: right;\">\n",
       "      <th></th>\n",
       "      <th>Galaxy</th>\n",
       "      <th>TPR</th>\n",
       "      <th>FDR</th>\n",
       "      <th>FPR</th>\n",
       "      <th>AUC(FDR,TPR)</th>\n",
       "      <th>AUC(FPR,TPR)</th>\n",
       "      <th># found GCs</th>\n",
       "      <th># total GCs</th>\n",
       "      <th># fake GCs</th>\n",
       "      <th># sources</th>\n",
       "    </tr>\n",
       "  </thead>\n",
       "  <tbody>\n",
       "    <tr>\n",
       "      <th>0</th>\n",
       "      <td>ALL</td>\n",
       "      <td>0.933872</td>\n",
       "      <td>0.093787</td>\n",
       "      <td>0.023847</td>\n",
       "      <td>0.970082</td>\n",
       "      <td>0.993356</td>\n",
       "      <td>11566</td>\n",
       "      <td>12385</td>\n",
       "      <td>1197</td>\n",
       "      <td>62581</td>\n",
       "    </tr>\n",
       "  </tbody>\n",
       "</table>\n",
       "</div>"
      ],
      "text/plain": [
       "  Galaxy       TPR       FDR       FPR  AUC(FDR,TPR)  AUC(FPR,TPR)  \\\n",
       "0    ALL  0.933872  0.093787  0.023847      0.970082      0.993356   \n",
       "\n",
       "   # found GCs  # total GCs  # fake GCs  # sources  \n",
       "0        11566        12385        1197      62581  "
      ]
     },
     "execution_count": 13,
     "metadata": {},
     "output_type": "execute_result"
    }
   ],
   "source": [
    "stats_all"
   ]
  },
  {
   "cell_type": "markdown",
   "id": "0b4eeb78",
   "metadata": {},
   "source": [
    "### An estimate for prediction uncertainty can be obtained using MC dropout"
   ]
  },
  {
   "cell_type": "code",
   "execution_count": 15,
   "id": "29f386c9",
   "metadata": {},
   "outputs": [
    {
     "data": {
      "text/plain": [
       "[<matplotlib.lines.Line2D at 0x7f9ba73b8550>]"
      ]
     },
     "execution_count": 15,
     "metadata": {},
     "output_type": "execute_result"
    },
    {
     "data": {
      "image/png": "[encoded data removed]",
      "text/plain": [
       "<Figure size 432x288 with 1 Axes>"
      ]
     },
     "metadata": {
      "needs_background": "light"
     },
     "output_type": "display_data"
    }
   ],
   "source": [
    "unc = []\n",
    "for i in range(25):\n",
    "    unc.append(np.percentile(nstd, i*4+4))\n",
    "certainty = []\n",
    "preds = []\n",
    "\n",
    "for i in range(len(unc)-1):\n",
    "    whichones = (nstd>unc[i])*(nstd<unc[i+1])\n",
    "    lab = test_labels[whichones]\n",
    "    pred = nn[whichones]>0.5\n",
    "    certainty.append(np.mean(lab==pred))\n",
    "    preds.append(nn[whichones])\n",
    "\n",
    "plt.plot(unc[1:], certainty, marker = 'o')"
   ]
  },
  {
   "cell_type": "markdown",
   "id": "4c5d566e",
   "metadata": {},
   "source": [
    "### Replace the last layer of the trained CNN with a k nearest neighbour classifier"
   ]
  },
  {
   "cell_type": "code",
   "execution_count": 22,
   "id": "9719a578",
   "metadata": {},
   "outputs": [
    {
     "name": "stderr",
     "output_type": "stream",
     "text": [
      "/home/dodo/anaconda3/lib/python3.8/site-packages/torch/nn/functional.py:1806: UserWarning: nn.functional.sigmoid is deprecated. Use torch.sigmoid instead.\n",
      "  warnings.warn(\"nn.functional.sigmoid is deprecated. Use torch.sigmoid instead.\")\n"
     ]
    }
   ],
   "source": [
    "loaded_net.eval()\n",
    "\n",
    "trainData = CustomGCDataset(train_images, train_labels)\n",
    "train_loader = torch.utils.data.DataLoader(trainData, batch_size=BATCHSIZE, shuffle=False)\n",
    "\n",
    "# map training data to latent space of CNN\n",
    "new_train = []\n",
    "for x,y in train_loader:\n",
    "    _, xout = loaded_net(x.cuda())\n",
    "    xout = xout.cpu().detach().numpy()\n",
    "    new_train += list(xout)\n",
    "    \n",
    "# map test data to latent space of CNN\n",
    "new_test = []\n",
    "for x,y in test_loader:\n",
    "    _, xout = loaded_net(x.cuda())\n",
    "    xout = xout.cpu().detach().numpy()\n",
    "    new_test += list(xout)"
   ]
  },
  {
   "cell_type": "code",
   "execution_count": 23,
   "id": "5811ec21",
   "metadata": {},
   "outputs": [
    {
     "name": "stderr",
     "output_type": "stream",
     "text": [
      "/home/dodo/anaconda3/lib/python3.8/site-packages/numpy/core/fromnumeric.py:3440: RuntimeWarning: Mean of empty slice.\n",
      "  return _methods._mean(a, axis=axis, dtype=dtype,\n",
      "/home/dodo/anaconda3/lib/python3.8/site-packages/numpy/core/_methods.py:189: RuntimeWarning: invalid value encountered in double_scalars\n",
      "  ret = ret.dtype.type(ret / rcount)\n"
     ]
    }
   ],
   "source": [
    "# train kNN on the latent training data\n",
    "knn = KNeighborsClassifier(1)\n",
    "knn.fit(new_train, np.array(train_labels >= 0.5, dtype=int))\n",
    "\n",
    "# apply kNN on test latent representations for classification\n",
    "pred = knn.predict(new_test)\n",
    "probs = knn.predict_proba(new_test)[:,1]\n",
    "\n",
    "# get evaluation metrics\n",
    "stats_gal, stats_all, _, _, _, _, _ = get_test_metrics(list(galaxies_to_test), test_galaxies, test_IDs, test_labels, pred, probs=probs, thresh=thresh)"
   ]
  },
  {
   "cell_type": "code",
   "execution_count": 24,
   "id": "5bee6dce",
   "metadata": {},
   "outputs": [
    {
     "name": "stderr",
     "output_type": "stream",
     "text": [
      "/tmp/ipykernel_485/1394020141.py:1: FutureWarning: Dropping of nuisance columns in DataFrame reductions (with 'numeric_only=None') is deprecated; in a future version this will raise TypeError.  Select only valid columns before calling the reduction.\n",
      "  stats_gal.mean()\n"
     ]
    },
    {
     "data": {
      "text/plain": [
       "TPR               0.835398\n",
       "FDR               0.202840\n",
       "FPR               0.025866\n",
       "AUC(FDR,TPR)      0.803851\n",
       "AUC(FPR,TPR)      0.904766\n",
       "# found GCs     112.577320\n",
       "# total GCs     127.680412\n",
       "# fake GCs       11.670103\n",
       "# sources       645.164948\n",
       "dtype: float64"
      ]
     },
     "execution_count": 24,
     "metadata": {},
     "output_type": "execute_result"
    }
   ],
   "source": [
    "stats_gal.mean()"
   ]
  },
  {
   "cell_type": "code",
   "execution_count": 25,
   "id": "a1d7cea7",
   "metadata": {},
   "outputs": [
    {
     "data": {
      "text/html": [
       "<div>\n",
       "<style scoped>\n",
       "    .dataframe tbody tr th:only-of-type {\n",
       "        vertical-align: middle;\n",
       "    }\n",
       "\n",
       "    .dataframe tbody tr th {\n",
       "        vertical-align: top;\n",
       "    }\n",
       "\n",
       "    .dataframe thead th {\n",
       "        text-align: right;\n",
       "    }\n",
       "</style>\n",
       "<table border=\"1\" class=\"dataframe\">\n",
       "  <thead>\n",
       "    <tr style=\"text-align: right;\">\n",
       "      <th></th>\n",
       "      <th>Galaxy</th>\n",
       "      <th>TPR</th>\n",
       "      <th>FDR</th>\n",
       "      <th>FPR</th>\n",
       "      <th>AUC(FDR,TPR)</th>\n",
       "      <th>AUC(FPR,TPR)</th>\n",
       "      <th># found GCs</th>\n",
       "      <th># total GCs</th>\n",
       "      <th># fake GCs</th>\n",
       "      <th># sources</th>\n",
       "    </tr>\n",
       "  </thead>\n",
       "  <tbody>\n",
       "    <tr>\n",
       "      <th>0</th>\n",
       "      <td>ALL</td>\n",
       "      <td>0.881712</td>\n",
       "      <td>0.093926</td>\n",
       "      <td>0.022552</td>\n",
       "      <td>0.882305</td>\n",
       "      <td>0.92958</td>\n",
       "      <td>10920</td>\n",
       "      <td>12385</td>\n",
       "      <td>1132</td>\n",
       "      <td>62581</td>\n",
       "    </tr>\n",
       "  </tbody>\n",
       "</table>\n",
       "</div>"
      ],
      "text/plain": [
       "  Galaxy       TPR       FDR       FPR  AUC(FDR,TPR)  AUC(FPR,TPR)  \\\n",
       "0    ALL  0.881712  0.093926  0.022552      0.882305       0.92958   \n",
       "\n",
       "   # found GCs  # total GCs  # fake GCs  # sources  \n",
       "0        10920        12385        1132      62581  "
      ]
     },
     "execution_count": 25,
     "metadata": {},
     "output_type": "execute_result"
    }
   ],
   "source": [
    "stats_all"
   ]
  },
  {
   "cell_type": "markdown",
   "id": "dfe61e3b",
   "metadata": {},
   "source": [
    "#### Repeat the same for higher number of neighbours k"
   ]
  },
  {
   "cell_type": "code",
   "execution_count": 26,
   "id": "0b2dfc6c",
   "metadata": {},
   "outputs": [
    {
     "name": "stderr",
     "output_type": "stream",
     "text": [
      "/home/dodo/anaconda3/lib/python3.8/site-packages/numpy/core/fromnumeric.py:3440: RuntimeWarning: Mean of empty slice.\n",
      "  return _methods._mean(a, axis=axis, dtype=dtype,\n",
      "/home/dodo/anaconda3/lib/python3.8/site-packages/numpy/core/_methods.py:189: RuntimeWarning: invalid value encountered in double_scalars\n",
      "  ret = ret.dtype.type(ret / rcount)\n"
     ]
    }
   ],
   "source": [
    "knn = KNeighborsClassifier(12)\n",
    "knn.fit(new_train, np.array(train_labels >= 0.5, dtype=int))\n",
    "pred = knn.predict(new_test)\n",
    "probs = knn.predict_proba(new_test)[:,1]\n",
    "stats_gal, stats_all, _, _, _, _, _ = get_test_metrics(list(galaxies_to_test), test_galaxies, test_IDs, test_labels, pred, probs=probs, thresh=thresh)"
   ]
  },
  {
   "cell_type": "code",
   "execution_count": 27,
   "id": "13f2cd39",
   "metadata": {},
   "outputs": [
    {
     "name": "stderr",
     "output_type": "stream",
     "text": [
      "/tmp/ipykernel_485/1394020141.py:1: FutureWarning: Dropping of nuisance columns in DataFrame reductions (with 'numeric_only=None') is deprecated; in a future version this will raise TypeError.  Select only valid columns before calling the reduction.\n",
      "  stats_gal.mean()\n"
     ]
    },
    {
     "data": {
      "text/plain": [
       "TPR               0.862170\n",
       "FDR               0.146600\n",
       "FPR               0.017789\n",
       "AUC(FDR,TPR)      0.905935\n",
       "AUC(FPR,TPR)      0.978925\n",
       "# found GCs     115.865979\n",
       "# total GCs     127.680412\n",
       "# fake GCs        7.938144\n",
       "# sources       645.164948\n",
       "dtype: float64"
      ]
     },
     "execution_count": 27,
     "metadata": {},
     "output_type": "execute_result"
    }
   ],
   "source": [
    "stats_gal.mean()"
   ]
  },
  {
   "cell_type": "code",
   "execution_count": 28,
   "id": "1f3423df",
   "metadata": {},
   "outputs": [
    {
     "data": {
      "text/html": [
       "<div>\n",
       "<style scoped>\n",
       "    .dataframe tbody tr th:only-of-type {\n",
       "        vertical-align: middle;\n",
       "    }\n",
       "\n",
       "    .dataframe tbody tr th {\n",
       "        vertical-align: top;\n",
       "    }\n",
       "\n",
       "    .dataframe thead th {\n",
       "        text-align: right;\n",
       "    }\n",
       "</style>\n",
       "<table border=\"1\" class=\"dataframe\">\n",
       "  <thead>\n",
       "    <tr style=\"text-align: right;\">\n",
       "      <th></th>\n",
       "      <th>Galaxy</th>\n",
       "      <th>TPR</th>\n",
       "      <th>FDR</th>\n",
       "      <th>FPR</th>\n",
       "      <th>AUC(FDR,TPR)</th>\n",
       "      <th>AUC(FPR,TPR)</th>\n",
       "      <th># found GCs</th>\n",
       "      <th># total GCs</th>\n",
       "      <th># fake GCs</th>\n",
       "      <th># sources</th>\n",
       "    </tr>\n",
       "  </thead>\n",
       "  <tbody>\n",
       "    <tr>\n",
       "      <th>0</th>\n",
       "      <td>ALL</td>\n",
       "      <td>0.907469</td>\n",
       "      <td>0.064119</td>\n",
       "      <td>0.01534</td>\n",
       "      <td>0.963247</td>\n",
       "      <td>0.985514</td>\n",
       "      <td>11239</td>\n",
       "      <td>12385</td>\n",
       "      <td>770</td>\n",
       "      <td>62581</td>\n",
       "    </tr>\n",
       "  </tbody>\n",
       "</table>\n",
       "</div>"
      ],
      "text/plain": [
       "  Galaxy       TPR       FDR      FPR  AUC(FDR,TPR)  AUC(FPR,TPR)  \\\n",
       "0    ALL  0.907469  0.064119  0.01534      0.963247      0.985514   \n",
       "\n",
       "   # found GCs  # total GCs  # fake GCs  # sources  \n",
       "0        11239        12385         770      62581  "
      ]
     },
     "execution_count": 28,
     "metadata": {},
     "output_type": "execute_result"
    }
   ],
   "source": [
    "stats_all"
   ]
  }
 ],
 "metadata": {
  "kernelspec": {
   "display_name": "Python 3 (ipykernel)",
   "language": "python",
   "name": "python3"
  },
  "language_info": {
   "codemirror_mode": {
    "name": "ipython",
    "version": 3
   },
   "file_extension": ".py",
   "mimetype": "text/x-python",
   "name": "python",
   "nbconvert_exporter": "python",
   "pygments_lexer": "ipython3",
   "version": "3.8.8"
  }
 },
 "nbformat": 4,
 "nbformat_minor": 5
}
