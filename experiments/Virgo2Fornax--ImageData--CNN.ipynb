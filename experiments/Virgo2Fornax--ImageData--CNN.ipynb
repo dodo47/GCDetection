{
 "cells": [
  {
   "cell_type": "code",
   "execution_count": 1,
   "id": "1de9de30",
   "metadata": {},
   "outputs": [],
   "source": [
    "import numpy as np\n",
    "import matplotlib.pyplot as plt\n",
    "import pandas\n",
    "import torch\n",
    "import torchvision.transforms as transforms\n",
    "from globsML.utils.eval import get_test_metrics\n",
    "from globsML.utils.draw import plot_source\n",
    "from globsML.utils.imageloader import load_data, CustomGCDataset\n",
    "from globsML.utils.training import train_CNN as train\n",
    "from globsML.utils.training import test_CNN as test\n",
    "from globsML.models.CNN import CNN\n",
    "from sklearn.ensemble import RandomForestClassifier\n",
    "from sklearn.neighbors import KNeighborsClassifier\n",
    "from sklearn.model_selection import train_test_split\n",
    "from tqdm.notebook import tqdm, trange\n",
    "\n",
    "# list of thresholds used to calculate AUC ROC\n",
    "thresh = np.arange(0,1.02,0.01)"
   ]
  },
  {
   "cell_type": "markdown",
   "id": "41c15c37",
   "metadata": {},
   "source": [
    "### Load data"
   ]
  },
  {
   "cell_type": "code",
   "execution_count": 2,
   "id": "e250313e",
   "metadata": {},
   "outputs": [],
   "source": [
    "data_path = '../data/ACS_sources_original.csv'\n",
    "data = pandas.read_csv(data_path)\n",
    "galaxies_to_test = set(data[data['cluster'] == 'Fornax'].galaxy.unique())\n",
    "    \n",
    "available_galaxies = set(data['galaxy'].unique())\n",
    "available_galaxies = available_galaxies.difference(set(list(galaxies_to_test)+['VCC538']))"
   ]
  },
  {
   "cell_type": "code",
   "execution_count": 3,
   "id": "cbf12415",
   "metadata": {},
   "outputs": [],
   "source": [
    "images, labels, probabilities, galaxies, IDs = load_data(data, available_galaxies)\n",
    "test_images, test_labels, test_probabilities, test_galaxies, test_IDs = load_data(data, galaxies_to_test)"
   ]
  },
  {
   "cell_type": "markdown",
   "id": "6591a433",
   "metadata": {},
   "source": [
    "### First: train a few other models to get an idea of achievable performance levels"
   ]
  },
  {
   "cell_type": "code",
   "execution_count": 115,
   "id": "e38007c6",
   "metadata": {},
   "outputs": [
    {
     "name": "stderr",
     "output_type": "stream",
     "text": [
      "/home/dodo/anaconda3/lib/python3.8/site-packages/numpy/core/fromnumeric.py:3440: RuntimeWarning: Mean of empty slice.\n",
      "  return _methods._mean(a, axis=axis, dtype=dtype,\n",
      "/home/dodo/anaconda3/lib/python3.8/site-packages/numpy/core/_methods.py:189: RuntimeWarning: invalid value encountered in double_scalars\n",
      "  ret = ret.dtype.type(ret / rcount)\n"
     ]
    }
   ],
   "source": [
    "knn = KNeighborsClassifier(1)\n",
    "knn.fit(np.reshape(images, (len(images), 2*20*20)), labels)\n",
    "pred = knn.predict(np.reshape(test_images, (len(test_images), 2*20*20)))\n",
    "probs = knn.predict_proba(np.reshape(test_images, (len(test_images), 2*20*20)))[:,1]\n",
    "stats_gal, stats_all, _, _, _, _, _ = get_test_metrics(list(galaxies_to_test), test_galaxies, test_IDs, test_labels, pred, probs=probs, thresh=thresh)"
   ]
  },
  {
   "cell_type": "code",
   "execution_count": 116,
   "id": "457e5870",
   "metadata": {},
   "outputs": [
    {
     "name": "stderr",
     "output_type": "stream",
     "text": [
      "/tmp/ipykernel_264/1394020141.py:1: FutureWarning: Dropping of nuisance columns in DataFrame reductions (with 'numeric_only=None') is deprecated; in a future version this will raise TypeError.  Select only valid columns before calling the reduction.\n",
      "  stats_gal.mean()\n"
     ]
    },
    {
     "data": {
      "text/plain": [
       "TPR               0.767188\n",
       "FDR               0.240065\n",
       "FPR               0.038570\n",
       "AUC(FDR,TPR)      0.744394\n",
       "AUC(FPR,TPR)      0.864309\n",
       "# found GCs     115.860465\n",
       "# total GCs     143.279070\n",
       "# fake GCs       15.116279\n",
       "# sources       506.209302\n",
       "dtype: float64"
      ]
     },
     "execution_count": 116,
     "metadata": {},
     "output_type": "execute_result"
    }
   ],
   "source": [
    "stats_gal.mean()"
   ]
  },
  {
   "cell_type": "code",
   "execution_count": 117,
   "id": "2ecdba28",
   "metadata": {},
   "outputs": [
    {
     "data": {
      "text/html": [
       "<div>\n",
       "<style scoped>\n",
       "    .dataframe tbody tr th:only-of-type {\n",
       "        vertical-align: middle;\n",
       "    }\n",
       "\n",
       "    .dataframe tbody tr th {\n",
       "        vertical-align: top;\n",
       "    }\n",
       "\n",
       "    .dataframe thead th {\n",
       "        text-align: right;\n",
       "    }\n",
       "</style>\n",
       "<table border=\"1\" class=\"dataframe\">\n",
       "  <thead>\n",
       "    <tr style=\"text-align: right;\">\n",
       "      <th></th>\n",
       "      <th>Galaxy</th>\n",
       "      <th>TPR</th>\n",
       "      <th>FDR</th>\n",
       "      <th>FPR</th>\n",
       "      <th>AUC(FDR,TPR)</th>\n",
       "      <th>AUC(FPR,TPR)</th>\n",
       "      <th># found GCs</th>\n",
       "      <th># total GCs</th>\n",
       "      <th># fake GCs</th>\n",
       "      <th># sources</th>\n",
       "    </tr>\n",
       "  </thead>\n",
       "  <tbody>\n",
       "    <tr>\n",
       "      <th>0</th>\n",
       "      <td>ALL</td>\n",
       "      <td>0.808635</td>\n",
       "      <td>0.115412</td>\n",
       "      <td>0.041651</td>\n",
       "      <td>0.82383</td>\n",
       "      <td>0.883492</td>\n",
       "      <td>4982</td>\n",
       "      <td>6161</td>\n",
       "      <td>650</td>\n",
       "      <td>21767</td>\n",
       "    </tr>\n",
       "  </tbody>\n",
       "</table>\n",
       "</div>"
      ],
      "text/plain": [
       "  Galaxy       TPR       FDR       FPR  AUC(FDR,TPR)  AUC(FPR,TPR)  \\\n",
       "0    ALL  0.808635  0.115412  0.041651       0.82383      0.883492   \n",
       "\n",
       "   # found GCs  # total GCs  # fake GCs  # sources  \n",
       "0         4982         6161         650      21767  "
      ]
     },
     "execution_count": 117,
     "metadata": {},
     "output_type": "execute_result"
    }
   ],
   "source": [
    "stats_all"
   ]
  },
  {
   "cell_type": "code",
   "execution_count": null,
   "id": "42b76568",
   "metadata": {},
   "outputs": [],
   "source": [
    "knn = KNeighborsClassifier(12)\n",
    "knn.fit(np.reshape(images, (len(images), 2*20*20)), labels)\n",
    "pred = knn.predict(np.reshape(test_images, (len(test_images), 2*20*20)))\n",
    "probs = knn.predict_proba(np.reshape(test_images, (len(test_images), 2*20*20)))[:,1]\n",
    "stats_gal, stats_all, _, _, _, _, _ = get_test_metrics(list(galaxies_to_test), test_galaxies, test_IDs, test_labels, pred, probs=probs, thresh=thresh)"
   ]
  },
  {
   "cell_type": "code",
   "execution_count": 50,
   "id": "a4a692e2",
   "metadata": {},
   "outputs": [
    {
     "name": "stderr",
     "output_type": "stream",
     "text": [
      "/tmp/ipykernel_536/1394020141.py:1: FutureWarning: Dropping of nuisance columns in DataFrame reductions (with 'numeric_only=None') is deprecated; in a future version this will raise TypeError.  Select only valid columns before calling the reduction.\n",
      "  stats_gal.mean()\n"
     ]
    },
    {
     "data": {
      "text/plain": [
       "TPR               0.753958\n",
       "FDR               0.197299\n",
       "FPR               0.028157\n",
       "AUC(FDR,TPR)      0.834620\n",
       "AUC(FPR,TPR)      0.955631\n",
       "# found GCs     115.558140\n",
       "# total GCs     143.279070\n",
       "# fake GCs       11.069767\n",
       "# sources       506.209302\n",
       "dtype: float64"
      ]
     },
     "execution_count": 50,
     "metadata": {},
     "output_type": "execute_result"
    }
   ],
   "source": [
    "stats_gal.mean()"
   ]
  },
  {
   "cell_type": "code",
   "execution_count": 51,
   "id": "ad355d81",
   "metadata": {},
   "outputs": [
    {
     "data": {
      "text/html": [
       "<div>\n",
       "<style scoped>\n",
       "    .dataframe tbody tr th:only-of-type {\n",
       "        vertical-align: middle;\n",
       "    }\n",
       "\n",
       "    .dataframe tbody tr th {\n",
       "        vertical-align: top;\n",
       "    }\n",
       "\n",
       "    .dataframe thead th {\n",
       "        text-align: right;\n",
       "    }\n",
       "</style>\n",
       "<table border=\"1\" class=\"dataframe\">\n",
       "  <thead>\n",
       "    <tr style=\"text-align: right;\">\n",
       "      <th></th>\n",
       "      <th>Galaxy</th>\n",
       "      <th>TPR</th>\n",
       "      <th>FDR</th>\n",
       "      <th>FPR</th>\n",
       "      <th>AUC(FDR,TPR)</th>\n",
       "      <th>AUC(FPR,TPR)</th>\n",
       "      <th># found GCs</th>\n",
       "      <th># total GCs</th>\n",
       "      <th># fake GCs</th>\n",
       "      <th># sources</th>\n",
       "    </tr>\n",
       "  </thead>\n",
       "  <tbody>\n",
       "    <tr>\n",
       "      <th>0</th>\n",
       "      <td>ALL</td>\n",
       "      <td>0.806525</td>\n",
       "      <td>0.08742</td>\n",
       "      <td>0.030501</td>\n",
       "      <td>0.914848</td>\n",
       "      <td>0.966198</td>\n",
       "      <td>4969</td>\n",
       "      <td>6161</td>\n",
       "      <td>476</td>\n",
       "      <td>21767</td>\n",
       "    </tr>\n",
       "  </tbody>\n",
       "</table>\n",
       "</div>"
      ],
      "text/plain": [
       "  Galaxy       TPR      FDR       FPR  AUC(FDR,TPR)  AUC(FPR,TPR)  \\\n",
       "0    ALL  0.806525  0.08742  0.030501      0.914848      0.966198   \n",
       "\n",
       "   # found GCs  # total GCs  # fake GCs  # sources  \n",
       "0         4969         6161         476      21767  "
      ]
     },
     "execution_count": 51,
     "metadata": {},
     "output_type": "execute_result"
    }
   ],
   "source": [
    "stats_all"
   ]
  },
  {
   "cell_type": "code",
   "execution_count": 53,
   "id": "ae92b132",
   "metadata": {},
   "outputs": [
    {
     "name": "stderr",
     "output_type": "stream",
     "text": [
      "/home/dodo/anaconda3/lib/python3.8/site-packages/numpy/core/fromnumeric.py:3440: RuntimeWarning: Mean of empty slice.\n",
      "  return _methods._mean(a, axis=axis, dtype=dtype,\n",
      "/home/dodo/anaconda3/lib/python3.8/site-packages/numpy/core/_methods.py:189: RuntimeWarning: invalid value encountered in double_scalars\n",
      "  ret = ret.dtype.type(ret / rcount)\n",
      "/home/dodo/git/globsML/globsML/utils/eval.py:143: RuntimeWarning: divide by zero encountered in double_scalars\n",
      "  return auc(x,y)/(2*auc([0,x[-1]], [0,y[-1]])), x, y\n"
     ]
    }
   ],
   "source": [
    "rforest = RandomForestClassifier(n_estimators = 200, random_state = 42424)\n",
    "rforest.fit(np.reshape(images, (len(images), 2*20*20)), labels)\n",
    "pred = rforest.predict(np.reshape(test_images, (len(test_images), 2*20*20)))\n",
    "probs = rforest.predict_proba(np.reshape(test_images, (len(test_images), 2*20*20)))[:,1]\n",
    "stats_gal, stats_all, _, _, _, _, _ = get_test_metrics(list(galaxies_to_test), test_galaxies, test_IDs, test_labels, pred, probs=probs, thresh=thresh)"
   ]
  },
  {
   "cell_type": "code",
   "execution_count": 54,
   "id": "2724cb55",
   "metadata": {},
   "outputs": [
    {
     "name": "stderr",
     "output_type": "stream",
     "text": [
      "/tmp/ipykernel_536/1394020141.py:1: FutureWarning: Dropping of nuisance columns in DataFrame reductions (with 'numeric_only=None') is deprecated; in a future version this will raise TypeError.  Select only valid columns before calling the reduction.\n",
      "  stats_gal.mean()\n"
     ]
    },
    {
     "data": {
      "text/plain": [
       "TPR               0.740933\n",
       "FDR               0.177016\n",
       "FPR               0.028347\n",
       "AUC(FDR,TPR)           inf\n",
       "AUC(FPR,TPR)      0.963042\n",
       "# found GCs     115.930233\n",
       "# total GCs     143.279070\n",
       "# fake GCs       11.511628\n",
       "# sources       506.209302\n",
       "dtype: float64"
      ]
     },
     "execution_count": 54,
     "metadata": {},
     "output_type": "execute_result"
    }
   ],
   "source": [
    "stats_gal.mean()"
   ]
  },
  {
   "cell_type": "code",
   "execution_count": 55,
   "id": "dad2fddb",
   "metadata": {},
   "outputs": [
    {
     "data": {
      "text/html": [
       "<div>\n",
       "<style scoped>\n",
       "    .dataframe tbody tr th:only-of-type {\n",
       "        vertical-align: middle;\n",
       "    }\n",
       "\n",
       "    .dataframe tbody tr th {\n",
       "        vertical-align: top;\n",
       "    }\n",
       "\n",
       "    .dataframe thead th {\n",
       "        text-align: right;\n",
       "    }\n",
       "</style>\n",
       "<table border=\"1\" class=\"dataframe\">\n",
       "  <thead>\n",
       "    <tr style=\"text-align: right;\">\n",
       "      <th></th>\n",
       "      <th>Galaxy</th>\n",
       "      <th>TPR</th>\n",
       "      <th>FDR</th>\n",
       "      <th>FPR</th>\n",
       "      <th>AUC(FDR,TPR)</th>\n",
       "      <th>AUC(FPR,TPR)</th>\n",
       "      <th># found GCs</th>\n",
       "      <th># total GCs</th>\n",
       "      <th># fake GCs</th>\n",
       "      <th># sources</th>\n",
       "    </tr>\n",
       "  </thead>\n",
       "  <tbody>\n",
       "    <tr>\n",
       "      <th>0</th>\n",
       "      <td>ALL</td>\n",
       "      <td>0.809122</td>\n",
       "      <td>0.090328</td>\n",
       "      <td>0.031719</td>\n",
       "      <td>0.917892</td>\n",
       "      <td>0.972547</td>\n",
       "      <td>4985</td>\n",
       "      <td>6161</td>\n",
       "      <td>495</td>\n",
       "      <td>21767</td>\n",
       "    </tr>\n",
       "  </tbody>\n",
       "</table>\n",
       "</div>"
      ],
      "text/plain": [
       "  Galaxy       TPR       FDR       FPR  AUC(FDR,TPR)  AUC(FPR,TPR)  \\\n",
       "0    ALL  0.809122  0.090328  0.031719      0.917892      0.972547   \n",
       "\n",
       "   # found GCs  # total GCs  # fake GCs  # sources  \n",
       "0         4985         6161         495      21767  "
      ]
     },
     "execution_count": 55,
     "metadata": {},
     "output_type": "execute_result"
    }
   ],
   "source": [
    "stats_all"
   ]
  },
  {
   "cell_type": "markdown",
   "id": "c4b10091",
   "metadata": {},
   "source": [
    "### Create data loaders for use in pytorch"
   ]
  },
  {
   "cell_type": "code",
   "execution_count": 4,
   "id": "6b99d994",
   "metadata": {},
   "outputs": [],
   "source": [
    "BATCHSIZE = 500\n",
    "SEED = 1231423\n",
    "EVAL_SIZE = 0.05\n",
    "np.random.seed(SEED)\n",
    "torch.manual_seed(SEED)\n",
    "\n",
    "train_images, eval_images, train_labels, eval_labels = train_test_split(images, probabilities, test_size=EVAL_SIZE, random_state=SEED)\n",
    "train_labels[train_labels<=0.2] = 0.\n",
    "train_labels[train_labels>=0.8] = 1.\n",
    "trainData = CustomGCDataset(train_images, train_labels, \n",
    "                        transforms.Compose([transforms.RandomHorizontalFlip(),\n",
    "                        transforms.RandomVerticalFlip()]))\n",
    "train_loader = torch.utils.data.DataLoader(trainData, batch_size=BATCHSIZE, shuffle=True)\n",
    "\n",
    "eval_labels = np.array(eval_labels>=0.5, dtype=int)\n",
    "evalData = CustomGCDataset(eval_images, eval_labels)\n",
    "eval_loader = torch.utils.data.DataLoader(evalData, batch_size=BATCHSIZE, shuffle=False)\n",
    "\n",
    "testData = CustomGCDataset(test_images, test_labels)\n",
    "test_loader = torch.utils.data.DataLoader(testData, batch_size=BATCHSIZE, shuffle=False)"
   ]
  },
  {
   "cell_type": "markdown",
   "id": "5f7081aa",
   "metadata": {},
   "source": [
    "### Create CNN model and optimizer"
   ]
  },
  {
   "cell_type": "code",
   "execution_count": 5,
   "id": "50793497",
   "metadata": {},
   "outputs": [],
   "source": [
    "# create CNN\n",
    "net = CNN()\n",
    "net.cuda()\n",
    "\n",
    "# set up optimiser\n",
    "LR = 1e-3\n",
    "REG = 1e-5\n",
    "optimizer = torch.optim.Adam(net.parameters(), lr=LR, weight_decay=REG)"
   ]
  },
  {
   "cell_type": "markdown",
   "id": "e1e2b019",
   "metadata": {},
   "source": [
    "### Train the CNN\n",
    "\n",
    "Model parameters from the epoch with the best performance on validation data (highest TPR-FPR value) is used for testing later"
   ]
  },
  {
   "cell_type": "code",
   "execution_count": 8,
   "id": "ee6bc5e8",
   "metadata": {},
   "outputs": [
    {
     "data": {
      "application/vnd.jupyter.widget-view+json": {
       "model_id": "b2a0c9682c2c4e2e95877a101a406b5b",
       "version_major": 2,
       "version_minor": 0
      },
      "text/plain": [
       "  0%|          | 0/100 [00:00<?, ?it/s]"
      ]
     },
     "metadata": {},
     "output_type": "display_data"
    },
    {
     "data": {
      "application/vnd.jupyter.widget-view+json": {
       "model_id": "",
       "version_major": 2,
       "version_minor": 0
      },
      "text/plain": [
       "  0%|          | 0/119 [00:00<?, ?it/s]"
      ]
     },
     "metadata": {},
     "output_type": "display_data"
    },
    {
     "name": "stderr",
     "output_type": "stream",
     "text": [
      "/home/dodo/anaconda3/lib/python3.8/site-packages/torch/nn/functional.py:1806: UserWarning: nn.functional.sigmoid is deprecated. Use torch.sigmoid instead.\n",
      "  warnings.warn(\"nn.functional.sigmoid is deprecated. Use torch.sigmoid instead.\")\n"
     ]
    },
    {
     "name": "stdout",
     "output_type": "stream",
     "text": [
      "Epoch 0 ---- TPR: 0.6908517350157729 -- FDR: 0.25\n",
      "NEW BEST\n"
     ]
    },
    {
     "data": {
      "application/vnd.jupyter.widget-view+json": {
       "model_id": "",
       "version_major": 2,
       "version_minor": 0
      },
      "text/plain": [
       "  0%|          | 0/119 [00:00<?, ?it/s]"
      ]
     },
     "metadata": {},
     "output_type": "display_data"
    },
    {
     "name": "stdout",
     "output_type": "stream",
     "text": [
      "Epoch 1 ---- TPR: 0.8722397476340694 -- FDR: 0.16966966966966968\n",
      "NEW BEST\n"
     ]
    },
    {
     "data": {
      "application/vnd.jupyter.widget-view+json": {
       "model_id": "",
       "version_major": 2,
       "version_minor": 0
      },
      "text/plain": [
       "  0%|          | 0/119 [00:00<?, ?it/s]"
      ]
     },
     "metadata": {},
     "output_type": "display_data"
    },
    {
     "name": "stdout",
     "output_type": "stream",
     "text": [
      "Epoch 2 ---- TPR: 0.8170347003154574 -- FDR: 0.10535405872193437\n",
      "NEW BEST\n"
     ]
    },
    {
     "data": {
      "application/vnd.jupyter.widget-view+json": {
       "model_id": "",
       "version_major": 2,
       "version_minor": 0
      },
      "text/plain": [
       "  0%|          | 0/119 [00:00<?, ?it/s]"
      ]
     },
     "metadata": {},
     "output_type": "display_data"
    },
    {
     "name": "stdout",
     "output_type": "stream",
     "text": [
      "Epoch 3 ---- TPR: 0.862776025236593 -- FDR: 0.08985024958402663\n",
      "NEW BEST\n"
     ]
    },
    {
     "data": {
      "application/vnd.jupyter.widget-view+json": {
       "model_id": "",
       "version_major": 2,
       "version_minor": 0
      },
      "text/plain": [
       "  0%|          | 0/119 [00:00<?, ?it/s]"
      ]
     },
     "metadata": {},
     "output_type": "display_data"
    },
    {
     "name": "stdout",
     "output_type": "stream",
     "text": [
      "Epoch 4 ---- TPR: 0.832807570977918 -- FDR: 0.05714285714285714\n",
      "NEW BEST\n"
     ]
    },
    {
     "data": {
      "application/vnd.jupyter.widget-view+json": {
       "model_id": "",
       "version_major": 2,
       "version_minor": 0
      },
      "text/plain": [
       "  0%|          | 0/119 [00:00<?, ?it/s]"
      ]
     },
     "metadata": {},
     "output_type": "display_data"
    },
    {
     "name": "stdout",
     "output_type": "stream",
     "text": [
      "Epoch 5 ---- TPR: 0.88801261829653 -- FDR: 0.08306188925081433\n",
      "NEW BEST\n"
     ]
    },
    {
     "data": {
      "application/vnd.jupyter.widget-view+json": {
       "model_id": "",
       "version_major": 2,
       "version_minor": 0
      },
      "text/plain": [
       "  0%|          | 0/119 [00:00<?, ?it/s]"
      ]
     },
     "metadata": {},
     "output_type": "display_data"
    },
    {
     "name": "stdout",
     "output_type": "stream",
     "text": [
      "Epoch 6 ---- TPR: 0.9211356466876972 -- FDR: 0.1191553544494721\n"
     ]
    },
    {
     "data": {
      "application/vnd.jupyter.widget-view+json": {
       "model_id": "",
       "version_major": 2,
       "version_minor": 0
      },
      "text/plain": [
       "  0%|          | 0/119 [00:00<?, ?it/s]"
      ]
     },
     "metadata": {},
     "output_type": "display_data"
    },
    {
     "name": "stdout",
     "output_type": "stream",
     "text": [
      "Epoch 7 ---- TPR: 0.8801261829652997 -- FDR: 0.07154742096505824\n",
      "NEW BEST\n"
     ]
    },
    {
     "data": {
      "application/vnd.jupyter.widget-view+json": {
       "model_id": "",
       "version_major": 2,
       "version_minor": 0
      },
      "text/plain": [
       "  0%|          | 0/119 [00:00<?, ?it/s]"
      ]
     },
     "metadata": {},
     "output_type": "display_data"
    },
    {
     "name": "stdout",
     "output_type": "stream",
     "text": [
      "Epoch 8 ---- TPR: 0.8690851735015773 -- FDR: 0.05163511187607573\n",
      "NEW BEST\n"
     ]
    },
    {
     "data": {
      "application/vnd.jupyter.widget-view+json": {
       "model_id": "",
       "version_major": 2,
       "version_minor": 0
      },
      "text/plain": [
       "  0%|          | 0/119 [00:00<?, ?it/s]"
      ]
     },
     "metadata": {},
     "output_type": "display_data"
    },
    {
     "name": "stdout",
     "output_type": "stream",
     "text": [
      "Epoch 9 ---- TPR: 0.9116719242902208 -- FDR: 0.07814992025518341\n",
      "NEW BEST\n"
     ]
    },
    {
     "data": {
      "application/vnd.jupyter.widget-view+json": {
       "model_id": "",
       "version_major": 2,
       "version_minor": 0
      },
      "text/plain": [
       "  0%|          | 0/119 [00:00<?, ?it/s]"
      ]
     },
     "metadata": {},
     "output_type": "display_data"
    },
    {
     "name": "stdout",
     "output_type": "stream",
     "text": [
      "Epoch 10 ---- TPR: 0.8706624605678234 -- FDR: 0.059625212947189095\n"
     ]
    },
    {
     "data": {
      "application/vnd.jupyter.widget-view+json": {
       "model_id": "",
       "version_major": 2,
       "version_minor": 0
      },
      "text/plain": [
       "  0%|          | 0/119 [00:00<?, ?it/s]"
      ]
     },
     "metadata": {},
     "output_type": "display_data"
    },
    {
     "name": "stdout",
     "output_type": "stream",
     "text": [
      "Epoch 11 ---- TPR: 0.917981072555205 -- FDR: 0.08201892744479496\n",
      "NEW BEST\n"
     ]
    },
    {
     "data": {
      "application/vnd.jupyter.widget-view+json": {
       "model_id": "",
       "version_major": 2,
       "version_minor": 0
      },
      "text/plain": [
       "  0%|          | 0/119 [00:00<?, ?it/s]"
      ]
     },
     "metadata": {},
     "output_type": "display_data"
    },
    {
     "name": "stdout",
     "output_type": "stream",
     "text": [
      "Epoch 12 ---- TPR: 0.886435331230284 -- FDR: 0.06020066889632107\n"
     ]
    },
    {
     "data": {
      "application/vnd.jupyter.widget-view+json": {
       "model_id": "",
       "version_major": 2,
       "version_minor": 0
      },
      "text/plain": [
       "  0%|          | 0/119 [00:00<?, ?it/s]"
      ]
     },
     "metadata": {},
     "output_type": "display_data"
    },
    {
     "name": "stdout",
     "output_type": "stream",
     "text": [
      "Epoch 13 ---- TPR: 0.8769716088328076 -- FDR: 0.0576271186440678\n"
     ]
    },
    {
     "data": {
      "application/vnd.jupyter.widget-view+json": {
       "model_id": "",
       "version_major": 2,
       "version_minor": 0
      },
      "text/plain": [
       "  0%|          | 0/119 [00:00<?, ?it/s]"
      ]
     },
     "metadata": {},
     "output_type": "display_data"
    },
    {
     "name": "stdout",
     "output_type": "stream",
     "text": [
      "Epoch 14 ---- TPR: 0.8722397476340694 -- FDR: 0.05792163543441227\n"
     ]
    },
    {
     "data": {
      "application/vnd.jupyter.widget-view+json": {
       "model_id": "",
       "version_major": 2,
       "version_minor": 0
      },
      "text/plain": [
       "  0%|          | 0/119 [00:00<?, ?it/s]"
      ]
     },
     "metadata": {},
     "output_type": "display_data"
    },
    {
     "name": "stdout",
     "output_type": "stream",
     "text": [
      "Epoch 15 ---- TPR: 0.8564668769716088 -- FDR: 0.05565217391304348\n"
     ]
    },
    {
     "data": {
      "application/vnd.jupyter.widget-view+json": {
       "model_id": "",
       "version_major": 2,
       "version_minor": 0
      },
      "text/plain": [
       "  0%|          | 0/119 [00:00<?, ?it/s]"
      ]
     },
     "metadata": {},
     "output_type": "display_data"
    },
    {
     "name": "stdout",
     "output_type": "stream",
     "text": [
      "Epoch 16 ---- TPR: 0.919558359621451 -- FDR: 0.08333333333333333\n",
      "NEW BEST\n"
     ]
    },
    {
     "data": {
      "application/vnd.jupyter.widget-view+json": {
       "model_id": "",
       "version_major": 2,
       "version_minor": 0
      },
      "text/plain": [
       "  0%|          | 0/119 [00:00<?, ?it/s]"
      ]
     },
     "metadata": {},
     "output_type": "display_data"
    },
    {
     "name": "stdout",
     "output_type": "stream",
     "text": [
      "Epoch 17 ---- TPR: 0.8738170347003155 -- FDR: 0.056218057921635436\n"
     ]
    },
    {
     "data": {
      "application/vnd.jupyter.widget-view+json": {
       "model_id": "",
       "version_major": 2,
       "version_minor": 0
      },
      "text/plain": [
       "  0%|          | 0/119 [00:00<?, ?it/s]"
      ]
     },
     "metadata": {},
     "output_type": "display_data"
    },
    {
     "name": "stdout",
     "output_type": "stream",
     "text": [
      "Epoch 18 ---- TPR: 0.861198738170347 -- FDR: 0.052083333333333336\n"
     ]
    },
    {
     "data": {
      "application/vnd.jupyter.widget-view+json": {
       "model_id": "",
       "version_major": 2,
       "version_minor": 0
      },
      "text/plain": [
       "  0%|          | 0/119 [00:00<?, ?it/s]"
      ]
     },
     "metadata": {},
     "output_type": "display_data"
    },
    {
     "name": "stdout",
     "output_type": "stream",
     "text": [
      "Epoch 19 ---- TPR: 0.919558359621451 -- FDR: 0.06570512820512821\n",
      "NEW BEST\n"
     ]
    },
    {
     "data": {
      "application/vnd.jupyter.widget-view+json": {
       "model_id": "",
       "version_major": 2,
       "version_minor": 0
      },
      "text/plain": [
       "  0%|          | 0/119 [00:00<?, ?it/s]"
      ]
     },
     "metadata": {},
     "output_type": "display_data"
    },
    {
     "name": "stdout",
     "output_type": "stream",
     "text": [
      "Epoch 20 ---- TPR: 0.9037854889589906 -- FDR: 0.05289256198347107\n"
     ]
    },
    {
     "data": {
      "application/vnd.jupyter.widget-view+json": {
       "model_id": "",
       "version_major": 2,
       "version_minor": 0
      },
      "text/plain": [
       "  0%|          | 0/119 [00:00<?, ?it/s]"
      ]
     },
     "metadata": {},
     "output_type": "display_data"
    },
    {
     "name": "stdout",
     "output_type": "stream",
     "text": [
      "Epoch 21 ---- TPR: 0.8548895899053628 -- FDR: 0.04409171075837742\n"
     ]
    },
    {
     "data": {
      "application/vnd.jupyter.widget-view+json": {
       "model_id": "",
       "version_major": 2,
       "version_minor": 0
      },
      "text/plain": [
       "  0%|          | 0/119 [00:00<?, ?it/s]"
      ]
     },
     "metadata": {},
     "output_type": "display_data"
    },
    {
     "name": "stdout",
     "output_type": "stream",
     "text": [
      "Epoch 22 ---- TPR: 0.8990536277602523 -- FDR: 0.05785123966942149\n"
     ]
    },
    {
     "data": {
      "application/vnd.jupyter.widget-view+json": {
       "model_id": "",
       "version_major": 2,
       "version_minor": 0
      },
      "text/plain": [
       "  0%|          | 0/119 [00:00<?, ?it/s]"
      ]
     },
     "metadata": {},
     "output_type": "display_data"
    },
    {
     "name": "stdout",
     "output_type": "stream",
     "text": [
      "Epoch 23 ---- TPR: 0.9022082018927445 -- FDR: 0.06688417618270799\n"
     ]
    },
    {
     "data": {
      "application/vnd.jupyter.widget-view+json": {
       "model_id": "",
       "version_major": 2,
       "version_minor": 0
      },
      "text/plain": [
       "  0%|          | 0/119 [00:00<?, ?it/s]"
      ]
     },
     "metadata": {},
     "output_type": "display_data"
    },
    {
     "name": "stdout",
     "output_type": "stream",
     "text": [
      "Epoch 24 ---- TPR: 0.8943217665615142 -- FDR: 0.045454545454545456\n"
     ]
    },
    {
     "data": {
      "application/vnd.jupyter.widget-view+json": {
       "model_id": "",
       "version_major": 2,
       "version_minor": 0
      },
      "text/plain": [
       "  0%|          | 0/119 [00:00<?, ?it/s]"
      ]
     },
     "metadata": {},
     "output_type": "display_data"
    },
    {
     "name": "stdout",
     "output_type": "stream",
     "text": [
      "Epoch 25 ---- TPR: 0.8943217665615142 -- FDR: 0.047058823529411764\n"
     ]
    },
    {
     "data": {
      "application/vnd.jupyter.widget-view+json": {
       "model_id": "",
       "version_major": 2,
       "version_minor": 0
      },
      "text/plain": [
       "  0%|          | 0/119 [00:00<?, ?it/s]"
      ]
     },
     "metadata": {},
     "output_type": "display_data"
    },
    {
     "name": "stdout",
     "output_type": "stream",
     "text": [
      "Epoch 26 ---- TPR: 0.9100946372239748 -- FDR: 0.06026058631921824\n"
     ]
    },
    {
     "data": {
      "application/vnd.jupyter.widget-view+json": {
       "model_id": "",
       "version_major": 2,
       "version_minor": 0
      },
      "text/plain": [
       "  0%|          | 0/119 [00:00<?, ?it/s]"
      ]
     },
     "metadata": {},
     "output_type": "display_data"
    },
    {
     "name": "stdout",
     "output_type": "stream",
     "text": [
      "Epoch 27 ---- TPR: 0.8722397476340694 -- FDR: 0.044905008635578586\n"
     ]
    },
    {
     "data": {
      "application/vnd.jupyter.widget-view+json": {
       "model_id": "",
       "version_major": 2,
       "version_minor": 0
      },
      "text/plain": [
       "  0%|          | 0/119 [00:00<?, ?it/s]"
      ]
     },
     "metadata": {},
     "output_type": "display_data"
    },
    {
     "name": "stdout",
     "output_type": "stream",
     "text": [
      "Epoch 28 ---- TPR: 0.8911671924290221 -- FDR: 0.05518394648829431\n"
     ]
    },
    {
     "data": {
      "application/vnd.jupyter.widget-view+json": {
       "model_id": "",
       "version_major": 2,
       "version_minor": 0
      },
      "text/plain": [
       "  0%|          | 0/119 [00:00<?, ?it/s]"
      ]
     },
     "metadata": {},
     "output_type": "display_data"
    },
    {
     "name": "stdout",
     "output_type": "stream",
     "text": [
      "Epoch 29 ---- TPR: 0.8643533123028391 -- FDR: 0.04861111111111111\n"
     ]
    },
    {
     "data": {
      "application/vnd.jupyter.widget-view+json": {
       "model_id": "",
       "version_major": 2,
       "version_minor": 0
      },
      "text/plain": [
       "  0%|          | 0/119 [00:00<?, ?it/s]"
      ]
     },
     "metadata": {},
     "output_type": "display_data"
    },
    {
     "name": "stdout",
     "output_type": "stream",
     "text": [
      "Epoch 30 ---- TPR: 0.916403785488959 -- FDR: 0.061389337641357025\n",
      "NEW BEST\n"
     ]
    },
    {
     "data": {
      "application/vnd.jupyter.widget-view+json": {
       "model_id": "",
       "version_major": 2,
       "version_minor": 0
      },
      "text/plain": [
       "  0%|          | 0/119 [00:00<?, ?it/s]"
      ]
     },
     "metadata": {},
     "output_type": "display_data"
    },
    {
     "name": "stdout",
     "output_type": "stream",
     "text": [
      "Epoch 31 ---- TPR: 0.9006309148264984 -- FDR: 0.06546644844517185\n"
     ]
    },
    {
     "data": {
      "application/vnd.jupyter.widget-view+json": {
       "model_id": "",
       "version_major": 2,
       "version_minor": 0
      },
      "text/plain": [
       "  0%|          | 0/119 [00:00<?, ?it/s]"
      ]
     },
     "metadata": {},
     "output_type": "display_data"
    },
    {
     "name": "stdout",
     "output_type": "stream",
     "text": [
      "Epoch 32 ---- TPR: 0.8517350157728707 -- FDR: 0.03398926654740608\n"
     ]
    },
    {
     "data": {
      "application/vnd.jupyter.widget-view+json": {
       "model_id": "",
       "version_major": 2,
       "version_minor": 0
      },
      "text/plain": [
       "  0%|          | 0/119 [00:00<?, ?it/s]"
      ]
     },
     "metadata": {},
     "output_type": "display_data"
    },
    {
     "name": "stdout",
     "output_type": "stream",
     "text": [
      "Epoch 33 ---- TPR: 0.9148264984227129 -- FDR: 0.06451612903225806\n"
     ]
    },
    {
     "data": {
      "application/vnd.jupyter.widget-view+json": {
       "model_id": "",
       "version_major": 2,
       "version_minor": 0
      },
      "text/plain": [
       "  0%|          | 0/119 [00:00<?, ?it/s]"
      ]
     },
     "metadata": {},
     "output_type": "display_data"
    },
    {
     "name": "stdout",
     "output_type": "stream",
     "text": [
      "Epoch 34 ---- TPR: 0.9100946372239748 -- FDR: 0.061788617886178863\n"
     ]
    },
    {
     "data": {
      "application/vnd.jupyter.widget-view+json": {
       "model_id": "",
       "version_major": 2,
       "version_minor": 0
      },
      "text/plain": [
       "  0%|          | 0/119 [00:00<?, ?it/s]"
      ]
     },
     "metadata": {},
     "output_type": "display_data"
    },
    {
     "name": "stdout",
     "output_type": "stream",
     "text": [
      "Epoch 35 ---- TPR: 0.889589905362776 -- FDR: 0.056856187290969896\n"
     ]
    },
    {
     "data": {
      "application/vnd.jupyter.widget-view+json": {
       "model_id": "",
       "version_major": 2,
       "version_minor": 0
      },
      "text/plain": [
       "  0%|          | 0/119 [00:00<?, ?it/s]"
      ]
     },
     "metadata": {},
     "output_type": "display_data"
    },
    {
     "name": "stdout",
     "output_type": "stream",
     "text": [
      "Epoch 36 ---- TPR: 0.9148264984227129 -- FDR: 0.07051282051282051\n"
     ]
    },
    {
     "data": {
      "application/vnd.jupyter.widget-view+json": {
       "model_id": "",
       "version_major": 2,
       "version_minor": 0
      },
      "text/plain": [
       "  0%|          | 0/119 [00:00<?, ?it/s]"
      ]
     },
     "metadata": {},
     "output_type": "display_data"
    },
    {
     "name": "stdout",
     "output_type": "stream",
     "text": [
      "Epoch 37 ---- TPR: 0.9006309148264984 -- FDR: 0.05930807248764415\n"
     ]
    },
    {
     "data": {
      "application/vnd.jupyter.widget-view+json": {
       "model_id": "",
       "version_major": 2,
       "version_minor": 0
      },
      "text/plain": [
       "  0%|          | 0/119 [00:00<?, ?it/s]"
      ]
     },
     "metadata": {},
     "output_type": "display_data"
    },
    {
     "name": "stdout",
     "output_type": "stream",
     "text": [
      "Epoch 38 ---- TPR: 0.9069400630914827 -- FDR: 0.054276315789473686\n"
     ]
    },
    {
     "data": {
      "application/vnd.jupyter.widget-view+json": {
       "model_id": "",
       "version_major": 2,
       "version_minor": 0
      },
      "text/plain": [
       "  0%|          | 0/119 [00:00<?, ?it/s]"
      ]
     },
     "metadata": {},
     "output_type": "display_data"
    },
    {
     "name": "stdout",
     "output_type": "stream",
     "text": [
      "Epoch 39 ---- TPR: 0.8848580441640379 -- FDR: 0.04753820033955857\n"
     ]
    },
    {
     "data": {
      "application/vnd.jupyter.widget-view+json": {
       "model_id": "",
       "version_major": 2,
       "version_minor": 0
      },
      "text/plain": [
       "  0%|          | 0/119 [00:00<?, ?it/s]"
      ]
     },
     "metadata": {},
     "output_type": "display_data"
    },
    {
     "name": "stdout",
     "output_type": "stream",
     "text": [
      "Epoch 40 ---- TPR: 0.9069400630914827 -- FDR: 0.05737704918032787\n"
     ]
    },
    {
     "data": {
      "application/vnd.jupyter.widget-view+json": {
       "model_id": "",
       "version_major": 2,
       "version_minor": 0
      },
      "text/plain": [
       "  0%|          | 0/119 [00:00<?, ?it/s]"
      ]
     },
     "metadata": {},
     "output_type": "display_data"
    },
    {
     "name": "stdout",
     "output_type": "stream",
     "text": [
      "Epoch 41 ---- TPR: 0.9085173501577287 -- FDR: 0.06493506493506493\n"
     ]
    },
    {
     "data": {
      "application/vnd.jupyter.widget-view+json": {
       "model_id": "",
       "version_major": 2,
       "version_minor": 0
      },
      "text/plain": [
       "  0%|          | 0/119 [00:00<?, ?it/s]"
      ]
     },
     "metadata": {},
     "output_type": "display_data"
    },
    {
     "name": "stdout",
     "output_type": "stream",
     "text": [
      "Epoch 42 ---- TPR: 0.9132492113564669 -- FDR: 0.06310679611650485\n"
     ]
    },
    {
     "data": {
      "application/vnd.jupyter.widget-view+json": {
       "model_id": "",
       "version_major": 2,
       "version_minor": 0
      },
      "text/plain": [
       "  0%|          | 0/119 [00:00<?, ?it/s]"
      ]
     },
     "metadata": {},
     "output_type": "display_data"
    },
    {
     "name": "stdout",
     "output_type": "stream",
     "text": [
      "Epoch 43 ---- TPR: 0.8943217665615142 -- FDR: 0.05970149253731343\n"
     ]
    },
    {
     "data": {
      "application/vnd.jupyter.widget-view+json": {
       "model_id": "",
       "version_major": 2,
       "version_minor": 0
      },
      "text/plain": [
       "  0%|          | 0/119 [00:00<?, ?it/s]"
      ]
     },
     "metadata": {},
     "output_type": "display_data"
    },
    {
     "name": "stdout",
     "output_type": "stream",
     "text": [
      "Epoch 44 ---- TPR: 0.8580441640378549 -- FDR: 0.038869257950530034\n"
     ]
    },
    {
     "data": {
      "application/vnd.jupyter.widget-view+json": {
       "model_id": "",
       "version_major": 2,
       "version_minor": 0
      },
      "text/plain": [
       "  0%|          | 0/119 [00:00<?, ?it/s]"
      ]
     },
     "metadata": {},
     "output_type": "display_data"
    },
    {
     "name": "stdout",
     "output_type": "stream",
     "text": [
      "Epoch 45 ---- TPR: 0.8832807570977917 -- FDR: 0.04923599320882852\n"
     ]
    },
    {
     "data": {
      "application/vnd.jupyter.widget-view+json": {
       "model_id": "",
       "version_major": 2,
       "version_minor": 0
      },
      "text/plain": [
       "  0%|          | 0/119 [00:00<?, ?it/s]"
      ]
     },
     "metadata": {},
     "output_type": "display_data"
    },
    {
     "name": "stdout",
     "output_type": "stream",
     "text": [
      "Epoch 46 ---- TPR: 0.8690851735015773 -- FDR: 0.04835924006908463\n"
     ]
    },
    {
     "data": {
      "application/vnd.jupyter.widget-view+json": {
       "model_id": "",
       "version_major": 2,
       "version_minor": 0
      },
      "text/plain": [
       "  0%|          | 0/119 [00:00<?, ?it/s]"
      ]
     },
     "metadata": {},
     "output_type": "display_data"
    },
    {
     "name": "stdout",
     "output_type": "stream",
     "text": [
      "Epoch 47 ---- TPR: 0.9227129337539433 -- FDR: 0.0625\n",
      "NEW BEST\n"
     ]
    },
    {
     "data": {
      "application/vnd.jupyter.widget-view+json": {
       "model_id": "",
       "version_major": 2,
       "version_minor": 0
      },
      "text/plain": [
       "  0%|          | 0/119 [00:00<?, ?it/s]"
      ]
     },
     "metadata": {},
     "output_type": "display_data"
    },
    {
     "name": "stdout",
     "output_type": "stream",
     "text": [
      "Epoch 48 ---- TPR: 0.88801261829653 -- FDR: 0.050590219224283306\n"
     ]
    },
    {
     "data": {
      "application/vnd.jupyter.widget-view+json": {
       "model_id": "",
       "version_major": 2,
       "version_minor": 0
      },
      "text/plain": [
       "  0%|          | 0/119 [00:00<?, ?it/s]"
      ]
     },
     "metadata": {},
     "output_type": "display_data"
    },
    {
     "name": "stdout",
     "output_type": "stream",
     "text": [
      "Epoch 49 ---- TPR: 0.88801261829653 -- FDR: 0.05218855218855219\n"
     ]
    },
    {
     "data": {
      "application/vnd.jupyter.widget-view+json": {
       "model_id": "",
       "version_major": 2,
       "version_minor": 0
      },
      "text/plain": [
       "  0%|          | 0/119 [00:00<?, ?it/s]"
      ]
     },
     "metadata": {},
     "output_type": "display_data"
    },
    {
     "name": "stdout",
     "output_type": "stream",
     "text": [
      "Epoch 50 ---- TPR: 0.88801261829653 -- FDR: 0.044142614601018676\n"
     ]
    },
    {
     "data": {
      "application/vnd.jupyter.widget-view+json": {
       "model_id": "",
       "version_major": 2,
       "version_minor": 0
      },
      "text/plain": [
       "  0%|          | 0/119 [00:00<?, ?it/s]"
      ]
     },
     "metadata": {},
     "output_type": "display_data"
    },
    {
     "name": "stdout",
     "output_type": "stream",
     "text": [
      "Epoch 51 ---- TPR: 0.9037854889589906 -- FDR: 0.059113300492610835\n"
     ]
    },
    {
     "data": {
      "application/vnd.jupyter.widget-view+json": {
       "model_id": "",
       "version_major": 2,
       "version_minor": 0
      },
      "text/plain": [
       "  0%|          | 0/119 [00:00<?, ?it/s]"
      ]
     },
     "metadata": {},
     "output_type": "display_data"
    },
    {
     "name": "stdout",
     "output_type": "stream",
     "text": [
      "Epoch 52 ---- TPR: 0.8943217665615142 -- FDR: 0.04384485666104553\n"
     ]
    },
    {
     "data": {
      "application/vnd.jupyter.widget-view+json": {
       "model_id": "",
       "version_major": 2,
       "version_minor": 0
      },
      "text/plain": [
       "  0%|          | 0/119 [00:00<?, ?it/s]"
      ]
     },
     "metadata": {},
     "output_type": "display_data"
    },
    {
     "name": "stdout",
     "output_type": "stream",
     "text": [
      "Epoch 53 ---- TPR: 0.8958990536277602 -- FDR: 0.05175292153589316\n"
     ]
    },
    {
     "data": {
      "application/vnd.jupyter.widget-view+json": {
       "model_id": "",
       "version_major": 2,
       "version_minor": 0
      },
      "text/plain": [
       "  0%|          | 0/119 [00:00<?, ?it/s]"
      ]
     },
     "metadata": {},
     "output_type": "display_data"
    },
    {
     "name": "stdout",
     "output_type": "stream",
     "text": [
      "Epoch 54 ---- TPR: 0.9258675078864353 -- FDR: 0.06677265500794913\n"
     ]
    },
    {
     "data": {
      "application/vnd.jupyter.widget-view+json": {
       "model_id": "",
       "version_major": 2,
       "version_minor": 0
      },
      "text/plain": [
       "  0%|          | 0/119 [00:00<?, ?it/s]"
      ]
     },
     "metadata": {},
     "output_type": "display_data"
    },
    {
     "name": "stdout",
     "output_type": "stream",
     "text": [
      "Epoch 55 ---- TPR: 0.8848580441640379 -- FDR: 0.04591836734693878\n"
     ]
    },
    {
     "data": {
      "application/vnd.jupyter.widget-view+json": {
       "model_id": "",
       "version_major": 2,
       "version_minor": 0
      },
      "text/plain": [
       "  0%|          | 0/119 [00:00<?, ?it/s]"
      ]
     },
     "metadata": {},
     "output_type": "display_data"
    },
    {
     "name": "stdout",
     "output_type": "stream",
     "text": [
      "Epoch 56 ---- TPR: 0.8801261829652997 -- FDR: 0.03460207612456748\n"
     ]
    },
    {
     "data": {
      "application/vnd.jupyter.widget-view+json": {
       "model_id": "",
       "version_major": 2,
       "version_minor": 0
      },
      "text/plain": [
       "  0%|          | 0/119 [00:00<?, ?it/s]"
      ]
     },
     "metadata": {},
     "output_type": "display_data"
    },
    {
     "name": "stdout",
     "output_type": "stream",
     "text": [
      "Epoch 57 ---- TPR: 0.8990536277602523 -- FDR: 0.0436241610738255\n"
     ]
    },
    {
     "data": {
      "application/vnd.jupyter.widget-view+json": {
       "model_id": "",
       "version_major": 2,
       "version_minor": 0
      },
      "text/plain": [
       "  0%|          | 0/119 [00:00<?, ?it/s]"
      ]
     },
     "metadata": {},
     "output_type": "display_data"
    },
    {
     "name": "stdout",
     "output_type": "stream",
     "text": [
      "Epoch 58 ---- TPR: 0.8769716088328076 -- FDR: 0.044673539518900345\n"
     ]
    },
    {
     "data": {
      "application/vnd.jupyter.widget-view+json": {
       "model_id": "",
       "version_major": 2,
       "version_minor": 0
      },
      "text/plain": [
       "  0%|          | 0/119 [00:00<?, ?it/s]"
      ]
     },
     "metadata": {},
     "output_type": "display_data"
    },
    {
     "name": "stdout",
     "output_type": "stream",
     "text": [
      "Epoch 59 ---- TPR: 0.8911671924290221 -- FDR: 0.047217537942664416\n"
     ]
    },
    {
     "data": {
      "application/vnd.jupyter.widget-view+json": {
       "model_id": "",
       "version_major": 2,
       "version_minor": 0
      },
      "text/plain": [
       "  0%|          | 0/119 [00:00<?, ?it/s]"
      ]
     },
     "metadata": {},
     "output_type": "display_data"
    },
    {
     "name": "stdout",
     "output_type": "stream",
     "text": [
      "Epoch 60 ---- TPR: 0.88801261829653 -- FDR: 0.047377326565143825\n"
     ]
    },
    {
     "data": {
      "application/vnd.jupyter.widget-view+json": {
       "model_id": "",
       "version_major": 2,
       "version_minor": 0
      },
      "text/plain": [
       "  0%|          | 0/119 [00:00<?, ?it/s]"
      ]
     },
     "metadata": {},
     "output_type": "display_data"
    },
    {
     "name": "stdout",
     "output_type": "stream",
     "text": [
      "Epoch 61 ---- TPR: 0.8927444794952681 -- FDR: 0.045531197301854974\n"
     ]
    },
    {
     "data": {
      "application/vnd.jupyter.widget-view+json": {
       "model_id": "",
       "version_major": 2,
       "version_minor": 0
      },
      "text/plain": [
       "  0%|          | 0/119 [00:00<?, ?it/s]"
      ]
     },
     "metadata": {},
     "output_type": "display_data"
    },
    {
     "name": "stdout",
     "output_type": "stream",
     "text": [
      "Epoch 62 ---- TPR: 0.8801261829652997 -- FDR: 0.039586919104991396\n"
     ]
    },
    {
     "data": {
      "application/vnd.jupyter.widget-view+json": {
       "model_id": "",
       "version_major": 2,
       "version_minor": 0
      },
      "text/plain": [
       "  0%|          | 0/119 [00:00<?, ?it/s]"
      ]
     },
     "metadata": {},
     "output_type": "display_data"
    },
    {
     "name": "stdout",
     "output_type": "stream",
     "text": [
      "Epoch 63 ---- TPR: 0.8990536277602523 -- FDR: 0.04201680672268908\n"
     ]
    },
    {
     "data": {
      "application/vnd.jupyter.widget-view+json": {
       "model_id": "",
       "version_major": 2,
       "version_minor": 0
      },
      "text/plain": [
       "  0%|          | 0/119 [00:00<?, ?it/s]"
      ]
     },
     "metadata": {},
     "output_type": "display_data"
    },
    {
     "name": "stdout",
     "output_type": "stream",
     "text": [
      "Epoch 64 ---- TPR: 0.8990536277602523 -- FDR: 0.04040404040404041\n"
     ]
    },
    {
     "data": {
      "application/vnd.jupyter.widget-view+json": {
       "model_id": "",
       "version_major": 2,
       "version_minor": 0
      },
      "text/plain": [
       "  0%|          | 0/119 [00:00<?, ?it/s]"
      ]
     },
     "metadata": {},
     "output_type": "display_data"
    },
    {
     "name": "stdout",
     "output_type": "stream",
     "text": [
      "Epoch 65 ---- TPR: 0.919558359621451 -- FDR: 0.05357142857142857\n",
      "NEW BEST\n"
     ]
    },
    {
     "data": {
      "application/vnd.jupyter.widget-view+json": {
       "model_id": "",
       "version_major": 2,
       "version_minor": 0
      },
      "text/plain": [
       "  0%|          | 0/119 [00:00<?, ?it/s]"
      ]
     },
     "metadata": {},
     "output_type": "display_data"
    },
    {
     "name": "stdout",
     "output_type": "stream",
     "text": [
      "Epoch 66 ---- TPR: 0.9022082018927445 -- FDR: 0.048252911813643926\n"
     ]
    },
    {
     "data": {
      "application/vnd.jupyter.widget-view+json": {
       "model_id": "",
       "version_major": 2,
       "version_minor": 0
      },
      "text/plain": [
       "  0%|          | 0/119 [00:00<?, ?it/s]"
      ]
     },
     "metadata": {},
     "output_type": "display_data"
    },
    {
     "name": "stdout",
     "output_type": "stream",
     "text": [
      "Epoch 67 ---- TPR: 0.9132492113564669 -- FDR: 0.05392156862745098\n"
     ]
    },
    {
     "data": {
      "application/vnd.jupyter.widget-view+json": {
       "model_id": "",
       "version_major": 2,
       "version_minor": 0
      },
      "text/plain": [
       "  0%|          | 0/119 [00:00<?, ?it/s]"
      ]
     },
     "metadata": {},
     "output_type": "display_data"
    },
    {
     "name": "stdout",
     "output_type": "stream",
     "text": [
      "Epoch 68 ---- TPR: 0.8832807570977917 -- FDR: 0.042735042735042736\n"
     ]
    },
    {
     "data": {
      "application/vnd.jupyter.widget-view+json": {
       "model_id": "",
       "version_major": 2,
       "version_minor": 0
      },
      "text/plain": [
       "  0%|          | 0/119 [00:00<?, ?it/s]"
      ]
     },
     "metadata": {},
     "output_type": "display_data"
    },
    {
     "name": "stdout",
     "output_type": "stream",
     "text": [
      "Epoch 69 ---- TPR: 0.8769716088328076 -- FDR: 0.04794520547945205\n"
     ]
    },
    {
     "data": {
      "application/vnd.jupyter.widget-view+json": {
       "model_id": "",
       "version_major": 2,
       "version_minor": 0
      },
      "text/plain": [
       "  0%|          | 0/119 [00:00<?, ?it/s]"
      ]
     },
     "metadata": {},
     "output_type": "display_data"
    },
    {
     "name": "stdout",
     "output_type": "stream",
     "text": [
      "Epoch 70 ---- TPR: 0.8785488958990536 -- FDR: 0.04130808950086059\n"
     ]
    },
    {
     "data": {
      "application/vnd.jupyter.widget-view+json": {
       "model_id": "",
       "version_major": 2,
       "version_minor": 0
      },
      "text/plain": [
       "  0%|          | 0/119 [00:00<?, ?it/s]"
      ]
     },
     "metadata": {},
     "output_type": "display_data"
    },
    {
     "name": "stdout",
     "output_type": "stream",
     "text": [
      "Epoch 71 ---- TPR: 0.9100946372239748 -- FDR: 0.052545155993431854\n"
     ]
    },
    {
     "data": {
      "application/vnd.jupyter.widget-view+json": {
       "model_id": "",
       "version_major": 2,
       "version_minor": 0
      },
      "text/plain": [
       "  0%|          | 0/119 [00:00<?, ?it/s]"
      ]
     },
     "metadata": {},
     "output_type": "display_data"
    },
    {
     "name": "stdout",
     "output_type": "stream",
     "text": [
      "Epoch 72 ---- TPR: 0.9227129337539433 -- FDR: 0.05339805825242718\n",
      "NEW BEST\n"
     ]
    },
    {
     "data": {
      "application/vnd.jupyter.widget-view+json": {
       "model_id": "",
       "version_major": 2,
       "version_minor": 0
      },
      "text/plain": [
       "  0%|          | 0/119 [00:00<?, ?it/s]"
      ]
     },
     "metadata": {},
     "output_type": "display_data"
    },
    {
     "name": "stdout",
     "output_type": "stream",
     "text": [
      "Epoch 73 ---- TPR: 0.9148264984227129 -- FDR: 0.046052631578947366\n"
     ]
    },
    {
     "data": {
      "application/vnd.jupyter.widget-view+json": {
       "model_id": "",
       "version_major": 2,
       "version_minor": 0
      },
      "text/plain": [
       "  0%|          | 0/119 [00:00<?, ?it/s]"
      ]
     },
     "metadata": {},
     "output_type": "display_data"
    },
    {
     "name": "stdout",
     "output_type": "stream",
     "text": [
      "Epoch 74 ---- TPR: 0.9037854889589906 -- FDR: 0.04817275747508306\n"
     ]
    },
    {
     "data": {
      "application/vnd.jupyter.widget-view+json": {
       "model_id": "",
       "version_major": 2,
       "version_minor": 0
      },
      "text/plain": [
       "  0%|          | 0/119 [00:00<?, ?it/s]"
      ]
     },
     "metadata": {},
     "output_type": "display_data"
    },
    {
     "name": "stdout",
     "output_type": "stream",
     "text": [
      "Epoch 75 ---- TPR: 0.8990536277602523 -- FDR: 0.05\n"
     ]
    },
    {
     "data": {
      "application/vnd.jupyter.widget-view+json": {
       "model_id": "",
       "version_major": 2,
       "version_minor": 0
      },
      "text/plain": [
       "  0%|          | 0/119 [00:00<?, ?it/s]"
      ]
     },
     "metadata": {},
     "output_type": "display_data"
    },
    {
     "name": "stdout",
     "output_type": "stream",
     "text": [
      "Epoch 76 ---- TPR: 0.9053627760252366 -- FDR: 0.04966887417218543\n"
     ]
    },
    {
     "data": {
      "application/vnd.jupyter.widget-view+json": {
       "model_id": "",
       "version_major": 2,
       "version_minor": 0
      },
      "text/plain": [
       "  0%|          | 0/119 [00:00<?, ?it/s]"
      ]
     },
     "metadata": {},
     "output_type": "display_data"
    },
    {
     "name": "stdout",
     "output_type": "stream",
     "text": [
      "Epoch 77 ---- TPR: 0.9116719242902208 -- FDR: 0.049342105263157895\n"
     ]
    },
    {
     "data": {
      "application/vnd.jupyter.widget-view+json": {
       "model_id": "",
       "version_major": 2,
       "version_minor": 0
      },
      "text/plain": [
       "  0%|          | 0/119 [00:00<?, ?it/s]"
      ]
     },
     "metadata": {},
     "output_type": "display_data"
    },
    {
     "name": "stdout",
     "output_type": "stream",
     "text": [
      "Epoch 78 ---- TPR: 0.88801261829653 -- FDR: 0.04088586030664395\n"
     ]
    },
    {
     "data": {
      "application/vnd.jupyter.widget-view+json": {
       "model_id": "",
       "version_major": 2,
       "version_minor": 0
      },
      "text/plain": [
       "  0%|          | 0/119 [00:00<?, ?it/s]"
      ]
     },
     "metadata": {},
     "output_type": "display_data"
    },
    {
     "name": "stdout",
     "output_type": "stream",
     "text": [
      "Epoch 79 ---- TPR: 0.8785488958990536 -- FDR: 0.04130808950086059\n"
     ]
    },
    {
     "data": {
      "application/vnd.jupyter.widget-view+json": {
       "model_id": "",
       "version_major": 2,
       "version_minor": 0
      },
      "text/plain": [
       "  0%|          | 0/119 [00:00<?, ?it/s]"
      ]
     },
     "metadata": {},
     "output_type": "display_data"
    },
    {
     "name": "stdout",
     "output_type": "stream",
     "text": [
      "Epoch 80 ---- TPR: 0.8958990536277602 -- FDR: 0.0453781512605042\n"
     ]
    },
    {
     "data": {
      "application/vnd.jupyter.widget-view+json": {
       "model_id": "",
       "version_major": 2,
       "version_minor": 0
      },
      "text/plain": [
       "  0%|          | 0/119 [00:00<?, ?it/s]"
      ]
     },
     "metadata": {},
     "output_type": "display_data"
    },
    {
     "name": "stdout",
     "output_type": "stream",
     "text": [
      "Epoch 81 ---- TPR: 0.8990536277602523 -- FDR: 0.0387858347386172\n"
     ]
    },
    {
     "data": {
      "application/vnd.jupyter.widget-view+json": {
       "model_id": "",
       "version_major": 2,
       "version_minor": 0
      },
      "text/plain": [
       "  0%|          | 0/119 [00:00<?, ?it/s]"
      ]
     },
     "metadata": {},
     "output_type": "display_data"
    },
    {
     "name": "stdout",
     "output_type": "stream",
     "text": [
      "Epoch 82 ---- TPR: 0.9116719242902208 -- FDR: 0.04304635761589404\n"
     ]
    },
    {
     "data": {
      "application/vnd.jupyter.widget-view+json": {
       "model_id": "",
       "version_major": 2,
       "version_minor": 0
      },
      "text/plain": [
       "  0%|          | 0/119 [00:00<?, ?it/s]"
      ]
     },
     "metadata": {},
     "output_type": "display_data"
    },
    {
     "name": "stdout",
     "output_type": "stream",
     "text": [
      "Epoch 83 ---- TPR: 0.917981072555205 -- FDR: 0.05672609400324149\n"
     ]
    },
    {
     "data": {
      "application/vnd.jupyter.widget-view+json": {
       "model_id": "",
       "version_major": 2,
       "version_minor": 0
      },
      "text/plain": [
       "  0%|          | 0/119 [00:00<?, ?it/s]"
      ]
     },
     "metadata": {},
     "output_type": "display_data"
    },
    {
     "name": "stdout",
     "output_type": "stream",
     "text": [
      "Epoch 84 ---- TPR: 0.88801261829653 -- FDR: 0.037606837606837605\n"
     ]
    },
    {
     "data": {
      "application/vnd.jupyter.widget-view+json": {
       "model_id": "",
       "version_major": 2,
       "version_minor": 0
      },
      "text/plain": [
       "  0%|          | 0/119 [00:00<?, ?it/s]"
      ]
     },
     "metadata": {},
     "output_type": "display_data"
    },
    {
     "name": "stdout",
     "output_type": "stream",
     "text": [
      "Epoch 85 ---- TPR: 0.8990536277602523 -- FDR: 0.04040404040404041\n"
     ]
    },
    {
     "data": {
      "application/vnd.jupyter.widget-view+json": {
       "model_id": "",
       "version_major": 2,
       "version_minor": 0
      },
      "text/plain": [
       "  0%|          | 0/119 [00:00<?, ?it/s]"
      ]
     },
     "metadata": {},
     "output_type": "display_data"
    },
    {
     "name": "stdout",
     "output_type": "stream",
     "text": [
      "Epoch 86 ---- TPR: 0.9022082018927445 -- FDR: 0.04187604690117253\n"
     ]
    },
    {
     "data": {
      "application/vnd.jupyter.widget-view+json": {
       "model_id": "",
       "version_major": 2,
       "version_minor": 0
      },
      "text/plain": [
       "  0%|          | 0/119 [00:00<?, ?it/s]"
      ]
     },
     "metadata": {},
     "output_type": "display_data"
    },
    {
     "name": "stdout",
     "output_type": "stream",
     "text": [
      "Epoch 87 ---- TPR: 0.9085173501577287 -- FDR: 0.051070840197693576\n"
     ]
    },
    {
     "data": {
      "application/vnd.jupyter.widget-view+json": {
       "model_id": "",
       "version_major": 2,
       "version_minor": 0
      },
      "text/plain": [
       "  0%|          | 0/119 [00:00<?, ?it/s]"
      ]
     },
     "metadata": {},
     "output_type": "display_data"
    },
    {
     "name": "stdout",
     "output_type": "stream",
     "text": [
      "Epoch 88 ---- TPR: 0.9116719242902208 -- FDR: 0.04462809917355372\n"
     ]
    },
    {
     "data": {
      "application/vnd.jupyter.widget-view+json": {
       "model_id": "",
       "version_major": 2,
       "version_minor": 0
      },
      "text/plain": [
       "  0%|          | 0/119 [00:00<?, ?it/s]"
      ]
     },
     "metadata": {},
     "output_type": "display_data"
    },
    {
     "name": "stdout",
     "output_type": "stream",
     "text": [
      "Epoch 89 ---- TPR: 0.8974763406940063 -- FDR: 0.043697478991596636\n"
     ]
    },
    {
     "data": {
      "application/vnd.jupyter.widget-view+json": {
       "model_id": "",
       "version_major": 2,
       "version_minor": 0
      },
      "text/plain": [
       "  0%|          | 0/119 [00:00<?, ?it/s]"
      ]
     },
     "metadata": {},
     "output_type": "display_data"
    },
    {
     "name": "stdout",
     "output_type": "stream",
     "text": [
      "Epoch 90 ---- TPR: 0.9337539432176656 -- FDR: 0.058823529411764705\n",
      "NEW BEST\n"
     ]
    },
    {
     "data": {
      "application/vnd.jupyter.widget-view+json": {
       "model_id": "",
       "version_major": 2,
       "version_minor": 0
      },
      "text/plain": [
       "  0%|          | 0/119 [00:00<?, ?it/s]"
      ]
     },
     "metadata": {},
     "output_type": "display_data"
    },
    {
     "name": "stdout",
     "output_type": "stream",
     "text": [
      "Epoch 91 ---- TPR: 0.8958990536277602 -- FDR: 0.04215851602023609\n"
     ]
    },
    {
     "data": {
      "application/vnd.jupyter.widget-view+json": {
       "model_id": "",
       "version_major": 2,
       "version_minor": 0
      },
      "text/plain": [
       "  0%|          | 0/119 [00:00<?, ?it/s]"
      ]
     },
     "metadata": {},
     "output_type": "display_data"
    },
    {
     "name": "stdout",
     "output_type": "stream",
     "text": [
      "Epoch 92 ---- TPR: 0.889589905362776 -- FDR: 0.04081632653061224\n"
     ]
    },
    {
     "data": {
      "application/vnd.jupyter.widget-view+json": {
       "model_id": "",
       "version_major": 2,
       "version_minor": 0
      },
      "text/plain": [
       "  0%|          | 0/119 [00:00<?, ?it/s]"
      ]
     },
     "metadata": {},
     "output_type": "display_data"
    },
    {
     "name": "stdout",
     "output_type": "stream",
     "text": [
      "Epoch 93 ---- TPR: 0.9085173501577287 -- FDR: 0.04477611940298507\n"
     ]
    },
    {
     "data": {
      "application/vnd.jupyter.widget-view+json": {
       "model_id": "",
       "version_major": 2,
       "version_minor": 0
      },
      "text/plain": [
       "  0%|          | 0/119 [00:00<?, ?it/s]"
      ]
     },
     "metadata": {},
     "output_type": "display_data"
    },
    {
     "name": "stdout",
     "output_type": "stream",
     "text": [
      "Epoch 94 ---- TPR: 0.9037854889589906 -- FDR: 0.04340567612687813\n"
     ]
    },
    {
     "data": {
      "application/vnd.jupyter.widget-view+json": {
       "model_id": "",
       "version_major": 2,
       "version_minor": 0
      },
      "text/plain": [
       "  0%|          | 0/119 [00:00<?, ?it/s]"
      ]
     },
     "metadata": {},
     "output_type": "display_data"
    },
    {
     "name": "stdout",
     "output_type": "stream",
     "text": [
      "Epoch 95 ---- TPR: 0.8817034700315457 -- FDR: 0.03620689655172414\n"
     ]
    },
    {
     "data": {
      "application/vnd.jupyter.widget-view+json": {
       "model_id": "",
       "version_major": 2,
       "version_minor": 0
      },
      "text/plain": [
       "  0%|          | 0/119 [00:00<?, ?it/s]"
      ]
     },
     "metadata": {},
     "output_type": "display_data"
    },
    {
     "name": "stdout",
     "output_type": "stream",
     "text": [
      "Epoch 96 ---- TPR: 0.9053627760252366 -- FDR: 0.04809286898839138\n"
     ]
    },
    {
     "data": {
      "application/vnd.jupyter.widget-view+json": {
       "model_id": "",
       "version_major": 2,
       "version_minor": 0
      },
      "text/plain": [
       "  0%|          | 0/119 [00:00<?, ?it/s]"
      ]
     },
     "metadata": {},
     "output_type": "display_data"
    },
    {
     "name": "stdout",
     "output_type": "stream",
     "text": [
      "Epoch 97 ---- TPR: 0.9006309148264984 -- FDR: 0.040336134453781515\n"
     ]
    },
    {
     "data": {
      "application/vnd.jupyter.widget-view+json": {
       "model_id": "",
       "version_major": 2,
       "version_minor": 0
      },
      "text/plain": [
       "  0%|          | 0/119 [00:00<?, ?it/s]"
      ]
     },
     "metadata": {},
     "output_type": "display_data"
    },
    {
     "name": "stdout",
     "output_type": "stream",
     "text": [
      "Epoch 98 ---- TPR: 0.88801261829653 -- FDR: 0.04088586030664395\n"
     ]
    },
    {
     "data": {
      "application/vnd.jupyter.widget-view+json": {
       "model_id": "",
       "version_major": 2,
       "version_minor": 0
      },
      "text/plain": [
       "  0%|          | 0/119 [00:00<?, ?it/s]"
      ]
     },
     "metadata": {},
     "output_type": "display_data"
    },
    {
     "name": "stdout",
     "output_type": "stream",
     "text": [
      "Epoch 99 ---- TPR: 0.8832807570977917 -- FDR: 0.034482758620689655\n"
     ]
    }
   ],
   "source": [
    "training_losses = []\n",
    "val_tpr = []\n",
    "val_fdr = []\n",
    "EPOCHS = 100\n",
    "\n",
    "best_metric = 0\n",
    "# training loop\n",
    "for epoch in trange(EPOCHS):\n",
    "    training_loss, mean_loss = train(net, 'cuda', train_loader, optimizer)\n",
    "    tpr, fdr = test(net, 'cuda', eval_loader, eval_labels, epoch)\n",
    "    training_losses += training_loss\n",
    "    val_tpr.append(tpr)\n",
    "    val_fdr.append(fdr)\n",
    "    print('Epoch {} ---- TPR: {} -- FDR: {}'.format(epoch, tpr, fdr))\n",
    "    if tpr-fdr > best_metric:\n",
    "        torch.save({\n",
    "            'epoch': epoch,\n",
    "            'model_state_dict': net.state_dict(),\n",
    "            'optimizer_state_dict': optimizer.state_dict(),\n",
    "            'tpr': tpr,\n",
    "            'fdr': fdr,\n",
    "            }, 'Virgo2Fornax--CNN--best')\n",
    "        best_metric = tpr-fdr\n",
    "        print('NEW BEST')"
   ]
  },
  {
   "cell_type": "markdown",
   "id": "0a932e29",
   "metadata": {},
   "source": [
    "### Load the model that performed best on validation data"
   ]
  },
  {
   "cell_type": "code",
   "execution_count": 7,
   "id": "36fbad59",
   "metadata": {},
   "outputs": [
    {
     "data": {
      "text/plain": [
       "<All keys matched successfully>"
      ]
     },
     "execution_count": 7,
     "metadata": {},
     "output_type": "execute_result"
    }
   ],
   "source": [
    "loaded_net = CNN()\n",
    "checkpoint = torch.load('Virgo2Fornax--CNN')\n",
    "loaded_net.load_state_dict(checkpoint['model_state_dict'])\n",
    "loaded_net.cuda()"
   ]
  },
  {
   "cell_type": "markdown",
   "id": "58bcf83c",
   "metadata": {},
   "source": [
    "### Evaluate the model on the test data"
   ]
  },
  {
   "cell_type": "code",
   "execution_count": 11,
   "id": "1118b140",
   "metadata": {},
   "outputs": [
    {
     "data": {
      "application/vnd.jupyter.widget-view+json": {
       "model_id": "85fb21257f6c4a9b928001931139ae38",
       "version_major": 2,
       "version_minor": 0
      },
      "text/plain": [
       "  0%|          | 0/200 [00:00<?, ?it/s]"
      ]
     },
     "metadata": {},
     "output_type": "display_data"
    }
   ],
   "source": [
    "loaded_net.train()\n",
    "res = []\n",
    "\n",
    "for i in tqdm(range(200)):\n",
    "    pred = []\n",
    "    for x,y in test_loader:\n",
    "        xout, _ = loaded_net(x.cuda())\n",
    "        xout = xout.flatten().cpu().detach().numpy()\n",
    "        pred += list(xout)\n",
    "    pred = np.array(pred)\n",
    "    res.append(pred)"
   ]
  },
  {
   "cell_type": "code",
   "execution_count": 12,
   "id": "8a0c45d5",
   "metadata": {},
   "outputs": [],
   "source": [
    "nn = np.mean(res, axis=0)\n",
    "nstd = np.max(res, axis=0)-np.min(res, axis=0)"
   ]
  },
  {
   "cell_type": "code",
   "execution_count": 14,
   "id": "60e43a71",
   "metadata": {},
   "outputs": [
    {
     "name": "stderr",
     "output_type": "stream",
     "text": [
      "/home/dodo/anaconda3/lib/python3.8/site-packages/numpy/core/fromnumeric.py:3440: RuntimeWarning: Mean of empty slice.\n",
      "  return _methods._mean(a, axis=axis, dtype=dtype,\n",
      "/home/dodo/anaconda3/lib/python3.8/site-packages/numpy/core/_methods.py:189: RuntimeWarning: invalid value encountered in double_scalars\n",
      "  ret = ret.dtype.type(ret / rcount)\n"
     ]
    }
   ],
   "source": [
    "stats_gal, stats_all, _, _, false_positives, false_negatives, found_GCs = get_test_metrics(list(galaxies_to_test), test_galaxies, test_IDs, test_labels, 1.*(nn>0.5), probs=nn, thresh=thresh)"
   ]
  },
  {
   "cell_type": "code",
   "execution_count": 15,
   "id": "e2819f8d",
   "metadata": {},
   "outputs": [
    {
     "data": {
      "text/html": [
       "<div>\n",
       "<style scoped>\n",
       "    .dataframe tbody tr th:only-of-type {\n",
       "        vertical-align: middle;\n",
       "    }\n",
       "\n",
       "    .dataframe tbody tr th {\n",
       "        vertical-align: top;\n",
       "    }\n",
       "\n",
       "    .dataframe thead th {\n",
       "        text-align: right;\n",
       "    }\n",
       "</style>\n",
       "<table border=\"1\" class=\"dataframe\">\n",
       "  <thead>\n",
       "    <tr style=\"text-align: right;\">\n",
       "      <th></th>\n",
       "      <th>Galaxy</th>\n",
       "      <th>TPR</th>\n",
       "      <th>FDR</th>\n",
       "      <th>FPR</th>\n",
       "      <th>AUC(FDR,TPR)</th>\n",
       "      <th>AUC(FPR,TPR)</th>\n",
       "      <th># found GCs</th>\n",
       "      <th># total GCs</th>\n",
       "      <th># fake GCs</th>\n",
       "      <th># sources</th>\n",
       "    </tr>\n",
       "  </thead>\n",
       "  <tbody>\n",
       "    <tr>\n",
       "      <th>0</th>\n",
       "      <td>ALL</td>\n",
       "      <td>0.936699</td>\n",
       "      <td>0.088885</td>\n",
       "      <td>0.036076</td>\n",
       "      <td>0.964096</td>\n",
       "      <td>0.989669</td>\n",
       "      <td>5771</td>\n",
       "      <td>6161</td>\n",
       "      <td>563</td>\n",
       "      <td>21767</td>\n",
       "    </tr>\n",
       "  </tbody>\n",
       "</table>\n",
       "</div>"
      ],
      "text/plain": [
       "  Galaxy       TPR       FDR       FPR  AUC(FDR,TPR)  AUC(FPR,TPR)  \\\n",
       "0    ALL  0.936699  0.088885  0.036076      0.964096      0.989669   \n",
       "\n",
       "   # found GCs  # total GCs  # fake GCs  # sources  \n",
       "0         5771         6161         563      21767  "
      ]
     },
     "execution_count": 15,
     "metadata": {},
     "output_type": "execute_result"
    }
   ],
   "source": [
    "stats_all"
   ]
  },
  {
   "cell_type": "code",
   "execution_count": 16,
   "id": "6967d9b8",
   "metadata": {},
   "outputs": [
    {
     "name": "stderr",
     "output_type": "stream",
     "text": [
      "/tmp/ipykernel_1039/1394020141.py:1: FutureWarning: Dropping of nuisance columns in DataFrame reductions (with 'numeric_only=None') is deprecated; in a future version this will raise TypeError.  Select only valid columns before calling the reduction.\n",
      "  stats_gal.mean()\n"
     ]
    },
    {
     "data": {
      "text/plain": [
       "TPR               0.898893\n",
       "FDR               0.140138\n",
       "FPR               0.031316\n",
       "AUC(FDR,TPR)      0.924943\n",
       "AUC(FPR,TPR)      0.988013\n",
       "# found GCs     134.209302\n",
       "# total GCs     143.279070\n",
       "# fake GCs       13.093023\n",
       "# sources       506.209302\n",
       "dtype: float64"
      ]
     },
     "execution_count": 16,
     "metadata": {},
     "output_type": "execute_result"
    }
   ],
   "source": [
    "stats_gal.mean()"
   ]
  },
  {
   "cell_type": "markdown",
   "id": "9f6c4c74",
   "metadata": {},
   "source": [
    "### Wrongly detected GCs"
   ]
  },
  {
   "cell_type": "code",
   "execution_count": 14,
   "id": "82ec37e8",
   "metadata": {},
   "outputs": [
    {
     "data": {
      "text/plain": [
       "{'FCC167': array([ 33,  81, 116, 121, 132, 182, 202, 204, 239, 274, 296, 356, 379,\n",
       "        398, 402, 411, 515, 549, 558, 563, 566, 574, 593, 616, 650, 681,\n",
       "        720, 769]),\n",
       " 'FCC277': array([121, 158, 173, 183, 193, 219, 256, 288, 290, 293]),\n",
       " 'FCC202': array([133, 167, 176, 192, 232, 269, 304, 349, 355, 562]),\n",
       " 'FCC303': array([169, 226, 305, 307, 323]),\n",
       " 'FCC301': array([ 90, 180, 214, 275]),\n",
       " 'FCC90': array([177, 336]),\n",
       " 'FCC170': array([ 82, 117, 120, 137, 149, 152, 153, 177, 178, 184, 185, 193, 199,\n",
       "        201, 216, 219, 220, 224, 228, 229, 235, 240, 242, 243, 245, 254,\n",
       "        295]),\n",
       " 'FCC119': array([ 27,  95, 142, 157]),\n",
       " 'FCC106': array([ 74, 140]),\n",
       " 'FCC249': array([  6,   7,  29,  85, 170, 210, 241, 245, 325, 357, 362, 366, 436,\n",
       "        437]),\n",
       " 'FCC177': array([ 11, 147, 167, 168, 186, 214, 215, 223, 226, 229, 233, 238, 243,\n",
       "        247, 254, 259, 260, 277, 278, 282, 290]),\n",
       " 'FCC19': array([164, 174]),\n",
       " 'FCC276': array([190, 200, 215, 238, 270, 365, 385, 420, 438, 453, 514, 553]),\n",
       " 'FCC148': array([150, 171, 185, 202, 208, 216, 219, 302]),\n",
       " 'FCC147': array([114, 284, 290, 294, 343, 372, 489, 564]),\n",
       " 'FCC143': array([  5,   8,  32,  36,  39,  51,  79, 133, 159, 243, 304]),\n",
       " 'FCC203': array([ 61,  80, 144, 167]),\n",
       " 'FCC55': array([173, 283, 286]),\n",
       " 'FCC335': array([ 65, 104, 123, 126, 143, 148, 322]),\n",
       " 'FCC47': array([264, 268, 321, 355, 358]),\n",
       " 'FCC182': array([ 48, 165, 188, 205]),\n",
       " 'FCC204': array([ 73,  81, 405]),\n",
       " 'FCC324': array([171, 196, 210]),\n",
       " 'FCC43': array([212, 213, 219, 249, 264]),\n",
       " 'FCC213': array([   6,   65,  141,  333,  357,  374,  393,  399,  458,  546,  562,\n",
       "         571,  640,  766,  789,  792,  798,  903,  954,  962,  986, 1172,\n",
       "        1216, 1242, 1249, 1304, 1328, 1350, 1357, 1363, 1368]),\n",
       " 'FCC152': array([115, 129, 174, 178, 185, 194, 224, 227, 250, 346, 394]),\n",
       " 'FCC184': array([276, 297, 302, 312, 493]),\n",
       " 'FCC26': array([ 75, 173, 200, 206, 213, 221, 261]),\n",
       " 'FCC95': array([179, 218]),\n",
       " 'FCC153': array([185, 203, 206, 209, 210, 211, 220, 226, 229, 237, 239, 252, 315,\n",
       "        397]),\n",
       " 'FCC310': array([ 39, 112, 183, 197, 217, 229, 262, 308, 333]),\n",
       " 'FCC219': array([ 80,  90, 115, 145, 223, 245, 319, 364, 414, 530, 592, 728]),\n",
       " 'IC2006': array([ 65, 186, 283]),\n",
       " 'FCC21': array([  12,   19,   22,   34,   37,   86,   91,   99,  101,  110,  122,\n",
       "         123,  126,  130,  131,  133,  134,  140,  145,  152,  153,  157,\n",
       "         160,  165,  174,  195,  198,  205,  219,  232,  237,  242,  244,\n",
       "         247,  253,  256,  258,  289,  290,  302,  304,  309,  310,  311,\n",
       "         324,  329,  333,  334,  337,  340,  351,  357,  369,  379,  380,\n",
       "         387,  391,  392,  394,  395,  400,  408,  425,  438,  439,  448,\n",
       "         450,  454,  469,  472,  479,  497,  505,  512,  516,  522,  527,\n",
       "         537,  538,  540,  563,  565,  568,  569,  578,  585,  586,  588,\n",
       "         593,  595,  596,  599,  600,  608,  613,  615,  624,  635,  636,\n",
       "         642,  645,  662,  672,  673,  677,  679,  687,  694,  695,  696,\n",
       "         702,  710,  711,  722,  723,  724,  728,  733,  736,  746,  749,\n",
       "         753,  757,  774,  775,  780,  781,  785,  787,  789,  791,  793,\n",
       "         794,  803,  816,  844,  846,  847,  852,  859,  863,  869,  873,\n",
       "         877,  884,  888,  889,  892,  902,  904,  919,  924,  929,  930,\n",
       "         936,  937,  939,  942,  956,  961,  963,  964,  966,  969,  978,\n",
       "         990,  999, 1003, 1006, 1021, 1047, 1060, 1071, 1081, 1086, 1089,\n",
       "        1104, 1105, 1119, 1120, 1130, 1133, 1135, 1138, 1151, 1156, 1164,\n",
       "        1176, 1192, 1254, 1275]),\n",
       " 'FCC193': array([ 30,  35,  39,  69, 188, 190, 228, 229, 264, 265]),\n",
       " 'NGC1340': array([ 36, 111, 169, 193, 206, 235, 241, 249, 252, 264, 267, 268, 315,\n",
       "        321, 336, 339, 363, 432, 457, 473, 497, 537, 548, 563, 578, 610]),\n",
       " 'FCC63': array([ 31,  69, 197, 206, 330, 332, 543]),\n",
       " 'FCC136': array([ 29,  37,  96, 110, 123]),\n",
       " 'FCC83': array([ 40, 133, 224, 257, 323, 339, 345, 356, 380, 402, 495]),\n",
       " 'FCC288': array([ 10,  11, 121, 173, 175, 194, 249]),\n",
       " 'FCC100': array([113, 131, 136, 166]),\n",
       " 'FCC255': array([ 54, 175, 396]),\n",
       " 'FCC190': array([118, 225, 244, 322, 328])}"
      ]
     },
     "execution_count": 14,
     "metadata": {},
     "output_type": "execute_result"
    }
   ],
   "source": [
    "false_positives"
   ]
  },
  {
   "cell_type": "markdown",
   "id": "05b3e2c6",
   "metadata": {},
   "source": [
    "### GCs that were not found"
   ]
  },
  {
   "cell_type": "code",
   "execution_count": 15,
   "id": "81e4fb75",
   "metadata": {},
   "outputs": [
    {
     "data": {
      "text/plain": [
       "{'FCC43': array([  8, 201, 245, 285, 306]),\n",
       " 'FCC288': array([166, 169, 189]),\n",
       " 'FCC119': array([ 13, 169, 225, 286]),\n",
       " 'FCC303': array([], dtype=int64),\n",
       " 'FCC19': array([37]),\n",
       " 'FCC170': array([  4, 107, 113, 115, 284, 331]),\n",
       " 'FCC182': array([ 60,  78, 158, 197, 232, 364]),\n",
       " 'FCC63': array([ 59,  65, 117, 145, 318, 367, 376, 393, 431, 438, 442, 448, 485]),\n",
       " 'IC2006': array([ 52, 225, 276, 282, 305, 375]),\n",
       " 'FCC213': array([  27,   34,   45,   46,   56,   95,  128,  132,  138,  144,  161,\n",
       "         163,  168,  187,  194,  202,  238,  247,  275,  294,  334,  350,\n",
       "         351,  353,  472,  477,  559,  582,  606,  649,  670,  674,  680,\n",
       "         709,  714,  754,  762,  770,  775,  780,  818,  846,  873,  892,\n",
       "         906,  942,  989, 1075, 1147, 1157, 1187, 1194, 1209, 1251, 1259,\n",
       "        1316, 1318, 1351, 1362, 1385]),\n",
       " 'FCC184': array([ 63,  89, 113, 150, 185, 425, 441, 472, 557, 610]),\n",
       " 'FCC277': array([ 12,  65, 151, 171, 209, 252, 294]),\n",
       " 'FCC143': array([140, 153, 163, 182]),\n",
       " 'FCC324': array([50, 52]),\n",
       " 'FCC167': array([ 15,  64,  89, 130, 153, 235, 245, 301, 363, 470, 475, 562, 623,\n",
       "        635, 654, 698, 707, 725, 735, 822]),\n",
       " 'FCC147': array([  7,  46,  48, 177, 189, 237, 303, 348, 375, 386, 389, 486, 493,\n",
       "        523]),\n",
       " 'FCC95': array([ 22, 137, 160, 282]),\n",
       " 'FCC83': array([ 49,  58,  74,  80, 117, 316, 419, 454, 550, 646, 674]),\n",
       " 'FCC55': array([12, 16, 17, 20, 69]),\n",
       " 'FCC152': array([182, 202, 226, 363, 372, 391]),\n",
       " 'FCC148': array([129, 292]),\n",
       " 'FCC90': array([234]),\n",
       " 'FCC190': array([ 80, 123, 160, 178, 211, 213, 261, 337, 339, 356, 363, 476]),\n",
       " 'FCC335': array([144]),\n",
       " 'FCC310': array([ 22,  91, 299]),\n",
       " 'FCC47': array([ 48,  71, 241, 300, 378, 411, 532, 562, 563, 605, 610]),\n",
       " 'FCC26': array([ 77, 172]),\n",
       " 'FCC153': array([  9, 130, 195, 333, 396]),\n",
       " 'FCC219': array([ 12, 134, 169, 205, 218, 249, 255, 260, 271, 313, 367, 369, 382,\n",
       "        434, 441, 527, 573, 607, 703]),\n",
       " 'FCC193': array([ 55,  92, 216]),\n",
       " 'FCC21': array([  56,   67,   76,   84,  143,  183,  261,  263,  325,  335,  411,\n",
       "         462,  528,  535,  573,  598,  614,  620,  717,  773,  812,  813,\n",
       "         833,  836,  899,  916,  962,  994, 1022, 1029, 1040, 1073, 1091,\n",
       "        1109, 1172, 1179, 1181, 1182, 1189, 1196, 1289]),\n",
       " 'FCC249': array([ 14,  32,  44,  77, 123, 135, 162, 178, 195, 205, 207, 271, 274,\n",
       "        286, 299, 303, 318, 350, 355, 356, 369, 370, 381, 429]),\n",
       " 'FCC202': array([ 18,  55,  98, 118, 121, 319, 372, 406, 407, 448, 454, 473, 556,\n",
       "        599]),\n",
       " 'FCC177': array([ 44,  78, 178, 320, 369, 410]),\n",
       " 'FCC106': array([115, 174, 251, 314]),\n",
       " 'FCC204': array([ 39,  59, 125, 168]),\n",
       " 'FCC203': array([ 17,  38, 118]),\n",
       " 'FCC301': array([ 11,  38,  43, 314]),\n",
       " 'FCC100': array([ 14, 115, 212, 217, 257, 278]),\n",
       " 'FCC276': array([ 87, 135, 144, 199, 218, 243, 246, 311, 313, 442, 462, 532, 548,\n",
       "        592, 655]),\n",
       " 'NGC1340': array([  6,  12,  15,  17,  97, 156, 160, 166, 282, 304, 332, 355, 397,\n",
       "        487, 492, 517, 519]),\n",
       " 'FCC136': array([115, 286]),\n",
       " 'FCC255': array([ 86, 252, 318, 351, 380])}"
      ]
     },
     "execution_count": 15,
     "metadata": {},
     "output_type": "execute_result"
    }
   ],
   "source": [
    "false_negatives"
   ]
  },
  {
   "cell_type": "markdown",
   "id": "ad109513",
   "metadata": {},
   "source": [
    "### An estimate for prediction uncertainty can be obtained using MC dropout"
   ]
  },
  {
   "cell_type": "code",
   "execution_count": 18,
   "id": "29f386c9",
   "metadata": {},
   "outputs": [
    {
     "data": {
      "text/plain": [
       "[<matplotlib.lines.Line2D at 0x7fd77af38d30>]"
      ]
     },
     "execution_count": 18,
     "metadata": {},
     "output_type": "execute_result"
    },
    {
     "data": {
      "image/png": "[encoded data removed]",
      "text/plain": [
       "<Figure size 432x288 with 1 Axes>"
      ]
     },
     "metadata": {
      "needs_background": "light"
     },
     "output_type": "display_data"
    }
   ],
   "source": [
    "unc = []\n",
    "for i in range(25):\n",
    "    unc.append(np.percentile(nstd, i*4+4))\n",
    "certainty = []\n",
    "preds = []\n",
    "\n",
    "for i in range(len(unc)-1):\n",
    "    whichones = (nstd>unc[i])*(nstd<unc[i+1])\n",
    "    lab = test_labels[whichones]\n",
    "    pred = nn[whichones]>0.5\n",
    "    certainty.append(np.mean(lab==pred))\n",
    "    preds.append(nn[whichones])\n",
    "\n",
    "plt.plot(unc[1:], certainty, marker = 'o')"
   ]
  },
  {
   "cell_type": "markdown",
   "id": "49d2fa65",
   "metadata": {},
   "source": [
    "### Replace the last layer of the trained CNN with a k nearest neighbour classifier"
   ]
  },
  {
   "cell_type": "code",
   "execution_count": 19,
   "id": "9719a578",
   "metadata": {},
   "outputs": [
    {
     "name": "stderr",
     "output_type": "stream",
     "text": [
      "/home/dodo/anaconda3/lib/python3.8/site-packages/torch/nn/functional.py:1806: UserWarning: nn.functional.sigmoid is deprecated. Use torch.sigmoid instead.\n",
      "  warnings.warn(\"nn.functional.sigmoid is deprecated. Use torch.sigmoid instead.\")\n"
     ]
    }
   ],
   "source": [
    "loaded_net.eval()\n",
    "\n",
    "trainData = CustomGCDataset(train_images, train_labels)\n",
    "train_loader = torch.utils.data.DataLoader(trainData, batch_size=BATCHSIZE, shuffle=False)\n",
    "\n",
    "# map training data to latent space of CNN\n",
    "new_train = []\n",
    "for x,y in train_loader:\n",
    "    _, xout = loaded_net(x.cuda())\n",
    "    xout = xout.cpu().detach().numpy()\n",
    "    new_train += list(xout)\n",
    "    \n",
    "# map test data to latent space of CNN\n",
    "new_test = []\n",
    "for x,y in test_loader:\n",
    "    _, xout = loaded_net(x.cuda())\n",
    "    xout = xout.cpu().detach().numpy()\n",
    "    new_test += list(xout)"
   ]
  },
  {
   "cell_type": "code",
   "execution_count": 24,
   "id": "6acf534d",
   "metadata": {},
   "outputs": [
    {
     "name": "stderr",
     "output_type": "stream",
     "text": [
      "/home/dodo/anaconda3/lib/python3.8/site-packages/numpy/core/fromnumeric.py:3440: RuntimeWarning: Mean of empty slice.\n",
      "  return _methods._mean(a, axis=axis, dtype=dtype,\n",
      "/home/dodo/anaconda3/lib/python3.8/site-packages/numpy/core/_methods.py:189: RuntimeWarning: invalid value encountered in double_scalars\n",
      "  ret = ret.dtype.type(ret / rcount)\n"
     ]
    }
   ],
   "source": [
    "# train kNN on the latent training data\n",
    "knn = KNeighborsClassifier(1)\n",
    "knn.fit(new_train, np.array(train_labels >= 0.5, dtype=int))\n",
    "\n",
    "# apply kNN on test latent representations for classification\n",
    "pred = knn.predict(new_test)\n",
    "probs = knn.predict_proba(new_test)[:,1]\n",
    "\n",
    "# get evaluation metrics\n",
    "stats_gal, stats_all, _, _, _, _, _ = get_test_metrics(list(galaxies_to_test), test_galaxies, test_IDs, test_labels, pred, probs=probs, thresh=thresh)"
   ]
  },
  {
   "cell_type": "code",
   "execution_count": 25,
   "id": "04dfd417",
   "metadata": {},
   "outputs": [
    {
     "name": "stderr",
     "output_type": "stream",
     "text": [
      "/tmp/ipykernel_371/1394020141.py:1: FutureWarning: Dropping of nuisance columns in DataFrame reductions (with 'numeric_only=None') is deprecated; in a future version this will raise TypeError.  Select only valid columns before calling the reduction.\n",
      "  stats_gal.mean()\n"
     ]
    },
    {
     "data": {
      "text/plain": [
       "TPR               0.874403\n",
       "FDR               0.176939\n",
       "FPR               0.036304\n",
       "AUC(FDR,TPR)      0.832125\n",
       "AUC(FPR,TPR)      0.919049\n",
       "# found GCs     131.023256\n",
       "# total GCs     143.279070\n",
       "# fake GCs       14.720930\n",
       "# sources       506.209302\n",
       "dtype: float64"
      ]
     },
     "execution_count": 25,
     "metadata": {},
     "output_type": "execute_result"
    }
   ],
   "source": [
    "stats_gal.mean()"
   ]
  },
  {
   "cell_type": "code",
   "execution_count": 26,
   "id": "0b247c4f",
   "metadata": {},
   "outputs": [
    {
     "data": {
      "text/html": [
       "<div>\n",
       "<style scoped>\n",
       "    .dataframe tbody tr th:only-of-type {\n",
       "        vertical-align: middle;\n",
       "    }\n",
       "\n",
       "    .dataframe tbody tr th {\n",
       "        vertical-align: top;\n",
       "    }\n",
       "\n",
       "    .dataframe thead th {\n",
       "        text-align: right;\n",
       "    }\n",
       "</style>\n",
       "<table border=\"1\" class=\"dataframe\">\n",
       "  <thead>\n",
       "    <tr style=\"text-align: right;\">\n",
       "      <th></th>\n",
       "      <th>Galaxy</th>\n",
       "      <th>TPR</th>\n",
       "      <th>FDR</th>\n",
       "      <th>FPR</th>\n",
       "      <th>AUC(FDR,TPR)</th>\n",
       "      <th>AUC(FPR,TPR)</th>\n",
       "      <th># found GCs</th>\n",
       "      <th># total GCs</th>\n",
       "      <th># fake GCs</th>\n",
       "      <th># sources</th>\n",
       "    </tr>\n",
       "  </thead>\n",
       "  <tbody>\n",
       "    <tr>\n",
       "      <th>0</th>\n",
       "      <td>ALL</td>\n",
       "      <td>0.914462</td>\n",
       "      <td>0.101005</td>\n",
       "      <td>0.040561</td>\n",
       "      <td>0.886791</td>\n",
       "      <td>0.93695</td>\n",
       "      <td>5634</td>\n",
       "      <td>6161</td>\n",
       "      <td>633</td>\n",
       "      <td>21767</td>\n",
       "    </tr>\n",
       "  </tbody>\n",
       "</table>\n",
       "</div>"
      ],
      "text/plain": [
       "  Galaxy       TPR       FDR       FPR  AUC(FDR,TPR)  AUC(FPR,TPR)  \\\n",
       "0    ALL  0.914462  0.101005  0.040561      0.886791       0.93695   \n",
       "\n",
       "   # found GCs  # total GCs  # fake GCs  # sources  \n",
       "0         5634         6161         633      21767  "
      ]
     },
     "execution_count": 26,
     "metadata": {},
     "output_type": "execute_result"
    }
   ],
   "source": [
    "stats_all"
   ]
  },
  {
   "cell_type": "markdown",
   "id": "9a6a23f2",
   "metadata": {},
   "source": [
    "#### Repeat the same for higher number of neighbours k"
   ]
  },
  {
   "cell_type": "code",
   "execution_count": 23,
   "id": "10759f33",
   "metadata": {},
   "outputs": [
    {
     "name": "stderr",
     "output_type": "stream",
     "text": [
      "/home/dodo/anaconda3/lib/python3.8/site-packages/numpy/core/fromnumeric.py:3440: RuntimeWarning: Mean of empty slice.\n",
      "  return _methods._mean(a, axis=axis, dtype=dtype,\n",
      "/home/dodo/anaconda3/lib/python3.8/site-packages/numpy/core/_methods.py:189: RuntimeWarning: invalid value encountered in double_scalars\n",
      "  ret = ret.dtype.type(ret / rcount)\n"
     ]
    }
   ],
   "source": [
    "knn = KNeighborsClassifier(12)\n",
    "knn.fit(new_train, np.array(train_labels >= 0.5, dtype=int))\n",
    "pred = knn.predict(new_test)\n",
    "probs = knn.predict_proba(new_test)[:,1]\n",
    "stats_gal, stats_all, _, _,false_positives, false_negatives, found_GCs = get_test_metrics(list(galaxies_to_test), test_galaxies, test_IDs, test_labels, pred, probs=probs, thresh=thresh)"
   ]
  },
  {
   "cell_type": "code",
   "execution_count": 24,
   "id": "45f01310",
   "metadata": {},
   "outputs": [
    {
     "name": "stderr",
     "output_type": "stream",
     "text": [
      "/tmp/ipykernel_1039/1394020141.py:1: FutureWarning: Dropping of nuisance columns in DataFrame reductions (with 'numeric_only=None') is deprecated; in a future version this will raise TypeError.  Select only valid columns before calling the reduction.\n",
      "  stats_gal.mean()\n"
     ]
    },
    {
     "data": {
      "text/plain": [
       "TPR               0.894830\n",
       "FDR               0.139822\n",
       "FPR               0.029171\n",
       "AUC(FDR,TPR)      0.913619\n",
       "AUC(FPR,TPR)      0.977502\n",
       "# found GCs     133.232558\n",
       "# total GCs     143.279070\n",
       "# fake GCs       12.023256\n",
       "# sources       506.209302\n",
       "dtype: float64"
      ]
     },
     "execution_count": 24,
     "metadata": {},
     "output_type": "execute_result"
    }
   ],
   "source": [
    "stats_gal.mean()"
   ]
  },
  {
   "cell_type": "code",
   "execution_count": 25,
   "id": "d14a8174",
   "metadata": {},
   "outputs": [
    {
     "data": {
      "text/html": [
       "<div>\n",
       "<style scoped>\n",
       "    .dataframe tbody tr th:only-of-type {\n",
       "        vertical-align: middle;\n",
       "    }\n",
       "\n",
       "    .dataframe tbody tr th {\n",
       "        vertical-align: top;\n",
       "    }\n",
       "\n",
       "    .dataframe thead th {\n",
       "        text-align: right;\n",
       "    }\n",
       "</style>\n",
       "<table border=\"1\" class=\"dataframe\">\n",
       "  <thead>\n",
       "    <tr style=\"text-align: right;\">\n",
       "      <th></th>\n",
       "      <th>Galaxy</th>\n",
       "      <th>TPR</th>\n",
       "      <th>FDR</th>\n",
       "      <th>FPR</th>\n",
       "      <th>AUC(FDR,TPR)</th>\n",
       "      <th>AUC(FPR,TPR)</th>\n",
       "      <th># found GCs</th>\n",
       "      <th># total GCs</th>\n",
       "      <th># fake GCs</th>\n",
       "      <th># sources</th>\n",
       "    </tr>\n",
       "  </thead>\n",
       "  <tbody>\n",
       "    <tr>\n",
       "      <th>0</th>\n",
       "      <td>ALL</td>\n",
       "      <td>0.929882</td>\n",
       "      <td>0.082773</td>\n",
       "      <td>0.033128</td>\n",
       "      <td>0.95247</td>\n",
       "      <td>0.982568</td>\n",
       "      <td>5729</td>\n",
       "      <td>6161</td>\n",
       "      <td>517</td>\n",
       "      <td>21767</td>\n",
       "    </tr>\n",
       "  </tbody>\n",
       "</table>\n",
       "</div>"
      ],
      "text/plain": [
       "  Galaxy       TPR       FDR       FPR  AUC(FDR,TPR)  AUC(FPR,TPR)  \\\n",
       "0    ALL  0.929882  0.082773  0.033128       0.95247      0.982568   \n",
       "\n",
       "   # found GCs  # total GCs  # fake GCs  # sources  \n",
       "0         5729         6161         517      21767  "
      ]
     },
     "execution_count": 25,
     "metadata": {},
     "output_type": "execute_result"
    }
   ],
   "source": [
    "stats_all"
   ]
  },
  {
   "cell_type": "markdown",
   "id": "a6b127b0",
   "metadata": {},
   "source": [
    "### Look at k nearest neighbours of a source that has not been correctly classified as a GC \n",
    "\n",
    "(here: source 71 of FCC47)"
   ]
  },
  {
   "cell_type": "code",
   "execution_count": 27,
   "id": "3cf0b836",
   "metadata": {},
   "outputs": [],
   "source": [
    "gid = np.where((test_galaxies=='FCC47')*(test_IDs==71))[0][0]"
   ]
  },
  {
   "cell_type": "code",
   "execution_count": 28,
   "id": "ac10665a",
   "metadata": {},
   "outputs": [
    {
     "data": {
      "image/png": "[encoded data removed]",
      "text/plain": [
       "<Figure size 720x720 with 2 Axes>"
      ]
     },
     "metadata": {
      "needs_background": "light"
     },
     "output_type": "display_data"
    }
   ],
   "source": [
    "# look at the source\n",
    "plot_source(test_images[gid])"
   ]
  },
  {
   "cell_type": "code",
   "execution_count": 29,
   "id": "87e12295",
   "metadata": {},
   "outputs": [],
   "source": [
    "# get neighbours\n",
    "dist, sourc = knn.kneighbors(new_test[gid:gid+1])\n",
    "dist = dist[0]\n",
    "sourc = sourc[0]"
   ]
  },
  {
   "cell_type": "markdown",
   "id": "9eef424e",
   "metadata": {},
   "source": [
    "#### Images and labels of the 12 nearest neighbours that were used to make the prediction"
   ]
  },
  {
   "cell_type": "code",
   "execution_count": 30,
   "id": "285a98cd",
   "metadata": {},
   "outputs": [
    {
     "name": "stdout",
     "output_type": "stream",
     "text": [
      "None\n",
      "None\n",
      "None\n",
      "None\n",
      "None\n",
      "None\n",
      "None\n",
      "None\n",
      "None\n",
      "None\n",
      "None\n",
      "None\n"
     ]
    },
    {
     "data": {
      "image/png": "[encoded data removed]",
      "text/plain": [
       "<Figure size 720x720 with 2 Axes>"
      ]
     },
     "metadata": {
      "needs_background": "light"
     },
     "output_type": "display_data"
    },
    {
     "data": {
      "image/png": "[encoded data removed]",
      "text/plain": [
       "<Figure size 720x720 with 2 Axes>"
      ]
     },
     "metadata": {
      "needs_background": "light"
     },
     "output_type": "display_data"
    },
    {
     "data": {
      "image/png": "[encoded data removed]",
      "text/plain": [
       "<Figure size 720x720 with 2 Axes>"
      ]
     },
     "metadata": {
      "needs_background": "light"
     },
     "output_type": "display_data"
    },
    {
     "data": {
      "image/png": "[encoded data removed]",
      "text/plain": [
       "<Figure size 720x720 with 2 Axes>"
      ]
     },
     "metadata": {
      "needs_background": "light"
     },
     "output_type": "display_data"
    },
    {
     "data": {
      "image/png": "[encoded data removed]",
      "text/plain": [
       "<Figure size 720x720 with 2 Axes>"
      ]
     },
     "metadata": {
      "needs_background": "light"
     },
     "output_type": "display_data"
    },
    {
     "data": {
      "image/png": "[encoded data removed]",
      "text/plain": [
       "<Figure size 720x720 with 2 Axes>"
      ]
     },
     "metadata": {
      "needs_background": "light"
     },
     "output_type": "display_data"
    },
    {
     "data": {
      "image/png": "[encoded data removed]",
      "text/plain": [
       "<Figure size 720x720 with 2 Axes>"
      ]
     },
     "metadata": {
      "needs_background": "light"
     },
     "output_type": "display_data"
    },
    {
     "data": {
      "image/png": "[encoded data removed]",
      "text/plain": [
       "<Figure size 720x720 with 2 Axes>"
      ]
     },
     "metadata": {
      "needs_background": "light"
     },
     "output_type": "display_data"
    },
    {
     "data": {
      "image/png": "[encoded data removed]",
      "text/plain": [
       "<Figure size 720x720 with 2 Axes>"
      ]
     },
     "metadata": {
      "needs_background": "light"
     },
     "output_type": "display_data"
    },
    {
     "data": {
      "image/png": "[encoded data removed]",
      "text/plain": [
       "<Figure size 720x720 with 2 Axes>"
      ]
     },
     "metadata": {
      "needs_background": "light"
     },
     "output_type": "display_data"
    },
    {
     "data": {
      "image/png": "[encoded data removed]",
      "text/plain": [
       "<Figure size 720x720 with 2 Axes>"
      ]
     },
     "metadata": {
      "needs_background": "light"
     },
     "output_type": "display_data"
    },
    {
     "data": {
      "image/png": "[encoded data removed]",
      "text/plain": [
       "<Figure size 720x720 with 2 Axes>"
      ]
     },
     "metadata": {
      "needs_background": "light"
     },
     "output_type": "display_data"
    }
   ],
   "source": [
    "for i in range(12):\n",
    "    print(plot_source(train_images[sourc[i]]))\n",
    "    plt.title(train_labels[sourc[i]])"
   ]
  },
  {
   "cell_type": "markdown",
   "id": "1603862e",
   "metadata": {},
   "source": [
    "#### Distances in latent space to the 12 nearest neighbours"
   ]
  },
  {
   "cell_type": "code",
   "execution_count": 109,
   "id": "699bd65e",
   "metadata": {},
   "outputs": [
    {
     "data": {
      "text/plain": [
       "array([0.44004756, 0.4464207 , 0.5065042 , 0.5187712 , 0.5217802 ,\n",
       "       0.53846276, 0.5390488 , 0.5564105 , 0.5624113 , 0.5631143 ,\n",
       "       0.5743289 , 0.58254635], dtype=float32)"
      ]
     },
     "execution_count": 109,
     "metadata": {},
     "output_type": "execute_result"
    }
   ],
   "source": [
    "dist"
   ]
  },
  {
   "cell_type": "markdown",
   "id": "253f43fd",
   "metadata": {},
   "source": [
    "### Same as above, but nicely plotted as in the paper"
   ]
  },
  {
   "cell_type": "code",
   "execution_count": 121,
   "id": "78f20e2e",
   "metadata": {},
   "outputs": [],
   "source": [
    "neighbors = np.load('FCC47--71--neighbors.npy')\n",
    "fcc47 = np.load('FCC47--71.npy')\n",
    "neighbor_labels = np.load('FCC47--71--neighbor_labels.npy')"
   ]
  },
  {
   "cell_type": "code",
   "execution_count": 243,
   "id": "e4f31770",
   "metadata": {},
   "outputs": [
    {
     "data": {
      "image/png": "[encoded data removed]",
      "text/plain": [
       "<Figure size 936x432 with 26 Axes>"
      ]
     },
     "metadata": {},
     "output_type": "display_data"
    }
   ],
   "source": [
    "import matplotlib.pyplot as plt\n",
    "from matplotlib.gridspec import GridSpec, GridSpecFromSubplotSpec\n",
    "from matplotlib import rcParams\n",
    "\n",
    "rcParams['font.family'] = 'serif'\n",
    "\n",
    "n_rows = 4\n",
    "n_cols = 4\n",
    "off=0.1\n",
    "left = 0.1\n",
    "right = 0.9\n",
    "msp = 0.05 # minor spacing\n",
    "sp = 0.5  # major spacing\n",
    "off=(1+msp)*(right-left)/(2*n_cols+n_rows*msp+(n_cols-1)*sp) # grid offset\n",
    "wspace = sp+msp+1 #height space per grid\n",
    "gso = GridSpec(n_rows, n_cols, left=left+off, right=right, wspace=wspace/4, hspace=0.3)#/7)\n",
    "gse = GridSpec(n_rows, n_cols, left=left, right=right-off, wspace=wspace/4, hspace=0.3)\n",
    "gsb = GridSpec(1, 2, left=0.32, top = 0.68, bottom = 0.325, right=0.68, wspace=0.14)\n",
    "fig = plt.figure(figsize=[13,6])\n",
    "axes_z = []\n",
    "axes_g = []\n",
    "for i in range(n_rows*n_cols):\n",
    "    if i not in [5,6,9,10]:\n",
    "        axes_z.append(fig.add_subplot(gso[i]))\n",
    "        axes_g.append(fig.add_subplot(gse[i]))\n",
    "ax470 = fig.add_subplot(gsb[0])\n",
    "ax471 = fig.add_subplot(gsb[1])\n",
    "\n",
    "for i in range(12):\n",
    "    axes_g[i].imshow(neighbors[i][0])\n",
    "    axes_z[i].imshow(neighbors[i][1], cmap = 'plasma')\n",
    "    axes_z[i].set_yticks([])\n",
    "    axes_g[i].set_yticks([])\n",
    "    axes_g[i].set_title('pGC = {}'.format(neighbor_labels[i]), x = 1.1)\n",
    "    axes_g[i].set_xticks([])\n",
    "    axes_z[i].set_xticks([])\n",
    "\n",
    "ax470.imshow(fcc47[0])\n",
    "ax471.imshow(fcc47[1], cmap = 'plasma')\n",
    "ax470.set_xticks([])\n",
    "ax471.set_xticks([])\n",
    "ax470.set_yticks([])\n",
    "ax471.set_yticks([])\n",
    "\n",
    "ax470.set_title('FCC47: source 71, g and z filter', x = 1.1)\n",
    "fig.savefig('FCC47--explain_CNN.pdf')"
   ]
  },
  {
   "cell_type": "code",
   "execution_count": null,
   "id": "f975f434",
   "metadata": {},
   "outputs": [],
   "source": []
  }
 ],
 "metadata": {
  "kernelspec": {
   "display_name": "Python 3 (ipykernel)",
   "language": "python",
   "name": "python3"
  },
  "language_info": {
   "codemirror_mode": {
    "name": "ipython",
    "version": 3
   },
   "file_extension": ".py",
   "mimetype": "text/x-python",
   "name": "python",
   "nbconvert_exporter": "python",
   "pygments_lexer": "ipython3",
   "version": "3.8.8"
  }
 },
 "nbformat": 4,
 "nbformat_minor": 5
}
