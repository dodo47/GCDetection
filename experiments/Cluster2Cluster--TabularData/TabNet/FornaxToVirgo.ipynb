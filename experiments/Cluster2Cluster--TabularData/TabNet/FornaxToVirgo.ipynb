{
 "cells": [
  {
   "cell_type": "code",
   "execution_count": 1,
   "id": "eb856f0e",
   "metadata": {},
   "outputs": [],
   "source": [
    "import pandas\n",
    "pandas.options.mode.chained_assignment = None\n",
    "import sys\n",
    "import numpy as np\n",
    "from globsML.utils.preprocessing import rescale_data, select_galaxies, create_data_dict, replace_NaN\n",
    "from globsML.models.skmodels import StandardClassifier\n",
    "\n",
    "data_path = '../../../data/ACS_sources_original.csv'\n",
    "data = pandas.read_csv(data_path)\n",
    "test_galaxies = set(data[data['cluster']=='Virgo']['galaxy'].unique())"
   ]
  },
  {
   "cell_type": "code",
   "execution_count": 2,
   "id": "3d04334c",
   "metadata": {},
   "outputs": [
    {
     "name": "stdout",
     "output_type": "stream",
     "text": [
      "Number of sources in training split after dropping rows with NaN as CI/m/color: 21232\n",
      "535 sources have been dropped.\n",
      "NaN values in testing data have been replaced with the correspnding median value observed in the training split\n"
     ]
    },
    {
     "name": "stderr",
     "output_type": "stream",
     "text": [
      "100%|█████████████████████████████████████████████████████████████████████████████████| 29/29 [00:00<00:00, 3457.20it/s]"
     ]
    },
    {
     "name": "stdout",
     "output_type": "stream",
     "text": [
      "eccentricity will not be transformed. Skipped.\n",
      "eccentricity_z will not be transformed. Skipped.\n"
     ]
    },
    {
     "name": "stderr",
     "output_type": "stream",
     "text": [
      "\n"
     ]
    }
   ],
   "source": [
    "df_train, dfs_test = select_galaxies(data, test_galaxies = test_galaxies)\n",
    "df_train, dfs_test = replace_NaN(df_train, dfs_test)\n",
    "df = create_data_dict(data, df_train, dfs_test)\n",
    "df,scaler = rescale_data(df)\n",
    "\n",
    "input_dim = len(df['train']['inputs'][0])"
   ]
  },
  {
   "cell_type": "code",
   "execution_count": 11,
   "id": "6ac0682d",
   "metadata": {},
   "outputs": [
    {
     "name": "stdout",
     "output_type": "stream",
     "text": [
      "Device used : cuda\n",
      "Loading data...\n",
      "Fitting model...\n",
      "epoch 0  | loss: 0.7053  | val_0_auc: 0.78368 |  0:00:01s\n",
      "epoch 1  | loss: 0.31041 | val_0_auc: 0.92938 |  0:00:02s\n",
      "epoch 2  | loss: 0.2601  | val_0_auc: 0.95239 |  0:00:04s\n",
      "epoch 3  | loss: 0.22368 | val_0_auc: 0.96443 |  0:00:05s\n",
      "epoch 4  | loss: 0.20892 | val_0_auc: 0.97531 |  0:00:07s\n",
      "epoch 5  | loss: 0.18819 | val_0_auc: 0.9786  |  0:00:08s\n",
      "epoch 6  | loss: 0.1793  | val_0_auc: 0.9754  |  0:00:10s\n",
      "epoch 7  | loss: 0.17219 | val_0_auc: 0.97858 |  0:00:12s\n",
      "epoch 8  | loss: 0.1605  | val_0_auc: 0.9809  |  0:00:13s\n",
      "epoch 9  | loss: 0.15498 | val_0_auc: 0.98198 |  0:00:16s\n",
      "epoch 10 | loss: 0.15218 | val_0_auc: 0.98058 |  0:00:18s\n",
      "epoch 11 | loss: 0.14576 | val_0_auc: 0.98335 |  0:00:20s\n",
      "epoch 12 | loss: 0.14435 | val_0_auc: 0.98265 |  0:00:22s\n",
      "epoch 13 | loss: 0.14177 | val_0_auc: 0.98335 |  0:00:23s\n",
      "epoch 14 | loss: 0.14075 | val_0_auc: 0.98626 |  0:00:24s\n",
      "epoch 15 | loss: 0.13894 | val_0_auc: 0.98524 |  0:00:26s\n",
      "epoch 16 | loss: 0.13627 | val_0_auc: 0.98649 |  0:00:27s\n",
      "epoch 17 | loss: 0.1341  | val_0_auc: 0.98589 |  0:00:29s\n",
      "epoch 18 | loss: 0.1337  | val_0_auc: 0.98528 |  0:00:30s\n",
      "epoch 19 | loss: 0.13462 | val_0_auc: 0.98477 |  0:00:33s\n",
      "epoch 20 | loss: 0.13489 | val_0_auc: 0.98397 |  0:00:34s\n",
      "epoch 21 | loss: 0.13723 | val_0_auc: 0.98323 |  0:00:36s\n",
      "epoch 22 | loss: 0.13632 | val_0_auc: 0.98527 |  0:00:38s\n",
      "epoch 23 | loss: 0.13377 | val_0_auc: 0.98402 |  0:00:40s\n",
      "epoch 24 | loss: 0.13411 | val_0_auc: 0.98499 |  0:00:41s\n",
      "epoch 25 | loss: 0.13909 | val_0_auc: 0.98481 |  0:00:43s\n",
      "epoch 26 | loss: 0.13775 | val_0_auc: 0.98378 |  0:00:44s\n",
      "\n",
      "Early stopping occurred at epoch 26 with best_epoch = 16 and best_val_0_auc = 0.98649\n",
      "Best weights from best epoch are automatically used!\n"
     ]
    }
   ],
   "source": [
    "model = StandardClassifier(method='tabnet', params={'n_steps': 5, 'n_d': 10, 'n_a': 10}, data=df)"
   ]
  },
  {
   "cell_type": "code",
   "execution_count": 12,
   "id": "c50d61e8",
   "metadata": {},
   "outputs": [
    {
     "name": "stderr",
     "output_type": "stream",
     "text": [
      "/home/dodo/anaconda3/lib/python3.8/site-packages/numpy/core/fromnumeric.py:3440: RuntimeWarning: Mean of empty slice.\n",
      "  return _methods._mean(a, axis=axis, dtype=dtype,\n",
      "/home/dodo/anaconda3/lib/python3.8/site-packages/numpy/core/_methods.py:189: RuntimeWarning: invalid value encountered in double_scalars\n",
      "  ret = ret.dtype.type(ret / rcount)\n"
     ]
    }
   ],
   "source": [
    "model.val()"
   ]
  },
  {
   "cell_type": "code",
   "execution_count": 13,
   "id": "cf889402",
   "metadata": {},
   "outputs": [
    {
     "data": {
      "text/html": [
       "<div>\n",
       "<style scoped>\n",
       "    .dataframe tbody tr th:only-of-type {\n",
       "        vertical-align: middle;\n",
       "    }\n",
       "\n",
       "    .dataframe tbody tr th {\n",
       "        vertical-align: top;\n",
       "    }\n",
       "\n",
       "    .dataframe thead th {\n",
       "        text-align: right;\n",
       "    }\n",
       "</style>\n",
       "<table border=\"1\" class=\"dataframe\">\n",
       "  <thead>\n",
       "    <tr style=\"text-align: right;\">\n",
       "      <th></th>\n",
       "      <th>TPR</th>\n",
       "      <th>FDR</th>\n",
       "      <th>FPR</th>\n",
       "      <th>AUC(FDR,TPR)</th>\n",
       "      <th>AUC(FPR,TPR)</th>\n",
       "      <th># found GCs</th>\n",
       "      <th># total GCs</th>\n",
       "      <th># fake GCs</th>\n",
       "      <th># sources</th>\n",
       "    </tr>\n",
       "  </thead>\n",
       "  <tbody>\n",
       "    <tr>\n",
       "      <th>0</th>\n",
       "      <td>0.920128</td>\n",
       "      <td>0.09434</td>\n",
       "      <td>0.040053</td>\n",
       "      <td>0.948554</td>\n",
       "      <td>0.986485</td>\n",
       "      <td>288</td>\n",
       "      <td>313</td>\n",
       "      <td>30</td>\n",
       "      <td>1062</td>\n",
       "    </tr>\n",
       "  </tbody>\n",
       "</table>\n",
       "</div>"
      ],
      "text/plain": [
       "        TPR      FDR       FPR  AUC(FDR,TPR)  AUC(FPR,TPR)  # found GCs  \\\n",
       "0  0.920128  0.09434  0.040053      0.948554      0.986485          288   \n",
       "\n",
       "   # total GCs  # fake GCs  # sources  \n",
       "0          313          30       1062  "
      ]
     },
     "execution_count": 13,
     "metadata": {},
     "output_type": "execute_result"
    }
   ],
   "source": [
    "model.stats_validation"
   ]
  },
  {
   "cell_type": "code",
   "execution_count": 14,
   "id": "ac664799",
   "metadata": {},
   "outputs": [
    {
     "name": "stderr",
     "output_type": "stream",
     "text": [
      "/home/dodo/anaconda3/lib/python3.8/site-packages/numpy/core/fromnumeric.py:3440: RuntimeWarning: Mean of empty slice.\n",
      "  return _methods._mean(a, axis=axis, dtype=dtype,\n",
      "/home/dodo/anaconda3/lib/python3.8/site-packages/numpy/core/_methods.py:189: RuntimeWarning: invalid value encountered in double_scalars\n",
      "  ret = ret.dtype.type(ret / rcount)\n",
      "/home/dodo/git/globsML/globsML/utils/eval.py:146: RuntimeWarning: divide by zero encountered in double_scalars\n",
      "  return auc(x,y)/(2*auc([0,x[-1]], [0,y[-1]])), x, y\n"
     ]
    }
   ],
   "source": [
    "model.test()"
   ]
  },
  {
   "cell_type": "code",
   "execution_count": 15,
   "id": "701df614",
   "metadata": {},
   "outputs": [
    {
     "data": {
      "text/html": [
       "<div>\n",
       "<style scoped>\n",
       "    .dataframe tbody tr th:only-of-type {\n",
       "        vertical-align: middle;\n",
       "    }\n",
       "\n",
       "    .dataframe tbody tr th {\n",
       "        vertical-align: top;\n",
       "    }\n",
       "\n",
       "    .dataframe thead th {\n",
       "        text-align: right;\n",
       "    }\n",
       "</style>\n",
       "<table border=\"1\" class=\"dataframe\">\n",
       "  <thead>\n",
       "    <tr style=\"text-align: right;\">\n",
       "      <th></th>\n",
       "      <th>Galaxy</th>\n",
       "      <th>TPR</th>\n",
       "      <th>FDR</th>\n",
       "      <th>FPR</th>\n",
       "      <th>AUC(FDR,TPR)</th>\n",
       "      <th>AUC(FPR,TPR)</th>\n",
       "      <th># found GCs</th>\n",
       "      <th># total GCs</th>\n",
       "      <th># fake GCs</th>\n",
       "      <th># sources</th>\n",
       "    </tr>\n",
       "  </thead>\n",
       "  <tbody>\n",
       "    <tr>\n",
       "      <th>0</th>\n",
       "      <td>VCC575</td>\n",
       "      <td>0.913043</td>\n",
       "      <td>0.382353</td>\n",
       "      <td>0.034667</td>\n",
       "      <td>0.894378</td>\n",
       "      <td>0.988580</td>\n",
       "      <td>21</td>\n",
       "      <td>23</td>\n",
       "      <td>13</td>\n",
       "      <td>398</td>\n",
       "    </tr>\n",
       "    <tr>\n",
       "      <th>1</th>\n",
       "      <td>VCC1695</td>\n",
       "      <td>0.863636</td>\n",
       "      <td>0.441176</td>\n",
       "      <td>0.030675</td>\n",
       "      <td>0.772999</td>\n",
       "      <td>0.989078</td>\n",
       "      <td>19</td>\n",
       "      <td>22</td>\n",
       "      <td>15</td>\n",
       "      <td>511</td>\n",
       "    </tr>\n",
       "    <tr>\n",
       "      <th>2</th>\n",
       "      <td>VCC1355</td>\n",
       "      <td>0.750000</td>\n",
       "      <td>0.400000</td>\n",
       "      <td>0.032468</td>\n",
       "      <td>0.813513</td>\n",
       "      <td>0.984334</td>\n",
       "      <td>15</td>\n",
       "      <td>20</td>\n",
       "      <td>10</td>\n",
       "      <td>328</td>\n",
       "    </tr>\n",
       "    <tr>\n",
       "      <th>3</th>\n",
       "      <td>VCC1743</td>\n",
       "      <td>0.533333</td>\n",
       "      <td>0.818182</td>\n",
       "      <td>0.042303</td>\n",
       "      <td>0.348243</td>\n",
       "      <td>0.942852</td>\n",
       "      <td>8</td>\n",
       "      <td>15</td>\n",
       "      <td>36</td>\n",
       "      <td>866</td>\n",
       "    </tr>\n",
       "    <tr>\n",
       "      <th>4</th>\n",
       "      <td>VCC1886</td>\n",
       "      <td>0.692308</td>\n",
       "      <td>0.608696</td>\n",
       "      <td>0.018767</td>\n",
       "      <td>0.622898</td>\n",
       "      <td>0.931584</td>\n",
       "      <td>9</td>\n",
       "      <td>13</td>\n",
       "      <td>14</td>\n",
       "      <td>759</td>\n",
       "    </tr>\n",
       "    <tr>\n",
       "      <th>...</th>\n",
       "      <td>...</td>\n",
       "      <td>...</td>\n",
       "      <td>...</td>\n",
       "      <td>...</td>\n",
       "      <td>...</td>\n",
       "      <td>...</td>\n",
       "      <td>...</td>\n",
       "      <td>...</td>\n",
       "      <td>...</td>\n",
       "      <td>...</td>\n",
       "    </tr>\n",
       "    <tr>\n",
       "      <th>93</th>\n",
       "      <td>VCC784</td>\n",
       "      <td>0.951613</td>\n",
       "      <td>0.092308</td>\n",
       "      <td>0.015038</td>\n",
       "      <td>0.969314</td>\n",
       "      <td>0.995493</td>\n",
       "      <td>59</td>\n",
       "      <td>62</td>\n",
       "      <td>6</td>\n",
       "      <td>461</td>\n",
       "    </tr>\n",
       "    <tr>\n",
       "      <th>94</th>\n",
       "      <td>VCC1087</td>\n",
       "      <td>0.865672</td>\n",
       "      <td>0.256410</td>\n",
       "      <td>0.043764</td>\n",
       "      <td>0.917243</td>\n",
       "      <td>0.979539</td>\n",
       "      <td>58</td>\n",
       "      <td>67</td>\n",
       "      <td>20</td>\n",
       "      <td>524</td>\n",
       "    </tr>\n",
       "    <tr>\n",
       "      <th>95</th>\n",
       "      <td>VCC1185</td>\n",
       "      <td>0.848485</td>\n",
       "      <td>0.377778</td>\n",
       "      <td>0.022576</td>\n",
       "      <td>0.848605</td>\n",
       "      <td>0.990161</td>\n",
       "      <td>28</td>\n",
       "      <td>33</td>\n",
       "      <td>17</td>\n",
       "      <td>786</td>\n",
       "    </tr>\n",
       "    <tr>\n",
       "      <th>96</th>\n",
       "      <td>VCC1146</td>\n",
       "      <td>0.938272</td>\n",
       "      <td>0.126437</td>\n",
       "      <td>0.024831</td>\n",
       "      <td>0.972649</td>\n",
       "      <td>0.995457</td>\n",
       "      <td>76</td>\n",
       "      <td>81</td>\n",
       "      <td>11</td>\n",
       "      <td>524</td>\n",
       "    </tr>\n",
       "    <tr>\n",
       "      <th>97</th>\n",
       "      <td>VCC856</td>\n",
       "      <td>0.795918</td>\n",
       "      <td>0.250000</td>\n",
       "      <td>0.027083</td>\n",
       "      <td>0.905811</td>\n",
       "      <td>0.988372</td>\n",
       "      <td>39</td>\n",
       "      <td>49</td>\n",
       "      <td>13</td>\n",
       "      <td>529</td>\n",
       "    </tr>\n",
       "  </tbody>\n",
       "</table>\n",
       "<p>98 rows × 10 columns</p>\n",
       "</div>"
      ],
      "text/plain": [
       "     Galaxy       TPR       FDR       FPR  AUC(FDR,TPR)  AUC(FPR,TPR)  \\\n",
       "0    VCC575  0.913043  0.382353  0.034667      0.894378      0.988580   \n",
       "1   VCC1695  0.863636  0.441176  0.030675      0.772999      0.989078   \n",
       "2   VCC1355  0.750000  0.400000  0.032468      0.813513      0.984334   \n",
       "3   VCC1743  0.533333  0.818182  0.042303      0.348243      0.942852   \n",
       "4   VCC1886  0.692308  0.608696  0.018767      0.622898      0.931584   \n",
       "..      ...       ...       ...       ...           ...           ...   \n",
       "93   VCC784  0.951613  0.092308  0.015038      0.969314      0.995493   \n",
       "94  VCC1087  0.865672  0.256410  0.043764      0.917243      0.979539   \n",
       "95  VCC1185  0.848485  0.377778  0.022576      0.848605      0.990161   \n",
       "96  VCC1146  0.938272  0.126437  0.024831      0.972649      0.995457   \n",
       "97   VCC856  0.795918  0.250000  0.027083      0.905811      0.988372   \n",
       "\n",
       "    # found GCs  # total GCs  # fake GCs  # sources  \n",
       "0            21           23          13        398  \n",
       "1            19           22          15        511  \n",
       "2            15           20          10        328  \n",
       "3             8           15          36        866  \n",
       "4             9           13          14        759  \n",
       "..          ...          ...         ...        ...  \n",
       "93           59           62           6        461  \n",
       "94           58           67          20        524  \n",
       "95           28           33          17        786  \n",
       "96           76           81          11        524  \n",
       "97           39           49          13        529  \n",
       "\n",
       "[98 rows x 10 columns]"
      ]
     },
     "execution_count": 15,
     "metadata": {},
     "output_type": "execute_result"
    }
   ],
   "source": [
    "model.stats_galaxies"
   ]
  },
  {
   "cell_type": "code",
   "execution_count": 16,
   "id": "be9bde38",
   "metadata": {},
   "outputs": [
    {
     "name": "stderr",
     "output_type": "stream",
     "text": [
      "/tmp/ipykernel_1135/3415850949.py:1: FutureWarning: Dropping of nuisance columns in DataFrame reductions (with 'numeric_only=None') is deprecated; in a future version this will raise TypeError.  Select only valid columns before calling the reduction.\n",
      "  model.stats_galaxies.mean()\n"
     ]
    },
    {
     "data": {
      "text/plain": [
       "TPR               0.855774\n",
       "FDR               0.285262\n",
       "FPR               0.038480\n",
       "AUC(FDR,TPR)           inf\n",
       "AUC(FPR,TPR)      0.975996\n",
       "# found GCs     115.357143\n",
       "# total GCs     126.479592\n",
       "# fake GCs       18.132653\n",
       "# sources       644.510204\n",
       "dtype: float64"
      ]
     },
     "execution_count": 16,
     "metadata": {},
     "output_type": "execute_result"
    }
   ],
   "source": [
    "model.stats_galaxies.mean()"
   ]
  },
  {
   "cell_type": "code",
   "execution_count": 17,
   "id": "5e6413cd",
   "metadata": {},
   "outputs": [
    {
     "data": {
      "text/html": [
       "<div>\n",
       "<style scoped>\n",
       "    .dataframe tbody tr th:only-of-type {\n",
       "        vertical-align: middle;\n",
       "    }\n",
       "\n",
       "    .dataframe tbody tr th {\n",
       "        vertical-align: top;\n",
       "    }\n",
       "\n",
       "    .dataframe thead th {\n",
       "        text-align: right;\n",
       "    }\n",
       "</style>\n",
       "<table border=\"1\" class=\"dataframe\">\n",
       "  <thead>\n",
       "    <tr style=\"text-align: right;\">\n",
       "      <th></th>\n",
       "      <th>Galaxy</th>\n",
       "      <th>TPR</th>\n",
       "      <th>FDR</th>\n",
       "      <th>FPR</th>\n",
       "      <th>AUC(FDR,TPR)</th>\n",
       "      <th>AUC(FPR,TPR)</th>\n",
       "      <th># found GCs</th>\n",
       "      <th># total GCs</th>\n",
       "      <th># fake GCs</th>\n",
       "      <th># sources</th>\n",
       "    </tr>\n",
       "  </thead>\n",
       "  <tbody>\n",
       "    <tr>\n",
       "      <th>0</th>\n",
       "      <td>ALL</td>\n",
       "      <td>0.912061</td>\n",
       "      <td>0.135835</td>\n",
       "      <td>0.035003</td>\n",
       "      <td>0.944575</td>\n",
       "      <td>0.98523</td>\n",
       "      <td>11305</td>\n",
       "      <td>12395</td>\n",
       "      <td>1777</td>\n",
       "      <td>63162</td>\n",
       "    </tr>\n",
       "  </tbody>\n",
       "</table>\n",
       "</div>"
      ],
      "text/plain": [
       "  Galaxy       TPR       FDR       FPR  AUC(FDR,TPR)  AUC(FPR,TPR)  \\\n",
       "0    ALL  0.912061  0.135835  0.035003      0.944575       0.98523   \n",
       "\n",
       "   # found GCs  # total GCs  # fake GCs  # sources  \n",
       "0        11305        12395        1777      63162  "
      ]
     },
     "execution_count": 17,
     "metadata": {},
     "output_type": "execute_result"
    }
   ],
   "source": [
    "model.stats_all"
   ]
  }
 ],
 "metadata": {
  "kernelspec": {
   "display_name": "Python 3 (ipykernel)",
   "language": "python",
   "name": "python3"
  },
  "language_info": {
   "codemirror_mode": {
    "name": "ipython",
    "version": 3
   },
   "file_extension": ".py",
   "mimetype": "text/x-python",
   "name": "python",
   "nbconvert_exporter": "python",
   "pygments_lexer": "ipython3",
   "version": "3.8.8"
  }
 },
 "nbformat": 4,
 "nbformat_minor": 5
}
