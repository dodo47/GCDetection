{
 "cells": [
  {
   "cell_type": "code",
   "execution_count": 1,
   "id": "eb856f0e",
   "metadata": {},
   "outputs": [],
   "source": [
    "import pandas\n",
    "pandas.options.mode.chained_assignment = None\n",
    "import sys\n",
    "import numpy as np\n",
    "from globsML.utils.preprocessing import rescale_data, select_galaxies, create_data_dict, replace_NaN\n",
    "from globsML.models.skmodels import StandardClassifier\n",
    "\n",
    "data_path = '../../../data/ACS_sources_original.csv'\n",
    "data = pandas.read_csv(data_path)\n",
    "test_galaxies = set(data[data['cluster']=='Fornax']['galaxy'].unique())"
   ]
  },
  {
   "cell_type": "code",
   "execution_count": 2,
   "id": "3d04334c",
   "metadata": {},
   "outputs": [
    {
     "name": "stdout",
     "output_type": "stream",
     "text": [
      "Number of sources in training split after dropping rows with NaN as CI/m/color: 61468\n",
      "1694 sources have been dropped.\n",
      "NaN values in testing data have been replaced with the correspnding median value observed in the training split\n"
     ]
    },
    {
     "name": "stderr",
     "output_type": "stream",
     "text": [
      "100%|█████████████████████████████████████████████████████████████████████████████████| 29/29 [00:00<00:00, 2735.52it/s]"
     ]
    },
    {
     "name": "stdout",
     "output_type": "stream",
     "text": [
      "eccentricity will not be transformed. Skipped.\n",
      "eccentricity_z will not be transformed. Skipped.\n"
     ]
    },
    {
     "name": "stderr",
     "output_type": "stream",
     "text": [
      "\n"
     ]
    }
   ],
   "source": [
    "df_train, dfs_test = select_galaxies(data, test_galaxies = test_galaxies)\n",
    "df_train, dfs_test = replace_NaN(df_train, dfs_test)\n",
    "df = create_data_dict(data, df_train, dfs_test)\n",
    "df, _ = rescale_data(df)\n",
    "\n",
    "input_dim = len(df['train']['inputs'][0])"
   ]
  },
  {
   "cell_type": "markdown",
   "id": "462a4b10",
   "metadata": {},
   "source": [
    "### Train model"
   ]
  },
  {
   "cell_type": "code",
   "execution_count": 21,
   "id": "6ac0682d",
   "metadata": {},
   "outputs": [
    {
     "name": "stdout",
     "output_type": "stream",
     "text": [
      "Loading data...\n",
      "Fitting model...\n"
     ]
    },
    {
     "name": "stderr",
     "output_type": "stream",
     "text": [
      "                                                                                                                        \r"
     ]
    },
    {
     "name": "stdout",
     "output_type": "stream",
     "text": [
      "NEW BEST!\n",
      "EPOCH 0: tpr = 0.8022151898734177 and fdr = 0.07650273224043716\n"
     ]
    },
    {
     "name": "stderr",
     "output_type": "stream",
     "text": [
      "                                                                                                                        \r"
     ]
    },
    {
     "name": "stdout",
     "output_type": "stream",
     "text": [
      "NEW BEST!\n",
      "EPOCH 1: tpr = 0.879746835443038 and fdr = 0.05442176870748299\n"
     ]
    },
    {
     "name": "stderr",
     "output_type": "stream",
     "text": [
      "                                                                                                                        \r"
     ]
    },
    {
     "name": "stdout",
     "output_type": "stream",
     "text": [
      "NEW BEST!\n",
      "EPOCH 2: tpr = 0.9098101265822784 and fdr = 0.08146964856230032\n"
     ]
    },
    {
     "name": "stderr",
     "output_type": "stream",
     "text": [
      "                                                                                                                        \r"
     ]
    },
    {
     "name": "stdout",
     "output_type": "stream",
     "text": [
      "NEW BEST!\n",
      "EPOCH 3: tpr = 0.8987341772151899 and fdr = 0.06115702479338843\n"
     ]
    },
    {
     "name": "stderr",
     "output_type": "stream",
     "text": [
      "                                                                                                                        \r"
     ]
    },
    {
     "name": "stdout",
     "output_type": "stream",
     "text": [
      "NEW BEST!\n",
      "EPOCH 4: tpr = 0.9018987341772152 and fdr = 0.0625\n"
     ]
    },
    {
     "name": "stderr",
     "output_type": "stream",
     "text": [
      "                                                                                                                        \r"
     ]
    },
    {
     "name": "stdout",
     "output_type": "stream",
     "text": [
      "NEW BEST!\n",
      "EPOCH 5: tpr = 0.9003164556962026 and fdr = 0.05324459234608985\n"
     ]
    },
    {
     "name": "stderr",
     "output_type": "stream",
     "text": [
      "                                                                                                                        \r"
     ]
    },
    {
     "name": "stdout",
     "output_type": "stream",
     "text": [
      "EPOCH 6: tpr = 0.9034810126582279 and fdr = 0.06085526315789474\n"
     ]
    },
    {
     "name": "stderr",
     "output_type": "stream",
     "text": [
      "                                                                                                                        \r"
     ]
    },
    {
     "name": "stdout",
     "output_type": "stream",
     "text": [
      "EPOCH 7: tpr = 0.8955696202531646 and fdr = 0.05823627287853577\n"
     ]
    },
    {
     "name": "stderr",
     "output_type": "stream",
     "text": [
      "                                                                                                                        \r"
     ]
    },
    {
     "name": "stdout",
     "output_type": "stream",
     "text": [
      "EPOCH 8: tpr = 0.9034810126582279 and fdr = 0.05930807248764415\n"
     ]
    },
    {
     "name": "stderr",
     "output_type": "stream",
     "text": [
      "                                                                                                                        \r"
     ]
    },
    {
     "name": "stdout",
     "output_type": "stream",
     "text": [
      "EPOCH 9: tpr = 0.9003164556962026 and fdr = 0.05324459234608985\n"
     ]
    },
    {
     "name": "stderr",
     "output_type": "stream",
     "text": [
      "                                                                                                                        \r"
     ]
    },
    {
     "name": "stdout",
     "output_type": "stream",
     "text": [
      "NEW BEST!\n",
      "EPOCH 10: tpr = 0.9082278481012658 and fdr = 0.05747126436781609\n"
     ]
    },
    {
     "name": "stderr",
     "output_type": "stream",
     "text": [
      "                                                                                                                        \r"
     ]
    },
    {
     "name": "stdout",
     "output_type": "stream",
     "text": [
      "NEW BEST!\n",
      "EPOCH 11: tpr = 0.9018987341772152 and fdr = 0.05\n"
     ]
    },
    {
     "name": "stderr",
     "output_type": "stream",
     "text": [
      "                                                                                                                        \r"
     ]
    },
    {
     "name": "stdout",
     "output_type": "stream",
     "text": [
      "EPOCH 12: tpr = 0.9018987341772152 and fdr = 0.05785123966942149\n"
     ]
    },
    {
     "name": "stderr",
     "output_type": "stream",
     "text": [
      "                                                                                                                        \r"
     ]
    },
    {
     "name": "stdout",
     "output_type": "stream",
     "text": [
      "EPOCH 13: tpr = 0.9082278481012658 and fdr = 0.06514657980456026\n"
     ]
    },
    {
     "name": "stderr",
     "output_type": "stream",
     "text": [
      "                                                                                                                        \r"
     ]
    },
    {
     "name": "stdout",
     "output_type": "stream",
     "text": [
      "EPOCH 14: tpr = 0.8987341772151899 and fdr = 0.05490848585690516\n"
     ]
    },
    {
     "name": "stderr",
     "output_type": "stream",
     "text": [
      "                                                                                                                        \r"
     ]
    },
    {
     "name": "stdout",
     "output_type": "stream",
     "text": [
      "EPOCH 15: tpr = 0.8987341772151899 and fdr = 0.059602649006622516\n"
     ]
    },
    {
     "name": "stderr",
     "output_type": "stream",
     "text": [
      "                                                                                                                        \r"
     ]
    },
    {
     "name": "stdout",
     "output_type": "stream",
     "text": [
      "NEW BEST!\n",
      "EPOCH 16: tpr = 0.9082278481012658 and fdr = 0.05592105263157895\n"
     ]
    },
    {
     "name": "stderr",
     "output_type": "stream",
     "text": [
      "                                                                                                                        \r"
     ]
    },
    {
     "name": "stdout",
     "output_type": "stream",
     "text": [
      "EPOCH 17: tpr = 0.8987341772151899 and fdr = 0.05333333333333334\n"
     ]
    },
    {
     "name": "stderr",
     "output_type": "stream",
     "text": [
      "                                                                                                                        \r"
     ]
    },
    {
     "name": "stdout",
     "output_type": "stream",
     "text": [
      "EPOCH 18: tpr = 0.9018987341772152 and fdr = 0.056291390728476824\n"
     ]
    },
    {
     "name": "stderr",
     "output_type": "stream",
     "text": [
      "                                                                                                                        \r"
     ]
    },
    {
     "name": "stdout",
     "output_type": "stream",
     "text": [
      "NEW BEST!\n",
      "EPOCH 19: tpr = 0.9034810126582279 and fdr = 0.04991680532445923\n"
     ]
    },
    {
     "name": "stderr",
     "output_type": "stream",
     "text": [
      "                                                                                                                        \r"
     ]
    },
    {
     "name": "stdout",
     "output_type": "stream",
     "text": [
      "EPOCH 20: tpr = 0.9003164556962026 and fdr = 0.05008347245409015\n"
     ]
    },
    {
     "name": "stderr",
     "output_type": "stream",
     "text": [
      "                                                                                                                        \r"
     ]
    },
    {
     "name": "stdout",
     "output_type": "stream",
     "text": [
      "EPOCH 21: tpr = 0.9113924050632911 and fdr = 0.06188925081433225\n"
     ]
    },
    {
     "name": "stderr",
     "output_type": "stream",
     "text": [
      "                                                                                                                        \r"
     ]
    },
    {
     "name": "stdout",
     "output_type": "stream",
     "text": [
      "EPOCH 22: tpr = 0.8987341772151899 and fdr = 0.05175292153589316\n"
     ]
    },
    {
     "name": "stderr",
     "output_type": "stream",
     "text": [
      "                                                                                                                        \r"
     ]
    },
    {
     "name": "stdout",
     "output_type": "stream",
     "text": [
      "EPOCH 23: tpr = 0.9050632911392406 and fdr = 0.056105610561056105\n"
     ]
    },
    {
     "name": "stderr",
     "output_type": "stream",
     "text": [
      "                                                                                                                        \r"
     ]
    },
    {
     "name": "stdout",
     "output_type": "stream",
     "text": [
      "EPOCH 24: tpr = 0.8908227848101266 and fdr = 0.04576271186440678\n"
     ]
    },
    {
     "name": "stderr",
     "output_type": "stream",
     "text": [
      "                                                                                                                        \r"
     ]
    },
    {
     "name": "stdout",
     "output_type": "stream",
     "text": [
      "NEW BEST!\n",
      "EPOCH 25: tpr = 0.9082278481012658 and fdr = 0.054365733113673806\n"
     ]
    },
    {
     "name": "stderr",
     "output_type": "stream",
     "text": [
      "                                                                                                                        \r"
     ]
    },
    {
     "name": "stdout",
     "output_type": "stream",
     "text": [
      "NEW BEST!\n",
      "EPOCH 26: tpr = 0.9050632911392406 and fdr = 0.04983388704318937\n"
     ]
    },
    {
     "name": "stderr",
     "output_type": "stream",
     "text": [
      "                                                                                                                        \r"
     ]
    },
    {
     "name": "stdout",
     "output_type": "stream",
     "text": [
      "EPOCH 27: tpr = 0.9098101265822784 and fdr = 0.058919803600654665\n"
     ]
    },
    {
     "name": "stderr",
     "output_type": "stream",
     "text": [
      "                                                                                                                        \r"
     ]
    },
    {
     "name": "stdout",
     "output_type": "stream",
     "text": [
      "EPOCH 28: tpr = 0.9066455696202531 and fdr = 0.05289256198347107\n"
     ]
    },
    {
     "name": "stderr",
     "output_type": "stream",
     "text": [
      "                                                                                                                        \r"
     ]
    },
    {
     "name": "stdout",
     "output_type": "stream",
     "text": [
      "EPOCH 29: tpr = 0.8939873417721519 and fdr = 0.05042016806722689\n"
     ]
    },
    {
     "name": "stderr",
     "output_type": "stream",
     "text": [
      "                                                                                                                        \r"
     ]
    },
    {
     "name": "stdout",
     "output_type": "stream",
     "text": [
      "EPOCH 30: tpr = 0.9034810126582279 and fdr = 0.05149501661129568\n"
     ]
    },
    {
     "name": "stderr",
     "output_type": "stream",
     "text": [
      "                                                                                                                        \r"
     ]
    },
    {
     "name": "stdout",
     "output_type": "stream",
     "text": [
      "EPOCH 31: tpr = 0.9082278481012658 and fdr = 0.05747126436781609\n"
     ]
    },
    {
     "name": "stderr",
     "output_type": "stream",
     "text": [
      "                                                                                                                        \r"
     ]
    },
    {
     "name": "stdout",
     "output_type": "stream",
     "text": [
      "EPOCH 32: tpr = 0.9129746835443038 and fdr = 0.061788617886178863\n"
     ]
    },
    {
     "name": "stderr",
     "output_type": "stream",
     "text": [
      "                                                                                                                        \r"
     ]
    },
    {
     "name": "stdout",
     "output_type": "stream",
     "text": [
      "EPOCH 33: tpr = 0.9050632911392406 and fdr = 0.057660626029654036\n"
     ]
    },
    {
     "name": "stderr",
     "output_type": "stream",
     "text": [
      "                                                                                                                        \r"
     ]
    },
    {
     "name": "stdout",
     "output_type": "stream",
     "text": [
      "EPOCH 34: tpr = 0.8971518987341772 and fdr = 0.045454545454545456\n"
     ]
    },
    {
     "name": "stderr",
     "output_type": "stream",
     "text": [
      "                                                                                                                        \r"
     ]
    },
    {
     "name": "stdout",
     "output_type": "stream",
     "text": [
      "EPOCH 35: tpr = 0.9161392405063291 and fdr = 0.06763285024154589\n"
     ]
    },
    {
     "name": "stderr",
     "output_type": "stream",
     "text": [
      "                                                                                                                        \r"
     ]
    },
    {
     "name": "stdout",
     "output_type": "stream",
     "text": [
      "EPOCH 36: tpr = 0.9018987341772152 and fdr = 0.05\n"
     ]
    },
    {
     "name": "stderr",
     "output_type": "stream",
     "text": [
      "                                                                                                                        \r"
     ]
    },
    {
     "name": "stdout",
     "output_type": "stream",
     "text": [
      "EPOCH 37: tpr = 0.9193037974683544 and fdr = 0.06591639871382636\n"
     ]
    },
    {
     "name": "stderr",
     "output_type": "stream",
     "text": [
      "                                                                                                                        \r"
     ]
    },
    {
     "name": "stdout",
     "output_type": "stream",
     "text": [
      "EPOCH 38: tpr = 0.9129746835443038 and fdr = 0.05872756933115824\n"
     ]
    },
    {
     "name": "stderr",
     "output_type": "stream",
     "text": [
      "                                                                                                                        \r"
     ]
    },
    {
     "name": "stdout",
     "output_type": "stream",
     "text": [
      "EPOCH 39: tpr = 0.9113924050632911 and fdr = 0.057283142389525366\n"
     ]
    },
    {
     "name": "stderr",
     "output_type": "stream",
     "text": [
      "                                                                                                                        \r"
     ]
    },
    {
     "name": "stdout",
     "output_type": "stream",
     "text": [
      "EPOCH 40: tpr = 0.9082278481012658 and fdr = 0.05901639344262295\n"
     ]
    },
    {
     "name": "stderr",
     "output_type": "stream",
     "text": [
      "                                                                                                                        \r"
     ]
    },
    {
     "name": "stdout",
     "output_type": "stream",
     "text": [
      "EPOCH 41: tpr = 0.9003164556962026 and fdr = 0.05324459234608985\n"
     ]
    },
    {
     "name": "stderr",
     "output_type": "stream",
     "text": [
      "                                                                                                                        \r"
     ]
    },
    {
     "name": "stdout",
     "output_type": "stream",
     "text": [
      "EPOCH 42: tpr = 0.9129746835443038 and fdr = 0.05872756933115824\n"
     ]
    },
    {
     "name": "stderr",
     "output_type": "stream",
     "text": [
      "                                                                                                                        \r"
     ]
    },
    {
     "name": "stdout",
     "output_type": "stream",
     "text": [
      "EPOCH 43: tpr = 0.9098101265822784 and fdr = 0.05582922824302135\n"
     ]
    },
    {
     "name": "stderr",
     "output_type": "stream",
     "text": [
      "                                                                                                                        \r"
     ]
    },
    {
     "name": "stdout",
     "output_type": "stream",
     "text": [
      "EPOCH 44: tpr = 0.9145569620253164 and fdr = 0.06472491909385113\n"
     ]
    },
    {
     "name": "stderr",
     "output_type": "stream",
     "text": [
      "                                                                                                                        \r"
     ]
    },
    {
     "name": "stdout",
     "output_type": "stream",
     "text": [
      "EPOCH 45: tpr = 0.9098101265822784 and fdr = 0.05582922824302135\n"
     ]
    },
    {
     "name": "stderr",
     "output_type": "stream",
     "text": [
      "                                                                                                                        \r"
     ]
    },
    {
     "name": "stdout",
     "output_type": "stream",
     "text": [
      "EPOCH 46: tpr = 0.9145569620253164 and fdr = 0.06168831168831169\n"
     ]
    },
    {
     "name": "stderr",
     "output_type": "stream",
     "text": [
      "                                                                                                                        \r"
     ]
    },
    {
     "name": "stdout",
     "output_type": "stream",
     "text": [
      "EPOCH 47: tpr = 0.9034810126582279 and fdr = 0.04833333333333333\n"
     ]
    },
    {
     "name": "stderr",
     "output_type": "stream",
     "text": [
      "                                                                                                                        \r"
     ]
    },
    {
     "name": "stdout",
     "output_type": "stream",
     "text": [
      "EPOCH 48: tpr = 0.9129746835443038 and fdr = 0.061788617886178863\n"
     ]
    },
    {
     "name": "stderr",
     "output_type": "stream",
     "text": [
      "                                                                                                                        \r"
     ]
    },
    {
     "name": "stdout",
     "output_type": "stream",
     "text": [
      "EPOCH 49: tpr = 0.9129746835443038 and fdr = 0.05872756933115824\n"
     ]
    },
    {
     "name": "stderr",
     "output_type": "stream",
     "text": [
      "                                                                                                                        \r"
     ]
    },
    {
     "name": "stdout",
     "output_type": "stream",
     "text": [
      "EPOCH 50: tpr = 0.9129746835443038 and fdr = 0.06634304207119741\n"
     ]
    },
    {
     "name": "stderr",
     "output_type": "stream",
     "text": [
      "                                                                                                                        \r"
     ]
    },
    {
     "name": "stdout",
     "output_type": "stream",
     "text": [
      "EPOCH 51: tpr = 0.9082278481012658 and fdr = 0.05901639344262295\n"
     ]
    },
    {
     "name": "stderr",
     "output_type": "stream",
     "text": [
      "                                                                                                                        \r"
     ]
    },
    {
     "name": "stdout",
     "output_type": "stream",
     "text": [
      "EPOCH 52: tpr = 0.9098101265822784 and fdr = 0.06045751633986928\n"
     ]
    },
    {
     "name": "stderr",
     "output_type": "stream",
     "text": [
      "                                                                                                                        \r"
     ]
    },
    {
     "name": "stdout",
     "output_type": "stream",
     "text": [
      "NEW BEST!\n",
      "EPOCH 53: tpr = 0.9161392405063291 and fdr = 0.05853658536585366\n"
     ]
    },
    {
     "name": "stderr",
     "output_type": "stream",
     "text": [
      "                                                                                                                        \r"
     ]
    },
    {
     "name": "stdout",
     "output_type": "stream",
     "text": [
      "EPOCH 54: tpr = 0.9177215189873418 and fdr = 0.0630048465266559\n"
     ]
    },
    {
     "name": "stderr",
     "output_type": "stream",
     "text": [
      "                                                                                                                        \r"
     ]
    },
    {
     "name": "stdout",
     "output_type": "stream",
     "text": [
      "EPOCH 55: tpr = 0.9098101265822784 and fdr = 0.06199021207177814\n"
     ]
    },
    {
     "name": "stderr",
     "output_type": "stream",
     "text": [
      "                                                                                                                        \r"
     ]
    },
    {
     "name": "stdout",
     "output_type": "stream",
     "text": [
      "EPOCH 56: tpr = 0.9129746835443038 and fdr = 0.0633116883116883\n"
     ]
    },
    {
     "name": "stderr",
     "output_type": "stream",
     "text": [
      "                                                                                                                        \r"
     ]
    },
    {
     "name": "stdout",
     "output_type": "stream",
     "text": [
      "EPOCH 57: tpr = 0.9161392405063291 and fdr = 0.06310679611650485\n"
     ]
    },
    {
     "name": "stderr",
     "output_type": "stream",
     "text": [
      "                                                                                                                        \r"
     ]
    },
    {
     "name": "stdout",
     "output_type": "stream",
     "text": [
      "EPOCH 58: tpr = 0.9161392405063291 and fdr = 0.05853658536585366\n"
     ]
    },
    {
     "name": "stderr",
     "output_type": "stream",
     "text": [
      "                                                                                                                        \r"
     ]
    },
    {
     "name": "stdout",
     "output_type": "stream",
     "text": [
      "EPOCH 59: tpr = 0.8987341772151899 and fdr = 0.048576214405360134\n"
     ]
    }
   ],
   "source": [
    "model = StandardClassifier(method='mlp', input_dim=input_dim, data=df)"
   ]
  },
  {
   "cell_type": "code",
   "execution_count": 22,
   "id": "c50d61e8",
   "metadata": {},
   "outputs": [
    {
     "name": "stderr",
     "output_type": "stream",
     "text": [
      "/home/dodo/anaconda3/lib/python3.8/site-packages/numpy/core/fromnumeric.py:3440: RuntimeWarning: Mean of empty slice.\n",
      "  return _methods._mean(a, axis=axis, dtype=dtype,\n",
      "/home/dodo/anaconda3/lib/python3.8/site-packages/numpy/core/_methods.py:189: RuntimeWarning: invalid value encountered in double_scalars\n",
      "  ret = ret.dtype.type(ret / rcount)\n"
     ]
    }
   ],
   "source": [
    "model.val()"
   ]
  },
  {
   "cell_type": "code",
   "execution_count": 23,
   "id": "cf889402",
   "metadata": {},
   "outputs": [
    {
     "data": {
      "text/html": [
       "<div>\n",
       "<style scoped>\n",
       "    .dataframe tbody tr th:only-of-type {\n",
       "        vertical-align: middle;\n",
       "    }\n",
       "\n",
       "    .dataframe tbody tr th {\n",
       "        vertical-align: top;\n",
       "    }\n",
       "\n",
       "    .dataframe thead th {\n",
       "        text-align: right;\n",
       "    }\n",
       "</style>\n",
       "<table border=\"1\" class=\"dataframe\">\n",
       "  <thead>\n",
       "    <tr style=\"text-align: right;\">\n",
       "      <th></th>\n",
       "      <th>TPR</th>\n",
       "      <th>FDR</th>\n",
       "      <th>FPR</th>\n",
       "      <th>AUC(FDR,TPR)</th>\n",
       "      <th>AUC(FPR,TPR)</th>\n",
       "      <th># found GCs</th>\n",
       "      <th># total GCs</th>\n",
       "      <th># fake GCs</th>\n",
       "      <th># sources</th>\n",
       "    </tr>\n",
       "  </thead>\n",
       "  <tbody>\n",
       "    <tr>\n",
       "      <th>0</th>\n",
       "      <td>0.927215</td>\n",
       "      <td>0.071315</td>\n",
       "      <td>0.018428</td>\n",
       "      <td>0.978216</td>\n",
       "      <td>0.995448</td>\n",
       "      <td>586</td>\n",
       "      <td>632</td>\n",
       "      <td>45</td>\n",
       "      <td>3074</td>\n",
       "    </tr>\n",
       "  </tbody>\n",
       "</table>\n",
       "</div>"
      ],
      "text/plain": [
       "        TPR       FDR       FPR  AUC(FDR,TPR)  AUC(FPR,TPR)  # found GCs  \\\n",
       "0  0.927215  0.071315  0.018428      0.978216      0.995448          586   \n",
       "\n",
       "   # total GCs  # fake GCs  # sources  \n",
       "0          632          45       3074  "
      ]
     },
     "execution_count": 23,
     "metadata": {},
     "output_type": "execute_result"
    }
   ],
   "source": [
    "model.stats_validation"
   ]
  },
  {
   "cell_type": "code",
   "execution_count": 24,
   "id": "ac664799",
   "metadata": {},
   "outputs": [
    {
     "name": "stderr",
     "output_type": "stream",
     "text": [
      "/home/dodo/anaconda3/lib/python3.8/site-packages/numpy/core/fromnumeric.py:3440: RuntimeWarning: Mean of empty slice.\n",
      "  return _methods._mean(a, axis=axis, dtype=dtype,\n",
      "/home/dodo/anaconda3/lib/python3.8/site-packages/numpy/core/_methods.py:189: RuntimeWarning: invalid value encountered in double_scalars\n",
      "  ret = ret.dtype.type(ret / rcount)\n",
      "/home/dodo/git/globsML/globsML/utils/eval.py:146: RuntimeWarning: divide by zero encountered in double_scalars\n",
      "  return auc(x,y)/(2*auc([0,x[-1]], [0,y[-1]])), x, y\n"
     ]
    }
   ],
   "source": [
    "model.test()"
   ]
  },
  {
   "cell_type": "code",
   "execution_count": 25,
   "id": "701df614",
   "metadata": {},
   "outputs": [
    {
     "data": {
      "text/html": [
       "<div>\n",
       "<style scoped>\n",
       "    .dataframe tbody tr th:only-of-type {\n",
       "        vertical-align: middle;\n",
       "    }\n",
       "\n",
       "    .dataframe tbody tr th {\n",
       "        vertical-align: top;\n",
       "    }\n",
       "\n",
       "    .dataframe thead th {\n",
       "        text-align: right;\n",
       "    }\n",
       "</style>\n",
       "<table border=\"1\" class=\"dataframe\">\n",
       "  <thead>\n",
       "    <tr style=\"text-align: right;\">\n",
       "      <th></th>\n",
       "      <th>Galaxy</th>\n",
       "      <th>TPR</th>\n",
       "      <th>FDR</th>\n",
       "      <th>FPR</th>\n",
       "      <th>AUC(FDR,TPR)</th>\n",
       "      <th>AUC(FPR,TPR)</th>\n",
       "      <th># found GCs</th>\n",
       "      <th># total GCs</th>\n",
       "      <th># fake GCs</th>\n",
       "      <th># sources</th>\n",
       "    </tr>\n",
       "  </thead>\n",
       "  <tbody>\n",
       "    <tr>\n",
       "      <th>0</th>\n",
       "      <td>FCC204</td>\n",
       "      <td>0.764706</td>\n",
       "      <td>0.458333</td>\n",
       "      <td>0.024887</td>\n",
       "      <td>0.643255</td>\n",
       "      <td>0.983431</td>\n",
       "      <td>13</td>\n",
       "      <td>17</td>\n",
       "      <td>11</td>\n",
       "      <td>459</td>\n",
       "    </tr>\n",
       "    <tr>\n",
       "      <th>1</th>\n",
       "      <td>FCC148</td>\n",
       "      <td>0.976190</td>\n",
       "      <td>0.098901</td>\n",
       "      <td>0.026786</td>\n",
       "      <td>0.984720</td>\n",
       "      <td>0.996492</td>\n",
       "      <td>82</td>\n",
       "      <td>84</td>\n",
       "      <td>9</td>\n",
       "      <td>420</td>\n",
       "    </tr>\n",
       "    <tr>\n",
       "      <th>2</th>\n",
       "      <td>FCC213</td>\n",
       "      <td>0.944497</td>\n",
       "      <td>0.033686</td>\n",
       "      <td>0.106707</td>\n",
       "      <td>0.957182</td>\n",
       "      <td>0.971828</td>\n",
       "      <td>1004</td>\n",
       "      <td>1063</td>\n",
       "      <td>35</td>\n",
       "      <td>1391</td>\n",
       "    </tr>\n",
       "    <tr>\n",
       "      <th>3</th>\n",
       "      <td>FCC100</td>\n",
       "      <td>0.852941</td>\n",
       "      <td>0.275000</td>\n",
       "      <td>0.032836</td>\n",
       "      <td>0.859168</td>\n",
       "      <td>0.985382</td>\n",
       "      <td>29</td>\n",
       "      <td>34</td>\n",
       "      <td>11</td>\n",
       "      <td>369</td>\n",
       "    </tr>\n",
       "    <tr>\n",
       "      <th>4</th>\n",
       "      <td>FCC152</td>\n",
       "      <td>0.625000</td>\n",
       "      <td>0.411765</td>\n",
       "      <td>0.018325</td>\n",
       "      <td>0.687805</td>\n",
       "      <td>0.980285</td>\n",
       "      <td>10</td>\n",
       "      <td>16</td>\n",
       "      <td>7</td>\n",
       "      <td>398</td>\n",
       "    </tr>\n",
       "    <tr>\n",
       "      <th>5</th>\n",
       "      <td>IC2006</td>\n",
       "      <td>0.954198</td>\n",
       "      <td>0.087591</td>\n",
       "      <td>0.039474</td>\n",
       "      <td>0.986398</td>\n",
       "      <td>0.995367</td>\n",
       "      <td>125</td>\n",
       "      <td>131</td>\n",
       "      <td>12</td>\n",
       "      <td>435</td>\n",
       "    </tr>\n",
       "    <tr>\n",
       "      <th>6</th>\n",
       "      <td>FCC21</td>\n",
       "      <td>0.912763</td>\n",
       "      <td>0.251656</td>\n",
       "      <td>0.280650</td>\n",
       "      <td>0.834002</td>\n",
       "      <td>0.918381</td>\n",
       "      <td>565</td>\n",
       "      <td>619</td>\n",
       "      <td>190</td>\n",
       "      <td>1296</td>\n",
       "    </tr>\n",
       "    <tr>\n",
       "      <th>7</th>\n",
       "      <td>FCC184</td>\n",
       "      <td>0.957516</td>\n",
       "      <td>0.048701</td>\n",
       "      <td>0.038560</td>\n",
       "      <td>0.990327</td>\n",
       "      <td>0.995623</td>\n",
       "      <td>293</td>\n",
       "      <td>306</td>\n",
       "      <td>15</td>\n",
       "      <td>695</td>\n",
       "    </tr>\n",
       "    <tr>\n",
       "      <th>8</th>\n",
       "      <td>FCC182</td>\n",
       "      <td>0.896552</td>\n",
       "      <td>0.161290</td>\n",
       "      <td>0.028818</td>\n",
       "      <td>0.944629</td>\n",
       "      <td>0.974535</td>\n",
       "      <td>52</td>\n",
       "      <td>58</td>\n",
       "      <td>10</td>\n",
       "      <td>405</td>\n",
       "    </tr>\n",
       "    <tr>\n",
       "      <th>9</th>\n",
       "      <td>FCC47</td>\n",
       "      <td>0.959707</td>\n",
       "      <td>0.054152</td>\n",
       "      <td>0.041436</td>\n",
       "      <td>0.980625</td>\n",
       "      <td>0.992133</td>\n",
       "      <td>262</td>\n",
       "      <td>273</td>\n",
       "      <td>15</td>\n",
       "      <td>635</td>\n",
       "    </tr>\n",
       "    <tr>\n",
       "      <th>10</th>\n",
       "      <td>FCC202</td>\n",
       "      <td>0.956710</td>\n",
       "      <td>0.063559</td>\n",
       "      <td>0.037037</td>\n",
       "      <td>0.973779</td>\n",
       "      <td>0.991337</td>\n",
       "      <td>221</td>\n",
       "      <td>231</td>\n",
       "      <td>15</td>\n",
       "      <td>636</td>\n",
       "    </tr>\n",
       "    <tr>\n",
       "      <th>11</th>\n",
       "      <td>FCC288</td>\n",
       "      <td>0.647059</td>\n",
       "      <td>0.521739</td>\n",
       "      <td>0.036810</td>\n",
       "      <td>0.622368</td>\n",
       "      <td>0.975460</td>\n",
       "      <td>11</td>\n",
       "      <td>17</td>\n",
       "      <td>12</td>\n",
       "      <td>343</td>\n",
       "    </tr>\n",
       "    <tr>\n",
       "      <th>12</th>\n",
       "      <td>FCC106</td>\n",
       "      <td>0.800000</td>\n",
       "      <td>0.368421</td>\n",
       "      <td>0.022364</td>\n",
       "      <td>0.767347</td>\n",
       "      <td>0.919915</td>\n",
       "      <td>12</td>\n",
       "      <td>15</td>\n",
       "      <td>7</td>\n",
       "      <td>328</td>\n",
       "    </tr>\n",
       "    <tr>\n",
       "      <th>13</th>\n",
       "      <td>FCC276</td>\n",
       "      <td>0.961003</td>\n",
       "      <td>0.054795</td>\n",
       "      <td>0.058824</td>\n",
       "      <td>0.978365</td>\n",
       "      <td>0.989616</td>\n",
       "      <td>345</td>\n",
       "      <td>359</td>\n",
       "      <td>20</td>\n",
       "      <td>699</td>\n",
       "    </tr>\n",
       "    <tr>\n",
       "      <th>14</th>\n",
       "      <td>NGC1340</td>\n",
       "      <td>0.925926</td>\n",
       "      <td>0.116608</td>\n",
       "      <td>0.090659</td>\n",
       "      <td>0.958801</td>\n",
       "      <td>0.979686</td>\n",
       "      <td>250</td>\n",
       "      <td>270</td>\n",
       "      <td>33</td>\n",
       "      <td>634</td>\n",
       "    </tr>\n",
       "    <tr>\n",
       "      <th>15</th>\n",
       "      <td>FCC143</td>\n",
       "      <td>0.951613</td>\n",
       "      <td>0.157143</td>\n",
       "      <td>0.033742</td>\n",
       "      <td>inf</td>\n",
       "      <td>0.994286</td>\n",
       "      <td>59</td>\n",
       "      <td>62</td>\n",
       "      <td>11</td>\n",
       "      <td>388</td>\n",
       "    </tr>\n",
       "    <tr>\n",
       "      <th>16</th>\n",
       "      <td>FCC119</td>\n",
       "      <td>0.588235</td>\n",
       "      <td>0.473684</td>\n",
       "      <td>0.021951</td>\n",
       "      <td>0.638932</td>\n",
       "      <td>0.978336</td>\n",
       "      <td>10</td>\n",
       "      <td>17</td>\n",
       "      <td>9</td>\n",
       "      <td>427</td>\n",
       "    </tr>\n",
       "    <tr>\n",
       "      <th>17</th>\n",
       "      <td>FCC301</td>\n",
       "      <td>0.800000</td>\n",
       "      <td>0.200000</td>\n",
       "      <td>0.012384</td>\n",
       "      <td>0.836054</td>\n",
       "      <td>0.990712</td>\n",
       "      <td>16</td>\n",
       "      <td>20</td>\n",
       "      <td>4</td>\n",
       "      <td>343</td>\n",
       "    </tr>\n",
       "    <tr>\n",
       "      <th>18</th>\n",
       "      <td>FCC95</td>\n",
       "      <td>0.857143</td>\n",
       "      <td>0.100000</td>\n",
       "      <td>0.005391</td>\n",
       "      <td>0.929523</td>\n",
       "      <td>0.996599</td>\n",
       "      <td>18</td>\n",
       "      <td>21</td>\n",
       "      <td>2</td>\n",
       "      <td>392</td>\n",
       "    </tr>\n",
       "    <tr>\n",
       "      <th>19</th>\n",
       "      <td>FCC63</td>\n",
       "      <td>0.951754</td>\n",
       "      <td>0.056522</td>\n",
       "      <td>0.037791</td>\n",
       "      <td>0.979967</td>\n",
       "      <td>0.991126</td>\n",
       "      <td>217</td>\n",
       "      <td>228</td>\n",
       "      <td>13</td>\n",
       "      <td>572</td>\n",
       "    </tr>\n",
       "    <tr>\n",
       "      <th>20</th>\n",
       "      <td>FCC203</td>\n",
       "      <td>0.833333</td>\n",
       "      <td>0.193548</td>\n",
       "      <td>0.017544</td>\n",
       "      <td>0.894036</td>\n",
       "      <td>0.975390</td>\n",
       "      <td>25</td>\n",
       "      <td>30</td>\n",
       "      <td>6</td>\n",
       "      <td>372</td>\n",
       "    </tr>\n",
       "    <tr>\n",
       "      <th>21</th>\n",
       "      <td>FCC83</td>\n",
       "      <td>0.951493</td>\n",
       "      <td>0.055556</td>\n",
       "      <td>0.035971</td>\n",
       "      <td>0.963704</td>\n",
       "      <td>0.986837</td>\n",
       "      <td>255</td>\n",
       "      <td>268</td>\n",
       "      <td>15</td>\n",
       "      <td>685</td>\n",
       "    </tr>\n",
       "    <tr>\n",
       "      <th>22</th>\n",
       "      <td>FCC26</td>\n",
       "      <td>0.863636</td>\n",
       "      <td>0.366667</td>\n",
       "      <td>0.026005</td>\n",
       "      <td>0.862179</td>\n",
       "      <td>0.985923</td>\n",
       "      <td>19</td>\n",
       "      <td>22</td>\n",
       "      <td>11</td>\n",
       "      <td>445</td>\n",
       "    </tr>\n",
       "    <tr>\n",
       "      <th>23</th>\n",
       "      <td>FCC153</td>\n",
       "      <td>0.915254</td>\n",
       "      <td>0.280000</td>\n",
       "      <td>0.054124</td>\n",
       "      <td>0.906525</td>\n",
       "      <td>0.987354</td>\n",
       "      <td>54</td>\n",
       "      <td>59</td>\n",
       "      <td>21</td>\n",
       "      <td>447</td>\n",
       "    </tr>\n",
       "    <tr>\n",
       "      <th>24</th>\n",
       "      <td>FCC193</td>\n",
       "      <td>0.888889</td>\n",
       "      <td>0.200000</td>\n",
       "      <td>0.035088</td>\n",
       "      <td>0.887765</td>\n",
       "      <td>0.984990</td>\n",
       "      <td>40</td>\n",
       "      <td>45</td>\n",
       "      <td>10</td>\n",
       "      <td>330</td>\n",
       "    </tr>\n",
       "    <tr>\n",
       "      <th>25</th>\n",
       "      <td>FCC90</td>\n",
       "      <td>0.842105</td>\n",
       "      <td>0.384615</td>\n",
       "      <td>0.026954</td>\n",
       "      <td>0.854540</td>\n",
       "      <td>0.963612</td>\n",
       "      <td>16</td>\n",
       "      <td>19</td>\n",
       "      <td>10</td>\n",
       "      <td>390</td>\n",
       "    </tr>\n",
       "    <tr>\n",
       "      <th>26</th>\n",
       "      <td>FCC190</td>\n",
       "      <td>0.935484</td>\n",
       "      <td>0.052288</td>\n",
       "      <td>0.021918</td>\n",
       "      <td>0.973686</td>\n",
       "      <td>0.989686</td>\n",
       "      <td>145</td>\n",
       "      <td>155</td>\n",
       "      <td>8</td>\n",
       "      <td>520</td>\n",
       "    </tr>\n",
       "    <tr>\n",
       "      <th>27</th>\n",
       "      <td>FCC255</td>\n",
       "      <td>0.937500</td>\n",
       "      <td>0.137931</td>\n",
       "      <td>0.030227</td>\n",
       "      <td>0.971730</td>\n",
       "      <td>0.994695</td>\n",
       "      <td>75</td>\n",
       "      <td>80</td>\n",
       "      <td>12</td>\n",
       "      <td>477</td>\n",
       "    </tr>\n",
       "    <tr>\n",
       "      <th>28</th>\n",
       "      <td>FCC303</td>\n",
       "      <td>0.952381</td>\n",
       "      <td>0.310345</td>\n",
       "      <td>0.028571</td>\n",
       "      <td>0.928994</td>\n",
       "      <td>0.994029</td>\n",
       "      <td>20</td>\n",
       "      <td>21</td>\n",
       "      <td>9</td>\n",
       "      <td>336</td>\n",
       "    </tr>\n",
       "    <tr>\n",
       "      <th>29</th>\n",
       "      <td>FCC277</td>\n",
       "      <td>0.875000</td>\n",
       "      <td>0.285714</td>\n",
       "      <td>0.042296</td>\n",
       "      <td>0.848918</td>\n",
       "      <td>0.981458</td>\n",
       "      <td>35</td>\n",
       "      <td>40</td>\n",
       "      <td>14</td>\n",
       "      <td>371</td>\n",
       "    </tr>\n",
       "    <tr>\n",
       "      <th>30</th>\n",
       "      <td>FCC249</td>\n",
       "      <td>0.858065</td>\n",
       "      <td>0.089041</td>\n",
       "      <td>0.044218</td>\n",
       "      <td>0.933049</td>\n",
       "      <td>0.972756</td>\n",
       "      <td>133</td>\n",
       "      <td>155</td>\n",
       "      <td>13</td>\n",
       "      <td>449</td>\n",
       "    </tr>\n",
       "    <tr>\n",
       "      <th>31</th>\n",
       "      <td>FCC147</td>\n",
       "      <td>0.955272</td>\n",
       "      <td>0.035484</td>\n",
       "      <td>0.041353</td>\n",
       "      <td>0.976984</td>\n",
       "      <td>0.988752</td>\n",
       "      <td>299</td>\n",
       "      <td>313</td>\n",
       "      <td>11</td>\n",
       "      <td>579</td>\n",
       "    </tr>\n",
       "    <tr>\n",
       "      <th>32</th>\n",
       "      <td>FCC170</td>\n",
       "      <td>0.929577</td>\n",
       "      <td>0.305263</td>\n",
       "      <td>0.096026</td>\n",
       "      <td>0.822903</td>\n",
       "      <td>0.957653</td>\n",
       "      <td>66</td>\n",
       "      <td>71</td>\n",
       "      <td>29</td>\n",
       "      <td>373</td>\n",
       "    </tr>\n",
       "    <tr>\n",
       "      <th>33</th>\n",
       "      <td>FCC19</td>\n",
       "      <td>0.941176</td>\n",
       "      <td>0.384615</td>\n",
       "      <td>0.028090</td>\n",
       "      <td>0.828349</td>\n",
       "      <td>0.991077</td>\n",
       "      <td>16</td>\n",
       "      <td>17</td>\n",
       "      <td>10</td>\n",
       "      <td>373</td>\n",
       "    </tr>\n",
       "    <tr>\n",
       "      <th>34</th>\n",
       "      <td>FCC310</td>\n",
       "      <td>0.923077</td>\n",
       "      <td>0.181818</td>\n",
       "      <td>0.025237</td>\n",
       "      <td>0.934179</td>\n",
       "      <td>0.992639</td>\n",
       "      <td>36</td>\n",
       "      <td>39</td>\n",
       "      <td>8</td>\n",
       "      <td>356</td>\n",
       "    </tr>\n",
       "    <tr>\n",
       "      <th>35</th>\n",
       "      <td>FCC167</td>\n",
       "      <td>0.963504</td>\n",
       "      <td>0.059382</td>\n",
       "      <td>0.059382</td>\n",
       "      <td>0.980602</td>\n",
       "      <td>0.990635</td>\n",
       "      <td>396</td>\n",
       "      <td>411</td>\n",
       "      <td>25</td>\n",
       "      <td>832</td>\n",
       "    </tr>\n",
       "    <tr>\n",
       "      <th>36</th>\n",
       "      <td>FCC219</td>\n",
       "      <td>0.943396</td>\n",
       "      <td>0.041096</td>\n",
       "      <td>0.039894</td>\n",
       "      <td>0.965544</td>\n",
       "      <td>0.986810</td>\n",
       "      <td>350</td>\n",
       "      <td>371</td>\n",
       "      <td>15</td>\n",
       "      <td>747</td>\n",
       "    </tr>\n",
       "    <tr>\n",
       "      <th>37</th>\n",
       "      <td>FCC324</td>\n",
       "      <td>0.809524</td>\n",
       "      <td>0.291667</td>\n",
       "      <td>0.019284</td>\n",
       "      <td>0.775418</td>\n",
       "      <td>0.962613</td>\n",
       "      <td>17</td>\n",
       "      <td>21</td>\n",
       "      <td>7</td>\n",
       "      <td>384</td>\n",
       "    </tr>\n",
       "    <tr>\n",
       "      <th>38</th>\n",
       "      <td>FCC55</td>\n",
       "      <td>0.837838</td>\n",
       "      <td>0.060606</td>\n",
       "      <td>0.005618</td>\n",
       "      <td>0.944848</td>\n",
       "      <td>0.981817</td>\n",
       "      <td>31</td>\n",
       "      <td>37</td>\n",
       "      <td>2</td>\n",
       "      <td>393</td>\n",
       "    </tr>\n",
       "    <tr>\n",
       "      <th>39</th>\n",
       "      <td>FCC43</td>\n",
       "      <td>0.783784</td>\n",
       "      <td>0.194444</td>\n",
       "      <td>0.016627</td>\n",
       "      <td>0.915038</td>\n",
       "      <td>0.993035</td>\n",
       "      <td>29</td>\n",
       "      <td>37</td>\n",
       "      <td>7</td>\n",
       "      <td>458</td>\n",
       "    </tr>\n",
       "    <tr>\n",
       "      <th>40</th>\n",
       "      <td>FCC177</td>\n",
       "      <td>0.928571</td>\n",
       "      <td>0.293478</td>\n",
       "      <td>0.067669</td>\n",
       "      <td>0.855850</td>\n",
       "      <td>0.976728</td>\n",
       "      <td>65</td>\n",
       "      <td>70</td>\n",
       "      <td>27</td>\n",
       "      <td>469</td>\n",
       "    </tr>\n",
       "    <tr>\n",
       "      <th>41</th>\n",
       "      <td>FCC335</td>\n",
       "      <td>0.928571</td>\n",
       "      <td>0.551724</td>\n",
       "      <td>0.046243</td>\n",
       "      <td>0.821914</td>\n",
       "      <td>0.953344</td>\n",
       "      <td>13</td>\n",
       "      <td>14</td>\n",
       "      <td>16</td>\n",
       "      <td>360</td>\n",
       "    </tr>\n",
       "    <tr>\n",
       "      <th>42</th>\n",
       "      <td>FCC136</td>\n",
       "      <td>1.000000</td>\n",
       "      <td>0.324324</td>\n",
       "      <td>0.036254</td>\n",
       "      <td>0.944537</td>\n",
       "      <td>0.995589</td>\n",
       "      <td>25</td>\n",
       "      <td>25</td>\n",
       "      <td>12</td>\n",
       "      <td>356</td>\n",
       "    </tr>\n",
       "  </tbody>\n",
       "</table>\n",
       "</div>"
      ],
      "text/plain": [
       "     Galaxy       TPR       FDR       FPR  AUC(FDR,TPR)  AUC(FPR,TPR)  \\\n",
       "0    FCC204  0.764706  0.458333  0.024887      0.643255      0.983431   \n",
       "1    FCC148  0.976190  0.098901  0.026786      0.984720      0.996492   \n",
       "2    FCC213  0.944497  0.033686  0.106707      0.957182      0.971828   \n",
       "3    FCC100  0.852941  0.275000  0.032836      0.859168      0.985382   \n",
       "4    FCC152  0.625000  0.411765  0.018325      0.687805      0.980285   \n",
       "5    IC2006  0.954198  0.087591  0.039474      0.986398      0.995367   \n",
       "6     FCC21  0.912763  0.251656  0.280650      0.834002      0.918381   \n",
       "7    FCC184  0.957516  0.048701  0.038560      0.990327      0.995623   \n",
       "8    FCC182  0.896552  0.161290  0.028818      0.944629      0.974535   \n",
       "9     FCC47  0.959707  0.054152  0.041436      0.980625      0.992133   \n",
       "10   FCC202  0.956710  0.063559  0.037037      0.973779      0.991337   \n",
       "11   FCC288  0.647059  0.521739  0.036810      0.622368      0.975460   \n",
       "12   FCC106  0.800000  0.368421  0.022364      0.767347      0.919915   \n",
       "13   FCC276  0.961003  0.054795  0.058824      0.978365      0.989616   \n",
       "14  NGC1340  0.925926  0.116608  0.090659      0.958801      0.979686   \n",
       "15   FCC143  0.951613  0.157143  0.033742           inf      0.994286   \n",
       "16   FCC119  0.588235  0.473684  0.021951      0.638932      0.978336   \n",
       "17   FCC301  0.800000  0.200000  0.012384      0.836054      0.990712   \n",
       "18    FCC95  0.857143  0.100000  0.005391      0.929523      0.996599   \n",
       "19    FCC63  0.951754  0.056522  0.037791      0.979967      0.991126   \n",
       "20   FCC203  0.833333  0.193548  0.017544      0.894036      0.975390   \n",
       "21    FCC83  0.951493  0.055556  0.035971      0.963704      0.986837   \n",
       "22    FCC26  0.863636  0.366667  0.026005      0.862179      0.985923   \n",
       "23   FCC153  0.915254  0.280000  0.054124      0.906525      0.987354   \n",
       "24   FCC193  0.888889  0.200000  0.035088      0.887765      0.984990   \n",
       "25    FCC90  0.842105  0.384615  0.026954      0.854540      0.963612   \n",
       "26   FCC190  0.935484  0.052288  0.021918      0.973686      0.989686   \n",
       "27   FCC255  0.937500  0.137931  0.030227      0.971730      0.994695   \n",
       "28   FCC303  0.952381  0.310345  0.028571      0.928994      0.994029   \n",
       "29   FCC277  0.875000  0.285714  0.042296      0.848918      0.981458   \n",
       "30   FCC249  0.858065  0.089041  0.044218      0.933049      0.972756   \n",
       "31   FCC147  0.955272  0.035484  0.041353      0.976984      0.988752   \n",
       "32   FCC170  0.929577  0.305263  0.096026      0.822903      0.957653   \n",
       "33    FCC19  0.941176  0.384615  0.028090      0.828349      0.991077   \n",
       "34   FCC310  0.923077  0.181818  0.025237      0.934179      0.992639   \n",
       "35   FCC167  0.963504  0.059382  0.059382      0.980602      0.990635   \n",
       "36   FCC219  0.943396  0.041096  0.039894      0.965544      0.986810   \n",
       "37   FCC324  0.809524  0.291667  0.019284      0.775418      0.962613   \n",
       "38    FCC55  0.837838  0.060606  0.005618      0.944848      0.981817   \n",
       "39    FCC43  0.783784  0.194444  0.016627      0.915038      0.993035   \n",
       "40   FCC177  0.928571  0.293478  0.067669      0.855850      0.976728   \n",
       "41   FCC335  0.928571  0.551724  0.046243      0.821914      0.953344   \n",
       "42   FCC136  1.000000  0.324324  0.036254      0.944537      0.995589   \n",
       "\n",
       "    # found GCs  # total GCs  # fake GCs  # sources  \n",
       "0            13           17          11        459  \n",
       "1            82           84           9        420  \n",
       "2          1004         1063          35       1391  \n",
       "3            29           34          11        369  \n",
       "4            10           16           7        398  \n",
       "5           125          131          12        435  \n",
       "6           565          619         190       1296  \n",
       "7           293          306          15        695  \n",
       "8            52           58          10        405  \n",
       "9           262          273          15        635  \n",
       "10          221          231          15        636  \n",
       "11           11           17          12        343  \n",
       "12           12           15           7        328  \n",
       "13          345          359          20        699  \n",
       "14          250          270          33        634  \n",
       "15           59           62          11        388  \n",
       "16           10           17           9        427  \n",
       "17           16           20           4        343  \n",
       "18           18           21           2        392  \n",
       "19          217          228          13        572  \n",
       "20           25           30           6        372  \n",
       "21          255          268          15        685  \n",
       "22           19           22          11        445  \n",
       "23           54           59          21        447  \n",
       "24           40           45          10        330  \n",
       "25           16           19          10        390  \n",
       "26          145          155           8        520  \n",
       "27           75           80          12        477  \n",
       "28           20           21           9        336  \n",
       "29           35           40          14        371  \n",
       "30          133          155          13        449  \n",
       "31          299          313          11        579  \n",
       "32           66           71          29        373  \n",
       "33           16           17          10        373  \n",
       "34           36           39           8        356  \n",
       "35          396          411          25        832  \n",
       "36          350          371          15        747  \n",
       "37           17           21           7        384  \n",
       "38           31           37           2        393  \n",
       "39           29           37           7        458  \n",
       "40           65           70          27        469  \n",
       "41           13           14          16        360  \n",
       "42           25           25          12        356  "
      ]
     },
     "execution_count": 25,
     "metadata": {},
     "output_type": "execute_result"
    }
   ],
   "source": [
    "model.stats_galaxies"
   ]
  },
  {
   "cell_type": "code",
   "execution_count": 26,
   "id": "be9bde38",
   "metadata": {},
   "outputs": [
    {
     "name": "stderr",
     "output_type": "stream",
     "text": [
      "/tmp/ipykernel_1137/3415850949.py:1: FutureWarning: Dropping of nuisance columns in DataFrame reductions (with 'numeric_only=None') is deprecated; in a future version this will raise TypeError.  Select only valid columns before calling the reduction.\n",
      "  model.stats_galaxies.mean()\n"
     ]
    },
    {
     "data": {
      "text/plain": [
       "TPR               0.885603\n",
       "FDR               0.211004\n",
       "FPR               0.042791\n",
       "AUC(FDR,TPR)           inf\n",
       "AUC(FPR,TPR)      0.981115\n",
       "# found GCs     133.813953\n",
       "# total GCs     143.279070\n",
       "# fake GCs       17.186047\n",
       "# sources       506.209302\n",
       "dtype: float64"
      ]
     },
     "execution_count": 26,
     "metadata": {},
     "output_type": "execute_result"
    }
   ],
   "source": [
    "model.stats_galaxies.mean()"
   ]
  },
  {
   "cell_type": "code",
   "execution_count": 27,
   "id": "5e6413cd",
   "metadata": {},
   "outputs": [
    {
     "data": {
      "text/html": [
       "<div>\n",
       "<style scoped>\n",
       "    .dataframe tbody tr th:only-of-type {\n",
       "        vertical-align: middle;\n",
       "    }\n",
       "\n",
       "    .dataframe tbody tr th {\n",
       "        vertical-align: top;\n",
       "    }\n",
       "\n",
       "    .dataframe thead th {\n",
       "        text-align: right;\n",
       "    }\n",
       "</style>\n",
       "<table border=\"1\" class=\"dataframe\">\n",
       "  <thead>\n",
       "    <tr style=\"text-align: right;\">\n",
       "      <th></th>\n",
       "      <th>Galaxy</th>\n",
       "      <th>TPR</th>\n",
       "      <th>FDR</th>\n",
       "      <th>FPR</th>\n",
       "      <th>AUC(FDR,TPR)</th>\n",
       "      <th>AUC(FPR,TPR)</th>\n",
       "      <th># found GCs</th>\n",
       "      <th># total GCs</th>\n",
       "      <th># fake GCs</th>\n",
       "      <th># sources</th>\n",
       "    </tr>\n",
       "  </thead>\n",
       "  <tbody>\n",
       "    <tr>\n",
       "      <th>0</th>\n",
       "      <td>ALL</td>\n",
       "      <td>0.933939</td>\n",
       "      <td>0.113815</td>\n",
       "      <td>0.047354</td>\n",
       "      <td>inf</td>\n",
       "      <td>0.986345</td>\n",
       "      <td>5754</td>\n",
       "      <td>6161</td>\n",
       "      <td>739</td>\n",
       "      <td>21767</td>\n",
       "    </tr>\n",
       "  </tbody>\n",
       "</table>\n",
       "</div>"
      ],
      "text/plain": [
       "  Galaxy       TPR       FDR       FPR  AUC(FDR,TPR)  AUC(FPR,TPR)  \\\n",
       "0    ALL  0.933939  0.113815  0.047354           inf      0.986345   \n",
       "\n",
       "   # found GCs  # total GCs  # fake GCs  # sources  \n",
       "0         5754         6161         739      21767  "
      ]
     },
     "execution_count": 27,
     "metadata": {},
     "output_type": "execute_result"
    }
   ],
   "source": [
    "model.stats_all"
   ]
  },
  {
   "cell_type": "markdown",
   "id": "ae71cbbc",
   "metadata": {},
   "source": [
    "### Load model"
   ]
  },
  {
   "cell_type": "code",
   "execution_count": 3,
   "id": "2ea32e8e",
   "metadata": {},
   "outputs": [
    {
     "name": "stdout",
     "output_type": "stream",
     "text": [
      "Loading data...\n"
     ]
    }
   ],
   "source": [
    "import torch\n",
    "model = StandardClassifier(method='mlp', input_dim=input_dim, data=None)\n",
    "model.load_data(df)\n",
    "best_checkpoint = torch.load('NeuralNet--best--Virgo2Fornax')\n",
    "model.model.load_state_dict(best_checkpoint['model_state_dict'])\n",
    "model.model_fitted = True"
   ]
  },
  {
   "cell_type": "markdown",
   "id": "43217170",
   "metadata": {},
   "source": [
    "#### Use MC dropout to get an uncertainty estimate"
   ]
  },
  {
   "cell_type": "code",
   "execution_count": 14,
   "id": "2871a3e6",
   "metadata": {},
   "outputs": [],
   "source": [
    "import torch.functional as F\n",
    "model.model.train()\n",
    "res = []\n",
    "\n",
    "for i in range(200):\n",
    "    pred = []\n",
    "    pred = torch.nn.functional.sigmoid(model.model(torch.Tensor(model.test_data['inputs']))).detach().numpy()\n",
    "    res.append(pred)"
   ]
  },
  {
   "cell_type": "code",
   "execution_count": 33,
   "id": "04a0a4bf",
   "metadata": {},
   "outputs": [],
   "source": [
    "nn = np.mean(res, axis=0)\n",
    "nstd = np.max(res, axis=0)-np.min(res, axis=0)"
   ]
  },
  {
   "cell_type": "code",
   "execution_count": 41,
   "id": "f47207d2",
   "metadata": {},
   "outputs": [
    {
     "data": {
      "text/plain": [
       "[<matplotlib.lines.Line2D at 0x7f9c5ec19340>]"
      ]
     },
     "execution_count": 41,
     "metadata": {},
     "output_type": "execute_result"
    },
    {
     "data": {
      "image/png": "[encoded data removed]",
      "text/plain": [
       "<Figure size 432x288 with 1 Axes>"
      ]
     },
     "metadata": {
      "needs_background": "light"
     },
     "output_type": "display_data"
    }
   ],
   "source": [
    "import matplotlib.pyplot as plt\n",
    "unc = []\n",
    "for i in range(25):\n",
    "    unc.append(np.percentile(nstd, i*4+4))\n",
    "certainty = []\n",
    "preds = []\n",
    "\n",
    "for i in range(len(unc)-1):\n",
    "    whichones = (nstd>unc[i])*(nstd<unc[i+1])\n",
    "    lab = model.test_data['labels'][whichones]\n",
    "    pred = nn[whichones]>0.5\n",
    "    certainty.append(np.mean(lab==pred))\n",
    "    preds.append(nn[whichones])\n",
    "\n",
    "plt.plot(unc[1:], certainty, marker = 'o')"
   ]
  }
 ],
 "metadata": {
  "kernelspec": {
   "display_name": "Python 3 (ipykernel)",
   "language": "python",
   "name": "python3"
  },
  "language_info": {
   "codemirror_mode": {
    "name": "ipython",
    "version": 3
   },
   "file_extension": ".py",
   "mimetype": "text/x-python",
   "name": "python",
   "nbconvert_exporter": "python",
   "pygments_lexer": "ipython3",
   "version": "3.8.8"
  }
 },
 "nbformat": 4,
 "nbformat_minor": 5
}
