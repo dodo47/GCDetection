{
 "cells": [
  {
   "cell_type": "code",
   "execution_count": 1,
   "id": "eb856f0e",
   "metadata": {},
   "outputs": [],
   "source": [
    "import pandas\n",
    "pandas.options.mode.chained_assignment = None\n",
    "import sys\n",
    "import numpy as np\n",
    "from globsML.utils.preprocessing import rescale_data, select_galaxies, create_data_dict, replace_NaN\n",
    "from globsML.models.skmodels import StandardClassifier\n",
    "\n",
    "data_path = '../../../data/ACS_sources_original.csv'\n",
    "data = pandas.read_csv(data_path)\n",
    "test_galaxies = set(data[data['cluster']=='Fornax']['galaxy'].unique())"
   ]
  },
  {
   "cell_type": "code",
   "execution_count": 2,
   "id": "3d04334c",
   "metadata": {},
   "outputs": [
    {
     "name": "stdout",
     "output_type": "stream",
     "text": [
      "Number of sources in training split after dropping rows with NaN as CI/m/color: 61468\n",
      "1694 sources have been dropped.\n",
      "NaN values in testing data have been replaced with the correspnding median value observed in the training split\n"
     ]
    },
    {
     "name": "stderr",
     "output_type": "stream",
     "text": [
      "100%|█████████████████████████████████████████████████████████████████████████████████| 29/29 [00:00<00:00, 3281.93it/s]"
     ]
    },
    {
     "name": "stdout",
     "output_type": "stream",
     "text": [
      "eccentricity will not be transformed. Skipped.\n",
      "eccentricity_z will not be transformed. Skipped.\n"
     ]
    },
    {
     "name": "stderr",
     "output_type": "stream",
     "text": [
      "\n"
     ]
    }
   ],
   "source": [
    "df_train, dfs_test = select_galaxies(data, test_galaxies = test_galaxies)\n",
    "df_train, dfs_test = replace_NaN(df_train, dfs_test)\n",
    "df = create_data_dict(data, df_train, dfs_test)\n",
    "df, _ = rescale_data(df)\n",
    "\n",
    "input_dim = len(df['train']['inputs'][0])"
   ]
  },
  {
   "cell_type": "code",
   "execution_count": 3,
   "id": "6ac0682d",
   "metadata": {},
   "outputs": [
    {
     "name": "stdout",
     "output_type": "stream",
     "text": [
      "Loading data...\n",
      "Fitting model...\n"
     ]
    },
    {
     "name": "stderr",
     "output_type": "stream",
     "text": [
      "                                                                                                                        \r"
     ]
    },
    {
     "name": "stdout",
     "output_type": "stream",
     "text": [
      "EPOCH 0: tpr = 0.09177215189873418 and fdr = 0.22666666666666666\n"
     ]
    },
    {
     "name": "stderr",
     "output_type": "stream",
     "text": [
      "                                                                                                                        \r"
     ]
    },
    {
     "name": "stdout",
     "output_type": "stream",
     "text": [
      "NEW BEST!\n",
      "EPOCH 1: tpr = 0.2737341772151899 and fdr = 0.19158878504672897\n"
     ]
    },
    {
     "name": "stderr",
     "output_type": "stream",
     "text": [
      "                                                                                                                        \r"
     ]
    },
    {
     "name": "stdout",
     "output_type": "stream",
     "text": [
      "NEW BEST!\n",
      "EPOCH 2: tpr = 0.3670886075949367 and fdr = 0.1888111888111888\n"
     ]
    },
    {
     "name": "stderr",
     "output_type": "stream",
     "text": [
      "                                                                                                                        \r"
     ]
    },
    {
     "name": "stdout",
     "output_type": "stream",
     "text": [
      "NEW BEST!\n",
      "EPOCH 3: tpr = 0.4129746835443038 and fdr = 0.18691588785046728\n"
     ]
    },
    {
     "name": "stderr",
     "output_type": "stream",
     "text": [
      "                                                                                                                        \r"
     ]
    },
    {
     "name": "stdout",
     "output_type": "stream",
     "text": [
      "NEW BEST!\n",
      "EPOCH 4: tpr = 0.43829113924050633 and fdr = 0.18289085545722714\n"
     ]
    },
    {
     "name": "stderr",
     "output_type": "stream",
     "text": [
      "                                                                                                                        \r"
     ]
    },
    {
     "name": "stdout",
     "output_type": "stream",
     "text": [
      "NEW BEST!\n",
      "EPOCH 5: tpr = 0.46677215189873417 and fdr = 0.17597765363128492\n"
     ]
    },
    {
     "name": "stderr",
     "output_type": "stream",
     "text": [
      "                                                                                                                        \r"
     ]
    },
    {
     "name": "stdout",
     "output_type": "stream",
     "text": [
      "NEW BEST!\n",
      "EPOCH 6: tpr = 0.4778481012658228 and fdr = 0.17032967032967034\n"
     ]
    },
    {
     "name": "stderr",
     "output_type": "stream",
     "text": [
      "                                                                                                                        \r"
     ]
    },
    {
     "name": "stdout",
     "output_type": "stream",
     "text": [
      "NEW BEST!\n",
      "EPOCH 7: tpr = 0.49683544303797467 and fdr = 0.16266666666666665\n"
     ]
    },
    {
     "name": "stderr",
     "output_type": "stream",
     "text": [
      "                                                                                                                        \r"
     ]
    },
    {
     "name": "stdout",
     "output_type": "stream",
     "text": [
      "NEW BEST!\n",
      "EPOCH 8: tpr = 0.504746835443038 and fdr = 0.158311345646438\n"
     ]
    },
    {
     "name": "stderr",
     "output_type": "stream",
     "text": [
      "                                                                                                                        \r"
     ]
    },
    {
     "name": "stdout",
     "output_type": "stream",
     "text": [
      "NEW BEST!\n",
      "EPOCH 9: tpr = 0.5158227848101266 and fdr = 0.15762273901808785\n"
     ]
    },
    {
     "name": "stderr",
     "output_type": "stream",
     "text": [
      "                                                                                                                        \r"
     ]
    },
    {
     "name": "stdout",
     "output_type": "stream",
     "text": [
      "NEW BEST!\n",
      "EPOCH 10: tpr = 0.5205696202531646 and fdr = 0.1564102564102564\n"
     ]
    },
    {
     "name": "stderr",
     "output_type": "stream",
     "text": [
      "                                                                                                                        \r"
     ]
    },
    {
     "name": "stdout",
     "output_type": "stream",
     "text": [
      "NEW BEST!\n",
      "EPOCH 11: tpr = 0.5221518987341772 and fdr = 0.15167095115681234\n"
     ]
    },
    {
     "name": "stderr",
     "output_type": "stream",
     "text": [
      "                                                                                                                        \r"
     ]
    },
    {
     "name": "stdout",
     "output_type": "stream",
     "text": [
      "EPOCH 12: tpr = 0.5221518987341772 and fdr = 0.15167095115681234\n"
     ]
    },
    {
     "name": "stderr",
     "output_type": "stream",
     "text": [
      "                                                                                                                        \r"
     ]
    },
    {
     "name": "stdout",
     "output_type": "stream",
     "text": [
      "EPOCH 13: tpr = 0.5253164556962026 and fdr = 0.15521628498727735\n"
     ]
    },
    {
     "name": "stderr",
     "output_type": "stream",
     "text": [
      "                                                                                                                        \r"
     ]
    },
    {
     "name": "stdout",
     "output_type": "stream",
     "text": [
      "NEW BEST!\n",
      "EPOCH 14: tpr = 0.5332278481012658 and fdr = 0.16169154228855723\n"
     ]
    },
    {
     "name": "stderr",
     "output_type": "stream",
     "text": [
      "                                                                                                                        \r"
     ]
    },
    {
     "name": "stdout",
     "output_type": "stream",
     "text": [
      "NEW BEST!\n",
      "EPOCH 15: tpr = 0.5348101265822784 and fdr = 0.15288220551378445\n"
     ]
    },
    {
     "name": "stderr",
     "output_type": "stream",
     "text": [
      "                                                                                                                        \r"
     ]
    },
    {
     "name": "stdout",
     "output_type": "stream",
     "text": [
      "EPOCH 16: tpr = 0.5284810126582279 and fdr = 0.15012722646310434\n"
     ]
    },
    {
     "name": "stderr",
     "output_type": "stream",
     "text": [
      "                                                                                                                        \r"
     ]
    },
    {
     "name": "stdout",
     "output_type": "stream",
     "text": [
      "NEW BEST!\n",
      "EPOCH 17: tpr = 0.5443037974683544 and fdr = 0.1506172839506173\n"
     ]
    },
    {
     "name": "stderr",
     "output_type": "stream",
     "text": [
      "                                                                                                                        \r"
     ]
    },
    {
     "name": "stdout",
     "output_type": "stream",
     "text": [
      "NEW BEST!\n",
      "EPOCH 18: tpr = 0.5458860759493671 and fdr = 0.15024630541871922\n"
     ]
    },
    {
     "name": "stderr",
     "output_type": "stream",
     "text": [
      "                                                                                                                        \r"
     ]
    },
    {
     "name": "stdout",
     "output_type": "stream",
     "text": [
      "NEW BEST!\n",
      "EPOCH 19: tpr = 0.5427215189873418 and fdr = 0.14463840399002495\n"
     ]
    },
    {
     "name": "stderr",
     "output_type": "stream",
     "text": [
      "                                                                                                                        \r"
     ]
    },
    {
     "name": "stdout",
     "output_type": "stream",
     "text": [
      "NEW BEST!\n",
      "EPOCH 20: tpr = 0.555379746835443 and fdr = 0.14180929095354522\n"
     ]
    },
    {
     "name": "stderr",
     "output_type": "stream",
     "text": [
      "                                                                                                                        \r"
     ]
    },
    {
     "name": "stdout",
     "output_type": "stream",
     "text": [
      "NEW BEST!\n",
      "EPOCH 21: tpr = 0.5569620253164557 and fdr = 0.1393643031784841\n"
     ]
    },
    {
     "name": "stderr",
     "output_type": "stream",
     "text": [
      "                                                                                                                        \r"
     ]
    },
    {
     "name": "stdout",
     "output_type": "stream",
     "text": [
      "EPOCH 22: tpr = 0.5569620253164557 and fdr = 0.14146341463414633\n"
     ]
    },
    {
     "name": "stderr",
     "output_type": "stream",
     "text": [
      "                                                                                                                        \r"
     ]
    },
    {
     "name": "stdout",
     "output_type": "stream",
     "text": [
      "NEW BEST!\n",
      "EPOCH 23: tpr = 0.5664556962025317 and fdr = 0.14354066985645933\n"
     ]
    },
    {
     "name": "stderr",
     "output_type": "stream",
     "text": [
      "                                                                                                                        \r"
     ]
    },
    {
     "name": "stdout",
     "output_type": "stream",
     "text": [
      "NEW BEST!\n",
      "EPOCH 24: tpr = 0.5791139240506329 and fdr = 0.14883720930232558\n"
     ]
    },
    {
     "name": "stderr",
     "output_type": "stream",
     "text": [
      "                                                                                                                        \r"
     ]
    },
    {
     "name": "stdout",
     "output_type": "stream",
     "text": [
      "EPOCH 25: tpr = 0.5759493670886076 and fdr = 0.14953271028037382\n"
     ]
    },
    {
     "name": "stderr",
     "output_type": "stream",
     "text": [
      "                                                                                                                        \r"
     ]
    },
    {
     "name": "stdout",
     "output_type": "stream",
     "text": [
      "NEW BEST!\n",
      "EPOCH 26: tpr = 0.5775316455696202 and fdr = 0.1451990632318501\n"
     ]
    },
    {
     "name": "stderr",
     "output_type": "stream",
     "text": [
      "                                                                                                                        \r"
     ]
    },
    {
     "name": "stdout",
     "output_type": "stream",
     "text": [
      "NEW BEST!\n",
      "EPOCH 27: tpr = 0.5759493670886076 and fdr = 0.14352941176470588\n"
     ]
    },
    {
     "name": "stderr",
     "output_type": "stream",
     "text": [
      "                                                                                                                        \r"
     ]
    },
    {
     "name": "stdout",
     "output_type": "stream",
     "text": [
      "EPOCH 28: tpr = 0.569620253164557 and fdr = 0.13875598086124402\n"
     ]
    },
    {
     "name": "stderr",
     "output_type": "stream",
     "text": [
      "                                                                                                                        \r"
     ]
    },
    {
     "name": "stdout",
     "output_type": "stream",
     "text": [
      "NEW BEST!\n",
      "EPOCH 29: tpr = 0.5806962025316456 and fdr = 0.1425233644859813\n"
     ]
    },
    {
     "name": "stderr",
     "output_type": "stream",
     "text": [
      "                                                                                                                        \r"
     ]
    },
    {
     "name": "stdout",
     "output_type": "stream",
     "text": [
      "NEW BEST!\n",
      "EPOCH 30: tpr = 0.5996835443037974 and fdr = 0.15022421524663676\n"
     ]
    },
    {
     "name": "stderr",
     "output_type": "stream",
     "text": [
      "                                                                                                                        \r"
     ]
    },
    {
     "name": "stdout",
     "output_type": "stream",
     "text": [
      "EPOCH 31: tpr = 0.5901898734177216 and fdr = 0.14645308924485126\n"
     ]
    },
    {
     "name": "stderr",
     "output_type": "stream",
     "text": [
      "                                                                                                                        \r"
     ]
    },
    {
     "name": "stdout",
     "output_type": "stream",
     "text": [
      "EPOCH 32: tpr = 0.5917721518987342 and fdr = 0.1480637813211845\n"
     ]
    },
    {
     "name": "stderr",
     "output_type": "stream",
     "text": [
      "                                                                                                                        \r"
     ]
    },
    {
     "name": "stdout",
     "output_type": "stream",
     "text": [
      "EPOCH 33: tpr = 0.5965189873417721 and fdr = 0.15090090090090091\n"
     ]
    },
    {
     "name": "stderr",
     "output_type": "stream",
     "text": [
      "                                                                                                                        \r"
     ]
    },
    {
     "name": "stdout",
     "output_type": "stream",
     "text": [
      "EPOCH 34: tpr = 0.5854430379746836 and fdr = 0.14153132250580047\n"
     ]
    },
    {
     "name": "stderr",
     "output_type": "stream",
     "text": [
      "                                                                                                                        \r"
     ]
    },
    {
     "name": "stdout",
     "output_type": "stream",
     "text": [
      "EPOCH 35: tpr = 0.5933544303797469 and fdr = 0.14772727272727273\n"
     ]
    },
    {
     "name": "stderr",
     "output_type": "stream",
     "text": [
      "                                                                                                                        \r"
     ]
    },
    {
     "name": "stdout",
     "output_type": "stream",
     "text": [
      "EPOCH 36: tpr = 0.5965189873417721 and fdr = 0.1489841986455982\n"
     ]
    },
    {
     "name": "stderr",
     "output_type": "stream",
     "text": [
      "                                                                                                                        \r"
     ]
    },
    {
     "name": "stdout",
     "output_type": "stream",
     "text": [
      "NEW BEST!\n",
      "EPOCH 37: tpr = 0.6012658227848101 and fdr = 0.14988814317673377\n"
     ]
    },
    {
     "name": "stderr",
     "output_type": "stream",
     "text": [
      "                                                                                                                        \r"
     ]
    },
    {
     "name": "stdout",
     "output_type": "stream",
     "text": [
      "EPOCH 38: tpr = 0.5965189873417721 and fdr = 0.14705882352941177\n"
     ]
    },
    {
     "name": "stderr",
     "output_type": "stream",
     "text": [
      "                                                                                                                        \r"
     ]
    },
    {
     "name": "stdout",
     "output_type": "stream",
     "text": [
      "NEW BEST!\n",
      "EPOCH 39: tpr = 0.5996835443037974 and fdr = 0.1463963963963964\n"
     ]
    },
    {
     "name": "stderr",
     "output_type": "stream",
     "text": [
      "                                                                                                                        \r"
     ]
    },
    {
     "name": "stdout",
     "output_type": "stream",
     "text": [
      "NEW BEST!\n",
      "EPOCH 40: tpr = 0.6060126582278481 and fdr = 0.15265486725663716\n"
     ]
    },
    {
     "name": "stderr",
     "output_type": "stream",
     "text": [
      "                                                                                                                        \r"
     ]
    },
    {
     "name": "stdout",
     "output_type": "stream",
     "text": [
      "EPOCH 41: tpr = 0.5981012658227848 and fdr = 0.14672686230248308\n"
     ]
    },
    {
     "name": "stderr",
     "output_type": "stream",
     "text": [
      "                                                                                                                        \r"
     ]
    },
    {
     "name": "stdout",
     "output_type": "stream",
     "text": [
      "EPOCH 42: tpr = 0.5996835443037974 and fdr = 0.1463963963963964\n"
     ]
    },
    {
     "name": "stderr",
     "output_type": "stream",
     "text": [
      "                                                                                                                        \r"
     ]
    },
    {
     "name": "stdout",
     "output_type": "stream",
     "text": [
      "NEW BEST!\n",
      "EPOCH 43: tpr = 0.6028481012658228 and fdr = 0.14573991031390135\n"
     ]
    },
    {
     "name": "stderr",
     "output_type": "stream",
     "text": [
      "                                                                                                                        \r"
     ]
    },
    {
     "name": "stdout",
     "output_type": "stream",
     "text": [
      "NEW BEST!\n",
      "EPOCH 44: tpr = 0.6060126582278481 and fdr = 0.14508928571428573\n"
     ]
    },
    {
     "name": "stderr",
     "output_type": "stream",
     "text": [
      "                                                                                                                        \r"
     ]
    },
    {
     "name": "stdout",
     "output_type": "stream",
     "text": [
      "NEW BEST!\n",
      "EPOCH 45: tpr = 0.6281645569620253 and fdr = 0.15531914893617021\n"
     ]
    },
    {
     "name": "stderr",
     "output_type": "stream",
     "text": [
      "                                                                                                                        \r"
     ]
    },
    {
     "name": "stdout",
     "output_type": "stream",
     "text": [
      "EPOCH 46: tpr = 0.6139240506329114 and fdr = 0.14725274725274726\n"
     ]
    },
    {
     "name": "stderr",
     "output_type": "stream",
     "text": [
      "                                                                                                                        \r"
     ]
    },
    {
     "name": "stdout",
     "output_type": "stream",
     "text": [
      "EPOCH 47: tpr = 0.6091772151898734 and fdr = 0.14823008849557523\n"
     ]
    },
    {
     "name": "stderr",
     "output_type": "stream",
     "text": [
      "                                                                                                                        \r"
     ]
    },
    {
     "name": "stdout",
     "output_type": "stream",
     "text": [
      "EPOCH 48: tpr = 0.6107594936708861 and fdr = 0.15164835164835164\n"
     ]
    },
    {
     "name": "stderr",
     "output_type": "stream",
     "text": [
      "                                                                                                                        \r"
     ]
    },
    {
     "name": "stdout",
     "output_type": "stream",
     "text": [
      "EPOCH 49: tpr = 0.6139240506329114 and fdr = 0.15098468271334792\n"
     ]
    },
    {
     "name": "stderr",
     "output_type": "stream",
     "text": [
      "                                                                                                                        \r"
     ]
    },
    {
     "name": "stdout",
     "output_type": "stream",
     "text": [
      "EPOCH 50: tpr = 0.6012658227848101 and fdr = 0.14414414414414414\n"
     ]
    },
    {
     "name": "stderr",
     "output_type": "stream",
     "text": [
      "                                                                                                                        \r"
     ]
    },
    {
     "name": "stdout",
     "output_type": "stream",
     "text": [
      "EPOCH 51: tpr = 0.615506329113924 and fdr = 0.1487964989059081\n"
     ]
    },
    {
     "name": "stderr",
     "output_type": "stream",
     "text": [
      "                                                                                                                        \r"
     ]
    },
    {
     "name": "stdout",
     "output_type": "stream",
     "text": [
      "NEW BEST!\n",
      "EPOCH 52: tpr = 0.6329113924050633 and fdr = 0.1543340380549683\n"
     ]
    },
    {
     "name": "stderr",
     "output_type": "stream",
     "text": [
      "                                                                                                                        \r"
     ]
    },
    {
     "name": "stdout",
     "output_type": "stream",
     "text": [
      "EPOCH 53: tpr = 0.6060126582278481 and fdr = 0.14508928571428573\n"
     ]
    },
    {
     "name": "stderr",
     "output_type": "stream",
     "text": [
      "                                                                                                                        \r"
     ]
    },
    {
     "name": "stdout",
     "output_type": "stream",
     "text": [
      "EPOCH 54: tpr = 0.6218354430379747 and fdr = 0.1475054229934924\n"
     ]
    },
    {
     "name": "stderr",
     "output_type": "stream",
     "text": [
      "                                                                                                                        \r"
     ]
    },
    {
     "name": "stdout",
     "output_type": "stream",
     "text": [
      "EPOCH 55: tpr = 0.615506329113924 and fdr = 0.1487964989059081\n"
     ]
    },
    {
     "name": "stderr",
     "output_type": "stream",
     "text": [
      "                                                                                                                        \r"
     ]
    },
    {
     "name": "stdout",
     "output_type": "stream",
     "text": [
      "EPOCH 56: tpr = 0.6170886075949367 and fdr = 0.14660831509846828\n"
     ]
    },
    {
     "name": "stderr",
     "output_type": "stream",
     "text": [
      "                                                                                                                        \r"
     ]
    },
    {
     "name": "stdout",
     "output_type": "stream",
     "text": [
      "NEW BEST!\n",
      "EPOCH 57: tpr = 0.629746835443038 and fdr = 0.14957264957264957\n"
     ]
    },
    {
     "name": "stderr",
     "output_type": "stream",
     "text": [
      "                                                                                                                        \r"
     ]
    },
    {
     "name": "stdout",
     "output_type": "stream",
     "text": [
      "NEW BEST!\n",
      "EPOCH 58: tpr = 0.629746835443038 and fdr = 0.14775160599571735\n"
     ]
    },
    {
     "name": "stderr",
     "output_type": "stream",
     "text": [
      "                                                                                                                        "
     ]
    },
    {
     "name": "stdout",
     "output_type": "stream",
     "text": [
      "NEW BEST!\n",
      "EPOCH 59: tpr = 0.6376582278481012 and fdr = 0.15157894736842106\n"
     ]
    },
    {
     "name": "stderr",
     "output_type": "stream",
     "text": [
      "\r"
     ]
    }
   ],
   "source": [
    "model = StandardClassifier(method='mlp', params = {'neurons_per_layer': [input_dim, 1], 'epochs': 60,\n",
    "                    'dropout_rate': 0.05, 'learning_rate': 1e-3, 'weight_decay': 1e-5, 'batchsize': 500}, input_dim=input_dim, data=df)"
   ]
  },
  {
   "cell_type": "code",
   "execution_count": 4,
   "id": "c50d61e8",
   "metadata": {},
   "outputs": [
    {
     "name": "stderr",
     "output_type": "stream",
     "text": [
      "/home/dodo/anaconda3/lib/python3.8/site-packages/numpy/core/fromnumeric.py:3440: RuntimeWarning: Mean of empty slice.\n",
      "  return _methods._mean(a, axis=axis, dtype=dtype,\n",
      "/home/dodo/anaconda3/lib/python3.8/site-packages/numpy/core/_methods.py:189: RuntimeWarning: invalid value encountered in double_scalars\n",
      "  ret = ret.dtype.type(ret / rcount)\n"
     ]
    }
   ],
   "source": [
    "model.val()"
   ]
  },
  {
   "cell_type": "code",
   "execution_count": 5,
   "id": "cf889402",
   "metadata": {},
   "outputs": [
    {
     "data": {
      "text/html": [
       "<div>\n",
       "<style scoped>\n",
       "    .dataframe tbody tr th:only-of-type {\n",
       "        vertical-align: middle;\n",
       "    }\n",
       "\n",
       "    .dataframe tbody tr th {\n",
       "        vertical-align: top;\n",
       "    }\n",
       "\n",
       "    .dataframe thead th {\n",
       "        text-align: right;\n",
       "    }\n",
       "</style>\n",
       "<table border=\"1\" class=\"dataframe\">\n",
       "  <thead>\n",
       "    <tr style=\"text-align: right;\">\n",
       "      <th></th>\n",
       "      <th>TPR</th>\n",
       "      <th>FDR</th>\n",
       "      <th>FPR</th>\n",
       "      <th>AUC(FDR,TPR)</th>\n",
       "      <th>AUC(FPR,TPR)</th>\n",
       "      <th># found GCs</th>\n",
       "      <th># total GCs</th>\n",
       "      <th># fake GCs</th>\n",
       "      <th># sources</th>\n",
       "    </tr>\n",
       "  </thead>\n",
       "  <tbody>\n",
       "    <tr>\n",
       "      <th>0</th>\n",
       "      <td>0.713608</td>\n",
       "      <td>0.188849</td>\n",
       "      <td>0.042998</td>\n",
       "      <td>0.795458</td>\n",
       "      <td>0.952425</td>\n",
       "      <td>451</td>\n",
       "      <td>632</td>\n",
       "      <td>105</td>\n",
       "      <td>3074</td>\n",
       "    </tr>\n",
       "  </tbody>\n",
       "</table>\n",
       "</div>"
      ],
      "text/plain": [
       "        TPR       FDR       FPR  AUC(FDR,TPR)  AUC(FPR,TPR)  # found GCs  \\\n",
       "0  0.713608  0.188849  0.042998      0.795458      0.952425          451   \n",
       "\n",
       "   # total GCs  # fake GCs  # sources  \n",
       "0          632         105       3074  "
      ]
     },
     "execution_count": 5,
     "metadata": {},
     "output_type": "execute_result"
    }
   ],
   "source": [
    "model.stats_validation"
   ]
  },
  {
   "cell_type": "code",
   "execution_count": 6,
   "id": "ac664799",
   "metadata": {},
   "outputs": [
    {
     "name": "stderr",
     "output_type": "stream",
     "text": [
      "/home/dodo/anaconda3/lib/python3.8/site-packages/numpy/core/fromnumeric.py:3440: RuntimeWarning: Mean of empty slice.\n",
      "  return _methods._mean(a, axis=axis, dtype=dtype,\n",
      "/home/dodo/anaconda3/lib/python3.8/site-packages/numpy/core/_methods.py:189: RuntimeWarning: invalid value encountered in double_scalars\n",
      "  ret = ret.dtype.type(ret / rcount)\n",
      "/home/dodo/git/globsML/globsML/utils/eval.py:146: RuntimeWarning: divide by zero encountered in double_scalars\n",
      "  return auc(x,y)/(2*auc([0,x[-1]], [0,y[-1]])), x, y\n"
     ]
    }
   ],
   "source": [
    "model.test()"
   ]
  },
  {
   "cell_type": "code",
   "execution_count": 7,
   "id": "701df614",
   "metadata": {},
   "outputs": [
    {
     "data": {
      "text/html": [
       "<div>\n",
       "<style scoped>\n",
       "    .dataframe tbody tr th:only-of-type {\n",
       "        vertical-align: middle;\n",
       "    }\n",
       "\n",
       "    .dataframe tbody tr th {\n",
       "        vertical-align: top;\n",
       "    }\n",
       "\n",
       "    .dataframe thead th {\n",
       "        text-align: right;\n",
       "    }\n",
       "</style>\n",
       "<table border=\"1\" class=\"dataframe\">\n",
       "  <thead>\n",
       "    <tr style=\"text-align: right;\">\n",
       "      <th></th>\n",
       "      <th>Galaxy</th>\n",
       "      <th>TPR</th>\n",
       "      <th>FDR</th>\n",
       "      <th>FPR</th>\n",
       "      <th>AUC(FDR,TPR)</th>\n",
       "      <th>AUC(FPR,TPR)</th>\n",
       "      <th># found GCs</th>\n",
       "      <th># total GCs</th>\n",
       "      <th># fake GCs</th>\n",
       "      <th># sources</th>\n",
       "    </tr>\n",
       "  </thead>\n",
       "  <tbody>\n",
       "    <tr>\n",
       "      <th>0</th>\n",
       "      <td>FCC203</td>\n",
       "      <td>0.433333</td>\n",
       "      <td>0.480000</td>\n",
       "      <td>0.035088</td>\n",
       "      <td>inf</td>\n",
       "      <td>0.928606</td>\n",
       "      <td>13</td>\n",
       "      <td>30</td>\n",
       "      <td>12</td>\n",
       "      <td>372</td>\n",
       "    </tr>\n",
       "    <tr>\n",
       "      <th>1</th>\n",
       "      <td>FCC119</td>\n",
       "      <td>0.117647</td>\n",
       "      <td>0.894737</td>\n",
       "      <td>0.041463</td>\n",
       "      <td>inf</td>\n",
       "      <td>0.846126</td>\n",
       "      <td>2</td>\n",
       "      <td>17</td>\n",
       "      <td>17</td>\n",
       "      <td>427</td>\n",
       "    </tr>\n",
       "    <tr>\n",
       "      <th>2</th>\n",
       "      <td>FCC324</td>\n",
       "      <td>0.523810</td>\n",
       "      <td>0.421053</td>\n",
       "      <td>0.022039</td>\n",
       "      <td>inf</td>\n",
       "      <td>0.922275</td>\n",
       "      <td>11</td>\n",
       "      <td>21</td>\n",
       "      <td>8</td>\n",
       "      <td>384</td>\n",
       "    </tr>\n",
       "    <tr>\n",
       "      <th>3</th>\n",
       "      <td>FCC167</td>\n",
       "      <td>0.756691</td>\n",
       "      <td>0.074405</td>\n",
       "      <td>0.059382</td>\n",
       "      <td>inf</td>\n",
       "      <td>0.924317</td>\n",
       "      <td>311</td>\n",
       "      <td>411</td>\n",
       "      <td>25</td>\n",
       "      <td>832</td>\n",
       "    </tr>\n",
       "    <tr>\n",
       "      <th>4</th>\n",
       "      <td>FCC182</td>\n",
       "      <td>0.568966</td>\n",
       "      <td>0.232558</td>\n",
       "      <td>0.028818</td>\n",
       "      <td>0.714731</td>\n",
       "      <td>0.951456</td>\n",
       "      <td>33</td>\n",
       "      <td>58</td>\n",
       "      <td>10</td>\n",
       "      <td>405</td>\n",
       "    </tr>\n",
       "    <tr>\n",
       "      <th>5</th>\n",
       "      <td>NGC1340</td>\n",
       "      <td>0.674074</td>\n",
       "      <td>0.116505</td>\n",
       "      <td>0.065934</td>\n",
       "      <td>0.777175</td>\n",
       "      <td>0.895330</td>\n",
       "      <td>182</td>\n",
       "      <td>270</td>\n",
       "      <td>24</td>\n",
       "      <td>634</td>\n",
       "    </tr>\n",
       "    <tr>\n",
       "      <th>6</th>\n",
       "      <td>FCC148</td>\n",
       "      <td>0.750000</td>\n",
       "      <td>0.136986</td>\n",
       "      <td>0.029762</td>\n",
       "      <td>inf</td>\n",
       "      <td>0.965402</td>\n",
       "      <td>63</td>\n",
       "      <td>84</td>\n",
       "      <td>10</td>\n",
       "      <td>420</td>\n",
       "    </tr>\n",
       "    <tr>\n",
       "      <th>7</th>\n",
       "      <td>FCC335</td>\n",
       "      <td>0.714286</td>\n",
       "      <td>0.565217</td>\n",
       "      <td>0.037572</td>\n",
       "      <td>0.553377</td>\n",
       "      <td>0.911127</td>\n",
       "      <td>10</td>\n",
       "      <td>14</td>\n",
       "      <td>13</td>\n",
       "      <td>360</td>\n",
       "    </tr>\n",
       "    <tr>\n",
       "      <th>8</th>\n",
       "      <td>FCC153</td>\n",
       "      <td>0.661017</td>\n",
       "      <td>0.486842</td>\n",
       "      <td>0.095361</td>\n",
       "      <td>0.544890</td>\n",
       "      <td>0.901035</td>\n",
       "      <td>39</td>\n",
       "      <td>59</td>\n",
       "      <td>37</td>\n",
       "      <td>447</td>\n",
       "    </tr>\n",
       "    <tr>\n",
       "      <th>9</th>\n",
       "      <td>FCC63</td>\n",
       "      <td>0.692982</td>\n",
       "      <td>0.059524</td>\n",
       "      <td>0.029070</td>\n",
       "      <td>0.879169</td>\n",
       "      <td>0.957556</td>\n",
       "      <td>158</td>\n",
       "      <td>228</td>\n",
       "      <td>10</td>\n",
       "      <td>572</td>\n",
       "    </tr>\n",
       "    <tr>\n",
       "      <th>10</th>\n",
       "      <td>FCC202</td>\n",
       "      <td>0.610390</td>\n",
       "      <td>0.101911</td>\n",
       "      <td>0.039506</td>\n",
       "      <td>0.848115</td>\n",
       "      <td>0.942921</td>\n",
       "      <td>141</td>\n",
       "      <td>231</td>\n",
       "      <td>16</td>\n",
       "      <td>636</td>\n",
       "    </tr>\n",
       "    <tr>\n",
       "      <th>11</th>\n",
       "      <td>FCC19</td>\n",
       "      <td>0.411765</td>\n",
       "      <td>0.666667</td>\n",
       "      <td>0.039326</td>\n",
       "      <td>inf</td>\n",
       "      <td>0.871613</td>\n",
       "      <td>7</td>\n",
       "      <td>17</td>\n",
       "      <td>14</td>\n",
       "      <td>373</td>\n",
       "    </tr>\n",
       "    <tr>\n",
       "      <th>12</th>\n",
       "      <td>FCC47</td>\n",
       "      <td>0.684982</td>\n",
       "      <td>0.060302</td>\n",
       "      <td>0.033149</td>\n",
       "      <td>inf</td>\n",
       "      <td>0.950595</td>\n",
       "      <td>187</td>\n",
       "      <td>273</td>\n",
       "      <td>12</td>\n",
       "      <td>635</td>\n",
       "    </tr>\n",
       "    <tr>\n",
       "      <th>13</th>\n",
       "      <td>FCC100</td>\n",
       "      <td>0.500000</td>\n",
       "      <td>0.346154</td>\n",
       "      <td>0.026866</td>\n",
       "      <td>inf</td>\n",
       "      <td>0.918218</td>\n",
       "      <td>17</td>\n",
       "      <td>34</td>\n",
       "      <td>9</td>\n",
       "      <td>369</td>\n",
       "    </tr>\n",
       "    <tr>\n",
       "      <th>14</th>\n",
       "      <td>FCC276</td>\n",
       "      <td>0.727019</td>\n",
       "      <td>0.087413</td>\n",
       "      <td>0.073529</td>\n",
       "      <td>0.855766</td>\n",
       "      <td>0.937682</td>\n",
       "      <td>261</td>\n",
       "      <td>359</td>\n",
       "      <td>25</td>\n",
       "      <td>699</td>\n",
       "    </tr>\n",
       "    <tr>\n",
       "      <th>15</th>\n",
       "      <td>FCC83</td>\n",
       "      <td>0.705224</td>\n",
       "      <td>0.030769</td>\n",
       "      <td>0.014388</td>\n",
       "      <td>0.910400</td>\n",
       "      <td>0.964995</td>\n",
       "      <td>189</td>\n",
       "      <td>268</td>\n",
       "      <td>6</td>\n",
       "      <td>685</td>\n",
       "    </tr>\n",
       "    <tr>\n",
       "      <th>16</th>\n",
       "      <td>FCC55</td>\n",
       "      <td>0.513514</td>\n",
       "      <td>0.387097</td>\n",
       "      <td>0.033708</td>\n",
       "      <td>inf</td>\n",
       "      <td>0.939151</td>\n",
       "      <td>19</td>\n",
       "      <td>37</td>\n",
       "      <td>12</td>\n",
       "      <td>393</td>\n",
       "    </tr>\n",
       "    <tr>\n",
       "      <th>17</th>\n",
       "      <td>FCC310</td>\n",
       "      <td>0.666667</td>\n",
       "      <td>0.277778</td>\n",
       "      <td>0.031546</td>\n",
       "      <td>0.718231</td>\n",
       "      <td>0.952075</td>\n",
       "      <td>26</td>\n",
       "      <td>39</td>\n",
       "      <td>10</td>\n",
       "      <td>356</td>\n",
       "    </tr>\n",
       "    <tr>\n",
       "      <th>18</th>\n",
       "      <td>FCC143</td>\n",
       "      <td>0.693548</td>\n",
       "      <td>0.140000</td>\n",
       "      <td>0.021472</td>\n",
       "      <td>0.789541</td>\n",
       "      <td>0.952108</td>\n",
       "      <td>43</td>\n",
       "      <td>62</td>\n",
       "      <td>7</td>\n",
       "      <td>388</td>\n",
       "    </tr>\n",
       "    <tr>\n",
       "      <th>19</th>\n",
       "      <td>IC2006</td>\n",
       "      <td>0.679389</td>\n",
       "      <td>0.063158</td>\n",
       "      <td>0.019737</td>\n",
       "      <td>inf</td>\n",
       "      <td>0.966427</td>\n",
       "      <td>89</td>\n",
       "      <td>131</td>\n",
       "      <td>6</td>\n",
       "      <td>435</td>\n",
       "    </tr>\n",
       "    <tr>\n",
       "      <th>20</th>\n",
       "      <td>FCC255</td>\n",
       "      <td>0.787500</td>\n",
       "      <td>0.202532</td>\n",
       "      <td>0.040302</td>\n",
       "      <td>0.779054</td>\n",
       "      <td>0.957226</td>\n",
       "      <td>63</td>\n",
       "      <td>80</td>\n",
       "      <td>16</td>\n",
       "      <td>477</td>\n",
       "    </tr>\n",
       "    <tr>\n",
       "      <th>21</th>\n",
       "      <td>FCC301</td>\n",
       "      <td>0.500000</td>\n",
       "      <td>0.565217</td>\n",
       "      <td>0.040248</td>\n",
       "      <td>inf</td>\n",
       "      <td>0.930263</td>\n",
       "      <td>10</td>\n",
       "      <td>20</td>\n",
       "      <td>13</td>\n",
       "      <td>343</td>\n",
       "    </tr>\n",
       "    <tr>\n",
       "      <th>22</th>\n",
       "      <td>FCC184</td>\n",
       "      <td>0.725490</td>\n",
       "      <td>0.101215</td>\n",
       "      <td>0.064267</td>\n",
       "      <td>inf</td>\n",
       "      <td>0.936573</td>\n",
       "      <td>222</td>\n",
       "      <td>306</td>\n",
       "      <td>25</td>\n",
       "      <td>695</td>\n",
       "    </tr>\n",
       "    <tr>\n",
       "      <th>23</th>\n",
       "      <td>FCC26</td>\n",
       "      <td>0.681818</td>\n",
       "      <td>0.680851</td>\n",
       "      <td>0.075650</td>\n",
       "      <td>inf</td>\n",
       "      <td>0.943531</td>\n",
       "      <td>15</td>\n",
       "      <td>22</td>\n",
       "      <td>32</td>\n",
       "      <td>445</td>\n",
       "    </tr>\n",
       "    <tr>\n",
       "      <th>24</th>\n",
       "      <td>FCC106</td>\n",
       "      <td>0.333333</td>\n",
       "      <td>0.687500</td>\n",
       "      <td>0.035144</td>\n",
       "      <td>0.325088</td>\n",
       "      <td>0.862300</td>\n",
       "      <td>5</td>\n",
       "      <td>15</td>\n",
       "      <td>11</td>\n",
       "      <td>328</td>\n",
       "    </tr>\n",
       "    <tr>\n",
       "      <th>25</th>\n",
       "      <td>FCC21</td>\n",
       "      <td>0.594507</td>\n",
       "      <td>0.242798</td>\n",
       "      <td>0.174298</td>\n",
       "      <td>inf</td>\n",
       "      <td>0.766842</td>\n",
       "      <td>368</td>\n",
       "      <td>619</td>\n",
       "      <td>118</td>\n",
       "      <td>1296</td>\n",
       "    </tr>\n",
       "    <tr>\n",
       "      <th>26</th>\n",
       "      <td>FCC136</td>\n",
       "      <td>0.640000</td>\n",
       "      <td>0.448276</td>\n",
       "      <td>0.039275</td>\n",
       "      <td>0.576045</td>\n",
       "      <td>0.922598</td>\n",
       "      <td>16</td>\n",
       "      <td>25</td>\n",
       "      <td>13</td>\n",
       "      <td>356</td>\n",
       "    </tr>\n",
       "    <tr>\n",
       "      <th>27</th>\n",
       "      <td>FCC219</td>\n",
       "      <td>0.700809</td>\n",
       "      <td>0.081272</td>\n",
       "      <td>0.061170</td>\n",
       "      <td>0.721110</td>\n",
       "      <td>0.927349</td>\n",
       "      <td>260</td>\n",
       "      <td>371</td>\n",
       "      <td>23</td>\n",
       "      <td>747</td>\n",
       "    </tr>\n",
       "    <tr>\n",
       "      <th>28</th>\n",
       "      <td>FCC170</td>\n",
       "      <td>0.647887</td>\n",
       "      <td>0.394737</td>\n",
       "      <td>0.099338</td>\n",
       "      <td>inf</td>\n",
       "      <td>0.880002</td>\n",
       "      <td>46</td>\n",
       "      <td>71</td>\n",
       "      <td>30</td>\n",
       "      <td>373</td>\n",
       "    </tr>\n",
       "    <tr>\n",
       "      <th>29</th>\n",
       "      <td>FCC204</td>\n",
       "      <td>0.470588</td>\n",
       "      <td>0.619048</td>\n",
       "      <td>0.029412</td>\n",
       "      <td>0.406927</td>\n",
       "      <td>0.926870</td>\n",
       "      <td>8</td>\n",
       "      <td>17</td>\n",
       "      <td>13</td>\n",
       "      <td>459</td>\n",
       "    </tr>\n",
       "    <tr>\n",
       "      <th>30</th>\n",
       "      <td>FCC90</td>\n",
       "      <td>0.631579</td>\n",
       "      <td>0.571429</td>\n",
       "      <td>0.043127</td>\n",
       "      <td>inf</td>\n",
       "      <td>0.932544</td>\n",
       "      <td>12</td>\n",
       "      <td>19</td>\n",
       "      <td>16</td>\n",
       "      <td>390</td>\n",
       "    </tr>\n",
       "    <tr>\n",
       "      <th>31</th>\n",
       "      <td>FCC288</td>\n",
       "      <td>0.235294</td>\n",
       "      <td>0.666667</td>\n",
       "      <td>0.024540</td>\n",
       "      <td>inf</td>\n",
       "      <td>0.903645</td>\n",
       "      <td>4</td>\n",
       "      <td>17</td>\n",
       "      <td>8</td>\n",
       "      <td>343</td>\n",
       "    </tr>\n",
       "    <tr>\n",
       "      <th>32</th>\n",
       "      <td>FCC152</td>\n",
       "      <td>0.750000</td>\n",
       "      <td>0.773585</td>\n",
       "      <td>0.107330</td>\n",
       "      <td>0.431389</td>\n",
       "      <td>0.904696</td>\n",
       "      <td>12</td>\n",
       "      <td>16</td>\n",
       "      <td>41</td>\n",
       "      <td>398</td>\n",
       "    </tr>\n",
       "    <tr>\n",
       "      <th>33</th>\n",
       "      <td>FCC249</td>\n",
       "      <td>0.670968</td>\n",
       "      <td>0.087719</td>\n",
       "      <td>0.034014</td>\n",
       "      <td>inf</td>\n",
       "      <td>0.950044</td>\n",
       "      <td>104</td>\n",
       "      <td>155</td>\n",
       "      <td>10</td>\n",
       "      <td>449</td>\n",
       "    </tr>\n",
       "    <tr>\n",
       "      <th>34</th>\n",
       "      <td>FCC95</td>\n",
       "      <td>0.571429</td>\n",
       "      <td>0.500000</td>\n",
       "      <td>0.032345</td>\n",
       "      <td>inf</td>\n",
       "      <td>0.898986</td>\n",
       "      <td>12</td>\n",
       "      <td>21</td>\n",
       "      <td>12</td>\n",
       "      <td>392</td>\n",
       "    </tr>\n",
       "    <tr>\n",
       "      <th>35</th>\n",
       "      <td>FCC303</td>\n",
       "      <td>0.666667</td>\n",
       "      <td>0.391304</td>\n",
       "      <td>0.028571</td>\n",
       "      <td>0.727859</td>\n",
       "      <td>0.965231</td>\n",
       "      <td>14</td>\n",
       "      <td>21</td>\n",
       "      <td>9</td>\n",
       "      <td>336</td>\n",
       "    </tr>\n",
       "    <tr>\n",
       "      <th>36</th>\n",
       "      <td>FCC277</td>\n",
       "      <td>0.525000</td>\n",
       "      <td>0.432432</td>\n",
       "      <td>0.048338</td>\n",
       "      <td>0.531475</td>\n",
       "      <td>0.906571</td>\n",
       "      <td>21</td>\n",
       "      <td>40</td>\n",
       "      <td>16</td>\n",
       "      <td>371</td>\n",
       "    </tr>\n",
       "    <tr>\n",
       "      <th>37</th>\n",
       "      <td>FCC43</td>\n",
       "      <td>0.567568</td>\n",
       "      <td>0.363636</td>\n",
       "      <td>0.028504</td>\n",
       "      <td>0.599335</td>\n",
       "      <td>0.932368</td>\n",
       "      <td>21</td>\n",
       "      <td>37</td>\n",
       "      <td>12</td>\n",
       "      <td>458</td>\n",
       "    </tr>\n",
       "    <tr>\n",
       "      <th>38</th>\n",
       "      <td>FCC190</td>\n",
       "      <td>0.703226</td>\n",
       "      <td>0.068376</td>\n",
       "      <td>0.021918</td>\n",
       "      <td>0.877635</td>\n",
       "      <td>0.957738</td>\n",
       "      <td>109</td>\n",
       "      <td>155</td>\n",
       "      <td>8</td>\n",
       "      <td>520</td>\n",
       "    </tr>\n",
       "    <tr>\n",
       "      <th>39</th>\n",
       "      <td>FCC213</td>\n",
       "      <td>0.696143</td>\n",
       "      <td>0.045161</td>\n",
       "      <td>0.106707</td>\n",
       "      <td>0.805373</td>\n",
       "      <td>0.889966</td>\n",
       "      <td>740</td>\n",
       "      <td>1063</td>\n",
       "      <td>35</td>\n",
       "      <td>1391</td>\n",
       "    </tr>\n",
       "    <tr>\n",
       "      <th>40</th>\n",
       "      <td>FCC177</td>\n",
       "      <td>0.728571</td>\n",
       "      <td>0.362500</td>\n",
       "      <td>0.072682</td>\n",
       "      <td>inf</td>\n",
       "      <td>0.922270</td>\n",
       "      <td>51</td>\n",
       "      <td>70</td>\n",
       "      <td>29</td>\n",
       "      <td>469</td>\n",
       "    </tr>\n",
       "    <tr>\n",
       "      <th>41</th>\n",
       "      <td>FCC193</td>\n",
       "      <td>0.688889</td>\n",
       "      <td>0.311111</td>\n",
       "      <td>0.049123</td>\n",
       "      <td>0.721244</td>\n",
       "      <td>0.955517</td>\n",
       "      <td>31</td>\n",
       "      <td>45</td>\n",
       "      <td>14</td>\n",
       "      <td>330</td>\n",
       "    </tr>\n",
       "    <tr>\n",
       "      <th>42</th>\n",
       "      <td>FCC147</td>\n",
       "      <td>0.683706</td>\n",
       "      <td>0.061404</td>\n",
       "      <td>0.052632</td>\n",
       "      <td>0.843906</td>\n",
       "      <td>0.936823</td>\n",
       "      <td>214</td>\n",
       "      <td>313</td>\n",
       "      <td>14</td>\n",
       "      <td>579</td>\n",
       "    </tr>\n",
       "  </tbody>\n",
       "</table>\n",
       "</div>"
      ],
      "text/plain": [
       "     Galaxy       TPR       FDR       FPR  AUC(FDR,TPR)  AUC(FPR,TPR)  \\\n",
       "0    FCC203  0.433333  0.480000  0.035088           inf      0.928606   \n",
       "1    FCC119  0.117647  0.894737  0.041463           inf      0.846126   \n",
       "2    FCC324  0.523810  0.421053  0.022039           inf      0.922275   \n",
       "3    FCC167  0.756691  0.074405  0.059382           inf      0.924317   \n",
       "4    FCC182  0.568966  0.232558  0.028818      0.714731      0.951456   \n",
       "5   NGC1340  0.674074  0.116505  0.065934      0.777175      0.895330   \n",
       "6    FCC148  0.750000  0.136986  0.029762           inf      0.965402   \n",
       "7    FCC335  0.714286  0.565217  0.037572      0.553377      0.911127   \n",
       "8    FCC153  0.661017  0.486842  0.095361      0.544890      0.901035   \n",
       "9     FCC63  0.692982  0.059524  0.029070      0.879169      0.957556   \n",
       "10   FCC202  0.610390  0.101911  0.039506      0.848115      0.942921   \n",
       "11    FCC19  0.411765  0.666667  0.039326           inf      0.871613   \n",
       "12    FCC47  0.684982  0.060302  0.033149           inf      0.950595   \n",
       "13   FCC100  0.500000  0.346154  0.026866           inf      0.918218   \n",
       "14   FCC276  0.727019  0.087413  0.073529      0.855766      0.937682   \n",
       "15    FCC83  0.705224  0.030769  0.014388      0.910400      0.964995   \n",
       "16    FCC55  0.513514  0.387097  0.033708           inf      0.939151   \n",
       "17   FCC310  0.666667  0.277778  0.031546      0.718231      0.952075   \n",
       "18   FCC143  0.693548  0.140000  0.021472      0.789541      0.952108   \n",
       "19   IC2006  0.679389  0.063158  0.019737           inf      0.966427   \n",
       "20   FCC255  0.787500  0.202532  0.040302      0.779054      0.957226   \n",
       "21   FCC301  0.500000  0.565217  0.040248           inf      0.930263   \n",
       "22   FCC184  0.725490  0.101215  0.064267           inf      0.936573   \n",
       "23    FCC26  0.681818  0.680851  0.075650           inf      0.943531   \n",
       "24   FCC106  0.333333  0.687500  0.035144      0.325088      0.862300   \n",
       "25    FCC21  0.594507  0.242798  0.174298           inf      0.766842   \n",
       "26   FCC136  0.640000  0.448276  0.039275      0.576045      0.922598   \n",
       "27   FCC219  0.700809  0.081272  0.061170      0.721110      0.927349   \n",
       "28   FCC170  0.647887  0.394737  0.099338           inf      0.880002   \n",
       "29   FCC204  0.470588  0.619048  0.029412      0.406927      0.926870   \n",
       "30    FCC90  0.631579  0.571429  0.043127           inf      0.932544   \n",
       "31   FCC288  0.235294  0.666667  0.024540           inf      0.903645   \n",
       "32   FCC152  0.750000  0.773585  0.107330      0.431389      0.904696   \n",
       "33   FCC249  0.670968  0.087719  0.034014           inf      0.950044   \n",
       "34    FCC95  0.571429  0.500000  0.032345           inf      0.898986   \n",
       "35   FCC303  0.666667  0.391304  0.028571      0.727859      0.965231   \n",
       "36   FCC277  0.525000  0.432432  0.048338      0.531475      0.906571   \n",
       "37    FCC43  0.567568  0.363636  0.028504      0.599335      0.932368   \n",
       "38   FCC190  0.703226  0.068376  0.021918      0.877635      0.957738   \n",
       "39   FCC213  0.696143  0.045161  0.106707      0.805373      0.889966   \n",
       "40   FCC177  0.728571  0.362500  0.072682           inf      0.922270   \n",
       "41   FCC193  0.688889  0.311111  0.049123      0.721244      0.955517   \n",
       "42   FCC147  0.683706  0.061404  0.052632      0.843906      0.936823   \n",
       "\n",
       "    # found GCs  # total GCs  # fake GCs  # sources  \n",
       "0            13           30          12        372  \n",
       "1             2           17          17        427  \n",
       "2            11           21           8        384  \n",
       "3           311          411          25        832  \n",
       "4            33           58          10        405  \n",
       "5           182          270          24        634  \n",
       "6            63           84          10        420  \n",
       "7            10           14          13        360  \n",
       "8            39           59          37        447  \n",
       "9           158          228          10        572  \n",
       "10          141          231          16        636  \n",
       "11            7           17          14        373  \n",
       "12          187          273          12        635  \n",
       "13           17           34           9        369  \n",
       "14          261          359          25        699  \n",
       "15          189          268           6        685  \n",
       "16           19           37          12        393  \n",
       "17           26           39          10        356  \n",
       "18           43           62           7        388  \n",
       "19           89          131           6        435  \n",
       "20           63           80          16        477  \n",
       "21           10           20          13        343  \n",
       "22          222          306          25        695  \n",
       "23           15           22          32        445  \n",
       "24            5           15          11        328  \n",
       "25          368          619         118       1296  \n",
       "26           16           25          13        356  \n",
       "27          260          371          23        747  \n",
       "28           46           71          30        373  \n",
       "29            8           17          13        459  \n",
       "30           12           19          16        390  \n",
       "31            4           17           8        343  \n",
       "32           12           16          41        398  \n",
       "33          104          155          10        449  \n",
       "34           12           21          12        392  \n",
       "35           14           21           9        336  \n",
       "36           21           40          16        371  \n",
       "37           21           37          12        458  \n",
       "38          109          155           8        520  \n",
       "39          740         1063          35       1391  \n",
       "40           51           70          29        469  \n",
       "41           31           45          14        330  \n",
       "42          214          313          14        579  "
      ]
     },
     "execution_count": 7,
     "metadata": {},
     "output_type": "execute_result"
    }
   ],
   "source": [
    "model.stats_galaxies"
   ]
  },
  {
   "cell_type": "code",
   "execution_count": 8,
   "id": "be9bde38",
   "metadata": {},
   "outputs": [
    {
     "name": "stderr",
     "output_type": "stream",
     "text": [
      "/tmp/ipykernel_1175/3415850949.py:1: FutureWarning: Dropping of nuisance columns in DataFrame reductions (with 'numeric_only=None') is deprecated; in a future version this will raise TypeError.  Select only valid columns before calling the reduction.\n",
      "  model.stats_galaxies.mean()\n"
     ]
    },
    {
     "data": {
      "text/plain": [
       "TPR               0.611309\n",
       "FDR               0.332275\n",
       "FPR               0.048527\n",
       "AUC(FDR,TPR)           inf\n",
       "AUC(FPR,TPR)      0.923464\n",
       "# found GCs      96.720930\n",
       "# total GCs     143.279070\n",
       "# fake GCs       18.627907\n",
       "# sources       506.209302\n",
       "dtype: float64"
      ]
     },
     "execution_count": 8,
     "metadata": {},
     "output_type": "execute_result"
    }
   ],
   "source": [
    "model.stats_galaxies.mean()"
   ]
  },
  {
   "cell_type": "code",
   "execution_count": 9,
   "id": "5e6413cd",
   "metadata": {},
   "outputs": [
    {
     "data": {
      "text/html": [
       "<div>\n",
       "<style scoped>\n",
       "    .dataframe tbody tr th:only-of-type {\n",
       "        vertical-align: middle;\n",
       "    }\n",
       "\n",
       "    .dataframe tbody tr th {\n",
       "        vertical-align: top;\n",
       "    }\n",
       "\n",
       "    .dataframe thead th {\n",
       "        text-align: right;\n",
       "    }\n",
       "</style>\n",
       "<table border=\"1\" class=\"dataframe\">\n",
       "  <thead>\n",
       "    <tr style=\"text-align: right;\">\n",
       "      <th></th>\n",
       "      <th>Galaxy</th>\n",
       "      <th>TPR</th>\n",
       "      <th>FDR</th>\n",
       "      <th>FPR</th>\n",
       "      <th>AUC(FDR,TPR)</th>\n",
       "      <th>AUC(FPR,TPR)</th>\n",
       "      <th># found GCs</th>\n",
       "      <th># total GCs</th>\n",
       "      <th># fake GCs</th>\n",
       "      <th># sources</th>\n",
       "    </tr>\n",
       "  </thead>\n",
       "  <tbody>\n",
       "    <tr>\n",
       "      <th>0</th>\n",
       "      <td>ALL</td>\n",
       "      <td>0.675053</td>\n",
       "      <td>0.161492</td>\n",
       "      <td>0.051326</td>\n",
       "      <td>inf</td>\n",
       "      <td>0.931595</td>\n",
       "      <td>4159</td>\n",
       "      <td>6161</td>\n",
       "      <td>801</td>\n",
       "      <td>21767</td>\n",
       "    </tr>\n",
       "  </tbody>\n",
       "</table>\n",
       "</div>"
      ],
      "text/plain": [
       "  Galaxy       TPR       FDR       FPR  AUC(FDR,TPR)  AUC(FPR,TPR)  \\\n",
       "0    ALL  0.675053  0.161492  0.051326           inf      0.931595   \n",
       "\n",
       "   # found GCs  # total GCs  # fake GCs  # sources  \n",
       "0         4159         6161         801      21767  "
      ]
     },
     "execution_count": 9,
     "metadata": {},
     "output_type": "execute_result"
    }
   ],
   "source": [
    "model.stats_all"
   ]
  },
  {
   "cell_type": "code",
   "execution_count": null,
   "id": "51ebb63d",
   "metadata": {},
   "outputs": [],
   "source": []
  }
 ],
 "metadata": {
  "kernelspec": {
   "display_name": "Python 3 (ipykernel)",
   "language": "python",
   "name": "python3"
  },
  "language_info": {
   "codemirror_mode": {
    "name": "ipython",
    "version": 3
   },
   "file_extension": ".py",
   "mimetype": "text/x-python",
   "name": "python",
   "nbconvert_exporter": "python",
   "pygments_lexer": "ipython3",
   "version": "3.8.8"
  }
 },
 "nbformat": 4,
 "nbformat_minor": 5
}
