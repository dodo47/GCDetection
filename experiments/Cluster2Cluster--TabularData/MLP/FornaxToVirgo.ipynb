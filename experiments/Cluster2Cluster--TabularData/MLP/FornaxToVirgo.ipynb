{
 "cells": [
  {
   "cell_type": "code",
   "execution_count": 20,
   "id": "eb856f0e",
   "metadata": {},
   "outputs": [],
   "source": [
    "import pandas\n",
    "pandas.options.mode.chained_assignment = None\n",
    "import sys\n",
    "import numpy as np\n",
    "from globsML.utils.preprocessing import rescale_data, select_galaxies, create_data_dict, replace_NaN\n",
    "from globsML.models.skmodels import StandardClassifier\n",
    "\n",
    "data_path = '../../../data/ACS_sources_original.csv'\n",
    "data = pandas.read_csv(data_path)\n",
    "test_galaxies = set(data[data['cluster']=='Virgo']['galaxy'].unique())"
   ]
  },
  {
   "cell_type": "code",
   "execution_count": 21,
   "id": "3d04334c",
   "metadata": {},
   "outputs": [
    {
     "name": "stdout",
     "output_type": "stream",
     "text": [
      "Number of sources in training split after dropping rows with NaN as CI/m/color: 21232\n",
      "535 sources have been dropped.\n",
      "NaN values in testing data have been replaced with the correspnding median value observed in the training split\n"
     ]
    },
    {
     "name": "stderr",
     "output_type": "stream",
     "text": [
      "\r",
      "  0%|                                                                                            | 0/29 [00:00<?, ?it/s]"
     ]
    },
    {
     "name": "stdout",
     "output_type": "stream",
     "text": [
      "eccentricity will not be transformed. Skipped.\n",
      "eccentricity_z will not be transformed. Skipped.\n"
     ]
    },
    {
     "name": "stderr",
     "output_type": "stream",
     "text": [
      "100%|██████████████████████████████████████████████████████████████████████████████████| 29/29 [00:00<00:00, 848.71it/s]\n"
     ]
    }
   ],
   "source": [
    "df_train, dfs_test = select_galaxies(data, test_galaxies = test_galaxies)\n",
    "df_train, dfs_test = replace_NaN(df_train, dfs_test)\n",
    "df = create_data_dict(data, df_train, dfs_test)\n",
    "df, _ = rescale_data(df)\n",
    "\n",
    "input_dim = len(df['train']['inputs'][0])"
   ]
  },
  {
   "cell_type": "markdown",
   "id": "5ada0ed3",
   "metadata": {},
   "source": [
    "### Train model"
   ]
  },
  {
   "cell_type": "code",
   "execution_count": 3,
   "id": "6ac0682d",
   "metadata": {},
   "outputs": [
    {
     "name": "stdout",
     "output_type": "stream",
     "text": [
      "Loading data...\n",
      "Fitting model...\n"
     ]
    },
    {
     "name": "stderr",
     "output_type": "stream",
     "text": [
      "                                                                                                                        \r"
     ]
    },
    {
     "name": "stdout",
     "output_type": "stream",
     "text": [
      "NEW BEST!\n",
      "EPOCH 0: tpr = 0.7667731629392971 and fdr = 0.1366906474820144\n"
     ]
    },
    {
     "name": "stderr",
     "output_type": "stream",
     "text": [
      "                                                                                                                        \r"
     ]
    },
    {
     "name": "stdout",
     "output_type": "stream",
     "text": [
      "NEW BEST!\n",
      "EPOCH 1: tpr = 0.8498402555910544 and fdr = 0.08275862068965517\n"
     ]
    },
    {
     "name": "stderr",
     "output_type": "stream",
     "text": [
      "                                                                                                                        \r"
     ]
    },
    {
     "name": "stdout",
     "output_type": "stream",
     "text": [
      "NEW BEST!\n",
      "EPOCH 2: tpr = 0.8913738019169329 and fdr = 0.08223684210526316\n"
     ]
    },
    {
     "name": "stderr",
     "output_type": "stream",
     "text": [
      "                                                                                                                        \r"
     ]
    },
    {
     "name": "stdout",
     "output_type": "stream",
     "text": [
      "EPOCH 3: tpr = 0.865814696485623 and fdr = 0.06228373702422145\n"
     ]
    },
    {
     "name": "stderr",
     "output_type": "stream",
     "text": [
      "                                                                                                                        \r"
     ]
    },
    {
     "name": "stdout",
     "output_type": "stream",
     "text": [
      "NEW BEST!\n",
      "EPOCH 4: tpr = 0.8785942492012779 and fdr = 0.06462585034013606\n"
     ]
    },
    {
     "name": "stderr",
     "output_type": "stream",
     "text": [
      "                                                                                                                        \r"
     ]
    },
    {
     "name": "stdout",
     "output_type": "stream",
     "text": [
      "NEW BEST!\n",
      "EPOCH 5: tpr = 0.8913738019169329 and fdr = 0.07308970099667775\n"
     ]
    },
    {
     "name": "stderr",
     "output_type": "stream",
     "text": [
      "                                                                                                                        \r"
     ]
    },
    {
     "name": "stdout",
     "output_type": "stream",
     "text": [
      "NEW BEST!\n",
      "EPOCH 6: tpr = 0.8913738019169329 and fdr = 0.06375838926174497\n"
     ]
    },
    {
     "name": "stderr",
     "output_type": "stream",
     "text": [
      "                                                                                                                        \r"
     ]
    },
    {
     "name": "stdout",
     "output_type": "stream",
     "text": [
      "NEW BEST!\n",
      "EPOCH 7: tpr = 0.8977635782747604 and fdr = 0.06333333333333334\n"
     ]
    },
    {
     "name": "stderr",
     "output_type": "stream",
     "text": [
      "                                                                                                                        \r"
     ]
    },
    {
     "name": "stdout",
     "output_type": "stream",
     "text": [
      "EPOCH 8: tpr = 0.8785942492012779 and fdr = 0.06143344709897611\n"
     ]
    },
    {
     "name": "stderr",
     "output_type": "stream",
     "text": [
      "                                                                                                                        \r"
     ]
    },
    {
     "name": "stdout",
     "output_type": "stream",
     "text": [
      "EPOCH 9: tpr = 0.9009584664536742 and fdr = 0.06930693069306931\n"
     ]
    },
    {
     "name": "stderr",
     "output_type": "stream",
     "text": [
      "                                                                                                                        \r"
     ]
    },
    {
     "name": "stdout",
     "output_type": "stream",
     "text": [
      "EPOCH 10: tpr = 0.8881789137380192 and fdr = 0.060810810810810814\n"
     ]
    },
    {
     "name": "stderr",
     "output_type": "stream",
     "text": [
      "                                                                                                                        \r"
     ]
    },
    {
     "name": "stdout",
     "output_type": "stream",
     "text": [
      "EPOCH 11: tpr = 0.8785942492012779 and fdr = 0.054982817869415807\n"
     ]
    },
    {
     "name": "stderr",
     "output_type": "stream",
     "text": [
      "                                                                                                                        \r"
     ]
    },
    {
     "name": "stdout",
     "output_type": "stream",
     "text": [
      "EPOCH 12: tpr = 0.8881789137380192 and fdr = 0.060810810810810814\n"
     ]
    },
    {
     "name": "stderr",
     "output_type": "stream",
     "text": [
      "                                                                                                                        \r"
     ]
    },
    {
     "name": "stdout",
     "output_type": "stream",
     "text": [
      "EPOCH 13: tpr = 0.8881789137380192 and fdr = 0.06397306397306397\n"
     ]
    },
    {
     "name": "stderr",
     "output_type": "stream",
     "text": [
      "                                                                                                                        \r"
     ]
    },
    {
     "name": "stdout",
     "output_type": "stream",
     "text": [
      "EPOCH 14: tpr = 0.8881789137380192 and fdr = 0.060810810810810814\n"
     ]
    },
    {
     "name": "stderr",
     "output_type": "stream",
     "text": [
      "                                                                                                                        \r"
     ]
    },
    {
     "name": "stdout",
     "output_type": "stream",
     "text": [
      "EPOCH 15: tpr = 0.8849840255591054 and fdr = 0.061016949152542375\n"
     ]
    },
    {
     "name": "stderr",
     "output_type": "stream",
     "text": [
      "                                                                                                                        \r"
     ]
    },
    {
     "name": "stdout",
     "output_type": "stream",
     "text": [
      "EPOCH 16: tpr = 0.8881789137380192 and fdr = 0.06397306397306397\n"
     ]
    },
    {
     "name": "stderr",
     "output_type": "stream",
     "text": [
      "                                                                                                                        \r"
     ]
    },
    {
     "name": "stdout",
     "output_type": "stream",
     "text": [
      "EPOCH 17: tpr = 0.9105431309904153 and fdr = 0.07766990291262135\n"
     ]
    },
    {
     "name": "stderr",
     "output_type": "stream",
     "text": [
      "                                                                                                                        \r"
     ]
    },
    {
     "name": "stdout",
     "output_type": "stream",
     "text": [
      "EPOCH 18: tpr = 0.8913738019169329 and fdr = 0.06060606060606061\n"
     ]
    },
    {
     "name": "stderr",
     "output_type": "stream",
     "text": [
      "                                                                                                                        \r"
     ]
    },
    {
     "name": "stdout",
     "output_type": "stream",
     "text": [
      "NEW BEST!\n",
      "EPOCH 19: tpr = 0.9073482428115016 and fdr = 0.06578947368421052\n"
     ]
    },
    {
     "name": "stderr",
     "output_type": "stream",
     "text": [
      "                                                                                                                        \r"
     ]
    },
    {
     "name": "stdout",
     "output_type": "stream",
     "text": [
      "EPOCH 20: tpr = 0.9041533546325878 and fdr = 0.06291390728476821\n"
     ]
    },
    {
     "name": "stderr",
     "output_type": "stream",
     "text": [
      "                                                                                                                        \r"
     ]
    },
    {
     "name": "stdout",
     "output_type": "stream",
     "text": [
      "EPOCH 21: tpr = 0.8849840255591054 and fdr = 0.05782312925170068\n"
     ]
    },
    {
     "name": "stderr",
     "output_type": "stream",
     "text": [
      "                                                                                                                        \r"
     ]
    },
    {
     "name": "stdout",
     "output_type": "stream",
     "text": [
      "EPOCH 22: tpr = 0.8977635782747604 and fdr = 0.06333333333333334\n"
     ]
    },
    {
     "name": "stderr",
     "output_type": "stream",
     "text": [
      "                                                                                                                        \r"
     ]
    },
    {
     "name": "stdout",
     "output_type": "stream",
     "text": [
      "EPOCH 23: tpr = 0.8945686900958466 and fdr = 0.05723905723905724\n"
     ]
    },
    {
     "name": "stderr",
     "output_type": "stream",
     "text": [
      "                                                                                                                        \r"
     ]
    },
    {
     "name": "stdout",
     "output_type": "stream",
     "text": [
      "EPOCH 24: tpr = 0.9041533546325878 and fdr = 0.06291390728476821\n"
     ]
    },
    {
     "name": "stderr",
     "output_type": "stream",
     "text": [
      "                                                                                                                        \r"
     ]
    },
    {
     "name": "stdout",
     "output_type": "stream",
     "text": [
      "EPOCH 25: tpr = 0.8913738019169329 and fdr = 0.057432432432432436\n"
     ]
    },
    {
     "name": "stderr",
     "output_type": "stream",
     "text": [
      "                                                                                                                        \r"
     ]
    },
    {
     "name": "stdout",
     "output_type": "stream",
     "text": [
      "EPOCH 26: tpr = 0.8881789137380192 and fdr = 0.05442176870748299\n"
     ]
    },
    {
     "name": "stderr",
     "output_type": "stream",
     "text": [
      "                                                                                                                        \r"
     ]
    },
    {
     "name": "stdout",
     "output_type": "stream",
     "text": [
      "EPOCH 27: tpr = 0.8881789137380192 and fdr = 0.06711409395973154\n"
     ]
    },
    {
     "name": "stderr",
     "output_type": "stream",
     "text": [
      "                                                                                                                        \r"
     ]
    },
    {
     "name": "stdout",
     "output_type": "stream",
     "text": [
      "EPOCH 28: tpr = 0.8881789137380192 and fdr = 0.060810810810810814\n"
     ]
    },
    {
     "name": "stderr",
     "output_type": "stream",
     "text": [
      "                                                                                                                        \r"
     ]
    },
    {
     "name": "stdout",
     "output_type": "stream",
     "text": [
      "EPOCH 29: tpr = 0.8817891373801917 and fdr = 0.05802047781569966\n"
     ]
    },
    {
     "name": "stderr",
     "output_type": "stream",
     "text": [
      "                                                                                                                        \r"
     ]
    },
    {
     "name": "stdout",
     "output_type": "stream",
     "text": [
      "EPOCH 30: tpr = 0.8849840255591054 and fdr = 0.05460750853242321\n"
     ]
    },
    {
     "name": "stderr",
     "output_type": "stream",
     "text": [
      "                                                                                                                        \r"
     ]
    },
    {
     "name": "stdout",
     "output_type": "stream",
     "text": [
      "EPOCH 31: tpr = 0.8913738019169329 and fdr = 0.06060606060606061\n"
     ]
    },
    {
     "name": "stderr",
     "output_type": "stream",
     "text": [
      "                                                                                                                        \r"
     ]
    },
    {
     "name": "stdout",
     "output_type": "stream",
     "text": [
      "EPOCH 32: tpr = 0.8977635782747604 and fdr = 0.0664451827242525\n"
     ]
    },
    {
     "name": "stderr",
     "output_type": "stream",
     "text": [
      "                                                                                                                        \r"
     ]
    },
    {
     "name": "stdout",
     "output_type": "stream",
     "text": [
      "EPOCH 33: tpr = 0.8977635782747604 and fdr = 0.0695364238410596\n"
     ]
    },
    {
     "name": "stderr",
     "output_type": "stream",
     "text": [
      "                                                                                                                        \r"
     ]
    },
    {
     "name": "stdout",
     "output_type": "stream",
     "text": [
      "EPOCH 34: tpr = 0.8849840255591054 and fdr = 0.05782312925170068\n"
     ]
    },
    {
     "name": "stderr",
     "output_type": "stream",
     "text": [
      "                                                                                                                        \r"
     ]
    },
    {
     "name": "stdout",
     "output_type": "stream",
     "text": [
      "EPOCH 35: tpr = 0.8977635782747604 and fdr = 0.0664451827242525\n"
     ]
    },
    {
     "name": "stderr",
     "output_type": "stream",
     "text": [
      "                                                                                                                        \r"
     ]
    },
    {
     "name": "stdout",
     "output_type": "stream",
     "text": [
      "EPOCH 36: tpr = 0.8913738019169329 and fdr = 0.06060606060606061\n"
     ]
    },
    {
     "name": "stderr",
     "output_type": "stream",
     "text": [
      "                                                                                                                        \r"
     ]
    },
    {
     "name": "stdout",
     "output_type": "stream",
     "text": [
      "EPOCH 37: tpr = 0.8913738019169329 and fdr = 0.06060606060606061\n"
     ]
    },
    {
     "name": "stderr",
     "output_type": "stream",
     "text": [
      "                                                                                                                        \r"
     ]
    },
    {
     "name": "stdout",
     "output_type": "stream",
     "text": [
      "EPOCH 38: tpr = 0.8849840255591054 and fdr = 0.06418918918918919\n"
     ]
    },
    {
     "name": "stderr",
     "output_type": "stream",
     "text": [
      "                                                                                                                        \r"
     ]
    },
    {
     "name": "stdout",
     "output_type": "stream",
     "text": [
      "EPOCH 39: tpr = 0.8881789137380192 and fdr = 0.060810810810810814\n"
     ]
    },
    {
     "name": "stderr",
     "output_type": "stream",
     "text": [
      "                                                                                                                        \r"
     ]
    },
    {
     "name": "stdout",
     "output_type": "stream",
     "text": [
      "EPOCH 40: tpr = 0.9009584664536742 and fdr = 0.06930693069306931\n"
     ]
    },
    {
     "name": "stderr",
     "output_type": "stream",
     "text": [
      "                                                                                                                        \r"
     ]
    },
    {
     "name": "stdout",
     "output_type": "stream",
     "text": [
      "EPOCH 41: tpr = 0.9009584664536742 and fdr = 0.06930693069306931\n"
     ]
    },
    {
     "name": "stderr",
     "output_type": "stream",
     "text": [
      "                                                                                                                        \r"
     ]
    },
    {
     "name": "stdout",
     "output_type": "stream",
     "text": [
      "EPOCH 42: tpr = 0.8945686900958466 and fdr = 0.06354515050167224\n"
     ]
    },
    {
     "name": "stderr",
     "output_type": "stream",
     "text": [
      "                                                                                                                        \r"
     ]
    },
    {
     "name": "stdout",
     "output_type": "stream",
     "text": [
      "EPOCH 43: tpr = 0.8913738019169329 and fdr = 0.06060606060606061\n"
     ]
    },
    {
     "name": "stderr",
     "output_type": "stream",
     "text": [
      "                                                                                                                        \r"
     ]
    },
    {
     "name": "stdout",
     "output_type": "stream",
     "text": [
      "EPOCH 44: tpr = 0.8977635782747604 and fdr = 0.0664451827242525\n"
     ]
    },
    {
     "name": "stderr",
     "output_type": "stream",
     "text": [
      "                                                                                                                        \r"
     ]
    },
    {
     "name": "stdout",
     "output_type": "stream",
     "text": [
      "EPOCH 45: tpr = 0.8945686900958466 and fdr = 0.05723905723905724\n"
     ]
    },
    {
     "name": "stderr",
     "output_type": "stream",
     "text": [
      "                                                                                                                        \r"
     ]
    },
    {
     "name": "stdout",
     "output_type": "stream",
     "text": [
      "EPOCH 46: tpr = 0.9041533546325878 and fdr = 0.0781758957654723\n"
     ]
    },
    {
     "name": "stderr",
     "output_type": "stream",
     "text": [
      "                                                                                                                        \r"
     ]
    },
    {
     "name": "stdout",
     "output_type": "stream",
     "text": [
      "EPOCH 47: tpr = 0.8977635782747604 and fdr = 0.0664451827242525\n"
     ]
    },
    {
     "name": "stderr",
     "output_type": "stream",
     "text": [
      "                                                                                                                        \r"
     ]
    },
    {
     "name": "stdout",
     "output_type": "stream",
     "text": [
      "EPOCH 48: tpr = 0.8945686900958466 and fdr = 0.06354515050167224\n"
     ]
    },
    {
     "name": "stderr",
     "output_type": "stream",
     "text": [
      "                                                                                                                        \r"
     ]
    },
    {
     "name": "stdout",
     "output_type": "stream",
     "text": [
      "EPOCH 49: tpr = 0.8945686900958466 and fdr = 0.05723905723905724\n"
     ]
    },
    {
     "name": "stderr",
     "output_type": "stream",
     "text": [
      "                                                                                                                        \r"
     ]
    },
    {
     "name": "stdout",
     "output_type": "stream",
     "text": [
      "EPOCH 50: tpr = 0.8817891373801917 and fdr = 0.0547945205479452\n"
     ]
    },
    {
     "name": "stderr",
     "output_type": "stream",
     "text": [
      "                                                                                                                        \r"
     ]
    },
    {
     "name": "stdout",
     "output_type": "stream",
     "text": [
      "EPOCH 51: tpr = 0.8849840255591054 and fdr = 0.06418918918918919\n"
     ]
    },
    {
     "name": "stderr",
     "output_type": "stream",
     "text": [
      "                                                                                                                        \r"
     ]
    },
    {
     "name": "stdout",
     "output_type": "stream",
     "text": [
      "EPOCH 52: tpr = 0.9009584664536742 and fdr = 0.06312292358803986\n"
     ]
    },
    {
     "name": "stderr",
     "output_type": "stream",
     "text": [
      "                                                                                                                        \r"
     ]
    },
    {
     "name": "stdout",
     "output_type": "stream",
     "text": [
      "EPOCH 53: tpr = 0.8913738019169329 and fdr = 0.057432432432432436\n"
     ]
    },
    {
     "name": "stderr",
     "output_type": "stream",
     "text": [
      "                                                                                                                        \r"
     ]
    },
    {
     "name": "stdout",
     "output_type": "stream",
     "text": [
      "EPOCH 54: tpr = 0.9009584664536742 and fdr = 0.06312292358803986\n"
     ]
    },
    {
     "name": "stderr",
     "output_type": "stream",
     "text": [
      "                                                                                                                        \r"
     ]
    },
    {
     "name": "stdout",
     "output_type": "stream",
     "text": [
      "EPOCH 55: tpr = 0.8753993610223643 and fdr = 0.04861111111111111\n"
     ]
    },
    {
     "name": "stderr",
     "output_type": "stream",
     "text": [
      "                                                                                                                        \r"
     ]
    },
    {
     "name": "stdout",
     "output_type": "stream",
     "text": [
      "EPOCH 56: tpr = 0.8977635782747604 and fdr = 0.0664451827242525\n"
     ]
    },
    {
     "name": "stderr",
     "output_type": "stream",
     "text": [
      "                                                                                                                        \r"
     ]
    },
    {
     "name": "stdout",
     "output_type": "stream",
     "text": [
      "EPOCH 57: tpr = 0.8945686900958466 and fdr = 0.06040268456375839\n"
     ]
    },
    {
     "name": "stderr",
     "output_type": "stream",
     "text": [
      "                                                                                                                        \r"
     ]
    },
    {
     "name": "stdout",
     "output_type": "stream",
     "text": [
      "EPOCH 58: tpr = 0.8977635782747604 and fdr = 0.07260726072607261\n"
     ]
    },
    {
     "name": "stderr",
     "output_type": "stream",
     "text": [
      "                                                                                                                        "
     ]
    },
    {
     "name": "stdout",
     "output_type": "stream",
     "text": [
      "EPOCH 59: tpr = 0.9041533546325878 and fdr = 0.06291390728476821\n"
     ]
    },
    {
     "name": "stderr",
     "output_type": "stream",
     "text": [
      "\r"
     ]
    }
   ],
   "source": [
    "model = StandardClassifier(method='mlp', input_dim=input_dim, data=df)"
   ]
  },
  {
   "cell_type": "code",
   "execution_count": 4,
   "id": "c50d61e8",
   "metadata": {},
   "outputs": [
    {
     "name": "stderr",
     "output_type": "stream",
     "text": [
      "/home/dodo/anaconda3/lib/python3.8/site-packages/numpy/core/fromnumeric.py:3440: RuntimeWarning: Mean of empty slice.\n",
      "  return _methods._mean(a, axis=axis, dtype=dtype,\n",
      "/home/dodo/anaconda3/lib/python3.8/site-packages/numpy/core/_methods.py:189: RuntimeWarning: invalid value encountered in double_scalars\n",
      "  ret = ret.dtype.type(ret / rcount)\n"
     ]
    }
   ],
   "source": [
    "model.val()"
   ]
  },
  {
   "cell_type": "code",
   "execution_count": 5,
   "id": "bfeda233",
   "metadata": {},
   "outputs": [
    {
     "data": {
      "text/html": [
       "<div>\n",
       "<style scoped>\n",
       "    .dataframe tbody tr th:only-of-type {\n",
       "        vertical-align: middle;\n",
       "    }\n",
       "\n",
       "    .dataframe tbody tr th {\n",
       "        vertical-align: top;\n",
       "    }\n",
       "\n",
       "    .dataframe thead th {\n",
       "        text-align: right;\n",
       "    }\n",
       "</style>\n",
       "<table border=\"1\" class=\"dataframe\">\n",
       "  <thead>\n",
       "    <tr style=\"text-align: right;\">\n",
       "      <th></th>\n",
       "      <th>TPR</th>\n",
       "      <th>FDR</th>\n",
       "      <th>FPR</th>\n",
       "      <th>AUC(FDR,TPR)</th>\n",
       "      <th>AUC(FPR,TPR)</th>\n",
       "      <th># found GCs</th>\n",
       "      <th># total GCs</th>\n",
       "      <th># fake GCs</th>\n",
       "      <th># sources</th>\n",
       "    </tr>\n",
       "  </thead>\n",
       "  <tbody>\n",
       "    <tr>\n",
       "      <th>0</th>\n",
       "      <td>0.926518</td>\n",
       "      <td>0.090909</td>\n",
       "      <td>0.038718</td>\n",
       "      <td>0.953117</td>\n",
       "      <td>0.98622</td>\n",
       "      <td>290</td>\n",
       "      <td>313</td>\n",
       "      <td>29</td>\n",
       "      <td>1062</td>\n",
       "    </tr>\n",
       "  </tbody>\n",
       "</table>\n",
       "</div>"
      ],
      "text/plain": [
       "        TPR       FDR       FPR  AUC(FDR,TPR)  AUC(FPR,TPR)  # found GCs  \\\n",
       "0  0.926518  0.090909  0.038718      0.953117       0.98622          290   \n",
       "\n",
       "   # total GCs  # fake GCs  # sources  \n",
       "0          313          29       1062  "
      ]
     },
     "execution_count": 5,
     "metadata": {},
     "output_type": "execute_result"
    }
   ],
   "source": [
    "model.stats_validation"
   ]
  },
  {
   "cell_type": "code",
   "execution_count": 6,
   "id": "ac664799",
   "metadata": {},
   "outputs": [
    {
     "name": "stderr",
     "output_type": "stream",
     "text": [
      "/home/dodo/anaconda3/lib/python3.8/site-packages/numpy/core/fromnumeric.py:3440: RuntimeWarning: Mean of empty slice.\n",
      "  return _methods._mean(a, axis=axis, dtype=dtype,\n",
      "/home/dodo/anaconda3/lib/python3.8/site-packages/numpy/core/_methods.py:189: RuntimeWarning: invalid value encountered in double_scalars\n",
      "  ret = ret.dtype.type(ret / rcount)\n",
      "/home/dodo/git/globsML/globsML/utils/eval.py:146: RuntimeWarning: divide by zero encountered in double_scalars\n",
      "  return auc(x,y)/(2*auc([0,x[-1]], [0,y[-1]])), x, y\n"
     ]
    }
   ],
   "source": [
    "model.test()"
   ]
  },
  {
   "cell_type": "code",
   "execution_count": 7,
   "id": "701df614",
   "metadata": {},
   "outputs": [
    {
     "data": {
      "text/html": [
       "<div>\n",
       "<style scoped>\n",
       "    .dataframe tbody tr th:only-of-type {\n",
       "        vertical-align: middle;\n",
       "    }\n",
       "\n",
       "    .dataframe tbody tr th {\n",
       "        vertical-align: top;\n",
       "    }\n",
       "\n",
       "    .dataframe thead th {\n",
       "        text-align: right;\n",
       "    }\n",
       "</style>\n",
       "<table border=\"1\" class=\"dataframe\">\n",
       "  <thead>\n",
       "    <tr style=\"text-align: right;\">\n",
       "      <th></th>\n",
       "      <th>Galaxy</th>\n",
       "      <th>TPR</th>\n",
       "      <th>FDR</th>\n",
       "      <th>FPR</th>\n",
       "      <th>AUC(FDR,TPR)</th>\n",
       "      <th>AUC(FPR,TPR)</th>\n",
       "      <th># found GCs</th>\n",
       "      <th># total GCs</th>\n",
       "      <th># fake GCs</th>\n",
       "      <th># sources</th>\n",
       "    </tr>\n",
       "  </thead>\n",
       "  <tbody>\n",
       "    <tr>\n",
       "      <th>0</th>\n",
       "      <td>VCC1692</td>\n",
       "      <td>0.945736</td>\n",
       "      <td>0.016129</td>\n",
       "      <td>0.006734</td>\n",
       "      <td>0.987974</td>\n",
       "      <td>0.996568</td>\n",
       "      <td>122</td>\n",
       "      <td>129</td>\n",
       "      <td>2</td>\n",
       "      <td>426</td>\n",
       "    </tr>\n",
       "    <tr>\n",
       "      <th>1</th>\n",
       "      <td>VCC1512</td>\n",
       "      <td>0.500000</td>\n",
       "      <td>0.363636</td>\n",
       "      <td>0.013986</td>\n",
       "      <td>0.581268</td>\n",
       "      <td>0.952048</td>\n",
       "      <td>7</td>\n",
       "      <td>14</td>\n",
       "      <td>4</td>\n",
       "      <td>300</td>\n",
       "    </tr>\n",
       "    <tr>\n",
       "      <th>2</th>\n",
       "      <td>VCC784</td>\n",
       "      <td>0.951613</td>\n",
       "      <td>0.106061</td>\n",
       "      <td>0.017544</td>\n",
       "      <td>0.982263</td>\n",
       "      <td>0.997393</td>\n",
       "      <td>59</td>\n",
       "      <td>62</td>\n",
       "      <td>7</td>\n",
       "      <td>461</td>\n",
       "    </tr>\n",
       "    <tr>\n",
       "      <th>3</th>\n",
       "      <td>VCC21</td>\n",
       "      <td>0.884615</td>\n",
       "      <td>0.281250</td>\n",
       "      <td>0.022959</td>\n",
       "      <td>0.827414</td>\n",
       "      <td>0.966248</td>\n",
       "      <td>23</td>\n",
       "      <td>26</td>\n",
       "      <td>9</td>\n",
       "      <td>418</td>\n",
       "    </tr>\n",
       "    <tr>\n",
       "      <th>4</th>\n",
       "      <td>VCC1861</td>\n",
       "      <td>0.957447</td>\n",
       "      <td>0.117647</td>\n",
       "      <td>0.014286</td>\n",
       "      <td>0.968521</td>\n",
       "      <td>0.996809</td>\n",
       "      <td>45</td>\n",
       "      <td>47</td>\n",
       "      <td>6</td>\n",
       "      <td>467</td>\n",
       "    </tr>\n",
       "    <tr>\n",
       "      <th>...</th>\n",
       "      <td>...</td>\n",
       "      <td>...</td>\n",
       "      <td>...</td>\n",
       "      <td>...</td>\n",
       "      <td>...</td>\n",
       "      <td>...</td>\n",
       "      <td>...</td>\n",
       "      <td>...</td>\n",
       "      <td>...</td>\n",
       "      <td>...</td>\n",
       "    </tr>\n",
       "    <tr>\n",
       "      <th>93</th>\n",
       "      <td>VCC2095</td>\n",
       "      <td>0.888889</td>\n",
       "      <td>0.118110</td>\n",
       "      <td>0.032967</td>\n",
       "      <td>0.952875</td>\n",
       "      <td>0.988488</td>\n",
       "      <td>112</td>\n",
       "      <td>126</td>\n",
       "      <td>15</td>\n",
       "      <td>581</td>\n",
       "    </tr>\n",
       "    <tr>\n",
       "      <th>94</th>\n",
       "      <td>VCC759</td>\n",
       "      <td>0.951807</td>\n",
       "      <td>0.086705</td>\n",
       "      <td>0.025253</td>\n",
       "      <td>0.977060</td>\n",
       "      <td>0.995066</td>\n",
       "      <td>158</td>\n",
       "      <td>166</td>\n",
       "      <td>15</td>\n",
       "      <td>760</td>\n",
       "    </tr>\n",
       "    <tr>\n",
       "      <th>95</th>\n",
       "      <td>VCC1025</td>\n",
       "      <td>0.861386</td>\n",
       "      <td>0.074468</td>\n",
       "      <td>0.012915</td>\n",
       "      <td>0.937515</td>\n",
       "      <td>0.975567</td>\n",
       "      <td>87</td>\n",
       "      <td>101</td>\n",
       "      <td>7</td>\n",
       "      <td>643</td>\n",
       "    </tr>\n",
       "    <tr>\n",
       "      <th>96</th>\n",
       "      <td>VCC1192</td>\n",
       "      <td>0.938389</td>\n",
       "      <td>0.029412</td>\n",
       "      <td>0.009539</td>\n",
       "      <td>0.979051</td>\n",
       "      <td>0.992940</td>\n",
       "      <td>198</td>\n",
       "      <td>211</td>\n",
       "      <td>6</td>\n",
       "      <td>840</td>\n",
       "    </tr>\n",
       "    <tr>\n",
       "      <th>97</th>\n",
       "      <td>VCC1857</td>\n",
       "      <td>0.687500</td>\n",
       "      <td>0.476190</td>\n",
       "      <td>0.020964</td>\n",
       "      <td>0.657562</td>\n",
       "      <td>0.944313</td>\n",
       "      <td>11</td>\n",
       "      <td>16</td>\n",
       "      <td>10</td>\n",
       "      <td>493</td>\n",
       "    </tr>\n",
       "  </tbody>\n",
       "</table>\n",
       "<p>98 rows × 10 columns</p>\n",
       "</div>"
      ],
      "text/plain": [
       "     Galaxy       TPR       FDR       FPR  AUC(FDR,TPR)  AUC(FPR,TPR)  \\\n",
       "0   VCC1692  0.945736  0.016129  0.006734      0.987974      0.996568   \n",
       "1   VCC1512  0.500000  0.363636  0.013986      0.581268      0.952048   \n",
       "2    VCC784  0.951613  0.106061  0.017544      0.982263      0.997393   \n",
       "3     VCC21  0.884615  0.281250  0.022959      0.827414      0.966248   \n",
       "4   VCC1861  0.957447  0.117647  0.014286      0.968521      0.996809   \n",
       "..      ...       ...       ...       ...           ...           ...   \n",
       "93  VCC2095  0.888889  0.118110  0.032967      0.952875      0.988488   \n",
       "94   VCC759  0.951807  0.086705  0.025253      0.977060      0.995066   \n",
       "95  VCC1025  0.861386  0.074468  0.012915      0.937515      0.975567   \n",
       "96  VCC1192  0.938389  0.029412  0.009539      0.979051      0.992940   \n",
       "97  VCC1857  0.687500  0.476190  0.020964      0.657562      0.944313   \n",
       "\n",
       "    # found GCs  # total GCs  # fake GCs  # sources  \n",
       "0           122          129           2        426  \n",
       "1             7           14           4        300  \n",
       "2            59           62           7        461  \n",
       "3            23           26           9        418  \n",
       "4            45           47           6        467  \n",
       "..          ...          ...         ...        ...  \n",
       "93          112          126          15        581  \n",
       "94          158          166          15        760  \n",
       "95           87          101           7        643  \n",
       "96          198          211           6        840  \n",
       "97           11           16          10        493  \n",
       "\n",
       "[98 rows x 10 columns]"
      ]
     },
     "execution_count": 7,
     "metadata": {},
     "output_type": "execute_result"
    }
   ],
   "source": [
    "model.stats_galaxies"
   ]
  },
  {
   "cell_type": "code",
   "execution_count": 8,
   "id": "be9bde38",
   "metadata": {},
   "outputs": [
    {
     "name": "stderr",
     "output_type": "stream",
     "text": [
      "/tmp/ipykernel_1956/3415850949.py:1: FutureWarning: Dropping of nuisance columns in DataFrame reductions (with 'numeric_only=None') is deprecated; in a future version this will raise TypeError.  Select only valid columns before calling the reduction.\n",
      "  model.stats_galaxies.mean()\n"
     ]
    },
    {
     "data": {
      "text/plain": [
       "TPR               0.880598\n",
       "FDR               0.165883\n",
       "FPR               0.021279\n",
       "AUC(FDR,TPR)           inf\n",
       "AUC(FPR,TPR)      0.986558\n",
       "# found GCs     116.765306\n",
       "# total GCs     126.479592\n",
       "# fake GCs        9.561224\n",
       "# sources       644.510204\n",
       "dtype: float64"
      ]
     },
     "execution_count": 8,
     "metadata": {},
     "output_type": "execute_result"
    }
   ],
   "source": [
    "model.stats_galaxies.mean()"
   ]
  },
  {
   "cell_type": "code",
   "execution_count": 9,
   "id": "5e6413cd",
   "metadata": {},
   "outputs": [
    {
     "data": {
      "text/html": [
       "<div>\n",
       "<style scoped>\n",
       "    .dataframe tbody tr th:only-of-type {\n",
       "        vertical-align: middle;\n",
       "    }\n",
       "\n",
       "    .dataframe tbody tr th {\n",
       "        vertical-align: top;\n",
       "    }\n",
       "\n",
       "    .dataframe thead th {\n",
       "        text-align: right;\n",
       "    }\n",
       "</style>\n",
       "<table border=\"1\" class=\"dataframe\">\n",
       "  <thead>\n",
       "    <tr style=\"text-align: right;\">\n",
       "      <th></th>\n",
       "      <th>Galaxy</th>\n",
       "      <th>TPR</th>\n",
       "      <th>FDR</th>\n",
       "      <th>FPR</th>\n",
       "      <th>AUC(FDR,TPR)</th>\n",
       "      <th>AUC(FPR,TPR)</th>\n",
       "      <th># found GCs</th>\n",
       "      <th># total GCs</th>\n",
       "      <th># fake GCs</th>\n",
       "      <th># sources</th>\n",
       "    </tr>\n",
       "  </thead>\n",
       "  <tbody>\n",
       "    <tr>\n",
       "      <th>0</th>\n",
       "      <td>ALL</td>\n",
       "      <td>0.923195</td>\n",
       "      <td>0.075687</td>\n",
       "      <td>0.018457</td>\n",
       "      <td>0.969953</td>\n",
       "      <td>0.992812</td>\n",
       "      <td>11443</td>\n",
       "      <td>12395</td>\n",
       "      <td>937</td>\n",
       "      <td>63162</td>\n",
       "    </tr>\n",
       "  </tbody>\n",
       "</table>\n",
       "</div>"
      ],
      "text/plain": [
       "  Galaxy       TPR       FDR       FPR  AUC(FDR,TPR)  AUC(FPR,TPR)  \\\n",
       "0    ALL  0.923195  0.075687  0.018457      0.969953      0.992812   \n",
       "\n",
       "   # found GCs  # total GCs  # fake GCs  # sources  \n",
       "0        11443        12395         937      63162  "
      ]
     },
     "execution_count": 9,
     "metadata": {},
     "output_type": "execute_result"
    }
   ],
   "source": [
    "model.stats_all"
   ]
  },
  {
   "cell_type": "markdown",
   "id": "8ef85f1a",
   "metadata": {},
   "source": [
    "### Load model"
   ]
  },
  {
   "cell_type": "code",
   "execution_count": 22,
   "id": "f071d594",
   "metadata": {},
   "outputs": [
    {
     "name": "stdout",
     "output_type": "stream",
     "text": [
      "Loading data...\n"
     ]
    }
   ],
   "source": [
    "import torch\n",
    "model = StandardClassifier(method='mlp', input_dim=input_dim, data=None)\n",
    "model.load_data(df)\n",
    "best_checkpoint = torch.load('NeuralNet--best--Fornax2Virgo')\n",
    "model.model.load_state_dict(best_checkpoint['model_state_dict'])\n",
    "model.model_fitted = True"
   ]
  },
  {
   "cell_type": "code",
   "execution_count": 23,
   "id": "2deb9003",
   "metadata": {},
   "outputs": [
    {
     "name": "stderr",
     "output_type": "stream",
     "text": [
      "/home/dodo/anaconda3/lib/python3.8/site-packages/numpy/core/fromnumeric.py:3440: RuntimeWarning: Mean of empty slice.\n",
      "  return _methods._mean(a, axis=axis, dtype=dtype,\n",
      "/home/dodo/anaconda3/lib/python3.8/site-packages/numpy/core/_methods.py:189: RuntimeWarning: invalid value encountered in double_scalars\n",
      "  ret = ret.dtype.type(ret / rcount)\n",
      "/home/dodo/git/globsML/globsML/utils/eval.py:146: RuntimeWarning: divide by zero encountered in double_scalars\n",
      "  return auc(x,y)/(2*auc([0,x[-1]], [0,y[-1]])), x, y\n"
     ]
    }
   ],
   "source": [
    "model.test()"
   ]
  },
  {
   "cell_type": "code",
   "execution_count": 24,
   "id": "95576ac4",
   "metadata": {},
   "outputs": [
    {
     "data": {
      "text/html": [
       "<div>\n",
       "<style scoped>\n",
       "    .dataframe tbody tr th:only-of-type {\n",
       "        vertical-align: middle;\n",
       "    }\n",
       "\n",
       "    .dataframe tbody tr th {\n",
       "        vertical-align: top;\n",
       "    }\n",
       "\n",
       "    .dataframe thead th {\n",
       "        text-align: right;\n",
       "    }\n",
       "</style>\n",
       "<table border=\"1\" class=\"dataframe\">\n",
       "  <thead>\n",
       "    <tr style=\"text-align: right;\">\n",
       "      <th></th>\n",
       "      <th>Galaxy</th>\n",
       "      <th>TPR</th>\n",
       "      <th>FDR</th>\n",
       "      <th>FPR</th>\n",
       "      <th>AUC(FDR,TPR)</th>\n",
       "      <th>AUC(FPR,TPR)</th>\n",
       "      <th># found GCs</th>\n",
       "      <th># total GCs</th>\n",
       "      <th># fake GCs</th>\n",
       "      <th># sources</th>\n",
       "    </tr>\n",
       "  </thead>\n",
       "  <tbody>\n",
       "    <tr>\n",
       "      <th>0</th>\n",
       "      <td>ALL</td>\n",
       "      <td>0.923195</td>\n",
       "      <td>0.075687</td>\n",
       "      <td>0.018457</td>\n",
       "      <td>0.969953</td>\n",
       "      <td>0.992812</td>\n",
       "      <td>11443</td>\n",
       "      <td>12395</td>\n",
       "      <td>937</td>\n",
       "      <td>63162</td>\n",
       "    </tr>\n",
       "  </tbody>\n",
       "</table>\n",
       "</div>"
      ],
      "text/plain": [
       "  Galaxy       TPR       FDR       FPR  AUC(FDR,TPR)  AUC(FPR,TPR)  \\\n",
       "0    ALL  0.923195  0.075687  0.018457      0.969953      0.992812   \n",
       "\n",
       "   # found GCs  # total GCs  # fake GCs  # sources  \n",
       "0        11443        12395         937      63162  "
      ]
     },
     "execution_count": 24,
     "metadata": {},
     "output_type": "execute_result"
    }
   ],
   "source": [
    "model.stats_all"
   ]
  },
  {
   "cell_type": "markdown",
   "id": "a271e8e4",
   "metadata": {},
   "source": [
    "#### Use MC dropout to get an uncertainty estimate"
   ]
  },
  {
   "cell_type": "code",
   "execution_count": 25,
   "id": "32f9b46d",
   "metadata": {},
   "outputs": [
    {
     "name": "stderr",
     "output_type": "stream",
     "text": [
      "/home/dodo/anaconda3/lib/python3.8/site-packages/torch/nn/functional.py:1806: UserWarning: nn.functional.sigmoid is deprecated. Use torch.sigmoid instead.\n",
      "  warnings.warn(\"nn.functional.sigmoid is deprecated. Use torch.sigmoid instead.\")\n"
     ]
    }
   ],
   "source": [
    "import torch.functional as F\n",
    "model.model.train()\n",
    "res = []\n",
    "\n",
    "for i in range(200):\n",
    "    pred = []\n",
    "    pred = torch.nn.functional.sigmoid(model.model(torch.Tensor(model.test_data['inputs']))).detach().numpy()\n",
    "    res.append(pred)"
   ]
  },
  {
   "cell_type": "code",
   "execution_count": 26,
   "id": "f7c5131b",
   "metadata": {},
   "outputs": [],
   "source": [
    "nn = np.mean(res, axis=0)\n",
    "nstd = np.max(res, axis=0)-np.min(res, axis=0)"
   ]
  },
  {
   "cell_type": "code",
   "execution_count": 27,
   "id": "ad548db0",
   "metadata": {},
   "outputs": [
    {
     "data": {
      "text/plain": [
       "[<matplotlib.lines.Line2D at 0x7fd88ff9f8e0>]"
      ]
     },
     "execution_count": 27,
     "metadata": {},
     "output_type": "execute_result"
    },
    {
     "data": {
      "image/png": "[encoded data removed]",
      "text/plain": [
       "<Figure size 432x288 with 1 Axes>"
      ]
     },
     "metadata": {
      "needs_background": "light"
     },
     "output_type": "display_data"
    }
   ],
   "source": [
    "import matplotlib.pyplot as plt\n",
    "unc = []\n",
    "for i in range(25):\n",
    "    unc.append(np.percentile(nstd, i*4+4))\n",
    "certainty = []\n",
    "preds = []\n",
    "\n",
    "for i in range(len(unc)-1):\n",
    "    whichones = (nstd>unc[i])*(nstd<unc[i+1])\n",
    "    lab = model.test_data['labels'][whichones]\n",
    "    pred = nn[whichones]>0.5\n",
    "    certainty.append(np.mean(lab==pred))\n",
    "    preds.append(nn[whichones])\n",
    "\n",
    "plt.plot(unc[1:], certainty, marker = 'o')"
   ]
  },
  {
   "cell_type": "code",
   "execution_count": null,
   "id": "722b351e",
   "metadata": {},
   "outputs": [],
   "source": []
  }
 ],
 "metadata": {
  "kernelspec": {
   "display_name": "Python 3 (ipykernel)",
   "language": "python",
   "name": "python3"
  },
  "language_info": {
   "codemirror_mode": {
    "name": "ipython",
    "version": 3
   },
   "file_extension": ".py",
   "mimetype": "text/x-python",
   "name": "python",
   "nbconvert_exporter": "python",
   "pygments_lexer": "ipython3",
   "version": "3.8.8"
  }
 },
 "nbformat": 4,
 "nbformat_minor": 5
}
