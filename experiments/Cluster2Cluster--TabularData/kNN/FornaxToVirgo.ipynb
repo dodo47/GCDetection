{
 "cells": [
  {
   "cell_type": "code",
   "execution_count": 1,
   "id": "eb856f0e",
   "metadata": {},
   "outputs": [],
   "source": [
    "import pandas\n",
    "pandas.options.mode.chained_assignment = None\n",
    "import sys\n",
    "import numpy as np\n",
    "from globsML.utils.preprocessing import rescale_data, select_galaxies, create_data_dict, replace_NaN\n",
    "from globsML.models.skmodels import StandardClassifier\n",
    "\n",
    "data_path = '../../../data/ACS_sources_original.csv'\n",
    "data = pandas.read_csv(data_path)\n",
    "test_galaxies = set(data[data['cluster']=='Virgo']['galaxy'].unique())"
   ]
  },
  {
   "cell_type": "code",
   "execution_count": 2,
   "id": "3d04334c",
   "metadata": {},
   "outputs": [
    {
     "name": "stdout",
     "output_type": "stream",
     "text": [
      "Number of sources in training split after dropping rows with NaN as CI/m/color: 21232\n",
      "535 sources have been dropped.\n",
      "NaN values in testing data have been replaced with the correspnding median value observed in the training split\n"
     ]
    },
    {
     "name": "stderr",
     "output_type": "stream",
     "text": [
      "100%|█████████████████████████████████████████████████████████████████████████████████| 29/29 [00:00<00:00, 3829.93it/s]"
     ]
    },
    {
     "name": "stdout",
     "output_type": "stream",
     "text": [
      "eccentricity will not be transformed. Skipped.\n",
      "eccentricity_z will not be transformed. Skipped.\n"
     ]
    },
    {
     "name": "stderr",
     "output_type": "stream",
     "text": [
      "\n"
     ]
    }
   ],
   "source": [
    "df_train, dfs_test = select_galaxies(data, test_galaxies = test_galaxies)\n",
    "df_train, dfs_test = replace_NaN(df_train, dfs_test)\n",
    "df = create_data_dict(data, df_train, dfs_test)\n",
    "df, _ = rescale_data(df)\n",
    "\n",
    "input_dim = len(df['train']['inputs'][0])"
   ]
  },
  {
   "cell_type": "code",
   "execution_count": 3,
   "id": "6ac0682d",
   "metadata": {},
   "outputs": [
    {
     "name": "stdout",
     "output_type": "stream",
     "text": [
      "Loading data...\n",
      "Fitting model...\n"
     ]
    }
   ],
   "source": [
    "model = StandardClassifier(method='knn', params={'n_neighbors': 12}, data=df)"
   ]
  },
  {
   "cell_type": "code",
   "execution_count": 4,
   "id": "c50d61e8",
   "metadata": {},
   "outputs": [
    {
     "name": "stderr",
     "output_type": "stream",
     "text": [
      "/home/dodo/anaconda3/lib/python3.8/site-packages/numpy/core/fromnumeric.py:3440: RuntimeWarning: Mean of empty slice.\n",
      "  return _methods._mean(a, axis=axis, dtype=dtype,\n",
      "/home/dodo/anaconda3/lib/python3.8/site-packages/numpy/core/_methods.py:189: RuntimeWarning: invalid value encountered in double_scalars\n",
      "  ret = ret.dtype.type(ret / rcount)\n"
     ]
    }
   ],
   "source": [
    "model.val()"
   ]
  },
  {
   "cell_type": "code",
   "execution_count": 5,
   "id": "bfeda233",
   "metadata": {},
   "outputs": [
    {
     "data": {
      "text/html": [
       "<div>\n",
       "<style scoped>\n",
       "    .dataframe tbody tr th:only-of-type {\n",
       "        vertical-align: middle;\n",
       "    }\n",
       "\n",
       "    .dataframe tbody tr th {\n",
       "        vertical-align: top;\n",
       "    }\n",
       "\n",
       "    .dataframe thead th {\n",
       "        text-align: right;\n",
       "    }\n",
       "</style>\n",
       "<table border=\"1\" class=\"dataframe\">\n",
       "  <thead>\n",
       "    <tr style=\"text-align: right;\">\n",
       "      <th></th>\n",
       "      <th>TPR</th>\n",
       "      <th>FDR</th>\n",
       "      <th>FPR</th>\n",
       "      <th>AUC(FDR,TPR)</th>\n",
       "      <th>AUC(FPR,TPR)</th>\n",
       "      <th># found GCs</th>\n",
       "      <th># total GCs</th>\n",
       "      <th># fake GCs</th>\n",
       "      <th># sources</th>\n",
       "    </tr>\n",
       "  </thead>\n",
       "  <tbody>\n",
       "    <tr>\n",
       "      <th>0</th>\n",
       "      <td>0.929712</td>\n",
       "      <td>0.093458</td>\n",
       "      <td>0.040053</td>\n",
       "      <td>0.943396</td>\n",
       "      <td>0.981311</td>\n",
       "      <td>291</td>\n",
       "      <td>313</td>\n",
       "      <td>30</td>\n",
       "      <td>1062</td>\n",
       "    </tr>\n",
       "  </tbody>\n",
       "</table>\n",
       "</div>"
      ],
      "text/plain": [
       "        TPR       FDR       FPR  AUC(FDR,TPR)  AUC(FPR,TPR)  # found GCs  \\\n",
       "0  0.929712  0.093458  0.040053      0.943396      0.981311          291   \n",
       "\n",
       "   # total GCs  # fake GCs  # sources  \n",
       "0          313          30       1062  "
      ]
     },
     "execution_count": 5,
     "metadata": {},
     "output_type": "execute_result"
    }
   ],
   "source": [
    "model.stats_validation"
   ]
  },
  {
   "cell_type": "code",
   "execution_count": 6,
   "id": "ac664799",
   "metadata": {},
   "outputs": [
    {
     "name": "stderr",
     "output_type": "stream",
     "text": [
      "/home/dodo/anaconda3/lib/python3.8/site-packages/numpy/core/fromnumeric.py:3440: RuntimeWarning: Mean of empty slice.\n",
      "  return _methods._mean(a, axis=axis, dtype=dtype,\n",
      "/home/dodo/anaconda3/lib/python3.8/site-packages/numpy/core/_methods.py:189: RuntimeWarning: invalid value encountered in double_scalars\n",
      "  ret = ret.dtype.type(ret / rcount)\n",
      "/home/dodo/git/globsML/globsML/utils/eval.py:146: RuntimeWarning: divide by zero encountered in double_scalars\n",
      "  return auc(x,y)/(2*auc([0,x[-1]], [0,y[-1]])), x, y\n"
     ]
    }
   ],
   "source": [
    "model.test()"
   ]
  },
  {
   "cell_type": "code",
   "execution_count": 7,
   "id": "701df614",
   "metadata": {},
   "outputs": [
    {
     "data": {
      "text/html": [
       "<div>\n",
       "<style scoped>\n",
       "    .dataframe tbody tr th:only-of-type {\n",
       "        vertical-align: middle;\n",
       "    }\n",
       "\n",
       "    .dataframe tbody tr th {\n",
       "        vertical-align: top;\n",
       "    }\n",
       "\n",
       "    .dataframe thead th {\n",
       "        text-align: right;\n",
       "    }\n",
       "</style>\n",
       "<table border=\"1\" class=\"dataframe\">\n",
       "  <thead>\n",
       "    <tr style=\"text-align: right;\">\n",
       "      <th></th>\n",
       "      <th>Galaxy</th>\n",
       "      <th>TPR</th>\n",
       "      <th>FDR</th>\n",
       "      <th>FPR</th>\n",
       "      <th>AUC(FDR,TPR)</th>\n",
       "      <th>AUC(FPR,TPR)</th>\n",
       "      <th># found GCs</th>\n",
       "      <th># total GCs</th>\n",
       "      <th># fake GCs</th>\n",
       "      <th># sources</th>\n",
       "    </tr>\n",
       "  </thead>\n",
       "  <tbody>\n",
       "    <tr>\n",
       "      <th>0</th>\n",
       "      <td>VCC1993</td>\n",
       "      <td>0.750000</td>\n",
       "      <td>0.750000</td>\n",
       "      <td>0.036585</td>\n",
       "      <td>0.556307</td>\n",
       "      <td>0.984248</td>\n",
       "      <td>3</td>\n",
       "      <td>4</td>\n",
       "      <td>9</td>\n",
       "      <td>250</td>\n",
       "    </tr>\n",
       "    <tr>\n",
       "      <th>1</th>\n",
       "      <td>VCC1407</td>\n",
       "      <td>0.881356</td>\n",
       "      <td>0.187500</td>\n",
       "      <td>0.016304</td>\n",
       "      <td>0.916985</td>\n",
       "      <td>0.992585</td>\n",
       "      <td>52</td>\n",
       "      <td>59</td>\n",
       "      <td>12</td>\n",
       "      <td>795</td>\n",
       "    </tr>\n",
       "    <tr>\n",
       "      <th>2</th>\n",
       "      <td>VCC2019</td>\n",
       "      <td>0.941176</td>\n",
       "      <td>0.200000</td>\n",
       "      <td>0.016000</td>\n",
       "      <td>0.948776</td>\n",
       "      <td>0.995206</td>\n",
       "      <td>32</td>\n",
       "      <td>34</td>\n",
       "      <td>8</td>\n",
       "      <td>534</td>\n",
       "    </tr>\n",
       "    <tr>\n",
       "      <th>3</th>\n",
       "      <td>VCC1886</td>\n",
       "      <td>0.692308</td>\n",
       "      <td>0.400000</td>\n",
       "      <td>0.008043</td>\n",
       "      <td>0.712735</td>\n",
       "      <td>0.951124</td>\n",
       "      <td>9</td>\n",
       "      <td>13</td>\n",
       "      <td>6</td>\n",
       "      <td>759</td>\n",
       "    </tr>\n",
       "    <tr>\n",
       "      <th>4</th>\n",
       "      <td>VCC856</td>\n",
       "      <td>0.816327</td>\n",
       "      <td>0.069767</td>\n",
       "      <td>0.006250</td>\n",
       "      <td>0.944001</td>\n",
       "      <td>0.993197</td>\n",
       "      <td>40</td>\n",
       "      <td>49</td>\n",
       "      <td>3</td>\n",
       "      <td>529</td>\n",
       "    </tr>\n",
       "    <tr>\n",
       "      <th>...</th>\n",
       "      <td>...</td>\n",
       "      <td>...</td>\n",
       "      <td>...</td>\n",
       "      <td>...</td>\n",
       "      <td>...</td>\n",
       "      <td>...</td>\n",
       "      <td>...</td>\n",
       "      <td>...</td>\n",
       "      <td>...</td>\n",
       "      <td>...</td>\n",
       "    </tr>\n",
       "    <tr>\n",
       "      <th>93</th>\n",
       "      <td>VCC1978</td>\n",
       "      <td>0.929471</td>\n",
       "      <td>0.067004</td>\n",
       "      <td>0.177852</td>\n",
       "      <td>0.902821</td>\n",
       "      <td>0.939747</td>\n",
       "      <td>738</td>\n",
       "      <td>794</td>\n",
       "      <td>53</td>\n",
       "      <td>1092</td>\n",
       "    </tr>\n",
       "    <tr>\n",
       "      <th>94</th>\n",
       "      <td>VCC437</td>\n",
       "      <td>0.760000</td>\n",
       "      <td>0.136364</td>\n",
       "      <td>0.007001</td>\n",
       "      <td>0.900799</td>\n",
       "      <td>0.983991</td>\n",
       "      <td>38</td>\n",
       "      <td>50</td>\n",
       "      <td>6</td>\n",
       "      <td>907</td>\n",
       "    </tr>\n",
       "    <tr>\n",
       "      <th>95</th>\n",
       "      <td>VCC1178</td>\n",
       "      <td>0.966667</td>\n",
       "      <td>0.093750</td>\n",
       "      <td>0.024523</td>\n",
       "      <td>0.984925</td>\n",
       "      <td>0.996806</td>\n",
       "      <td>87</td>\n",
       "      <td>90</td>\n",
       "      <td>9</td>\n",
       "      <td>457</td>\n",
       "    </tr>\n",
       "    <tr>\n",
       "      <th>96</th>\n",
       "      <td>VCC1619</td>\n",
       "      <td>0.934426</td>\n",
       "      <td>0.229730</td>\n",
       "      <td>0.038724</td>\n",
       "      <td>0.904400</td>\n",
       "      <td>0.987938</td>\n",
       "      <td>57</td>\n",
       "      <td>61</td>\n",
       "      <td>17</td>\n",
       "      <td>500</td>\n",
       "    </tr>\n",
       "    <tr>\n",
       "      <th>97</th>\n",
       "      <td>VCC1125</td>\n",
       "      <td>0.887097</td>\n",
       "      <td>0.153846</td>\n",
       "      <td>0.016207</td>\n",
       "      <td>0.956145</td>\n",
       "      <td>0.994563</td>\n",
       "      <td>55</td>\n",
       "      <td>62</td>\n",
       "      <td>10</td>\n",
       "      <td>679</td>\n",
       "    </tr>\n",
       "  </tbody>\n",
       "</table>\n",
       "<p>98 rows × 10 columns</p>\n",
       "</div>"
      ],
      "text/plain": [
       "     Galaxy       TPR       FDR       FPR  AUC(FDR,TPR)  AUC(FPR,TPR)  \\\n",
       "0   VCC1993  0.750000  0.750000  0.036585      0.556307      0.984248   \n",
       "1   VCC1407  0.881356  0.187500  0.016304      0.916985      0.992585   \n",
       "2   VCC2019  0.941176  0.200000  0.016000      0.948776      0.995206   \n",
       "3   VCC1886  0.692308  0.400000  0.008043      0.712735      0.951124   \n",
       "4    VCC856  0.816327  0.069767  0.006250      0.944001      0.993197   \n",
       "..      ...       ...       ...       ...           ...           ...   \n",
       "93  VCC1978  0.929471  0.067004  0.177852      0.902821      0.939747   \n",
       "94   VCC437  0.760000  0.136364  0.007001      0.900799      0.983991   \n",
       "95  VCC1178  0.966667  0.093750  0.024523      0.984925      0.996806   \n",
       "96  VCC1619  0.934426  0.229730  0.038724      0.904400      0.987938   \n",
       "97  VCC1125  0.887097  0.153846  0.016207      0.956145      0.994563   \n",
       "\n",
       "    # found GCs  # total GCs  # fake GCs  # sources  \n",
       "0             3            4           9        250  \n",
       "1            52           59          12        795  \n",
       "2            32           34           8        534  \n",
       "3             9           13           6        759  \n",
       "4            40           49           3        529  \n",
       "..          ...          ...         ...        ...  \n",
       "93          738          794          53       1092  \n",
       "94           38           50           6        907  \n",
       "95           87           90           9        457  \n",
       "96           57           61          17        500  \n",
       "97           55           62          10        679  \n",
       "\n",
       "[98 rows x 10 columns]"
      ]
     },
     "execution_count": 7,
     "metadata": {},
     "output_type": "execute_result"
    }
   ],
   "source": [
    "model.stats_galaxies"
   ]
  },
  {
   "cell_type": "code",
   "execution_count": 8,
   "id": "be9bde38",
   "metadata": {},
   "outputs": [
    {
     "name": "stderr",
     "output_type": "stream",
     "text": [
      "/tmp/ipykernel_1806/3415850949.py:1: FutureWarning: Dropping of nuisance columns in DataFrame reductions (with 'numeric_only=None') is deprecated; in a future version this will raise TypeError.  Select only valid columns before calling the reduction.\n",
      "  model.stats_galaxies.mean()\n"
     ]
    },
    {
     "data": {
      "text/plain": [
       "TPR               0.865176\n",
       "FDR               0.219195\n",
       "FPR               0.029691\n",
       "AUC(FDR,TPR)           inf\n",
       "AUC(FPR,TPR)      0.980857\n",
       "# found GCs     115.693878\n",
       "# total GCs     126.479592\n",
       "# fake GCs       13.265306\n",
       "# sources       644.510204\n",
       "dtype: float64"
      ]
     },
     "execution_count": 8,
     "metadata": {},
     "output_type": "execute_result"
    }
   ],
   "source": [
    "model.stats_galaxies.mean()"
   ]
  },
  {
   "cell_type": "code",
   "execution_count": 9,
   "id": "5e6413cd",
   "metadata": {},
   "outputs": [
    {
     "data": {
      "text/html": [
       "<div>\n",
       "<style scoped>\n",
       "    .dataframe tbody tr th:only-of-type {\n",
       "        vertical-align: middle;\n",
       "    }\n",
       "\n",
       "    .dataframe tbody tr th {\n",
       "        vertical-align: top;\n",
       "    }\n",
       "\n",
       "    .dataframe thead th {\n",
       "        text-align: right;\n",
       "    }\n",
       "</style>\n",
       "<table border=\"1\" class=\"dataframe\">\n",
       "  <thead>\n",
       "    <tr style=\"text-align: right;\">\n",
       "      <th></th>\n",
       "      <th>Galaxy</th>\n",
       "      <th>TPR</th>\n",
       "      <th>FDR</th>\n",
       "      <th>FPR</th>\n",
       "      <th>AUC(FDR,TPR)</th>\n",
       "      <th>AUC(FPR,TPR)</th>\n",
       "      <th># found GCs</th>\n",
       "      <th># total GCs</th>\n",
       "      <th># fake GCs</th>\n",
       "      <th># sources</th>\n",
       "    </tr>\n",
       "  </thead>\n",
       "  <tbody>\n",
       "    <tr>\n",
       "      <th>0</th>\n",
       "      <td>ALL</td>\n",
       "      <td>0.914724</td>\n",
       "      <td>0.102864</td>\n",
       "      <td>0.025607</td>\n",
       "      <td>0.954329</td>\n",
       "      <td>0.988095</td>\n",
       "      <td>11338</td>\n",
       "      <td>12395</td>\n",
       "      <td>1300</td>\n",
       "      <td>63162</td>\n",
       "    </tr>\n",
       "  </tbody>\n",
       "</table>\n",
       "</div>"
      ],
      "text/plain": [
       "  Galaxy       TPR       FDR       FPR  AUC(FDR,TPR)  AUC(FPR,TPR)  \\\n",
       "0    ALL  0.914724  0.102864  0.025607      0.954329      0.988095   \n",
       "\n",
       "   # found GCs  # total GCs  # fake GCs  # sources  \n",
       "0        11338        12395        1300      63162  "
      ]
     },
     "execution_count": 9,
     "metadata": {},
     "output_type": "execute_result"
    }
   ],
   "source": [
    "model.stats_all"
   ]
  },
  {
   "cell_type": "code",
   "execution_count": null,
   "id": "fc388a48",
   "metadata": {},
   "outputs": [],
   "source": []
  },
  {
   "cell_type": "code",
   "execution_count": null,
   "id": "29625f53",
   "metadata": {},
   "outputs": [],
   "source": []
  }
 ],
 "metadata": {
  "kernelspec": {
   "display_name": "Python 3 (ipykernel)",
   "language": "python",
   "name": "python3"
  },
  "language_info": {
   "codemirror_mode": {
    "name": "ipython",
    "version": 3
   },
   "file_extension": ".py",
   "mimetype": "text/x-python",
   "name": "python",
   "nbconvert_exporter": "python",
   "pygments_lexer": "ipython3",
   "version": "3.8.8"
  }
 },
 "nbformat": 4,
 "nbformat_minor": 5
}
