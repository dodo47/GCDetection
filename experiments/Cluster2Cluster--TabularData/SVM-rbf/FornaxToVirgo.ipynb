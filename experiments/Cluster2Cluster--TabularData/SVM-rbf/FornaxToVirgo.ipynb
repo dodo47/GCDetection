{
 "cells": [
  {
   "cell_type": "code",
   "execution_count": 1,
   "id": "eb856f0e",
   "metadata": {},
   "outputs": [],
   "source": [
    "import pandas\n",
    "pandas.options.mode.chained_assignment = None\n",
    "import sys\n",
    "import numpy as np\n",
    "from globsML.utils.preprocessing import rescale_data, select_galaxies, create_data_dict, replace_NaN\n",
    "from globsML.models.skmodels import StandardClassifier\n",
    "\n",
    "data_path = '../../../data/ACS_sources_original.csv'\n",
    "data = pandas.read_csv(data_path)\n",
    "test_galaxies = set(data[data['cluster']=='Virgo']['galaxy'].unique())"
   ]
  },
  {
   "cell_type": "code",
   "execution_count": 2,
   "id": "3d04334c",
   "metadata": {},
   "outputs": [
    {
     "name": "stdout",
     "output_type": "stream",
     "text": [
      "Number of sources in training split after dropping rows with NaN as CI/m/color: 21232\n",
      "535 sources have been dropped.\n",
      "NaN values in testing data have been replaced with the correspnding median value observed in the training split\n"
     ]
    },
    {
     "name": "stderr",
     "output_type": "stream",
     "text": [
      "100%|█████████████████████████████████████████████████████████████████████████████████| 29/29 [00:00<00:00, 3709.40it/s]"
     ]
    },
    {
     "name": "stdout",
     "output_type": "stream",
     "text": [
      "eccentricity will not be transformed. Skipped.\n",
      "eccentricity_z will not be transformed. Skipped.\n"
     ]
    },
    {
     "name": "stderr",
     "output_type": "stream",
     "text": [
      "\n"
     ]
    }
   ],
   "source": [
    "df_train, dfs_test = select_galaxies(data, test_galaxies = test_galaxies)\n",
    "df_train, dfs_test = replace_NaN(df_train, dfs_test)\n",
    "df = create_data_dict(data, df_train, dfs_test)\n",
    "df, _ = rescale_data(df)\n",
    "\n",
    "input_dim = len(df['train']['inputs'][0])"
   ]
  },
  {
   "cell_type": "code",
   "execution_count": 3,
   "id": "6ac0682d",
   "metadata": {},
   "outputs": [
    {
     "name": "stdout",
     "output_type": "stream",
     "text": [
      "Loading data...\n",
      "Fitting model...\n"
     ]
    }
   ],
   "source": [
    "model = StandardClassifier(method='svm-rbf', data=df)"
   ]
  },
  {
   "cell_type": "code",
   "execution_count": 4,
   "id": "c50d61e8",
   "metadata": {},
   "outputs": [],
   "source": [
    "model.val()"
   ]
  },
  {
   "cell_type": "code",
   "execution_count": 5,
   "id": "bfeda233",
   "metadata": {},
   "outputs": [
    {
     "data": {
      "text/html": [
       "<div>\n",
       "<style scoped>\n",
       "    .dataframe tbody tr th:only-of-type {\n",
       "        vertical-align: middle;\n",
       "    }\n",
       "\n",
       "    .dataframe tbody tr th {\n",
       "        vertical-align: top;\n",
       "    }\n",
       "\n",
       "    .dataframe thead th {\n",
       "        text-align: right;\n",
       "    }\n",
       "</style>\n",
       "<table border=\"1\" class=\"dataframe\">\n",
       "  <thead>\n",
       "    <tr style=\"text-align: right;\">\n",
       "      <th></th>\n",
       "      <th>TPR</th>\n",
       "      <th>FDR</th>\n",
       "      <th>FPR</th>\n",
       "      <th>AUC(FDR,TPR)</th>\n",
       "      <th>AUC(FPR,TPR)</th>\n",
       "      <th># found GCs</th>\n",
       "      <th># total GCs</th>\n",
       "      <th># fake GCs</th>\n",
       "      <th># sources</th>\n",
       "    </tr>\n",
       "  </thead>\n",
       "  <tbody>\n",
       "    <tr>\n",
       "      <th>0</th>\n",
       "      <td>0.907348</td>\n",
       "      <td>0.115265</td>\n",
       "      <td>0.049399</td>\n",
       "      <td>--</td>\n",
       "      <td>--</td>\n",
       "      <td>284</td>\n",
       "      <td>313</td>\n",
       "      <td>37</td>\n",
       "      <td>1062</td>\n",
       "    </tr>\n",
       "  </tbody>\n",
       "</table>\n",
       "</div>"
      ],
      "text/plain": [
       "        TPR       FDR       FPR AUC(FDR,TPR) AUC(FPR,TPR)  # found GCs  \\\n",
       "0  0.907348  0.115265  0.049399           --           --          284   \n",
       "\n",
       "   # total GCs  # fake GCs  # sources  \n",
       "0          313          37       1062  "
      ]
     },
     "execution_count": 5,
     "metadata": {},
     "output_type": "execute_result"
    }
   ],
   "source": [
    "model.stats_validation"
   ]
  },
  {
   "cell_type": "code",
   "execution_count": 6,
   "id": "ac664799",
   "metadata": {},
   "outputs": [],
   "source": [
    "model.test()"
   ]
  },
  {
   "cell_type": "code",
   "execution_count": 7,
   "id": "701df614",
   "metadata": {},
   "outputs": [
    {
     "data": {
      "text/html": [
       "<div>\n",
       "<style scoped>\n",
       "    .dataframe tbody tr th:only-of-type {\n",
       "        vertical-align: middle;\n",
       "    }\n",
       "\n",
       "    .dataframe tbody tr th {\n",
       "        vertical-align: top;\n",
       "    }\n",
       "\n",
       "    .dataframe thead th {\n",
       "        text-align: right;\n",
       "    }\n",
       "</style>\n",
       "<table border=\"1\" class=\"dataframe\">\n",
       "  <thead>\n",
       "    <tr style=\"text-align: right;\">\n",
       "      <th></th>\n",
       "      <th>Galaxy</th>\n",
       "      <th>TPR</th>\n",
       "      <th>FDR</th>\n",
       "      <th>FPR</th>\n",
       "      <th>AUC(FDR,TPR)</th>\n",
       "      <th>AUC(FPR,TPR)</th>\n",
       "      <th># found GCs</th>\n",
       "      <th># total GCs</th>\n",
       "      <th># fake GCs</th>\n",
       "      <th># sources</th>\n",
       "    </tr>\n",
       "  </thead>\n",
       "  <tbody>\n",
       "    <tr>\n",
       "      <th>0</th>\n",
       "      <td>VCC1475</td>\n",
       "      <td>0.857143</td>\n",
       "      <td>0.200000</td>\n",
       "      <td>0.039474</td>\n",
       "      <td>--</td>\n",
       "      <td>--</td>\n",
       "      <td>72</td>\n",
       "      <td>84</td>\n",
       "      <td>18</td>\n",
       "      <td>540</td>\n",
       "    </tr>\n",
       "    <tr>\n",
       "      <th>1</th>\n",
       "      <td>VCC2019</td>\n",
       "      <td>0.794118</td>\n",
       "      <td>0.386364</td>\n",
       "      <td>0.034000</td>\n",
       "      <td>--</td>\n",
       "      <td>--</td>\n",
       "      <td>27</td>\n",
       "      <td>34</td>\n",
       "      <td>17</td>\n",
       "      <td>534</td>\n",
       "    </tr>\n",
       "    <tr>\n",
       "      <th>2</th>\n",
       "      <td>VCC369</td>\n",
       "      <td>0.931034</td>\n",
       "      <td>0.129032</td>\n",
       "      <td>0.071429</td>\n",
       "      <td>--</td>\n",
       "      <td>--</td>\n",
       "      <td>162</td>\n",
       "      <td>174</td>\n",
       "      <td>24</td>\n",
       "      <td>510</td>\n",
       "    </tr>\n",
       "    <tr>\n",
       "      <th>3</th>\n",
       "      <td>VCC230</td>\n",
       "      <td>0.891892</td>\n",
       "      <td>0.312500</td>\n",
       "      <td>0.021708</td>\n",
       "      <td>--</td>\n",
       "      <td>--</td>\n",
       "      <td>33</td>\n",
       "      <td>37</td>\n",
       "      <td>15</td>\n",
       "      <td>728</td>\n",
       "    </tr>\n",
       "    <tr>\n",
       "      <th>4</th>\n",
       "      <td>VCC575</td>\n",
       "      <td>0.869565</td>\n",
       "      <td>0.428571</td>\n",
       "      <td>0.040000</td>\n",
       "      <td>--</td>\n",
       "      <td>--</td>\n",
       "      <td>20</td>\n",
       "      <td>23</td>\n",
       "      <td>15</td>\n",
       "      <td>398</td>\n",
       "    </tr>\n",
       "    <tr>\n",
       "      <th>...</th>\n",
       "      <td>...</td>\n",
       "      <td>...</td>\n",
       "      <td>...</td>\n",
       "      <td>...</td>\n",
       "      <td>...</td>\n",
       "      <td>...</td>\n",
       "      <td>...</td>\n",
       "      <td>...</td>\n",
       "      <td>...</td>\n",
       "      <td>...</td>\n",
       "    </tr>\n",
       "    <tr>\n",
       "      <th>93</th>\n",
       "      <td>VCC1938</td>\n",
       "      <td>0.900990</td>\n",
       "      <td>0.187500</td>\n",
       "      <td>0.049763</td>\n",
       "      <td>--</td>\n",
       "      <td>--</td>\n",
       "      <td>91</td>\n",
       "      <td>101</td>\n",
       "      <td>21</td>\n",
       "      <td>523</td>\n",
       "    </tr>\n",
       "    <tr>\n",
       "      <th>94</th>\n",
       "      <td>VCC355</td>\n",
       "      <td>0.806452</td>\n",
       "      <td>0.242424</td>\n",
       "      <td>0.028219</td>\n",
       "      <td>--</td>\n",
       "      <td>--</td>\n",
       "      <td>50</td>\n",
       "      <td>62</td>\n",
       "      <td>16</td>\n",
       "      <td>629</td>\n",
       "    </tr>\n",
       "    <tr>\n",
       "      <th>95</th>\n",
       "      <td>VCC1125</td>\n",
       "      <td>0.854839</td>\n",
       "      <td>0.273973</td>\n",
       "      <td>0.032415</td>\n",
       "      <td>--</td>\n",
       "      <td>--</td>\n",
       "      <td>53</td>\n",
       "      <td>62</td>\n",
       "      <td>20</td>\n",
       "      <td>679</td>\n",
       "    </tr>\n",
       "    <tr>\n",
       "      <th>96</th>\n",
       "      <td>VCC1545</td>\n",
       "      <td>0.833333</td>\n",
       "      <td>0.350649</td>\n",
       "      <td>0.076271</td>\n",
       "      <td>--</td>\n",
       "      <td>--</td>\n",
       "      <td>50</td>\n",
       "      <td>60</td>\n",
       "      <td>27</td>\n",
       "      <td>414</td>\n",
       "    </tr>\n",
       "    <tr>\n",
       "      <th>97</th>\n",
       "      <td>VCC2095</td>\n",
       "      <td>0.817460</td>\n",
       "      <td>0.237037</td>\n",
       "      <td>0.070330</td>\n",
       "      <td>--</td>\n",
       "      <td>--</td>\n",
       "      <td>103</td>\n",
       "      <td>126</td>\n",
       "      <td>32</td>\n",
       "      <td>581</td>\n",
       "    </tr>\n",
       "  </tbody>\n",
       "</table>\n",
       "<p>98 rows × 10 columns</p>\n",
       "</div>"
      ],
      "text/plain": [
       "     Galaxy       TPR       FDR       FPR AUC(FDR,TPR) AUC(FPR,TPR)  \\\n",
       "0   VCC1475  0.857143  0.200000  0.039474           --           --   \n",
       "1   VCC2019  0.794118  0.386364  0.034000           --           --   \n",
       "2    VCC369  0.931034  0.129032  0.071429           --           --   \n",
       "3    VCC230  0.891892  0.312500  0.021708           --           --   \n",
       "4    VCC575  0.869565  0.428571  0.040000           --           --   \n",
       "..      ...       ...       ...       ...          ...          ...   \n",
       "93  VCC1938  0.900990  0.187500  0.049763           --           --   \n",
       "94   VCC355  0.806452  0.242424  0.028219           --           --   \n",
       "95  VCC1125  0.854839  0.273973  0.032415           --           --   \n",
       "96  VCC1545  0.833333  0.350649  0.076271           --           --   \n",
       "97  VCC2095  0.817460  0.237037  0.070330           --           --   \n",
       "\n",
       "    # found GCs  # total GCs  # fake GCs  # sources  \n",
       "0            72           84          18        540  \n",
       "1            27           34          17        534  \n",
       "2           162          174          24        510  \n",
       "3            33           37          15        728  \n",
       "4            20           23          15        398  \n",
       "..          ...          ...         ...        ...  \n",
       "93           91          101          21        523  \n",
       "94           50           62          16        629  \n",
       "95           53           62          20        679  \n",
       "96           50           60          27        414  \n",
       "97          103          126          32        581  \n",
       "\n",
       "[98 rows x 10 columns]"
      ]
     },
     "execution_count": 7,
     "metadata": {},
     "output_type": "execute_result"
    }
   ],
   "source": [
    "model.stats_galaxies"
   ]
  },
  {
   "cell_type": "code",
   "execution_count": 8,
   "id": "be9bde38",
   "metadata": {},
   "outputs": [
    {
     "name": "stderr",
     "output_type": "stream",
     "text": [
      "/tmp/ipykernel_1394/3415850949.py:1: FutureWarning: Dropping of nuisance columns in DataFrame reductions (with 'numeric_only=None') is deprecated; in a future version this will raise TypeError.  Select only valid columns before calling the reduction.\n",
      "  model.stats_galaxies.mean()\n"
     ]
    },
    {
     "data": {
      "text/plain": [
       "TPR              0.830888\n",
       "FDR              0.331839\n",
       "FPR              0.050481\n",
       "# found GCs    114.418367\n",
       "# total GCs    126.479592\n",
       "# fake GCs      22.091837\n",
       "# sources      644.510204\n",
       "dtype: float64"
      ]
     },
     "execution_count": 8,
     "metadata": {},
     "output_type": "execute_result"
    }
   ],
   "source": [
    "model.stats_galaxies.mean()"
   ]
  },
  {
   "cell_type": "code",
   "execution_count": 9,
   "id": "5e6413cd",
   "metadata": {},
   "outputs": [
    {
     "data": {
      "text/html": [
       "<div>\n",
       "<style scoped>\n",
       "    .dataframe tbody tr th:only-of-type {\n",
       "        vertical-align: middle;\n",
       "    }\n",
       "\n",
       "    .dataframe tbody tr th {\n",
       "        vertical-align: top;\n",
       "    }\n",
       "\n",
       "    .dataframe thead th {\n",
       "        text-align: right;\n",
       "    }\n",
       "</style>\n",
       "<table border=\"1\" class=\"dataframe\">\n",
       "  <thead>\n",
       "    <tr style=\"text-align: right;\">\n",
       "      <th></th>\n",
       "      <th>Galaxy</th>\n",
       "      <th>TPR</th>\n",
       "      <th>FDR</th>\n",
       "      <th>FPR</th>\n",
       "      <th>AUC(FDR,TPR)</th>\n",
       "      <th>AUC(FPR,TPR)</th>\n",
       "      <th># found GCs</th>\n",
       "      <th># total GCs</th>\n",
       "      <th># fake GCs</th>\n",
       "      <th># sources</th>\n",
       "    </tr>\n",
       "  </thead>\n",
       "  <tbody>\n",
       "    <tr>\n",
       "      <th>0</th>\n",
       "      <td>ALL</td>\n",
       "      <td>0.904639</td>\n",
       "      <td>0.161833</td>\n",
       "      <td>0.042646</td>\n",
       "      <td>--</td>\n",
       "      <td>--</td>\n",
       "      <td>11213</td>\n",
       "      <td>12395</td>\n",
       "      <td>2165</td>\n",
       "      <td>63162</td>\n",
       "    </tr>\n",
       "  </tbody>\n",
       "</table>\n",
       "</div>"
      ],
      "text/plain": [
       "  Galaxy       TPR       FDR       FPR AUC(FDR,TPR) AUC(FPR,TPR)  # found GCs  \\\n",
       "0    ALL  0.904639  0.161833  0.042646           --           --        11213   \n",
       "\n",
       "   # total GCs  # fake GCs  # sources  \n",
       "0        12395        2165      63162  "
      ]
     },
     "execution_count": 9,
     "metadata": {},
     "output_type": "execute_result"
    }
   ],
   "source": [
    "model.stats_all"
   ]
  },
  {
   "cell_type": "code",
   "execution_count": null,
   "id": "fc388a48",
   "metadata": {},
   "outputs": [],
   "source": []
  }
 ],
 "metadata": {
  "kernelspec": {
   "display_name": "Python 3 (ipykernel)",
   "language": "python",
   "name": "python3"
  },
  "language_info": {
   "codemirror_mode": {
    "name": "ipython",
    "version": 3
   },
   "file_extension": ".py",
   "mimetype": "text/x-python",
   "name": "python",
   "nbconvert_exporter": "python",
   "pygments_lexer": "ipython3",
   "version": "3.8.8"
  }
 },
 "nbformat": 4,
 "nbformat_minor": 5
}
