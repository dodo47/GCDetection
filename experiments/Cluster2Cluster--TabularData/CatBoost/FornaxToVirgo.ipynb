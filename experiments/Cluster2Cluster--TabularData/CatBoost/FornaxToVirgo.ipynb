{
 "cells": [
  {
   "cell_type": "code",
   "execution_count": 1,
   "id": "eb856f0e",
   "metadata": {},
   "outputs": [],
   "source": [
    "import pandas\n",
    "pandas.options.mode.chained_assignment = None\n",
    "import sys\n",
    "import numpy as np\n",
    "from globsML.utils.preprocessing import rescale_data, select_galaxies, create_data_dict, replace_NaN\n",
    "from globsML.models.skmodels import StandardClassifier\n",
    "\n",
    "data_path = '../../../data/ACS_sources_original.csv'\n",
    "data = pandas.read_csv(data_path)\n",
    "test_galaxies = set(data[data['cluster']=='Virgo']['galaxy'].unique())"
   ]
  },
  {
   "cell_type": "code",
   "execution_count": 2,
   "id": "3d04334c",
   "metadata": {},
   "outputs": [
    {
     "name": "stdout",
     "output_type": "stream",
     "text": [
      "Number of sources in training split after dropping rows with NaN as CI/m/color: 21232\n",
      "535 sources have been dropped.\n",
      "NaN values in testing data have been replaced with the correspnding median value observed in the training split\n"
     ]
    },
    {
     "name": "stderr",
     "output_type": "stream",
     "text": [
      "100%|█████████████████████████████████████████████████████████████████████████████████| 29/29 [00:00<00:00, 3802.28it/s]"
     ]
    },
    {
     "name": "stdout",
     "output_type": "stream",
     "text": [
      "eccentricity will not be transformed. Skipped.\n",
      "eccentricity_z will not be transformed. Skipped.\n"
     ]
    },
    {
     "name": "stderr",
     "output_type": "stream",
     "text": [
      "\n"
     ]
    }
   ],
   "source": [
    "df_train, dfs_test = select_galaxies(data, test_galaxies = test_galaxies)\n",
    "df_train, dfs_test = replace_NaN(df_train, dfs_test)\n",
    "df = create_data_dict(data, df_train, dfs_test)\n",
    "df, _ = rescale_data(df)\n",
    "\n",
    "input_dim = len(df['train']['inputs'][0])"
   ]
  },
  {
   "cell_type": "code",
   "execution_count": 3,
   "id": "6ac0682d",
   "metadata": {},
   "outputs": [
    {
     "name": "stdout",
     "output_type": "stream",
     "text": [
      "Loading data...\n",
      "Fitting model...\n"
     ]
    }
   ],
   "source": [
    "model = StandardClassifier(method='catboost', data=df)"
   ]
  },
  {
   "cell_type": "code",
   "execution_count": 4,
   "id": "c50d61e8",
   "metadata": {},
   "outputs": [
    {
     "name": "stderr",
     "output_type": "stream",
     "text": [
      "/home/dodo/anaconda3/lib/python3.8/site-packages/numpy/core/fromnumeric.py:3440: RuntimeWarning: Mean of empty slice.\n",
      "  return _methods._mean(a, axis=axis, dtype=dtype,\n",
      "/home/dodo/anaconda3/lib/python3.8/site-packages/numpy/core/_methods.py:189: RuntimeWarning: invalid value encountered in double_scalars\n",
      "  ret = ret.dtype.type(ret / rcount)\n"
     ]
    }
   ],
   "source": [
    "model.val()"
   ]
  },
  {
   "cell_type": "code",
   "execution_count": 5,
   "id": "bfeda233",
   "metadata": {},
   "outputs": [
    {
     "data": {
      "text/html": [
       "<div>\n",
       "<style scoped>\n",
       "    .dataframe tbody tr th:only-of-type {\n",
       "        vertical-align: middle;\n",
       "    }\n",
       "\n",
       "    .dataframe tbody tr th {\n",
       "        vertical-align: top;\n",
       "    }\n",
       "\n",
       "    .dataframe thead th {\n",
       "        text-align: right;\n",
       "    }\n",
       "</style>\n",
       "<table border=\"1\" class=\"dataframe\">\n",
       "  <thead>\n",
       "    <tr style=\"text-align: right;\">\n",
       "      <th></th>\n",
       "      <th>TPR</th>\n",
       "      <th>FDR</th>\n",
       "      <th>FPR</th>\n",
       "      <th>AUC(FDR,TPR)</th>\n",
       "      <th>AUC(FPR,TPR)</th>\n",
       "      <th># found GCs</th>\n",
       "      <th># total GCs</th>\n",
       "      <th># fake GCs</th>\n",
       "      <th># sources</th>\n",
       "    </tr>\n",
       "  </thead>\n",
       "  <tbody>\n",
       "    <tr>\n",
       "      <th>0</th>\n",
       "      <td>0.916933</td>\n",
       "      <td>0.085987</td>\n",
       "      <td>0.036048</td>\n",
       "      <td>0.947733</td>\n",
       "      <td>0.985736</td>\n",
       "      <td>287</td>\n",
       "      <td>313</td>\n",
       "      <td>27</td>\n",
       "      <td>1062</td>\n",
       "    </tr>\n",
       "  </tbody>\n",
       "</table>\n",
       "</div>"
      ],
      "text/plain": [
       "        TPR       FDR       FPR  AUC(FDR,TPR)  AUC(FPR,TPR)  # found GCs  \\\n",
       "0  0.916933  0.085987  0.036048      0.947733      0.985736          287   \n",
       "\n",
       "   # total GCs  # fake GCs  # sources  \n",
       "0          313          27       1062  "
      ]
     },
     "execution_count": 5,
     "metadata": {},
     "output_type": "execute_result"
    }
   ],
   "source": [
    "model.stats_validation"
   ]
  },
  {
   "cell_type": "code",
   "execution_count": 6,
   "id": "ac664799",
   "metadata": {},
   "outputs": [
    {
     "name": "stderr",
     "output_type": "stream",
     "text": [
      "/home/dodo/anaconda3/lib/python3.8/site-packages/numpy/core/fromnumeric.py:3440: RuntimeWarning: Mean of empty slice.\n",
      "  return _methods._mean(a, axis=axis, dtype=dtype,\n",
      "/home/dodo/anaconda3/lib/python3.8/site-packages/numpy/core/_methods.py:189: RuntimeWarning: invalid value encountered in double_scalars\n",
      "  ret = ret.dtype.type(ret / rcount)\n",
      "/home/dodo/git/globsML/globsML/utils/eval.py:146: RuntimeWarning: divide by zero encountered in double_scalars\n",
      "  return auc(x,y)/(2*auc([0,x[-1]], [0,y[-1]])), x, y\n"
     ]
    }
   ],
   "source": [
    "model.test()"
   ]
  },
  {
   "cell_type": "code",
   "execution_count": 7,
   "id": "701df614",
   "metadata": {},
   "outputs": [
    {
     "data": {
      "text/html": [
       "<div>\n",
       "<style scoped>\n",
       "    .dataframe tbody tr th:only-of-type {\n",
       "        vertical-align: middle;\n",
       "    }\n",
       "\n",
       "    .dataframe tbody tr th {\n",
       "        vertical-align: top;\n",
       "    }\n",
       "\n",
       "    .dataframe thead th {\n",
       "        text-align: right;\n",
       "    }\n",
       "</style>\n",
       "<table border=\"1\" class=\"dataframe\">\n",
       "  <thead>\n",
       "    <tr style=\"text-align: right;\">\n",
       "      <th></th>\n",
       "      <th>Galaxy</th>\n",
       "      <th>TPR</th>\n",
       "      <th>FDR</th>\n",
       "      <th>FPR</th>\n",
       "      <th>AUC(FDR,TPR)</th>\n",
       "      <th>AUC(FPR,TPR)</th>\n",
       "      <th># found GCs</th>\n",
       "      <th># total GCs</th>\n",
       "      <th># fake GCs</th>\n",
       "      <th># sources</th>\n",
       "    </tr>\n",
       "  </thead>\n",
       "  <tbody>\n",
       "    <tr>\n",
       "      <th>0</th>\n",
       "      <td>VCC2092</td>\n",
       "      <td>0.898876</td>\n",
       "      <td>0.069767</td>\n",
       "      <td>0.020270</td>\n",
       "      <td>0.950767</td>\n",
       "      <td>0.977357</td>\n",
       "      <td>80</td>\n",
       "      <td>89</td>\n",
       "      <td>6</td>\n",
       "      <td>385</td>\n",
       "    </tr>\n",
       "    <tr>\n",
       "      <th>1</th>\n",
       "      <td>VCC1886</td>\n",
       "      <td>0.615385</td>\n",
       "      <td>0.428571</td>\n",
       "      <td>0.008043</td>\n",
       "      <td>0.694746</td>\n",
       "      <td>0.950557</td>\n",
       "      <td>8</td>\n",
       "      <td>13</td>\n",
       "      <td>6</td>\n",
       "      <td>759</td>\n",
       "    </tr>\n",
       "    <tr>\n",
       "      <th>2</th>\n",
       "      <td>VCC543</td>\n",
       "      <td>0.884615</td>\n",
       "      <td>0.361111</td>\n",
       "      <td>0.020833</td>\n",
       "      <td>0.816010</td>\n",
       "      <td>0.971493</td>\n",
       "      <td>23</td>\n",
       "      <td>26</td>\n",
       "      <td>13</td>\n",
       "      <td>650</td>\n",
       "    </tr>\n",
       "    <tr>\n",
       "      <th>3</th>\n",
       "      <td>VCC1407</td>\n",
       "      <td>0.864407</td>\n",
       "      <td>0.089286</td>\n",
       "      <td>0.006793</td>\n",
       "      <td>0.953773</td>\n",
       "      <td>0.995279</td>\n",
       "      <td>51</td>\n",
       "      <td>59</td>\n",
       "      <td>5</td>\n",
       "      <td>795</td>\n",
       "    </tr>\n",
       "    <tr>\n",
       "      <th>4</th>\n",
       "      <td>VCC1087</td>\n",
       "      <td>0.910448</td>\n",
       "      <td>0.115942</td>\n",
       "      <td>0.017505</td>\n",
       "      <td>0.947524</td>\n",
       "      <td>0.983997</td>\n",
       "      <td>61</td>\n",
       "      <td>67</td>\n",
       "      <td>8</td>\n",
       "      <td>524</td>\n",
       "    </tr>\n",
       "    <tr>\n",
       "      <th>...</th>\n",
       "      <td>...</td>\n",
       "      <td>...</td>\n",
       "      <td>...</td>\n",
       "      <td>...</td>\n",
       "      <td>...</td>\n",
       "      <td>...</td>\n",
       "      <td>...</td>\n",
       "      <td>...</td>\n",
       "      <td>...</td>\n",
       "      <td>...</td>\n",
       "    </tr>\n",
       "    <tr>\n",
       "      <th>93</th>\n",
       "      <td>VCC784</td>\n",
       "      <td>0.870968</td>\n",
       "      <td>0.068966</td>\n",
       "      <td>0.010025</td>\n",
       "      <td>0.973967</td>\n",
       "      <td>0.996382</td>\n",
       "      <td>54</td>\n",
       "      <td>62</td>\n",
       "      <td>4</td>\n",
       "      <td>461</td>\n",
       "    </tr>\n",
       "    <tr>\n",
       "      <th>94</th>\n",
       "      <td>VCC1242</td>\n",
       "      <td>0.876106</td>\n",
       "      <td>0.108108</td>\n",
       "      <td>0.029703</td>\n",
       "      <td>0.952723</td>\n",
       "      <td>0.986605</td>\n",
       "      <td>99</td>\n",
       "      <td>113</td>\n",
       "      <td>12</td>\n",
       "      <td>517</td>\n",
       "    </tr>\n",
       "    <tr>\n",
       "      <th>95</th>\n",
       "      <td>VCC1250</td>\n",
       "      <td>0.925926</td>\n",
       "      <td>0.152542</td>\n",
       "      <td>0.024523</td>\n",
       "      <td>0.955113</td>\n",
       "      <td>0.994096</td>\n",
       "      <td>50</td>\n",
       "      <td>54</td>\n",
       "      <td>9</td>\n",
       "      <td>421</td>\n",
       "    </tr>\n",
       "    <tr>\n",
       "      <th>96</th>\n",
       "      <td>VCC575</td>\n",
       "      <td>0.739130</td>\n",
       "      <td>0.190476</td>\n",
       "      <td>0.010667</td>\n",
       "      <td>0.877924</td>\n",
       "      <td>0.985449</td>\n",
       "      <td>17</td>\n",
       "      <td>23</td>\n",
       "      <td>4</td>\n",
       "      <td>398</td>\n",
       "    </tr>\n",
       "    <tr>\n",
       "      <th>97</th>\n",
       "      <td>VCC798</td>\n",
       "      <td>0.886555</td>\n",
       "      <td>0.098291</td>\n",
       "      <td>0.070878</td>\n",
       "      <td>0.936188</td>\n",
       "      <td>0.971608</td>\n",
       "      <td>422</td>\n",
       "      <td>476</td>\n",
       "      <td>46</td>\n",
       "      <td>1125</td>\n",
       "    </tr>\n",
       "  </tbody>\n",
       "</table>\n",
       "<p>98 rows × 10 columns</p>\n",
       "</div>"
      ],
      "text/plain": [
       "     Galaxy       TPR       FDR       FPR  AUC(FDR,TPR)  AUC(FPR,TPR)  \\\n",
       "0   VCC2092  0.898876  0.069767  0.020270      0.950767      0.977357   \n",
       "1   VCC1886  0.615385  0.428571  0.008043      0.694746      0.950557   \n",
       "2    VCC543  0.884615  0.361111  0.020833      0.816010      0.971493   \n",
       "3   VCC1407  0.864407  0.089286  0.006793      0.953773      0.995279   \n",
       "4   VCC1087  0.910448  0.115942  0.017505      0.947524      0.983997   \n",
       "..      ...       ...       ...       ...           ...           ...   \n",
       "93   VCC784  0.870968  0.068966  0.010025      0.973967      0.996382   \n",
       "94  VCC1242  0.876106  0.108108  0.029703      0.952723      0.986605   \n",
       "95  VCC1250  0.925926  0.152542  0.024523      0.955113      0.994096   \n",
       "96   VCC575  0.739130  0.190476  0.010667      0.877924      0.985449   \n",
       "97   VCC798  0.886555  0.098291  0.070878      0.936188      0.971608   \n",
       "\n",
       "    # found GCs  # total GCs  # fake GCs  # sources  \n",
       "0            80           89           6        385  \n",
       "1             8           13           6        759  \n",
       "2            23           26          13        650  \n",
       "3            51           59           5        795  \n",
       "4            61           67           8        524  \n",
       "..          ...          ...         ...        ...  \n",
       "93           54           62           4        461  \n",
       "94           99          113          12        517  \n",
       "95           50           54           9        421  \n",
       "96           17           23           4        398  \n",
       "97          422          476          46       1125  \n",
       "\n",
       "[98 rows x 10 columns]"
      ]
     },
     "execution_count": 7,
     "metadata": {},
     "output_type": "execute_result"
    }
   ],
   "source": [
    "model.stats_galaxies"
   ]
  },
  {
   "cell_type": "code",
   "execution_count": 8,
   "id": "be9bde38",
   "metadata": {},
   "outputs": [
    {
     "name": "stderr",
     "output_type": "stream",
     "text": [
      "/tmp/ipykernel_1992/3415850949.py:1: FutureWarning: Dropping of nuisance columns in DataFrame reductions (with 'numeric_only=None') is deprecated; in a future version this will raise TypeError.  Select only valid columns before calling the reduction.\n",
      "  model.stats_galaxies.mean()\n"
     ]
    },
    {
     "data": {
      "text/plain": [
       "TPR               0.852567\n",
       "FDR               0.171326\n",
       "FPR               0.020176\n",
       "AUC(FDR,TPR)           inf\n",
       "AUC(FPR,TPR)      0.983824\n",
       "# found GCs     113.969388\n",
       "# total GCs     126.479592\n",
       "# fake GCs        9.265306\n",
       "# sources       644.510204\n",
       "dtype: float64"
      ]
     },
     "execution_count": 8,
     "metadata": {},
     "output_type": "execute_result"
    }
   ],
   "source": [
    "model.stats_galaxies.mean()"
   ]
  },
  {
   "cell_type": "code",
   "execution_count": 9,
   "id": "5e6413cd",
   "metadata": {},
   "outputs": [
    {
     "data": {
      "text/html": [
       "<div>\n",
       "<style scoped>\n",
       "    .dataframe tbody tr th:only-of-type {\n",
       "        vertical-align: middle;\n",
       "    }\n",
       "\n",
       "    .dataframe tbody tr th {\n",
       "        vertical-align: top;\n",
       "    }\n",
       "\n",
       "    .dataframe thead th {\n",
       "        text-align: right;\n",
       "    }\n",
       "</style>\n",
       "<table border=\"1\" class=\"dataframe\">\n",
       "  <thead>\n",
       "    <tr style=\"text-align: right;\">\n",
       "      <th></th>\n",
       "      <th>Galaxy</th>\n",
       "      <th>TPR</th>\n",
       "      <th>FDR</th>\n",
       "      <th>FPR</th>\n",
       "      <th>AUC(FDR,TPR)</th>\n",
       "      <th>AUC(FPR,TPR)</th>\n",
       "      <th># found GCs</th>\n",
       "      <th># total GCs</th>\n",
       "      <th># fake GCs</th>\n",
       "      <th># sources</th>\n",
       "    </tr>\n",
       "  </thead>\n",
       "  <tbody>\n",
       "    <tr>\n",
       "      <th>0</th>\n",
       "      <td>ALL</td>\n",
       "      <td>0.901089</td>\n",
       "      <td>0.075184</td>\n",
       "      <td>0.017886</td>\n",
       "      <td>0.962242</td>\n",
       "      <td>0.989902</td>\n",
       "      <td>11169</td>\n",
       "      <td>12395</td>\n",
       "      <td>908</td>\n",
       "      <td>63162</td>\n",
       "    </tr>\n",
       "  </tbody>\n",
       "</table>\n",
       "</div>"
      ],
      "text/plain": [
       "  Galaxy       TPR       FDR       FPR  AUC(FDR,TPR)  AUC(FPR,TPR)  \\\n",
       "0    ALL  0.901089  0.075184  0.017886      0.962242      0.989902   \n",
       "\n",
       "   # found GCs  # total GCs  # fake GCs  # sources  \n",
       "0        11169        12395         908      63162  "
      ]
     },
     "execution_count": 9,
     "metadata": {},
     "output_type": "execute_result"
    }
   ],
   "source": [
    "model.stats_all"
   ]
  },
  {
   "cell_type": "code",
   "execution_count": null,
   "id": "fc388a48",
   "metadata": {},
   "outputs": [],
   "source": []
  },
  {
   "cell_type": "code",
   "execution_count": null,
   "id": "29958ca8",
   "metadata": {},
   "outputs": [],
   "source": []
  }
 ],
 "metadata": {
  "kernelspec": {
   "display_name": "Python 3 (ipykernel)",
   "language": "python",
   "name": "python3"
  },
  "language_info": {
   "codemirror_mode": {
    "name": "ipython",
    "version": 3
   },
   "file_extension": ".py",
   "mimetype": "text/x-python",
   "name": "python",
   "nbconvert_exporter": "python",
   "pygments_lexer": "ipython3",
   "version": "3.8.8"
  }
 },
 "nbformat": 4,
 "nbformat_minor": 5
}
