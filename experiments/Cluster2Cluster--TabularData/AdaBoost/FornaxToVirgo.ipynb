{
 "cells": [
  {
   "cell_type": "code",
   "execution_count": 1,
   "id": "eb856f0e",
   "metadata": {},
   "outputs": [],
   "source": [
    "import pandas\n",
    "pandas.options.mode.chained_assignment = None\n",
    "import sys\n",
    "import numpy as np\n",
    "from globsML.utils.preprocessing import rescale_data, select_galaxies, create_data_dict, replace_NaN\n",
    "from globsML.models.skmodels import StandardClassifier\n",
    "\n",
    "data_path = '../../../data/ACS_sources_original.csv'\n",
    "data = pandas.read_csv(data_path)\n",
    "test_galaxies = set(data[data['cluster']=='Virgo']['galaxy'].unique())"
   ]
  },
  {
   "cell_type": "code",
   "execution_count": 2,
   "id": "3d04334c",
   "metadata": {},
   "outputs": [
    {
     "name": "stdout",
     "output_type": "stream",
     "text": [
      "Number of sources in training split after dropping rows with NaN as CI/m/color: 21232\n",
      "535 sources have been dropped.\n",
      "NaN values in testing data have been replaced with the correspnding median value observed in the training split\n"
     ]
    },
    {
     "name": "stderr",
     "output_type": "stream",
     "text": [
      "100%|█████████████████████████████████████████████████████████████████████████████████| 29/29 [00:00<00:00, 3788.18it/s]"
     ]
    },
    {
     "name": "stdout",
     "output_type": "stream",
     "text": [
      "eccentricity will not be transformed. Skipped.\n",
      "eccentricity_z will not be transformed. Skipped.\n"
     ]
    },
    {
     "name": "stderr",
     "output_type": "stream",
     "text": [
      "\n"
     ]
    }
   ],
   "source": [
    "df_train, dfs_test = select_galaxies(data, test_galaxies = test_galaxies)\n",
    "df_train, dfs_test = replace_NaN(df_train, dfs_test)\n",
    "df = create_data_dict(data, df_train, dfs_test)\n",
    "df, _ = rescale_data(df)\n",
    "\n",
    "input_dim = len(df['train']['inputs'][0])"
   ]
  },
  {
   "cell_type": "code",
   "execution_count": 3,
   "id": "6ac0682d",
   "metadata": {},
   "outputs": [
    {
     "name": "stdout",
     "output_type": "stream",
     "text": [
      "Loading data...\n",
      "Fitting model...\n"
     ]
    }
   ],
   "source": [
    "model = StandardClassifier(method='adaboost', data=df)"
   ]
  },
  {
   "cell_type": "code",
   "execution_count": 4,
   "id": "c50d61e8",
   "metadata": {},
   "outputs": [
    {
     "name": "stderr",
     "output_type": "stream",
     "text": [
      "/home/dodo/anaconda3/lib/python3.8/site-packages/numpy/core/fromnumeric.py:3440: RuntimeWarning: Mean of empty slice.\n",
      "  return _methods._mean(a, axis=axis, dtype=dtype,\n",
      "/home/dodo/anaconda3/lib/python3.8/site-packages/numpy/core/_methods.py:189: RuntimeWarning: invalid value encountered in double_scalars\n",
      "  ret = ret.dtype.type(ret / rcount)\n"
     ]
    }
   ],
   "source": [
    "model.val()"
   ]
  },
  {
   "cell_type": "code",
   "execution_count": 5,
   "id": "bfeda233",
   "metadata": {},
   "outputs": [
    {
     "data": {
      "text/html": [
       "<div>\n",
       "<style scoped>\n",
       "    .dataframe tbody tr th:only-of-type {\n",
       "        vertical-align: middle;\n",
       "    }\n",
       "\n",
       "    .dataframe tbody tr th {\n",
       "        vertical-align: top;\n",
       "    }\n",
       "\n",
       "    .dataframe thead th {\n",
       "        text-align: right;\n",
       "    }\n",
       "</style>\n",
       "<table border=\"1\" class=\"dataframe\">\n",
       "  <thead>\n",
       "    <tr style=\"text-align: right;\">\n",
       "      <th></th>\n",
       "      <th>TPR</th>\n",
       "      <th>FDR</th>\n",
       "      <th>FPR</th>\n",
       "      <th>AUC(FDR,TPR)</th>\n",
       "      <th>AUC(FPR,TPR)</th>\n",
       "      <th># found GCs</th>\n",
       "      <th># total GCs</th>\n",
       "      <th># fake GCs</th>\n",
       "      <th># sources</th>\n",
       "    </tr>\n",
       "  </thead>\n",
       "  <tbody>\n",
       "    <tr>\n",
       "      <th>0</th>\n",
       "      <td>0.904153</td>\n",
       "      <td>0.072131</td>\n",
       "      <td>0.029372</td>\n",
       "      <td>0.954922</td>\n",
       "      <td>0.986766</td>\n",
       "      <td>283</td>\n",
       "      <td>313</td>\n",
       "      <td>22</td>\n",
       "      <td>1062</td>\n",
       "    </tr>\n",
       "  </tbody>\n",
       "</table>\n",
       "</div>"
      ],
      "text/plain": [
       "        TPR       FDR       FPR  AUC(FDR,TPR)  AUC(FPR,TPR)  # found GCs  \\\n",
       "0  0.904153  0.072131  0.029372      0.954922      0.986766          283   \n",
       "\n",
       "   # total GCs  # fake GCs  # sources  \n",
       "0          313          22       1062  "
      ]
     },
     "execution_count": 5,
     "metadata": {},
     "output_type": "execute_result"
    }
   ],
   "source": [
    "model.stats_validation"
   ]
  },
  {
   "cell_type": "code",
   "execution_count": 6,
   "id": "ac664799",
   "metadata": {},
   "outputs": [
    {
     "name": "stderr",
     "output_type": "stream",
     "text": [
      "/home/dodo/anaconda3/lib/python3.8/site-packages/numpy/core/fromnumeric.py:3440: RuntimeWarning: Mean of empty slice.\n",
      "  return _methods._mean(a, axis=axis, dtype=dtype,\n",
      "/home/dodo/anaconda3/lib/python3.8/site-packages/numpy/core/_methods.py:189: RuntimeWarning: invalid value encountered in double_scalars\n",
      "  ret = ret.dtype.type(ret / rcount)\n",
      "/home/dodo/git/globsML/globsML/utils/eval.py:146: RuntimeWarning: divide by zero encountered in double_scalars\n",
      "  return auc(x,y)/(2*auc([0,x[-1]], [0,y[-1]])), x, y\n"
     ]
    }
   ],
   "source": [
    "model.test()"
   ]
  },
  {
   "cell_type": "code",
   "execution_count": 7,
   "id": "701df614",
   "metadata": {},
   "outputs": [
    {
     "data": {
      "text/html": [
       "<div>\n",
       "<style scoped>\n",
       "    .dataframe tbody tr th:only-of-type {\n",
       "        vertical-align: middle;\n",
       "    }\n",
       "\n",
       "    .dataframe tbody tr th {\n",
       "        vertical-align: top;\n",
       "    }\n",
       "\n",
       "    .dataframe thead th {\n",
       "        text-align: right;\n",
       "    }\n",
       "</style>\n",
       "<table border=\"1\" class=\"dataframe\">\n",
       "  <thead>\n",
       "    <tr style=\"text-align: right;\">\n",
       "      <th></th>\n",
       "      <th>Galaxy</th>\n",
       "      <th>TPR</th>\n",
       "      <th>FDR</th>\n",
       "      <th>FPR</th>\n",
       "      <th>AUC(FDR,TPR)</th>\n",
       "      <th>AUC(FPR,TPR)</th>\n",
       "      <th># found GCs</th>\n",
       "      <th># total GCs</th>\n",
       "      <th># fake GCs</th>\n",
       "      <th># sources</th>\n",
       "    </tr>\n",
       "  </thead>\n",
       "  <tbody>\n",
       "    <tr>\n",
       "      <th>0</th>\n",
       "      <td>VCC654</td>\n",
       "      <td>0.875000</td>\n",
       "      <td>0.086957</td>\n",
       "      <td>0.011905</td>\n",
       "      <td>0.936359</td>\n",
       "      <td>0.987444</td>\n",
       "      <td>42</td>\n",
       "      <td>48</td>\n",
       "      <td>4</td>\n",
       "      <td>384</td>\n",
       "    </tr>\n",
       "    <tr>\n",
       "      <th>1</th>\n",
       "      <td>VCC1283</td>\n",
       "      <td>0.953846</td>\n",
       "      <td>0.101449</td>\n",
       "      <td>0.002399</td>\n",
       "      <td>0.963377</td>\n",
       "      <td>0.996718</td>\n",
       "      <td>62</td>\n",
       "      <td>65</td>\n",
       "      <td>7</td>\n",
       "      <td>2983</td>\n",
       "    </tr>\n",
       "    <tr>\n",
       "      <th>2</th>\n",
       "      <td>VCC763</td>\n",
       "      <td>0.906504</td>\n",
       "      <td>0.011086</td>\n",
       "      <td>0.020921</td>\n",
       "      <td>0.978311</td>\n",
       "      <td>0.985241</td>\n",
       "      <td>446</td>\n",
       "      <td>492</td>\n",
       "      <td>5</td>\n",
       "      <td>731</td>\n",
       "    </tr>\n",
       "    <tr>\n",
       "      <th>3</th>\n",
       "      <td>VCC1030</td>\n",
       "      <td>0.918605</td>\n",
       "      <td>0.042424</td>\n",
       "      <td>0.015873</td>\n",
       "      <td>0.967038</td>\n",
       "      <td>0.987950</td>\n",
       "      <td>158</td>\n",
       "      <td>172</td>\n",
       "      <td>7</td>\n",
       "      <td>613</td>\n",
       "    </tr>\n",
       "    <tr>\n",
       "      <th>4</th>\n",
       "      <td>VCC543</td>\n",
       "      <td>0.846154</td>\n",
       "      <td>0.290323</td>\n",
       "      <td>0.014423</td>\n",
       "      <td>0.803549</td>\n",
       "      <td>0.985762</td>\n",
       "      <td>22</td>\n",
       "      <td>26</td>\n",
       "      <td>9</td>\n",
       "      <td>650</td>\n",
       "    </tr>\n",
       "    <tr>\n",
       "      <th>...</th>\n",
       "      <td>...</td>\n",
       "      <td>...</td>\n",
       "      <td>...</td>\n",
       "      <td>...</td>\n",
       "      <td>...</td>\n",
       "      <td>...</td>\n",
       "      <td>...</td>\n",
       "      <td>...</td>\n",
       "      <td>...</td>\n",
       "      <td>...</td>\n",
       "    </tr>\n",
       "    <tr>\n",
       "      <th>93</th>\n",
       "      <td>VCC1499</td>\n",
       "      <td>0.774194</td>\n",
       "      <td>0.200000</td>\n",
       "      <td>0.010830</td>\n",
       "      <td>0.803929</td>\n",
       "      <td>0.978252</td>\n",
       "      <td>24</td>\n",
       "      <td>31</td>\n",
       "      <td>6</td>\n",
       "      <td>585</td>\n",
       "    </tr>\n",
       "    <tr>\n",
       "      <th>94</th>\n",
       "      <td>VCC1087</td>\n",
       "      <td>0.850746</td>\n",
       "      <td>0.095238</td>\n",
       "      <td>0.013129</td>\n",
       "      <td>0.962566</td>\n",
       "      <td>0.993305</td>\n",
       "      <td>57</td>\n",
       "      <td>67</td>\n",
       "      <td>6</td>\n",
       "      <td>524</td>\n",
       "    </tr>\n",
       "    <tr>\n",
       "      <th>95</th>\n",
       "      <td>VCC1146</td>\n",
       "      <td>0.888889</td>\n",
       "      <td>0.027027</td>\n",
       "      <td>0.004515</td>\n",
       "      <td>0.974039</td>\n",
       "      <td>0.994914</td>\n",
       "      <td>72</td>\n",
       "      <td>81</td>\n",
       "      <td>2</td>\n",
       "      <td>524</td>\n",
       "    </tr>\n",
       "    <tr>\n",
       "      <th>96</th>\n",
       "      <td>VCC1895</td>\n",
       "      <td>0.769231</td>\n",
       "      <td>0.333333</td>\n",
       "      <td>0.005501</td>\n",
       "      <td>0.814318</td>\n",
       "      <td>0.994838</td>\n",
       "      <td>10</td>\n",
       "      <td>13</td>\n",
       "      <td>5</td>\n",
       "      <td>922</td>\n",
       "    </tr>\n",
       "    <tr>\n",
       "      <th>97</th>\n",
       "      <td>VCC1422</td>\n",
       "      <td>0.756757</td>\n",
       "      <td>0.066667</td>\n",
       "      <td>0.004938</td>\n",
       "      <td>0.904178</td>\n",
       "      <td>0.987387</td>\n",
       "      <td>28</td>\n",
       "      <td>37</td>\n",
       "      <td>2</td>\n",
       "      <td>442</td>\n",
       "    </tr>\n",
       "  </tbody>\n",
       "</table>\n",
       "<p>98 rows × 10 columns</p>\n",
       "</div>"
      ],
      "text/plain": [
       "     Galaxy       TPR       FDR       FPR  AUC(FDR,TPR)  AUC(FPR,TPR)  \\\n",
       "0    VCC654  0.875000  0.086957  0.011905      0.936359      0.987444   \n",
       "1   VCC1283  0.953846  0.101449  0.002399      0.963377      0.996718   \n",
       "2    VCC763  0.906504  0.011086  0.020921      0.978311      0.985241   \n",
       "3   VCC1030  0.918605  0.042424  0.015873      0.967038      0.987950   \n",
       "4    VCC543  0.846154  0.290323  0.014423      0.803549      0.985762   \n",
       "..      ...       ...       ...       ...           ...           ...   \n",
       "93  VCC1499  0.774194  0.200000  0.010830      0.803929      0.978252   \n",
       "94  VCC1087  0.850746  0.095238  0.013129      0.962566      0.993305   \n",
       "95  VCC1146  0.888889  0.027027  0.004515      0.974039      0.994914   \n",
       "96  VCC1895  0.769231  0.333333  0.005501      0.814318      0.994838   \n",
       "97  VCC1422  0.756757  0.066667  0.004938      0.904178      0.987387   \n",
       "\n",
       "    # found GCs  # total GCs  # fake GCs  # sources  \n",
       "0            42           48           4        384  \n",
       "1            62           65           7       2983  \n",
       "2           446          492           5        731  \n",
       "3           158          172           7        613  \n",
       "4            22           26           9        650  \n",
       "..          ...          ...         ...        ...  \n",
       "93           24           31           6        585  \n",
       "94           57           67           6        524  \n",
       "95           72           81           2        524  \n",
       "96           10           13           5        922  \n",
       "97           28           37           2        442  \n",
       "\n",
       "[98 rows x 10 columns]"
      ]
     },
     "execution_count": 7,
     "metadata": {},
     "output_type": "execute_result"
    }
   ],
   "source": [
    "model.stats_galaxies"
   ]
  },
  {
   "cell_type": "code",
   "execution_count": 8,
   "id": "be9bde38",
   "metadata": {},
   "outputs": [
    {
     "name": "stderr",
     "output_type": "stream",
     "text": [
      "/tmp/ipykernel_1892/3415850949.py:1: FutureWarning: Dropping of nuisance columns in DataFrame reductions (with 'numeric_only=None') is deprecated; in a future version this will raise TypeError.  Select only valid columns before calling the reduction.\n",
      "  model.stats_galaxies.mean()\n"
     ]
    },
    {
     "data": {
      "text/plain": [
       "TPR               0.842168\n",
       "FDR               0.140742\n",
       "FPR               0.015775\n",
       "AUC(FDR,TPR)           inf\n",
       "AUC(FPR,TPR)      0.983035\n",
       "# found GCs     113.081633\n",
       "# total GCs     126.479592\n",
       "# fake GCs        7.142857\n",
       "# sources       644.510204\n",
       "dtype: float64"
      ]
     },
     "execution_count": 8,
     "metadata": {},
     "output_type": "execute_result"
    }
   ],
   "source": [
    "model.stats_galaxies.mean()"
   ]
  },
  {
   "cell_type": "code",
   "execution_count": 9,
   "id": "5e6413cd",
   "metadata": {},
   "outputs": [
    {
     "data": {
      "text/html": [
       "<div>\n",
       "<style scoped>\n",
       "    .dataframe tbody tr th:only-of-type {\n",
       "        vertical-align: middle;\n",
       "    }\n",
       "\n",
       "    .dataframe tbody tr th {\n",
       "        vertical-align: top;\n",
       "    }\n",
       "\n",
       "    .dataframe thead th {\n",
       "        text-align: right;\n",
       "    }\n",
       "</style>\n",
       "<table border=\"1\" class=\"dataframe\">\n",
       "  <thead>\n",
       "    <tr style=\"text-align: right;\">\n",
       "      <th></th>\n",
       "      <th>Galaxy</th>\n",
       "      <th>TPR</th>\n",
       "      <th>FDR</th>\n",
       "      <th>FPR</th>\n",
       "      <th>AUC(FDR,TPR)</th>\n",
       "      <th>AUC(FPR,TPR)</th>\n",
       "      <th># found GCs</th>\n",
       "      <th># total GCs</th>\n",
       "      <th># fake GCs</th>\n",
       "      <th># sources</th>\n",
       "    </tr>\n",
       "  </thead>\n",
       "  <tbody>\n",
       "    <tr>\n",
       "      <th>0</th>\n",
       "      <td>ALL</td>\n",
       "      <td>0.89407</td>\n",
       "      <td>0.059413</td>\n",
       "      <td>0.013788</td>\n",
       "      <td>0.962974</td>\n",
       "      <td>0.989398</td>\n",
       "      <td>11082</td>\n",
       "      <td>12395</td>\n",
       "      <td>700</td>\n",
       "      <td>63162</td>\n",
       "    </tr>\n",
       "  </tbody>\n",
       "</table>\n",
       "</div>"
      ],
      "text/plain": [
       "  Galaxy      TPR       FDR       FPR  AUC(FDR,TPR)  AUC(FPR,TPR)  \\\n",
       "0    ALL  0.89407  0.059413  0.013788      0.962974      0.989398   \n",
       "\n",
       "   # found GCs  # total GCs  # fake GCs  # sources  \n",
       "0        11082        12395         700      63162  "
      ]
     },
     "execution_count": 9,
     "metadata": {},
     "output_type": "execute_result"
    }
   ],
   "source": [
    "model.stats_all"
   ]
  },
  {
   "cell_type": "code",
   "execution_count": null,
   "id": "fc388a48",
   "metadata": {},
   "outputs": [],
   "source": []
  }
 ],
 "metadata": {
  "kernelspec": {
   "display_name": "Python 3 (ipykernel)",
   "language": "python",
   "name": "python3"
  },
  "language_info": {
   "codemirror_mode": {
    "name": "ipython",
    "version": 3
   },
   "file_extension": ".py",
   "mimetype": "text/x-python",
   "name": "python",
   "nbconvert_exporter": "python",
   "pygments_lexer": "ipython3",
   "version": "3.8.8"
  }
 },
 "nbformat": 4,
 "nbformat_minor": 5
}
