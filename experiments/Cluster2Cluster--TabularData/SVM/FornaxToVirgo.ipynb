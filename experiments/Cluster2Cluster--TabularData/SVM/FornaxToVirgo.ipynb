{
 "cells": [
  {
   "cell_type": "code",
   "execution_count": 1,
   "id": "eb856f0e",
   "metadata": {},
   "outputs": [],
   "source": [
    "import pandas\n",
    "pandas.options.mode.chained_assignment = None\n",
    "import sys\n",
    "import numpy as np\n",
    "from globsML.utils.preprocessing import rescale_data, select_galaxies, create_data_dict, replace_NaN\n",
    "from globsML.models.skmodels import StandardClassifier\n",
    "\n",
    "data_path = '../../../data/ACS_sources_original.csv'\n",
    "data = pandas.read_csv(data_path)\n",
    "test_galaxies = set(data[data['cluster']=='Virgo']['galaxy'].unique())"
   ]
  },
  {
   "cell_type": "code",
   "execution_count": 2,
   "id": "3d04334c",
   "metadata": {},
   "outputs": [
    {
     "name": "stdout",
     "output_type": "stream",
     "text": [
      "Number of sources in training split after dropping rows with NaN as CI/m/color: 21232\n",
      "535 sources have been dropped.\n",
      "NaN values in testing data have been replaced with the correspnding median value observed in the training split\n"
     ]
    },
    {
     "name": "stderr",
     "output_type": "stream",
     "text": [
      "100%|█████████████████████████████████████████████████████████████████████████████████| 29/29 [00:00<00:00, 4008.93it/s]"
     ]
    },
    {
     "name": "stdout",
     "output_type": "stream",
     "text": [
      "eccentricity will not be transformed. Skipped.\n",
      "eccentricity_z will not be transformed. Skipped.\n"
     ]
    },
    {
     "name": "stderr",
     "output_type": "stream",
     "text": [
      "\n"
     ]
    }
   ],
   "source": [
    "df_train, dfs_test = select_galaxies(data, test_galaxies = test_galaxies)\n",
    "df_train, dfs_test = replace_NaN(df_train, dfs_test)\n",
    "df = create_data_dict(data, df_train, dfs_test)\n",
    "df, _ = rescale_data(df)\n",
    "\n",
    "input_dim = len(df['train']['inputs'][0])"
   ]
  },
  {
   "cell_type": "code",
   "execution_count": 3,
   "id": "6ac0682d",
   "metadata": {},
   "outputs": [
    {
     "name": "stdout",
     "output_type": "stream",
     "text": [
      "Loading data...\n",
      "Fitting model...\n"
     ]
    }
   ],
   "source": [
    "model = StandardClassifier(method='svm-lin', data=df)"
   ]
  },
  {
   "cell_type": "code",
   "execution_count": 4,
   "id": "c50d61e8",
   "metadata": {},
   "outputs": [],
   "source": [
    "model.val()"
   ]
  },
  {
   "cell_type": "code",
   "execution_count": 5,
   "id": "bfeda233",
   "metadata": {},
   "outputs": [
    {
     "data": {
      "text/html": [
       "<div>\n",
       "<style scoped>\n",
       "    .dataframe tbody tr th:only-of-type {\n",
       "        vertical-align: middle;\n",
       "    }\n",
       "\n",
       "    .dataframe tbody tr th {\n",
       "        vertical-align: top;\n",
       "    }\n",
       "\n",
       "    .dataframe thead th {\n",
       "        text-align: right;\n",
       "    }\n",
       "</style>\n",
       "<table border=\"1\" class=\"dataframe\">\n",
       "  <thead>\n",
       "    <tr style=\"text-align: right;\">\n",
       "      <th></th>\n",
       "      <th>TPR</th>\n",
       "      <th>FDR</th>\n",
       "      <th>FPR</th>\n",
       "      <th>AUC(FDR,TPR)</th>\n",
       "      <th>AUC(FPR,TPR)</th>\n",
       "      <th># found GCs</th>\n",
       "      <th># total GCs</th>\n",
       "      <th># fake GCs</th>\n",
       "      <th># sources</th>\n",
       "    </tr>\n",
       "  </thead>\n",
       "  <tbody>\n",
       "    <tr>\n",
       "      <th>0</th>\n",
       "      <td>0.817891</td>\n",
       "      <td>0.160656</td>\n",
       "      <td>0.065421</td>\n",
       "      <td>--</td>\n",
       "      <td>--</td>\n",
       "      <td>256</td>\n",
       "      <td>313</td>\n",
       "      <td>49</td>\n",
       "      <td>1062</td>\n",
       "    </tr>\n",
       "  </tbody>\n",
       "</table>\n",
       "</div>"
      ],
      "text/plain": [
       "        TPR       FDR       FPR AUC(FDR,TPR) AUC(FPR,TPR)  # found GCs  \\\n",
       "0  0.817891  0.160656  0.065421           --           --          256   \n",
       "\n",
       "   # total GCs  # fake GCs  # sources  \n",
       "0          313          49       1062  "
      ]
     },
     "execution_count": 5,
     "metadata": {},
     "output_type": "execute_result"
    }
   ],
   "source": [
    "model.stats_validation"
   ]
  },
  {
   "cell_type": "code",
   "execution_count": 6,
   "id": "ac664799",
   "metadata": {},
   "outputs": [],
   "source": [
    "model.test()"
   ]
  },
  {
   "cell_type": "code",
   "execution_count": 7,
   "id": "701df614",
   "metadata": {},
   "outputs": [
    {
     "data": {
      "text/html": [
       "<div>\n",
       "<style scoped>\n",
       "    .dataframe tbody tr th:only-of-type {\n",
       "        vertical-align: middle;\n",
       "    }\n",
       "\n",
       "    .dataframe tbody tr th {\n",
       "        vertical-align: top;\n",
       "    }\n",
       "\n",
       "    .dataframe thead th {\n",
       "        text-align: right;\n",
       "    }\n",
       "</style>\n",
       "<table border=\"1\" class=\"dataframe\">\n",
       "  <thead>\n",
       "    <tr style=\"text-align: right;\">\n",
       "      <th></th>\n",
       "      <th>Galaxy</th>\n",
       "      <th>TPR</th>\n",
       "      <th>FDR</th>\n",
       "      <th>FPR</th>\n",
       "      <th>AUC(FDR,TPR)</th>\n",
       "      <th>AUC(FPR,TPR)</th>\n",
       "      <th># found GCs</th>\n",
       "      <th># total GCs</th>\n",
       "      <th># fake GCs</th>\n",
       "      <th># sources</th>\n",
       "    </tr>\n",
       "  </thead>\n",
       "  <tbody>\n",
       "    <tr>\n",
       "      <th>0</th>\n",
       "      <td>VCC1422</td>\n",
       "      <td>0.783784</td>\n",
       "      <td>0.597222</td>\n",
       "      <td>0.106173</td>\n",
       "      <td>--</td>\n",
       "      <td>--</td>\n",
       "      <td>29</td>\n",
       "      <td>37</td>\n",
       "      <td>43</td>\n",
       "      <td>442</td>\n",
       "    </tr>\n",
       "    <tr>\n",
       "      <th>1</th>\n",
       "      <td>VCC1512</td>\n",
       "      <td>0.714286</td>\n",
       "      <td>0.824561</td>\n",
       "      <td>0.164336</td>\n",
       "      <td>--</td>\n",
       "      <td>--</td>\n",
       "      <td>10</td>\n",
       "      <td>14</td>\n",
       "      <td>47</td>\n",
       "      <td>300</td>\n",
       "    </tr>\n",
       "    <tr>\n",
       "      <th>2</th>\n",
       "      <td>VCC140</td>\n",
       "      <td>0.724138</td>\n",
       "      <td>0.655738</td>\n",
       "      <td>0.079523</td>\n",
       "      <td>--</td>\n",
       "      <td>--</td>\n",
       "      <td>21</td>\n",
       "      <td>29</td>\n",
       "      <td>40</td>\n",
       "      <td>532</td>\n",
       "    </tr>\n",
       "    <tr>\n",
       "      <th>3</th>\n",
       "      <td>VCC1913</td>\n",
       "      <td>0.822581</td>\n",
       "      <td>0.622222</td>\n",
       "      <td>0.140000</td>\n",
       "      <td>--</td>\n",
       "      <td>--</td>\n",
       "      <td>51</td>\n",
       "      <td>62</td>\n",
       "      <td>84</td>\n",
       "      <td>662</td>\n",
       "    </tr>\n",
       "    <tr>\n",
       "      <th>4</th>\n",
       "      <td>VCC1226</td>\n",
       "      <td>0.858099</td>\n",
       "      <td>0.139597</td>\n",
       "      <td>0.241860</td>\n",
       "      <td>--</td>\n",
       "      <td>--</td>\n",
       "      <td>641</td>\n",
       "      <td>747</td>\n",
       "      <td>104</td>\n",
       "      <td>1177</td>\n",
       "    </tr>\n",
       "    <tr>\n",
       "      <th>...</th>\n",
       "      <td>...</td>\n",
       "      <td>...</td>\n",
       "      <td>...</td>\n",
       "      <td>...</td>\n",
       "      <td>...</td>\n",
       "      <td>...</td>\n",
       "      <td>...</td>\n",
       "      <td>...</td>\n",
       "      <td>...</td>\n",
       "      <td>...</td>\n",
       "    </tr>\n",
       "    <tr>\n",
       "      <th>93</th>\n",
       "      <td>VCC1146</td>\n",
       "      <td>0.913580</td>\n",
       "      <td>0.356522</td>\n",
       "      <td>0.092551</td>\n",
       "      <td>--</td>\n",
       "      <td>--</td>\n",
       "      <td>74</td>\n",
       "      <td>81</td>\n",
       "      <td>41</td>\n",
       "      <td>524</td>\n",
       "    </tr>\n",
       "    <tr>\n",
       "      <th>94</th>\n",
       "      <td>VCC9</td>\n",
       "      <td>0.656250</td>\n",
       "      <td>0.553191</td>\n",
       "      <td>0.076696</td>\n",
       "      <td>--</td>\n",
       "      <td>--</td>\n",
       "      <td>21</td>\n",
       "      <td>32</td>\n",
       "      <td>26</td>\n",
       "      <td>371</td>\n",
       "    </tr>\n",
       "    <tr>\n",
       "      <th>95</th>\n",
       "      <td>VCC1630</td>\n",
       "      <td>0.818182</td>\n",
       "      <td>0.695946</td>\n",
       "      <td>0.177893</td>\n",
       "      <td>--</td>\n",
       "      <td>--</td>\n",
       "      <td>45</td>\n",
       "      <td>55</td>\n",
       "      <td>103</td>\n",
       "      <td>634</td>\n",
       "    </tr>\n",
       "    <tr>\n",
       "      <th>96</th>\n",
       "      <td>VCC1779</td>\n",
       "      <td>0.428571</td>\n",
       "      <td>0.948276</td>\n",
       "      <td>0.133172</td>\n",
       "      <td>--</td>\n",
       "      <td>--</td>\n",
       "      <td>3</td>\n",
       "      <td>7</td>\n",
       "      <td>55</td>\n",
       "      <td>420</td>\n",
       "    </tr>\n",
       "    <tr>\n",
       "      <th>97</th>\n",
       "      <td>VCC1861</td>\n",
       "      <td>0.787234</td>\n",
       "      <td>0.626263</td>\n",
       "      <td>0.147619</td>\n",
       "      <td>--</td>\n",
       "      <td>--</td>\n",
       "      <td>37</td>\n",
       "      <td>47</td>\n",
       "      <td>62</td>\n",
       "      <td>467</td>\n",
       "    </tr>\n",
       "  </tbody>\n",
       "</table>\n",
       "<p>98 rows × 10 columns</p>\n",
       "</div>"
      ],
      "text/plain": [
       "     Galaxy       TPR       FDR       FPR AUC(FDR,TPR) AUC(FPR,TPR)  \\\n",
       "0   VCC1422  0.783784  0.597222  0.106173           --           --   \n",
       "1   VCC1512  0.714286  0.824561  0.164336           --           --   \n",
       "2    VCC140  0.724138  0.655738  0.079523           --           --   \n",
       "3   VCC1913  0.822581  0.622222  0.140000           --           --   \n",
       "4   VCC1226  0.858099  0.139597  0.241860           --           --   \n",
       "..      ...       ...       ...       ...          ...          ...   \n",
       "93  VCC1146  0.913580  0.356522  0.092551           --           --   \n",
       "94     VCC9  0.656250  0.553191  0.076696           --           --   \n",
       "95  VCC1630  0.818182  0.695946  0.177893           --           --   \n",
       "96  VCC1779  0.428571  0.948276  0.133172           --           --   \n",
       "97  VCC1861  0.787234  0.626263  0.147619           --           --   \n",
       "\n",
       "    # found GCs  # total GCs  # fake GCs  # sources  \n",
       "0            29           37          43        442  \n",
       "1            10           14          47        300  \n",
       "2            21           29          40        532  \n",
       "3            51           62          84        662  \n",
       "4           641          747         104       1177  \n",
       "..          ...          ...         ...        ...  \n",
       "93           74           81          41        524  \n",
       "94           21           32          26        371  \n",
       "95           45           55         103        634  \n",
       "96            3            7          55        420  \n",
       "97           37           47          62        467  \n",
       "\n",
       "[98 rows x 10 columns]"
      ]
     },
     "execution_count": 7,
     "metadata": {},
     "output_type": "execute_result"
    }
   ],
   "source": [
    "model.stats_galaxies"
   ]
  },
  {
   "cell_type": "code",
   "execution_count": 8,
   "id": "be9bde38",
   "metadata": {},
   "outputs": [
    {
     "name": "stderr",
     "output_type": "stream",
     "text": [
      "/tmp/ipykernel_1371/3415850949.py:1: FutureWarning: Dropping of nuisance columns in DataFrame reductions (with 'numeric_only=None') is deprecated; in a future version this will raise TypeError.  Select only valid columns before calling the reduction.\n",
      "  model.stats_galaxies.mean()\n"
     ]
    },
    {
     "data": {
      "text/plain": [
       "TPR              0.755270\n",
       "FDR              0.556704\n",
       "FPR              0.137434\n",
       "# found GCs    106.173469\n",
       "# total GCs    126.479592\n",
       "# fake GCs      74.418367\n",
       "# sources      644.510204\n",
       "dtype: float64"
      ]
     },
     "execution_count": 8,
     "metadata": {},
     "output_type": "execute_result"
    }
   ],
   "source": [
    "model.stats_galaxies.mean()"
   ]
  },
  {
   "cell_type": "code",
   "execution_count": 9,
   "id": "5e6413cd",
   "metadata": {},
   "outputs": [
    {
     "data": {
      "text/html": [
       "<div>\n",
       "<style scoped>\n",
       "    .dataframe tbody tr th:only-of-type {\n",
       "        vertical-align: middle;\n",
       "    }\n",
       "\n",
       "    .dataframe tbody tr th {\n",
       "        vertical-align: top;\n",
       "    }\n",
       "\n",
       "    .dataframe thead th {\n",
       "        text-align: right;\n",
       "    }\n",
       "</style>\n",
       "<table border=\"1\" class=\"dataframe\">\n",
       "  <thead>\n",
       "    <tr style=\"text-align: right;\">\n",
       "      <th></th>\n",
       "      <th>Galaxy</th>\n",
       "      <th>TPR</th>\n",
       "      <th>FDR</th>\n",
       "      <th>FPR</th>\n",
       "      <th>AUC(FDR,TPR)</th>\n",
       "      <th>AUC(FPR,TPR)</th>\n",
       "      <th># found GCs</th>\n",
       "      <th># total GCs</th>\n",
       "      <th># fake GCs</th>\n",
       "      <th># sources</th>\n",
       "    </tr>\n",
       "  </thead>\n",
       "  <tbody>\n",
       "    <tr>\n",
       "      <th>0</th>\n",
       "      <td>ALL</td>\n",
       "      <td>0.839451</td>\n",
       "      <td>0.41208</td>\n",
       "      <td>0.143656</td>\n",
       "      <td>--</td>\n",
       "      <td>--</td>\n",
       "      <td>10405</td>\n",
       "      <td>12395</td>\n",
       "      <td>7293</td>\n",
       "      <td>63162</td>\n",
       "    </tr>\n",
       "  </tbody>\n",
       "</table>\n",
       "</div>"
      ],
      "text/plain": [
       "  Galaxy       TPR      FDR       FPR AUC(FDR,TPR) AUC(FPR,TPR)  # found GCs  \\\n",
       "0    ALL  0.839451  0.41208  0.143656           --           --        10405   \n",
       "\n",
       "   # total GCs  # fake GCs  # sources  \n",
       "0        12395        7293      63162  "
      ]
     },
     "execution_count": 9,
     "metadata": {},
     "output_type": "execute_result"
    }
   ],
   "source": [
    "model.stats_all"
   ]
  },
  {
   "cell_type": "code",
   "execution_count": null,
   "id": "fc388a48",
   "metadata": {},
   "outputs": [],
   "source": []
  }
 ],
 "metadata": {
  "kernelspec": {
   "display_name": "Python 3 (ipykernel)",
   "language": "python",
   "name": "python3"
  },
  "language_info": {
   "codemirror_mode": {
    "name": "ipython",
    "version": 3
   },
   "file_extension": ".py",
   "mimetype": "text/x-python",
   "name": "python",
   "nbconvert_exporter": "python",
   "pygments_lexer": "ipython3",
   "version": "3.8.8"
  }
 },
 "nbformat": 4,
 "nbformat_minor": 5
}
