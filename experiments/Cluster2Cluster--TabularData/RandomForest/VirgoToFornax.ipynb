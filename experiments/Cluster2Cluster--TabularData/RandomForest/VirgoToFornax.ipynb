{
 "cells": [
  {
   "cell_type": "markdown",
   "id": "2811eb01",
   "metadata": {},
   "source": [
    "### Load required packages and set up data path + test galaxies"
   ]
  },
  {
   "cell_type": "code",
   "execution_count": 26,
   "id": "e484463a",
   "metadata": {},
   "outputs": [],
   "source": [
    "import pandas\n",
    "pandas.options.mode.chained_assignment = None\n",
    "import sys\n",
    "import numpy as np\n",
    "from globsML.utils.preprocessing import rescale_data, select_galaxies, create_data_dict, replace_NaN\n",
    "from globsML.models.skmodels import StandardClassifier\n",
    "import matplotlib.pyplot as plt\n",
    "from lime_stability.stability import LimeTabularExplainerOvr\n",
    "from astropy.io import fits\n",
    "from globsML.utils.draw import plot_source\n",
    "\n",
    "data_path = '../../../data/ACS_sources_original.csv'\n",
    "data = pandas.read_csv(data_path)\n",
    "test_galaxies = set(data[data['cluster']=='Fornax']['galaxy'].unique())"
   ]
  },
  {
   "cell_type": "markdown",
   "id": "1487eef9",
   "metadata": {},
   "source": [
    "### Load and pre-process data"
   ]
  },
  {
   "cell_type": "code",
   "execution_count": 3,
   "id": "3d04334c",
   "metadata": {},
   "outputs": [
    {
     "name": "stdout",
     "output_type": "stream",
     "text": [
      "Number of sources in training split after dropping rows with NaN as CI/m/color: 61468\n",
      "1694 sources have been dropped.\n",
      "NaN values in testing data have been replaced with the correspnding median value observed in the training split\n"
     ]
    },
    {
     "name": "stderr",
     "output_type": "stream",
     "text": [
      "100%|█████████████████████████████████████████████████████████████████████████████████| 29/29 [00:00<00:00, 2962.73it/s]"
     ]
    },
    {
     "name": "stdout",
     "output_type": "stream",
     "text": [
      "eccentricity will not be transformed. Skipped.\n",
      "eccentricity_z will not be transformed. Skipped.\n"
     ]
    },
    {
     "name": "stderr",
     "output_type": "stream",
     "text": [
      "\n"
     ]
    }
   ],
   "source": [
    "df_train, dfs_test = select_galaxies(data, test_galaxies = test_galaxies)\n",
    "df_train, dfs_test = replace_NaN(df_train, dfs_test)\n",
    "df = create_data_dict(data, df_train, dfs_test)\n",
    "df, scaler = rescale_data(df)\n",
    "\n",
    "input_dim = len(df['train']['inputs'][0])"
   ]
  },
  {
   "cell_type": "markdown",
   "id": "16e19bc3",
   "metadata": {},
   "source": [
    "### Create model"
   ]
  },
  {
   "cell_type": "code",
   "execution_count": 4,
   "id": "6ac0682d",
   "metadata": {},
   "outputs": [
    {
     "name": "stdout",
     "output_type": "stream",
     "text": [
      "Using default parameters: {'random_state': 42424}\n",
      "Loading data...\n",
      "Fitting model...\n"
     ]
    }
   ],
   "source": [
    "model = StandardClassifier(method='forest', data=df)"
   ]
  },
  {
   "cell_type": "markdown",
   "id": "59732c6b",
   "metadata": {},
   "source": [
    "### Check model on validation data"
   ]
  },
  {
   "cell_type": "code",
   "execution_count": 5,
   "id": "c50d61e8",
   "metadata": {},
   "outputs": [
    {
     "name": "stderr",
     "output_type": "stream",
     "text": [
      "/home/dodo/anaconda3/lib/python3.8/site-packages/numpy/core/fromnumeric.py:3440: RuntimeWarning: Mean of empty slice.\n",
      "  return _methods._mean(a, axis=axis, dtype=dtype,\n",
      "/home/dodo/anaconda3/lib/python3.8/site-packages/numpy/core/_methods.py:189: RuntimeWarning: invalid value encountered in double_scalars\n",
      "  ret = ret.dtype.type(ret / rcount)\n"
     ]
    }
   ],
   "source": [
    "model.val()"
   ]
  },
  {
   "cell_type": "code",
   "execution_count": 6,
   "id": "cf889402",
   "metadata": {},
   "outputs": [
    {
     "data": {
      "text/html": [
       "<div>\n",
       "<style scoped>\n",
       "    .dataframe tbody tr th:only-of-type {\n",
       "        vertical-align: middle;\n",
       "    }\n",
       "\n",
       "    .dataframe tbody tr th {\n",
       "        vertical-align: top;\n",
       "    }\n",
       "\n",
       "    .dataframe thead th {\n",
       "        text-align: right;\n",
       "    }\n",
       "</style>\n",
       "<table border=\"1\" class=\"dataframe\">\n",
       "  <thead>\n",
       "    <tr style=\"text-align: right;\">\n",
       "      <th></th>\n",
       "      <th>TPR</th>\n",
       "      <th>FDR</th>\n",
       "      <th>FPR</th>\n",
       "      <th>AUC(FDR,TPR)</th>\n",
       "      <th>AUC(FPR,TPR)</th>\n",
       "      <th># found GCs</th>\n",
       "      <th># total GCs</th>\n",
       "      <th># fake GCs</th>\n",
       "      <th># sources</th>\n",
       "    </tr>\n",
       "  </thead>\n",
       "  <tbody>\n",
       "    <tr>\n",
       "      <th>0</th>\n",
       "      <td>0.898734</td>\n",
       "      <td>0.061157</td>\n",
       "      <td>0.015152</td>\n",
       "      <td>0.970308</td>\n",
       "      <td>0.993365</td>\n",
       "      <td>568</td>\n",
       "      <td>632</td>\n",
       "      <td>37</td>\n",
       "      <td>3074</td>\n",
       "    </tr>\n",
       "  </tbody>\n",
       "</table>\n",
       "</div>"
      ],
      "text/plain": [
       "        TPR       FDR       FPR  AUC(FDR,TPR)  AUC(FPR,TPR)  # found GCs  \\\n",
       "0  0.898734  0.061157  0.015152      0.970308      0.993365          568   \n",
       "\n",
       "   # total GCs  # fake GCs  # sources  \n",
       "0          632          37       3074  "
      ]
     },
     "execution_count": 6,
     "metadata": {},
     "output_type": "execute_result"
    }
   ],
   "source": [
    "model.stats_validation"
   ]
  },
  {
   "cell_type": "markdown",
   "id": "8f0ec413",
   "metadata": {},
   "source": [
    "### Test model"
   ]
  },
  {
   "cell_type": "code",
   "execution_count": 7,
   "id": "ac664799",
   "metadata": {},
   "outputs": [
    {
     "name": "stderr",
     "output_type": "stream",
     "text": [
      "/home/dodo/anaconda3/lib/python3.8/site-packages/numpy/core/fromnumeric.py:3440: RuntimeWarning: Mean of empty slice.\n",
      "  return _methods._mean(a, axis=axis, dtype=dtype,\n",
      "/home/dodo/anaconda3/lib/python3.8/site-packages/numpy/core/_methods.py:189: RuntimeWarning: invalid value encountered in double_scalars\n",
      "  ret = ret.dtype.type(ret / rcount)\n"
     ]
    }
   ],
   "source": [
    "model.test()"
   ]
  },
  {
   "cell_type": "code",
   "execution_count": 8,
   "id": "701df614",
   "metadata": {},
   "outputs": [
    {
     "data": {
      "text/html": [
       "<div>\n",
       "<style scoped>\n",
       "    .dataframe tbody tr th:only-of-type {\n",
       "        vertical-align: middle;\n",
       "    }\n",
       "\n",
       "    .dataframe tbody tr th {\n",
       "        vertical-align: top;\n",
       "    }\n",
       "\n",
       "    .dataframe thead th {\n",
       "        text-align: right;\n",
       "    }\n",
       "</style>\n",
       "<table border=\"1\" class=\"dataframe\">\n",
       "  <thead>\n",
       "    <tr style=\"text-align: right;\">\n",
       "      <th></th>\n",
       "      <th>Galaxy</th>\n",
       "      <th>TPR</th>\n",
       "      <th>FDR</th>\n",
       "      <th>FPR</th>\n",
       "      <th>AUC(FDR,TPR)</th>\n",
       "      <th>AUC(FPR,TPR)</th>\n",
       "      <th># found GCs</th>\n",
       "      <th># total GCs</th>\n",
       "      <th># fake GCs</th>\n",
       "      <th># sources</th>\n",
       "    </tr>\n",
       "  </thead>\n",
       "  <tbody>\n",
       "    <tr>\n",
       "      <th>0</th>\n",
       "      <td>FCC177</td>\n",
       "      <td>0.885714</td>\n",
       "      <td>0.253012</td>\n",
       "      <td>0.052632</td>\n",
       "      <td>0.871381</td>\n",
       "      <td>0.977945</td>\n",
       "      <td>62</td>\n",
       "      <td>70</td>\n",
       "      <td>21</td>\n",
       "      <td>469</td>\n",
       "    </tr>\n",
       "    <tr>\n",
       "      <th>1</th>\n",
       "      <td>FCC83</td>\n",
       "      <td>0.951493</td>\n",
       "      <td>0.022989</td>\n",
       "      <td>0.014388</td>\n",
       "      <td>0.983486</td>\n",
       "      <td>0.993401</td>\n",
       "      <td>255</td>\n",
       "      <td>268</td>\n",
       "      <td>6</td>\n",
       "      <td>685</td>\n",
       "    </tr>\n",
       "    <tr>\n",
       "      <th>2</th>\n",
       "      <td>FCC182</td>\n",
       "      <td>0.896552</td>\n",
       "      <td>0.087719</td>\n",
       "      <td>0.014409</td>\n",
       "      <td>0.957267</td>\n",
       "      <td>0.991677</td>\n",
       "      <td>52</td>\n",
       "      <td>58</td>\n",
       "      <td>5</td>\n",
       "      <td>405</td>\n",
       "    </tr>\n",
       "    <tr>\n",
       "      <th>3</th>\n",
       "      <td>FCC255</td>\n",
       "      <td>0.900000</td>\n",
       "      <td>0.040000</td>\n",
       "      <td>0.007557</td>\n",
       "      <td>0.974895</td>\n",
       "      <td>0.994411</td>\n",
       "      <td>72</td>\n",
       "      <td>80</td>\n",
       "      <td>3</td>\n",
       "      <td>477</td>\n",
       "    </tr>\n",
       "    <tr>\n",
       "      <th>4</th>\n",
       "      <td>FCC63</td>\n",
       "      <td>0.921053</td>\n",
       "      <td>0.027778</td>\n",
       "      <td>0.017442</td>\n",
       "      <td>0.973617</td>\n",
       "      <td>0.991674</td>\n",
       "      <td>210</td>\n",
       "      <td>228</td>\n",
       "      <td>6</td>\n",
       "      <td>572</td>\n",
       "    </tr>\n",
       "    <tr>\n",
       "      <th>5</th>\n",
       "      <td>FCC288</td>\n",
       "      <td>0.705882</td>\n",
       "      <td>0.294118</td>\n",
       "      <td>0.015337</td>\n",
       "      <td>0.698074</td>\n",
       "      <td>0.976813</td>\n",
       "      <td>12</td>\n",
       "      <td>17</td>\n",
       "      <td>5</td>\n",
       "      <td>343</td>\n",
       "    </tr>\n",
       "    <tr>\n",
       "      <th>6</th>\n",
       "      <td>FCC184</td>\n",
       "      <td>0.937908</td>\n",
       "      <td>0.023810</td>\n",
       "      <td>0.017995</td>\n",
       "      <td>0.991419</td>\n",
       "      <td>0.996031</td>\n",
       "      <td>287</td>\n",
       "      <td>306</td>\n",
       "      <td>7</td>\n",
       "      <td>695</td>\n",
       "    </tr>\n",
       "    <tr>\n",
       "      <th>7</th>\n",
       "      <td>FCC202</td>\n",
       "      <td>0.935065</td>\n",
       "      <td>0.044248</td>\n",
       "      <td>0.024691</td>\n",
       "      <td>0.979321</td>\n",
       "      <td>0.993009</td>\n",
       "      <td>216</td>\n",
       "      <td>231</td>\n",
       "      <td>10</td>\n",
       "      <td>636</td>\n",
       "    </tr>\n",
       "    <tr>\n",
       "      <th>8</th>\n",
       "      <td>FCC43</td>\n",
       "      <td>0.837838</td>\n",
       "      <td>0.184211</td>\n",
       "      <td>0.016627</td>\n",
       "      <td>0.915113</td>\n",
       "      <td>0.991012</td>\n",
       "      <td>31</td>\n",
       "      <td>37</td>\n",
       "      <td>7</td>\n",
       "      <td>458</td>\n",
       "    </tr>\n",
       "    <tr>\n",
       "      <th>9</th>\n",
       "      <td>FCC170</td>\n",
       "      <td>0.915493</td>\n",
       "      <td>0.269663</td>\n",
       "      <td>0.079470</td>\n",
       "      <td>0.767799</td>\n",
       "      <td>0.955998</td>\n",
       "      <td>65</td>\n",
       "      <td>71</td>\n",
       "      <td>24</td>\n",
       "      <td>373</td>\n",
       "    </tr>\n",
       "    <tr>\n",
       "      <th>10</th>\n",
       "      <td>FCC213</td>\n",
       "      <td>0.916275</td>\n",
       "      <td>0.023069</td>\n",
       "      <td>0.070122</td>\n",
       "      <td>0.959922</td>\n",
       "      <td>0.971878</td>\n",
       "      <td>974</td>\n",
       "      <td>1063</td>\n",
       "      <td>23</td>\n",
       "      <td>1391</td>\n",
       "    </tr>\n",
       "    <tr>\n",
       "      <th>11</th>\n",
       "      <td>FCC106</td>\n",
       "      <td>0.666667</td>\n",
       "      <td>0.166667</td>\n",
       "      <td>0.006390</td>\n",
       "      <td>0.813522</td>\n",
       "      <td>0.984665</td>\n",
       "      <td>10</td>\n",
       "      <td>15</td>\n",
       "      <td>2</td>\n",
       "      <td>328</td>\n",
       "    </tr>\n",
       "    <tr>\n",
       "      <th>12</th>\n",
       "      <td>FCC152</td>\n",
       "      <td>0.687500</td>\n",
       "      <td>0.312500</td>\n",
       "      <td>0.013089</td>\n",
       "      <td>0.730379</td>\n",
       "      <td>0.972104</td>\n",
       "      <td>11</td>\n",
       "      <td>16</td>\n",
       "      <td>5</td>\n",
       "      <td>398</td>\n",
       "    </tr>\n",
       "    <tr>\n",
       "      <th>13</th>\n",
       "      <td>FCC148</td>\n",
       "      <td>0.964286</td>\n",
       "      <td>0.068966</td>\n",
       "      <td>0.017857</td>\n",
       "      <td>0.989726</td>\n",
       "      <td>0.997626</td>\n",
       "      <td>81</td>\n",
       "      <td>84</td>\n",
       "      <td>6</td>\n",
       "      <td>420</td>\n",
       "    </tr>\n",
       "    <tr>\n",
       "      <th>14</th>\n",
       "      <td>FCC335</td>\n",
       "      <td>0.857143</td>\n",
       "      <td>0.368421</td>\n",
       "      <td>0.020231</td>\n",
       "      <td>0.856119</td>\n",
       "      <td>0.991329</td>\n",
       "      <td>12</td>\n",
       "      <td>14</td>\n",
       "      <td>7</td>\n",
       "      <td>360</td>\n",
       "    </tr>\n",
       "    <tr>\n",
       "      <th>15</th>\n",
       "      <td>FCC301</td>\n",
       "      <td>0.750000</td>\n",
       "      <td>0.166667</td>\n",
       "      <td>0.009288</td>\n",
       "      <td>0.810406</td>\n",
       "      <td>0.987926</td>\n",
       "      <td>15</td>\n",
       "      <td>20</td>\n",
       "      <td>3</td>\n",
       "      <td>343</td>\n",
       "    </tr>\n",
       "    <tr>\n",
       "      <th>16</th>\n",
       "      <td>FCC21</td>\n",
       "      <td>0.857835</td>\n",
       "      <td>0.206278</td>\n",
       "      <td>0.203840</td>\n",
       "      <td>0.822593</td>\n",
       "      <td>0.908785</td>\n",
       "      <td>531</td>\n",
       "      <td>619</td>\n",
       "      <td>138</td>\n",
       "      <td>1296</td>\n",
       "    </tr>\n",
       "    <tr>\n",
       "      <th>17</th>\n",
       "      <td>NGC1340</td>\n",
       "      <td>0.914815</td>\n",
       "      <td>0.085185</td>\n",
       "      <td>0.063187</td>\n",
       "      <td>0.959803</td>\n",
       "      <td>0.980118</td>\n",
       "      <td>247</td>\n",
       "      <td>270</td>\n",
       "      <td>23</td>\n",
       "      <td>634</td>\n",
       "    </tr>\n",
       "    <tr>\n",
       "      <th>18</th>\n",
       "      <td>FCC136</td>\n",
       "      <td>1.000000</td>\n",
       "      <td>0.137931</td>\n",
       "      <td>0.012085</td>\n",
       "      <td>0.945178</td>\n",
       "      <td>0.996616</td>\n",
       "      <td>25</td>\n",
       "      <td>25</td>\n",
       "      <td>4</td>\n",
       "      <td>356</td>\n",
       "    </tr>\n",
       "    <tr>\n",
       "      <th>19</th>\n",
       "      <td>FCC324</td>\n",
       "      <td>0.761905</td>\n",
       "      <td>0.157895</td>\n",
       "      <td>0.008264</td>\n",
       "      <td>0.840814</td>\n",
       "      <td>0.981766</td>\n",
       "      <td>16</td>\n",
       "      <td>21</td>\n",
       "      <td>3</td>\n",
       "      <td>384</td>\n",
       "    </tr>\n",
       "    <tr>\n",
       "      <th>20</th>\n",
       "      <td>FCC55</td>\n",
       "      <td>0.810811</td>\n",
       "      <td>0.032258</td>\n",
       "      <td>0.002809</td>\n",
       "      <td>0.947028</td>\n",
       "      <td>0.989789</td>\n",
       "      <td>30</td>\n",
       "      <td>37</td>\n",
       "      <td>1</td>\n",
       "      <td>393</td>\n",
       "    </tr>\n",
       "    <tr>\n",
       "      <th>21</th>\n",
       "      <td>FCC26</td>\n",
       "      <td>0.909091</td>\n",
       "      <td>0.259259</td>\n",
       "      <td>0.016548</td>\n",
       "      <td>0.890774</td>\n",
       "      <td>0.985063</td>\n",
       "      <td>20</td>\n",
       "      <td>22</td>\n",
       "      <td>7</td>\n",
       "      <td>445</td>\n",
       "    </tr>\n",
       "    <tr>\n",
       "      <th>22</th>\n",
       "      <td>FCC153</td>\n",
       "      <td>0.881356</td>\n",
       "      <td>0.223881</td>\n",
       "      <td>0.038660</td>\n",
       "      <td>0.899161</td>\n",
       "      <td>0.985825</td>\n",
       "      <td>52</td>\n",
       "      <td>59</td>\n",
       "      <td>15</td>\n",
       "      <td>447</td>\n",
       "    </tr>\n",
       "    <tr>\n",
       "      <th>23</th>\n",
       "      <td>FCC47</td>\n",
       "      <td>0.945055</td>\n",
       "      <td>0.019011</td>\n",
       "      <td>0.013812</td>\n",
       "      <td>0.986538</td>\n",
       "      <td>0.994070</td>\n",
       "      <td>258</td>\n",
       "      <td>273</td>\n",
       "      <td>5</td>\n",
       "      <td>635</td>\n",
       "    </tr>\n",
       "    <tr>\n",
       "      <th>24</th>\n",
       "      <td>FCC167</td>\n",
       "      <td>0.946472</td>\n",
       "      <td>0.046569</td>\n",
       "      <td>0.045131</td>\n",
       "      <td>0.977464</td>\n",
       "      <td>0.989066</td>\n",
       "      <td>389</td>\n",
       "      <td>411</td>\n",
       "      <td>19</td>\n",
       "      <td>832</td>\n",
       "    </tr>\n",
       "    <tr>\n",
       "      <th>25</th>\n",
       "      <td>FCC95</td>\n",
       "      <td>0.904762</td>\n",
       "      <td>0.050000</td>\n",
       "      <td>0.002695</td>\n",
       "      <td>0.942764</td>\n",
       "      <td>0.994609</td>\n",
       "      <td>19</td>\n",
       "      <td>21</td>\n",
       "      <td>1</td>\n",
       "      <td>392</td>\n",
       "    </tr>\n",
       "    <tr>\n",
       "      <th>26</th>\n",
       "      <td>FCC204</td>\n",
       "      <td>0.764706</td>\n",
       "      <td>0.277778</td>\n",
       "      <td>0.011312</td>\n",
       "      <td>0.766980</td>\n",
       "      <td>0.986825</td>\n",
       "      <td>13</td>\n",
       "      <td>17</td>\n",
       "      <td>5</td>\n",
       "      <td>459</td>\n",
       "    </tr>\n",
       "    <tr>\n",
       "      <th>27</th>\n",
       "      <td>FCC303</td>\n",
       "      <td>0.952381</td>\n",
       "      <td>0.200000</td>\n",
       "      <td>0.015873</td>\n",
       "      <td>0.942843</td>\n",
       "      <td>0.995843</td>\n",
       "      <td>20</td>\n",
       "      <td>21</td>\n",
       "      <td>5</td>\n",
       "      <td>336</td>\n",
       "    </tr>\n",
       "    <tr>\n",
       "      <th>28</th>\n",
       "      <td>FCC190</td>\n",
       "      <td>0.916129</td>\n",
       "      <td>0.027397</td>\n",
       "      <td>0.010959</td>\n",
       "      <td>0.986176</td>\n",
       "      <td>0.995661</td>\n",
       "      <td>142</td>\n",
       "      <td>155</td>\n",
       "      <td>4</td>\n",
       "      <td>520</td>\n",
       "    </tr>\n",
       "    <tr>\n",
       "      <th>29</th>\n",
       "      <td>FCC276</td>\n",
       "      <td>0.933148</td>\n",
       "      <td>0.042857</td>\n",
       "      <td>0.044118</td>\n",
       "      <td>0.980619</td>\n",
       "      <td>0.990345</td>\n",
       "      <td>335</td>\n",
       "      <td>359</td>\n",
       "      <td>15</td>\n",
       "      <td>699</td>\n",
       "    </tr>\n",
       "    <tr>\n",
       "      <th>30</th>\n",
       "      <td>FCC90</td>\n",
       "      <td>0.894737</td>\n",
       "      <td>0.227273</td>\n",
       "      <td>0.013477</td>\n",
       "      <td>0.937757</td>\n",
       "      <td>0.994893</td>\n",
       "      <td>17</td>\n",
       "      <td>19</td>\n",
       "      <td>5</td>\n",
       "      <td>390</td>\n",
       "    </tr>\n",
       "    <tr>\n",
       "      <th>31</th>\n",
       "      <td>FCC143</td>\n",
       "      <td>0.935484</td>\n",
       "      <td>0.134328</td>\n",
       "      <td>0.027607</td>\n",
       "      <td>0.978004</td>\n",
       "      <td>0.996289</td>\n",
       "      <td>58</td>\n",
       "      <td>62</td>\n",
       "      <td>9</td>\n",
       "      <td>388</td>\n",
       "    </tr>\n",
       "    <tr>\n",
       "      <th>32</th>\n",
       "      <td>FCC19</td>\n",
       "      <td>0.882353</td>\n",
       "      <td>0.285714</td>\n",
       "      <td>0.016854</td>\n",
       "      <td>0.898547</td>\n",
       "      <td>0.991243</td>\n",
       "      <td>15</td>\n",
       "      <td>17</td>\n",
       "      <td>6</td>\n",
       "      <td>373</td>\n",
       "    </tr>\n",
       "    <tr>\n",
       "      <th>33</th>\n",
       "      <td>FCC119</td>\n",
       "      <td>0.470588</td>\n",
       "      <td>0.333333</td>\n",
       "      <td>0.009756</td>\n",
       "      <td>0.630436</td>\n",
       "      <td>0.971951</td>\n",
       "      <td>8</td>\n",
       "      <td>17</td>\n",
       "      <td>4</td>\n",
       "      <td>427</td>\n",
       "    </tr>\n",
       "    <tr>\n",
       "      <th>34</th>\n",
       "      <td>FCC100</td>\n",
       "      <td>0.794118</td>\n",
       "      <td>0.100000</td>\n",
       "      <td>0.008955</td>\n",
       "      <td>0.900977</td>\n",
       "      <td>0.990035</td>\n",
       "      <td>27</td>\n",
       "      <td>34</td>\n",
       "      <td>3</td>\n",
       "      <td>369</td>\n",
       "    </tr>\n",
       "    <tr>\n",
       "      <th>35</th>\n",
       "      <td>FCC277</td>\n",
       "      <td>0.775000</td>\n",
       "      <td>0.205128</td>\n",
       "      <td>0.024169</td>\n",
       "      <td>0.855320</td>\n",
       "      <td>0.982364</td>\n",
       "      <td>31</td>\n",
       "      <td>40</td>\n",
       "      <td>8</td>\n",
       "      <td>371</td>\n",
       "    </tr>\n",
       "    <tr>\n",
       "      <th>36</th>\n",
       "      <td>IC2006</td>\n",
       "      <td>0.923664</td>\n",
       "      <td>0.024194</td>\n",
       "      <td>0.009868</td>\n",
       "      <td>0.985353</td>\n",
       "      <td>0.995907</td>\n",
       "      <td>121</td>\n",
       "      <td>131</td>\n",
       "      <td>3</td>\n",
       "      <td>435</td>\n",
       "    </tr>\n",
       "    <tr>\n",
       "      <th>37</th>\n",
       "      <td>FCC203</td>\n",
       "      <td>0.800000</td>\n",
       "      <td>0.142857</td>\n",
       "      <td>0.011696</td>\n",
       "      <td>0.894336</td>\n",
       "      <td>0.985478</td>\n",
       "      <td>24</td>\n",
       "      <td>30</td>\n",
       "      <td>4</td>\n",
       "      <td>372</td>\n",
       "    </tr>\n",
       "    <tr>\n",
       "      <th>38</th>\n",
       "      <td>FCC147</td>\n",
       "      <td>0.942492</td>\n",
       "      <td>0.013378</td>\n",
       "      <td>0.015038</td>\n",
       "      <td>0.985401</td>\n",
       "      <td>0.991472</td>\n",
       "      <td>295</td>\n",
       "      <td>313</td>\n",
       "      <td>4</td>\n",
       "      <td>579</td>\n",
       "    </tr>\n",
       "    <tr>\n",
       "      <th>39</th>\n",
       "      <td>FCC310</td>\n",
       "      <td>0.923077</td>\n",
       "      <td>0.142857</td>\n",
       "      <td>0.018927</td>\n",
       "      <td>0.967509</td>\n",
       "      <td>0.996684</td>\n",
       "      <td>36</td>\n",
       "      <td>39</td>\n",
       "      <td>6</td>\n",
       "      <td>356</td>\n",
       "    </tr>\n",
       "    <tr>\n",
       "      <th>40</th>\n",
       "      <td>FCC193</td>\n",
       "      <td>0.844444</td>\n",
       "      <td>0.224490</td>\n",
       "      <td>0.038596</td>\n",
       "      <td>0.865118</td>\n",
       "      <td>0.981014</td>\n",
       "      <td>38</td>\n",
       "      <td>45</td>\n",
       "      <td>11</td>\n",
       "      <td>330</td>\n",
       "    </tr>\n",
       "    <tr>\n",
       "      <th>41</th>\n",
       "      <td>FCC249</td>\n",
       "      <td>0.806452</td>\n",
       "      <td>0.060150</td>\n",
       "      <td>0.027211</td>\n",
       "      <td>0.931599</td>\n",
       "      <td>0.978198</td>\n",
       "      <td>125</td>\n",
       "      <td>155</td>\n",
       "      <td>8</td>\n",
       "      <td>449</td>\n",
       "    </tr>\n",
       "    <tr>\n",
       "      <th>42</th>\n",
       "      <td>FCC219</td>\n",
       "      <td>0.929919</td>\n",
       "      <td>0.038997</td>\n",
       "      <td>0.037234</td>\n",
       "      <td>0.968874</td>\n",
       "      <td>0.986932</td>\n",
       "      <td>345</td>\n",
       "      <td>371</td>\n",
       "      <td>14</td>\n",
       "      <td>747</td>\n",
       "    </tr>\n",
       "  </tbody>\n",
       "</table>\n",
       "</div>"
      ],
      "text/plain": [
       "     Galaxy       TPR       FDR       FPR  AUC(FDR,TPR)  AUC(FPR,TPR)  \\\n",
       "0    FCC177  0.885714  0.253012  0.052632      0.871381      0.977945   \n",
       "1     FCC83  0.951493  0.022989  0.014388      0.983486      0.993401   \n",
       "2    FCC182  0.896552  0.087719  0.014409      0.957267      0.991677   \n",
       "3    FCC255  0.900000  0.040000  0.007557      0.974895      0.994411   \n",
       "4     FCC63  0.921053  0.027778  0.017442      0.973617      0.991674   \n",
       "5    FCC288  0.705882  0.294118  0.015337      0.698074      0.976813   \n",
       "6    FCC184  0.937908  0.023810  0.017995      0.991419      0.996031   \n",
       "7    FCC202  0.935065  0.044248  0.024691      0.979321      0.993009   \n",
       "8     FCC43  0.837838  0.184211  0.016627      0.915113      0.991012   \n",
       "9    FCC170  0.915493  0.269663  0.079470      0.767799      0.955998   \n",
       "10   FCC213  0.916275  0.023069  0.070122      0.959922      0.971878   \n",
       "11   FCC106  0.666667  0.166667  0.006390      0.813522      0.984665   \n",
       "12   FCC152  0.687500  0.312500  0.013089      0.730379      0.972104   \n",
       "13   FCC148  0.964286  0.068966  0.017857      0.989726      0.997626   \n",
       "14   FCC335  0.857143  0.368421  0.020231      0.856119      0.991329   \n",
       "15   FCC301  0.750000  0.166667  0.009288      0.810406      0.987926   \n",
       "16    FCC21  0.857835  0.206278  0.203840      0.822593      0.908785   \n",
       "17  NGC1340  0.914815  0.085185  0.063187      0.959803      0.980118   \n",
       "18   FCC136  1.000000  0.137931  0.012085      0.945178      0.996616   \n",
       "19   FCC324  0.761905  0.157895  0.008264      0.840814      0.981766   \n",
       "20    FCC55  0.810811  0.032258  0.002809      0.947028      0.989789   \n",
       "21    FCC26  0.909091  0.259259  0.016548      0.890774      0.985063   \n",
       "22   FCC153  0.881356  0.223881  0.038660      0.899161      0.985825   \n",
       "23    FCC47  0.945055  0.019011  0.013812      0.986538      0.994070   \n",
       "24   FCC167  0.946472  0.046569  0.045131      0.977464      0.989066   \n",
       "25    FCC95  0.904762  0.050000  0.002695      0.942764      0.994609   \n",
       "26   FCC204  0.764706  0.277778  0.011312      0.766980      0.986825   \n",
       "27   FCC303  0.952381  0.200000  0.015873      0.942843      0.995843   \n",
       "28   FCC190  0.916129  0.027397  0.010959      0.986176      0.995661   \n",
       "29   FCC276  0.933148  0.042857  0.044118      0.980619      0.990345   \n",
       "30    FCC90  0.894737  0.227273  0.013477      0.937757      0.994893   \n",
       "31   FCC143  0.935484  0.134328  0.027607      0.978004      0.996289   \n",
       "32    FCC19  0.882353  0.285714  0.016854      0.898547      0.991243   \n",
       "33   FCC119  0.470588  0.333333  0.009756      0.630436      0.971951   \n",
       "34   FCC100  0.794118  0.100000  0.008955      0.900977      0.990035   \n",
       "35   FCC277  0.775000  0.205128  0.024169      0.855320      0.982364   \n",
       "36   IC2006  0.923664  0.024194  0.009868      0.985353      0.995907   \n",
       "37   FCC203  0.800000  0.142857  0.011696      0.894336      0.985478   \n",
       "38   FCC147  0.942492  0.013378  0.015038      0.985401      0.991472   \n",
       "39   FCC310  0.923077  0.142857  0.018927      0.967509      0.996684   \n",
       "40   FCC193  0.844444  0.224490  0.038596      0.865118      0.981014   \n",
       "41   FCC249  0.806452  0.060150  0.027211      0.931599      0.978198   \n",
       "42   FCC219  0.929919  0.038997  0.037234      0.968874      0.986932   \n",
       "\n",
       "    # found GCs  # total GCs  # fake GCs  # sources  \n",
       "0            62           70          21        469  \n",
       "1           255          268           6        685  \n",
       "2            52           58           5        405  \n",
       "3            72           80           3        477  \n",
       "4           210          228           6        572  \n",
       "5            12           17           5        343  \n",
       "6           287          306           7        695  \n",
       "7           216          231          10        636  \n",
       "8            31           37           7        458  \n",
       "9            65           71          24        373  \n",
       "10          974         1063          23       1391  \n",
       "11           10           15           2        328  \n",
       "12           11           16           5        398  \n",
       "13           81           84           6        420  \n",
       "14           12           14           7        360  \n",
       "15           15           20           3        343  \n",
       "16          531          619         138       1296  \n",
       "17          247          270          23        634  \n",
       "18           25           25           4        356  \n",
       "19           16           21           3        384  \n",
       "20           30           37           1        393  \n",
       "21           20           22           7        445  \n",
       "22           52           59          15        447  \n",
       "23          258          273           5        635  \n",
       "24          389          411          19        832  \n",
       "25           19           21           1        392  \n",
       "26           13           17           5        459  \n",
       "27           20           21           5        336  \n",
       "28          142          155           4        520  \n",
       "29          335          359          15        699  \n",
       "30           17           19           5        390  \n",
       "31           58           62           9        388  \n",
       "32           15           17           6        373  \n",
       "33            8           17           4        427  \n",
       "34           27           34           3        369  \n",
       "35           31           40           8        371  \n",
       "36          121          131           3        435  \n",
       "37           24           30           4        372  \n",
       "38          295          313           4        579  \n",
       "39           36           39           6        356  \n",
       "40           38           45          11        330  \n",
       "41          125          155           8        449  \n",
       "42          345          371          14        747  "
      ]
     },
     "execution_count": 8,
     "metadata": {},
     "output_type": "execute_result"
    }
   ],
   "source": [
    "model.stats_galaxies"
   ]
  },
  {
   "cell_type": "markdown",
   "id": "438ee5f3",
   "metadata": {},
   "source": [
    "#### Get evaluation metrics averaged per galaxy"
   ]
  },
  {
   "cell_type": "code",
   "execution_count": 9,
   "id": "be9bde38",
   "metadata": {},
   "outputs": [
    {
     "name": "stderr",
     "output_type": "stream",
     "text": [
      "/tmp/ipykernel_314/3415850949.py:1: FutureWarning: Dropping of nuisance columns in DataFrame reductions (with 'numeric_only=None') is deprecated; in a future version this will raise TypeError.  Select only valid columns before calling the reduction.\n",
      "  model.stats_galaxies.mean()\n"
     ]
    },
    {
     "data": {
      "text/plain": [
       "TPR               0.863946\n",
       "FDR               0.140764\n",
       "FPR               0.026656\n",
       "AUC(FDR,TPR)      0.906056\n",
       "AUC(FPR,TPR)      0.985682\n",
       "# found GCs     130.279070\n",
       "# total GCs     143.279070\n",
       "# fake GCs       10.930233\n",
       "# sources       506.209302\n",
       "dtype: float64"
      ]
     },
     "execution_count": 9,
     "metadata": {},
     "output_type": "execute_result"
    }
   ],
   "source": [
    "model.stats_galaxies.mean()"
   ]
  },
  {
   "cell_type": "markdown",
   "id": "5b3b0c22",
   "metadata": {},
   "source": [
    "#### Get evaluation metrics averaged over all sources (not per galaxy)"
   ]
  },
  {
   "cell_type": "code",
   "execution_count": 10,
   "id": "5e6413cd",
   "metadata": {},
   "outputs": [
    {
     "data": {
      "text/html": [
       "<div>\n",
       "<style scoped>\n",
       "    .dataframe tbody tr th:only-of-type {\n",
       "        vertical-align: middle;\n",
       "    }\n",
       "\n",
       "    .dataframe tbody tr th {\n",
       "        vertical-align: top;\n",
       "    }\n",
       "\n",
       "    .dataframe thead th {\n",
       "        text-align: right;\n",
       "    }\n",
       "</style>\n",
       "<table border=\"1\" class=\"dataframe\">\n",
       "  <thead>\n",
       "    <tr style=\"text-align: right;\">\n",
       "      <th></th>\n",
       "      <th>Galaxy</th>\n",
       "      <th>TPR</th>\n",
       "      <th>FDR</th>\n",
       "      <th>FPR</th>\n",
       "      <th>AUC(FDR,TPR)</th>\n",
       "      <th>AUC(FPR,TPR)</th>\n",
       "      <th># found GCs</th>\n",
       "      <th># total GCs</th>\n",
       "      <th># fake GCs</th>\n",
       "      <th># sources</th>\n",
       "    </tr>\n",
       "  </thead>\n",
       "  <tbody>\n",
       "    <tr>\n",
       "      <th>0</th>\n",
       "      <td>ALL</td>\n",
       "      <td>0.909268</td>\n",
       "      <td>0.077404</td>\n",
       "      <td>0.030117</td>\n",
       "      <td>0.956125</td>\n",
       "      <td>0.987791</td>\n",
       "      <td>5602</td>\n",
       "      <td>6161</td>\n",
       "      <td>470</td>\n",
       "      <td>21767</td>\n",
       "    </tr>\n",
       "  </tbody>\n",
       "</table>\n",
       "</div>"
      ],
      "text/plain": [
       "  Galaxy       TPR       FDR       FPR  AUC(FDR,TPR)  AUC(FPR,TPR)  \\\n",
       "0    ALL  0.909268  0.077404  0.030117      0.956125      0.987791   \n",
       "\n",
       "   # found GCs  # total GCs  # fake GCs  # sources  \n",
       "0         5602         6161         470      21767  "
      ]
     },
     "execution_count": 10,
     "metadata": {},
     "output_type": "execute_result"
    }
   ],
   "source": [
    "model.stats_all"
   ]
  },
  {
   "cell_type": "markdown",
   "id": "5ffeb1d2",
   "metadata": {},
   "source": [
    "#### GCs not found"
   ]
  },
  {
   "cell_type": "code",
   "execution_count": 11,
   "id": "f112653b",
   "metadata": {},
   "outputs": [
    {
     "data": {
      "text/plain": [
       "{'FCC277': array([ 12,  55,  65, 151, 171, 188, 252, 268, 294]),\n",
       " 'FCC100': array([ 14, 115, 212, 217, 257, 278, 336]),\n",
       " 'FCC303': array([126]),\n",
       " 'FCC55': array([ 12,  16,  17,  20,  69, 183, 357]),\n",
       " 'FCC136': array([], dtype=int64),\n",
       " 'FCC301': array([  4,  11,  38,  43, 271]),\n",
       " 'FCC95': array([137, 282]),\n",
       " 'FCC167': array([ 15,  89, 130, 153, 235, 301, 362, 363, 470, 475, 562, 591, 620,\n",
       "        623, 635, 654, 698, 707, 725, 735, 752, 822]),\n",
       " 'FCC19': array([ 37, 272]),\n",
       " 'FCC324': array([ 8, 22, 50, 52, 85]),\n",
       " 'FCC182': array([ 60,  78, 158, 197, 232, 364]),\n",
       " 'FCC310': array([ 22, 166, 299]),\n",
       " 'FCC26': array([ 77, 172]),\n",
       " 'FCC288': array([159, 166, 169, 189, 268]),\n",
       " 'FCC219': array([ 12,  33, 117, 134, 169, 205, 249, 260, 271, 279, 291, 306, 313,\n",
       "        333, 367, 369, 382, 434, 455, 474, 527, 534, 558, 573, 607, 709]),\n",
       " 'FCC143': array([ 61, 140, 163, 182]),\n",
       " 'FCC190': array([ 50,  53,  80, 123, 125, 160, 178, 211, 261, 337, 356, 363, 438]),\n",
       " 'FCC249': array([ 14,  32,  44,  77,  89, 123, 127, 129, 132, 135, 162, 178, 193,\n",
       "        195, 197, 230, 243, 271, 274, 277, 286, 299, 318, 335, 350, 355,\n",
       "        356, 370, 381, 429]),\n",
       " 'FCC152': array([182, 190, 226, 363, 391]),\n",
       " 'FCC276': array([ 38,  87, 115, 135, 144, 156, 199, 218, 243, 246, 254, 306, 313,\n",
       "        316, 322, 348, 382, 405, 414, 462, 548, 592, 645, 655]),\n",
       " 'FCC204': array([ 39,  59, 125, 168]),\n",
       " 'FCC21': array([   1,   29,   36,   56,   58,   67,   82,   83,   84,   89,  135,\n",
       "         143,  156,  178,  183,  193,  216,  227,  261,  262,  322,  325,\n",
       "         328,  330,  335,  349,  373,  396,  397,  402,  409,  411,  422,\n",
       "         445,  487,  495,  503,  506,  528,  530,  535,  557,  573,  576,\n",
       "         598,  620,  647,  717,  748,  762,  773,  782,  807,  812,  813,\n",
       "         823,  833,  836,  840,  850,  897,  899,  903,  916,  917,  952,\n",
       "         985,  994, 1022, 1028, 1029, 1031, 1040, 1072, 1073, 1109, 1136,\n",
       "        1150, 1172, 1179, 1181, 1182, 1189, 1191, 1196, 1205, 1230, 1289]),\n",
       " 'NGC1340': array([ 12,  15,  17,  78,  85,  97, 113, 145, 160, 162, 167, 271, 282,\n",
       "        304, 330, 332, 355, 388, 397, 487, 492, 517, 566]),\n",
       " 'FCC213': array([  15,   27,   29,   34,   35,   45,   46,   56,   80,   95,  105,\n",
       "         111,  128,  132,  138,  144,  161,  166,  168,  187,  194,  202,\n",
       "         238,  247,  287,  294,  321,  324,  332,  334,  351,  353,  411,\n",
       "         441,  472,  475,  479,  495,  528,  534,  559,  582,  606,  609,\n",
       "         613,  634,  649,  670,  680,  709,  714,  754,  762,  770,  775,\n",
       "         779,  780,  784,  797,  818,  839,  846,  849,  873,  892,  904,\n",
       "         906,  946,  949,  971,  989, 1005, 1034, 1075, 1102, 1142, 1187,\n",
       "        1194, 1206, 1209, 1244, 1251, 1284, 1297, 1316, 1318, 1344, 1351,\n",
       "        1362]),\n",
       " 'IC2006': array([ 52,  74, 190, 191, 225, 253, 276, 282, 305, 375]),\n",
       " 'FCC202': array([ 18,  91,  98, 109, 118, 288, 319, 372, 377, 407, 453, 454, 467,\n",
       "        473, 599]),\n",
       " 'FCC63': array([ 59,  93, 117, 192, 251, 295, 331, 353, 354, 364, 376, 425, 431,\n",
       "        438, 442, 448, 485, 531]),\n",
       " 'FCC170': array([  4,  47, 107, 113, 115, 331]),\n",
       " 'FCC153': array([  9,  16, 130, 195, 251, 333, 396]),\n",
       " 'FCC106': array([115, 174, 176, 177, 314]),\n",
       " 'FCC177': array([ 78, 124, 161, 178, 267, 320, 369, 410]),\n",
       " 'FCC335': array([ 18, 144]),\n",
       " 'FCC47': array([ 48,  71, 241, 279, 281, 378, 380, 402, 411, 481, 520, 562, 563,\n",
       "        605, 610]),\n",
       " 'FCC148': array([129, 199, 292]),\n",
       " 'FCC184': array([ 63,  74,  89, 113, 150, 178, 185, 383, 425, 441, 452, 454, 461,\n",
       "        472, 510, 554, 557, 610, 671]),\n",
       " 'FCC255': array([ 86, 139, 239, 251, 252, 318, 351, 380]),\n",
       " 'FCC119': array([ 13, 117, 132, 156, 169, 225, 257, 286, 293]),\n",
       " 'FCC83': array([ 49,  58,  74,  80, 117, 204, 353, 419, 454, 464, 550, 646, 674]),\n",
       " 'FCC43': array([  8,  79, 201, 245, 285, 306]),\n",
       " 'FCC193': array([ 55,  92, 100, 131, 149, 216, 293]),\n",
       " 'FCC147': array([  7,  46,  48,  61, 164, 177, 178, 186, 189, 207, 297, 330, 375,\n",
       "        386, 389, 486, 493, 523]),\n",
       " 'FCC90': array([160, 234]),\n",
       " 'FCC203': array([ 17,  38,  45, 118, 165, 179])}"
      ]
     },
     "execution_count": 11,
     "metadata": {},
     "output_type": "execute_result"
    }
   ],
   "source": [
    "model.false_negatives"
   ]
  },
  {
   "cell_type": "markdown",
   "id": "210e1f3c",
   "metadata": {},
   "source": [
    "#### Wrongly detected GCs"
   ]
  },
  {
   "cell_type": "code",
   "execution_count": 13,
   "id": "0a21c55f",
   "metadata": {},
   "outputs": [
    {
     "data": {
      "text/plain": [
       "{'FCC277': array([158, 164, 172, 173, 183, 193, 219, 256]),\n",
       " 'FCC100': array([113, 131, 136]),\n",
       " 'FCC303': array([ 87, 169, 226, 281, 305]),\n",
       " 'FCC55': array([283]),\n",
       " 'FCC136': array([ 37,  96, 110, 142]),\n",
       " 'FCC301': array([ 90,  95, 180]),\n",
       " 'FCC95': array([190]),\n",
       " 'FCC167': array([ 42, 116, 182, 296, 324, 356, 379, 398, 411, 515, 545, 558, 563,\n",
       "        574, 593, 616, 650, 681, 720]),\n",
       " 'FCC19': array([ 23,  74, 108, 174, 306, 313]),\n",
       " 'FCC324': array([196, 211, 245]),\n",
       " 'FCC182': array([ 17,  48, 205, 211, 401]),\n",
       " 'FCC310': array([ 39, 112, 183, 197, 217, 262]),\n",
       " 'FCC26': array([ 75, 186, 200, 203, 204, 206, 221]),\n",
       " 'FCC288': array([ 10,  11, 121, 173, 175]),\n",
       " 'FCC219': array([ 40,  80,  90, 115, 145, 223, 245, 364, 415, 452, 477, 592, 681,\n",
       "        728]),\n",
       " 'FCC143': array([  5,   8,  32,  36,  39,  51, 133, 159, 304]),\n",
       " 'FCC190': array([118, 225, 244, 328]),\n",
       " 'FCC249': array([ 85, 210, 241, 245, 325, 357, 362, 436]),\n",
       " 'FCC152': array([129, 174, 194, 219, 346]),\n",
       " 'FCC276': array([147, 167, 190, 200, 238, 385, 420, 438, 453, 464, 553, 652, 656,\n",
       "        666, 669]),\n",
       " 'FCC204': array([ 77,  81, 303, 405, 406]),\n",
       " 'FCC21': array([   5,   22,   34,   91,   99,  101,  110,  123,  130,  133,  134,\n",
       "         163,  174,  195,  205,  232,  242,  244,  256,  258,  289,  290,\n",
       "         302,  304,  309,  310,  333,  337,  351,  352,  369,  387,  391,\n",
       "         400,  408,  425,  439,  443,  448,  479,  497,  505,  508,  522,\n",
       "         527,  540,  563,  568,  578,  586,  588,  593,  601,  613,  615,\n",
       "         621,  624,  635,  642,  645,  662,  673,  677,  687,  695,  696,\n",
       "         708,  710,  711,  724,  728,  733,  753,  757,  775,  780,  785,\n",
       "         789,  791,  793,  794,  797,  803,  844,  846,  847,  859,  867,\n",
       "         873,  877,  884,  888,  889,  892,  904,  924,  929,  942,  956,\n",
       "         969,  978,  990,  996,  999, 1016, 1021, 1060, 1081, 1086, 1089,\n",
       "        1104, 1105, 1119, 1130, 1151, 1164, 1176, 1183, 1192, 1208, 1223,\n",
       "        1224, 1225, 1254, 1258, 1259, 1260, 1261, 1269, 1270, 1275, 1279,\n",
       "        1283, 1287, 1288, 1290, 1291, 1295]),\n",
       " 'NGC1340': array([135, 169, 193, 217, 235, 241, 267, 268, 315, 321, 336, 339, 363,\n",
       "        389, 432, 457, 473, 497, 537, 548, 554, 578, 611]),\n",
       " 'FCC213': array([   6,   65,  141,  357,  374,  393,  546,  571,  766,  798,  903,\n",
       "         954, 1172, 1216, 1242, 1249, 1357, 1358, 1363, 1365, 1366, 1368,\n",
       "        1374]),\n",
       " 'IC2006': array([ 65, 283, 427]),\n",
       " 'FCC202': array([133, 147, 176, 192, 269, 304, 349, 355, 562, 563]),\n",
       " 'FCC63': array([ 69, 197, 330, 332, 542, 543]),\n",
       " 'FCC170': array([101, 117, 133, 137, 149, 152, 153, 175, 177, 178, 185, 193, 199,\n",
       "        201, 219, 220, 224, 229, 235, 240, 242, 243, 245, 254]),\n",
       " 'FCC153': array([185, 198, 203, 206, 209, 210, 211, 218, 220, 229, 237, 239, 252,\n",
       "        358, 397]),\n",
       " 'FCC106': array([ 74, 140]),\n",
       " 'FCC177': array([ 71, 147, 167, 168, 177, 186, 214, 215, 223, 226, 229, 233, 238,\n",
       "        243, 247, 254, 259, 260, 278, 282, 284]),\n",
       " 'FCC335': array([ 65, 104, 123, 126, 143, 292, 322]),\n",
       " 'FCC47': array([264, 268, 321, 358, 502]),\n",
       " 'FCC148': array([158, 202, 208, 236, 291, 398]),\n",
       " 'FCC184': array([119, 259, 297, 302, 312, 523, 686]),\n",
       " 'FCC255': array([396, 408, 448]),\n",
       " 'FCC119': array([ 95, 142, 157, 342]),\n",
       " 'FCC83': array([133, 224, 323, 356, 402, 495]),\n",
       " 'FCC43': array([ 69, 212, 213, 219, 249, 264, 314]),\n",
       " 'FCC193': array([ 30,  35,  39, 188, 190, 228, 229, 265, 273, 326, 329]),\n",
       " 'FCC147': array([284, 290, 489, 564]),\n",
       " 'FCC90': array([ 18, 177, 194, 335, 336]),\n",
       " 'FCC203': array([  2,  61,  80, 167])}"
      ]
     },
     "execution_count": 13,
     "metadata": {},
     "output_type": "execute_result"
    }
   ],
   "source": [
    "model.false_positives"
   ]
  },
  {
   "cell_type": "markdown",
   "id": "782ccaf5",
   "metadata": {},
   "source": [
    "#### GCs found in, e.g.,  FCC170"
   ]
  },
  {
   "cell_type": "code",
   "execution_count": 19,
   "id": "93d30f35",
   "metadata": {},
   "outputs": [
    {
     "data": {
      "text/plain": [
       "array([  8,  13,  26,  38,  43,  54,  59,  70,  78,  79,  86,  89,  91,\n",
       "        96, 103, 114, 116, 127, 131, 135, 142, 146, 150, 155, 156, 161,\n",
       "       164, 167, 176, 180, 187, 188, 196, 197, 203, 204, 209, 215, 226,\n",
       "       231, 232, 233, 234, 239, 241, 246, 247, 248, 250, 252, 259, 265,\n",
       "       266, 269, 273, 274, 277, 284, 286, 289, 294, 296, 313, 325, 354])"
      ]
     },
     "execution_count": 19,
     "metadata": {},
     "output_type": "execute_result"
    }
   ],
   "source": [
    "model.found_GCs['FCC170']"
   ]
  },
  {
   "cell_type": "markdown",
   "id": "aef32a0e",
   "metadata": {},
   "source": [
    "#### Plot ROC Curve"
   ]
  },
  {
   "cell_type": "code",
   "execution_count": 20,
   "id": "3ff4fdc3",
   "metadata": {},
   "outputs": [
    {
     "data": {
      "text/plain": [
       "Text(0, 0.5, 'TPR')"
      ]
     },
     "execution_count": 20,
     "metadata": {},
     "output_type": "execute_result"
    },
    {
     "data": {
      "image/png": "[encoded data removed]",
      "text/plain": [
       "<Figure size 432x288 with 1 Axes>"
      ]
     },
     "metadata": {
      "needs_background": "light"
     },
     "output_type": "display_data"
    }
   ],
   "source": [
    "plt.plot(model.auc_curve_fpr['ALL']['fpr'], model.auc_curve_fpr['ALL']['tpr'])\n",
    "plt.xlabel('FPR')\n",
    "plt.ylabel('TPR')"
   ]
  },
  {
   "cell_type": "markdown",
   "id": "0f20b38e",
   "metadata": {},
   "source": [
    "#### Plot FDR against TPR"
   ]
  },
  {
   "cell_type": "code",
   "execution_count": 21,
   "id": "af9ad2f2",
   "metadata": {},
   "outputs": [
    {
     "data": {
      "text/plain": [
       "Text(0, 0.5, 'TPR')"
      ]
     },
     "execution_count": 21,
     "metadata": {},
     "output_type": "execute_result"
    },
    {
     "data": {
      "image/png": "[encoded data removed]",
      "text/plain": [
       "<Figure size 432x288 with 1 Axes>"
      ]
     },
     "metadata": {
      "needs_background": "light"
     },
     "output_type": "display_data"
    }
   ],
   "source": [
    "plt.plot(model.auc_curve_fdr['ALL']['fdr'], model.auc_curve_fdr['ALL']['tpr'])\n",
    "plt.xlabel('FDR')\n",
    "plt.ylabel('TPR')"
   ]
  },
  {
   "cell_type": "markdown",
   "id": "e12da31b",
   "metadata": {},
   "source": [
    "### Looking at general feature importance (as used for creating the ensemble)"
   ]
  },
  {
   "cell_type": "code",
   "execution_count": 35,
   "id": "f8092750",
   "metadata": {},
   "outputs": [
    {
     "data": {
      "image/png": "[encoded data removed]",
      "text/plain": [
       "<Figure size 720x720 with 1 Axes>"
      ]
     },
     "metadata": {
      "needs_background": "light"
     },
     "output_type": "display_data"
    }
   ],
   "source": [
    "scores = model.model.feature_importances_\n",
    "idsort = np.argsort(scores)[::-1]\n",
    "scores = np.array(scores)[idsort]\n",
    "fnames = np.array(model.train_data['feature_name'])[idsort]\n",
    "\n",
    "plt.figure(figsize=(10,10))\n",
    "plt.barh(np.arange(len(scores)), scores[::-1], color='tomato')\n",
    "_ = plt.yticks(np.arange(len(scores)), fnames[::-1], rotation=0)"
   ]
  },
  {
   "cell_type": "markdown",
   "id": "939e58c9",
   "metadata": {},
   "source": [
    "### Taking a closer look at an individual source"
   ]
  },
  {
   "cell_type": "markdown",
   "id": "e9ab9cda",
   "metadata": {},
   "source": [
    "#### First, plot the filters of a single source"
   ]
  },
  {
   "cell_type": "code",
   "execution_count": 27,
   "id": "4543599f",
   "metadata": {},
   "outputs": [
    {
     "data": {
      "image/png": "[encoded data removed]",
      "text/plain": [
       "<Figure size 720x720 with 2 Axes>"
      ]
     },
     "metadata": {
      "needs_background": "light"
     },
     "output_type": "display_data"
    }
   ],
   "source": [
    "images = fits.getdata('../../../data/ImageData/{}_images.fits'.format('FCC170'))    \n",
    "plot_source(images[8])"
   ]
  },
  {
   "cell_type": "markdown",
   "id": "aa09bdb8",
   "metadata": {},
   "source": [
    "#### Create an explanation for the classification (here: as a GC) using LIME"
   ]
  },
  {
   "cell_type": "code",
   "execution_count": 30,
   "id": "af1efebb",
   "metadata": {},
   "outputs": [
    {
     "name": "stdout",
     "output_type": "stream",
     "text": [
      "[0.60204375]\n",
      "CSI:  99.46 \n",
      "VSI:  100.0 \n",
      "\n"
     ]
    },
    {
     "data": {
      "image/png": "[encoded data removed]",
      "text/plain": [
       "<Figure size 360x576 with 1 Axes>"
      ]
     },
     "metadata": {
      "needs_background": "light"
     },
     "output_type": "display_data"
    }
   ],
   "source": [
    "explainer = LimeTabularExplainerOvr(model.train_data['inputs'], feature_names=model.train_data['feature_name'], kernel_width = 1.75, class_names=['no_GC', 'GC'])\n",
    "idx = np.where((model.test_data['galaxy'] == 'FCC170')*(model.test_data['ID'] == 8))[0][0]\n",
    "params = {\"data_row\": model.test_data['inputs'][idx],\n",
    "          \"predict_fn\": model.model.predict_proba,\n",
    "          \"num_samples\": 5000,\n",
    "          \"num_features\": 29,\n",
    "          \"distance_metric\": \"euclidean\"}\n",
    "exp = explainer.explain_instance(**params)\n",
    "print(exp.local_pred)\n",
    "csi, vsi = explainer.check_stability(n_calls=10,**params,index_verbose=False)\n",
    "print(\"CSI: \",csi,\"\\nVSI: \",vsi,\"\\n\")\n",
    "plt.figure(figsize=(5,8))\n",
    "\n",
    "fnames = np.array(exp.as_list())[:,0]\n",
    "values = list(map(float, np.array(exp.as_list())[:,1]))\n",
    "\n",
    "plt.barh(np.arange(29), values[::-1], height=0.8, color = 'darkblue')\n",
    "_ = plt.yticks(np.arange(29), fnames[::-1], rotation=0)"
   ]
  },
  {
   "cell_type": "markdown",
   "id": "f4b5a7f3",
   "metadata": {},
   "source": [
    "#### Values are rescaled, so reverse the rescaling to get the original value ranges"
   ]
  },
  {
   "cell_type": "code",
   "execution_count": 37,
   "id": "29a2d92e",
   "metadata": {},
   "outputs": [
    {
     "data": {
      "text/plain": [
       "23.8346750053755"
      ]
     },
     "execution_count": 37,
     "metadata": {},
     "output_type": "execute_result"
    }
   ],
   "source": [
    "scaler['m3_z'].reverse_transform(-0.55)"
   ]
  },
  {
   "cell_type": "code",
   "execution_count": 38,
   "id": "7abc6407",
   "metadata": {},
   "outputs": [
    {
     "data": {
      "text/plain": [
       "24.942749751762495"
      ]
     },
     "execution_count": 38,
     "metadata": {},
     "output_type": "execute_result"
    }
   ],
   "source": [
    "scaler['m3_g'].reverse_transform(-0.51)"
   ]
  },
  {
   "cell_type": "code",
   "execution_count": 39,
   "id": "901153ca",
   "metadata": {},
   "outputs": [
    {
     "data": {
      "text/plain": [
       "(1.4138965569889945, 1.7652063289516984)"
      ]
     },
     "execution_count": 39,
     "metadata": {},
     "output_type": "execute_result"
    }
   ],
   "source": [
    "scaler['CI_z'].reverse_transform(0.28), scaler['CI_z'].reverse_transform(0.78)"
   ]
  },
  {
   "cell_type": "code",
   "execution_count": 40,
   "id": "b98c0007",
   "metadata": {},
   "outputs": [
    {
     "data": {
      "text/plain": [
       "(1.3084692164861393, 1.6635129941787876)"
      ]
     },
     "execution_count": 40,
     "metadata": {},
     "output_type": "execute_result"
    }
   ],
   "source": [
    "scaler['CI_g'].reverse_transform(0.23), scaler['CI_g'].reverse_transform(0.77)"
   ]
  }
 ],
 "metadata": {
  "kernelspec": {
   "display_name": "Python 3 (ipykernel)",
   "language": "python",
   "name": "python3"
  },
  "language_info": {
   "codemirror_mode": {
    "name": "ipython",
    "version": 3
   },
   "file_extension": ".py",
   "mimetype": "text/x-python",
   "name": "python",
   "nbconvert_exporter": "python",
   "pygments_lexer": "ipython3",
   "version": "3.8.8"
  }
 },
 "nbformat": 4,
 "nbformat_minor": 5
}
